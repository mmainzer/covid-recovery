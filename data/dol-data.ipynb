{
 "cells": [
  {
   "cell_type": "code",
   "execution_count": 1,
   "metadata": {},
   "outputs": [],
   "source": [
    "import pandas as pd\n",
    "pd.set_option('display.max_columns', None)\n",
    "\n",
    "import numpy as np\n",
    "\n",
    "import geopandas as gpd\n",
    "import fiona\n",
    "\n",
    "import datetime"
   ]
  },
  {
   "cell_type": "code",
   "execution_count": 2,
   "metadata": {},
   "outputs": [],
   "source": [
    "sheets_dict = pd.read_excel('ui_claims_county_industry.xlsx', sheet_name=None,skiprows=2,skipfooter=3)\n",
    "\n",
    "df = pd.DataFrame()\n",
    "for name, sheet in sheets_dict.items():\n",
    "    sheet['County'] = name + 'County'\n",
    "    sheet = sheet.rename(columns=lambda x: x.split('\\n')[-1])\n",
    "    df = df.append(sheet)\n",
    "\n",
    "df.reset_index(inplace=True, drop=True)"
   ]
  },
  {
   "cell_type": "code",
   "execution_count": 3,
   "metadata": {},
   "outputs": [],
   "source": [
    "del df['Unnamed: 2']\n",
    "del df['Unnamed: 4']"
   ]
  },
  {
   "cell_type": "code",
   "execution_count": 4,
   "metadata": {},
   "outputs": [],
   "source": [
    "df = df.melt(id_vars=[\"County\", \"NAICS\", \"INDUSTRY NAME\"], \n",
    "             var_name=\"Date\", \n",
    "             value_name=\"Claims\")\n",
    "\n",
    "df['Claims'] = df['Claims'].replace(',', '', regex=True)\n",
    "\n",
    "df['Claims'] = df['Claims'].astype(int)"
   ]
  },
  {
   "cell_type": "code",
   "execution_count": 5,
   "metadata": {},
   "outputs": [
    {
     "data": {
      "text/html": [
       "<div>\n",
       "<style scoped>\n",
       "    .dataframe tbody tr th:only-of-type {\n",
       "        vertical-align: middle;\n",
       "    }\n",
       "\n",
       "    .dataframe tbody tr th {\n",
       "        vertical-align: top;\n",
       "    }\n",
       "\n",
       "    .dataframe thead th {\n",
       "        text-align: right;\n",
       "    }\n",
       "</style>\n",
       "<table border=\"1\" class=\"dataframe\">\n",
       "  <thead>\n",
       "    <tr style=\"text-align: right;\">\n",
       "      <th></th>\n",
       "      <th>County</th>\n",
       "      <th>NAICS</th>\n",
       "      <th>INDUSTRY NAME</th>\n",
       "      <th>Date</th>\n",
       "      <th>Claims</th>\n",
       "    </tr>\n",
       "  </thead>\n",
       "  <tbody>\n",
       "    <tr>\n",
       "      <th>0</th>\n",
       "      <td>Appling County</td>\n",
       "      <td>11</td>\n",
       "      <td>Agriculture, Forestry, Fishing and Hunting</td>\n",
       "      <td>03/07/2020</td>\n",
       "      <td>2</td>\n",
       "    </tr>\n",
       "    <tr>\n",
       "      <th>1</th>\n",
       "      <td>Appling County</td>\n",
       "      <td>21</td>\n",
       "      <td>Mining, Quarrying, and Oil and Gas Extraction</td>\n",
       "      <td>03/07/2020</td>\n",
       "      <td>0</td>\n",
       "    </tr>\n",
       "    <tr>\n",
       "      <th>2</th>\n",
       "      <td>Appling County</td>\n",
       "      <td>22</td>\n",
       "      <td>Utilities</td>\n",
       "      <td>03/07/2020</td>\n",
       "      <td>0</td>\n",
       "    </tr>\n",
       "    <tr>\n",
       "      <th>3</th>\n",
       "      <td>Appling County</td>\n",
       "      <td>23</td>\n",
       "      <td>Construction</td>\n",
       "      <td>03/07/2020</td>\n",
       "      <td>0</td>\n",
       "    </tr>\n",
       "    <tr>\n",
       "      <th>4</th>\n",
       "      <td>Appling County</td>\n",
       "      <td>31-33</td>\n",
       "      <td>Manufacturing</td>\n",
       "      <td>03/07/2020</td>\n",
       "      <td>3</td>\n",
       "    </tr>\n",
       "  </tbody>\n",
       "</table>\n",
       "</div>"
      ],
      "text/plain": [
       "           County  NAICS                                  INDUSTRY NAME  \\\n",
       "0  Appling County     11     Agriculture, Forestry, Fishing and Hunting   \n",
       "1  Appling County     21  Mining, Quarrying, and Oil and Gas Extraction   \n",
       "2  Appling County     22                                      Utilities   \n",
       "3  Appling County     23                                   Construction   \n",
       "4  Appling County  31-33                                  Manufacturing   \n",
       "\n",
       "         Date  Claims  \n",
       "0  03/07/2020       2  \n",
       "1  03/07/2020       0  \n",
       "2  03/07/2020       0  \n",
       "3  03/07/2020       0  \n",
       "4  03/07/2020       3  "
      ]
     },
     "execution_count": 5,
     "metadata": {},
     "output_type": "execute_result"
    }
   ],
   "source": [
    "df.head()"
   ]
  },
  {
   "cell_type": "code",
   "execution_count": 6,
   "metadata": {},
   "outputs": [],
   "source": [
    "warns = pd.read_excel('warnLogs_200720.xlsx')\n",
    "warns['County'] = warns['County'] + ' County'\n",
    "warns['County'] = warns['County'].str.strip()"
   ]
  },
  {
   "cell_type": "code",
   "execution_count": 7,
   "metadata": {},
   "outputs": [],
   "source": [
    "codes = pd.read_excel('../../data/geographies/regional-commissions.xlsx', usecols='A,B,C')\n",
    "codes['County'] = codes['County'] + ' County'\n",
    "codes['County'] = codes['County'].astype(str)\n",
    "\n",
    "msa = pd.read_excel('../../data/geographies/cbsa.xlsx', sheet_name='cbsa', usecols='A,D,H,I')\n",
    "msa = msa.loc[msa['State'] == 'Georgia']"
   ]
  },
  {
   "cell_type": "code",
   "execution_count": 8,
   "metadata": {},
   "outputs": [],
   "source": [
    "df = pd.merge(df,codes,how='left',on='County')\n"
   ]
  },
  {
   "cell_type": "code",
   "execution_count": 9,
   "metadata": {},
   "outputs": [],
   "source": [
    "df = pd.merge(df,msa,how='left',on='County')\n",
    "warns = pd.merge(warns,codes,how='left',on='County')\n",
    "warns = pd.merge(warns,msa,how='left',on='County')"
   ]
  },
  {
   "cell_type": "code",
   "execution_count": 10,
   "metadata": {},
   "outputs": [
    {
     "data": {
      "text/html": [
       "<div>\n",
       "<style scoped>\n",
       "    .dataframe tbody tr th:only-of-type {\n",
       "        vertical-align: middle;\n",
       "    }\n",
       "\n",
       "    .dataframe tbody tr th {\n",
       "        vertical-align: top;\n",
       "    }\n",
       "\n",
       "    .dataframe thead th {\n",
       "        text-align: right;\n",
       "    }\n",
       "</style>\n",
       "<table border=\"1\" class=\"dataframe\">\n",
       "  <thead>\n",
       "    <tr style=\"text-align: right;\">\n",
       "      <th></th>\n",
       "      <th>County</th>\n",
       "      <th>NAICS</th>\n",
       "      <th>INDUSTRY NAME</th>\n",
       "      <th>Date</th>\n",
       "      <th>Claims</th>\n",
       "      <th>area_code</th>\n",
       "      <th>Regional Commission</th>\n",
       "      <th>CBSA Code</th>\n",
       "      <th>CBSA Title</th>\n",
       "      <th>State</th>\n",
       "    </tr>\n",
       "  </thead>\n",
       "  <tbody>\n",
       "    <tr>\n",
       "      <th>0</th>\n",
       "      <td>Appling County</td>\n",
       "      <td>11</td>\n",
       "      <td>Agriculture, Forestry, Fishing and Hunting</td>\n",
       "      <td>03/07/2020</td>\n",
       "      <td>2</td>\n",
       "      <td>13001</td>\n",
       "      <td>Heart of Georgia</td>\n",
       "      <td>NaN</td>\n",
       "      <td>NaN</td>\n",
       "      <td>NaN</td>\n",
       "    </tr>\n",
       "    <tr>\n",
       "      <th>1</th>\n",
       "      <td>Appling County</td>\n",
       "      <td>21</td>\n",
       "      <td>Mining, Quarrying, and Oil and Gas Extraction</td>\n",
       "      <td>03/07/2020</td>\n",
       "      <td>0</td>\n",
       "      <td>13001</td>\n",
       "      <td>Heart of Georgia</td>\n",
       "      <td>NaN</td>\n",
       "      <td>NaN</td>\n",
       "      <td>NaN</td>\n",
       "    </tr>\n",
       "    <tr>\n",
       "      <th>2</th>\n",
       "      <td>Appling County</td>\n",
       "      <td>22</td>\n",
       "      <td>Utilities</td>\n",
       "      <td>03/07/2020</td>\n",
       "      <td>0</td>\n",
       "      <td>13001</td>\n",
       "      <td>Heart of Georgia</td>\n",
       "      <td>NaN</td>\n",
       "      <td>NaN</td>\n",
       "      <td>NaN</td>\n",
       "    </tr>\n",
       "    <tr>\n",
       "      <th>3</th>\n",
       "      <td>Appling County</td>\n",
       "      <td>23</td>\n",
       "      <td>Construction</td>\n",
       "      <td>03/07/2020</td>\n",
       "      <td>0</td>\n",
       "      <td>13001</td>\n",
       "      <td>Heart of Georgia</td>\n",
       "      <td>NaN</td>\n",
       "      <td>NaN</td>\n",
       "      <td>NaN</td>\n",
       "    </tr>\n",
       "    <tr>\n",
       "      <th>4</th>\n",
       "      <td>Appling County</td>\n",
       "      <td>31-33</td>\n",
       "      <td>Manufacturing</td>\n",
       "      <td>03/07/2020</td>\n",
       "      <td>3</td>\n",
       "      <td>13001</td>\n",
       "      <td>Heart of Georgia</td>\n",
       "      <td>NaN</td>\n",
       "      <td>NaN</td>\n",
       "      <td>NaN</td>\n",
       "    </tr>\n",
       "  </tbody>\n",
       "</table>\n",
       "</div>"
      ],
      "text/plain": [
       "           County  NAICS                                  INDUSTRY NAME  \\\n",
       "0  Appling County     11     Agriculture, Forestry, Fishing and Hunting   \n",
       "1  Appling County     21  Mining, Quarrying, and Oil and Gas Extraction   \n",
       "2  Appling County     22                                      Utilities   \n",
       "3  Appling County     23                                   Construction   \n",
       "4  Appling County  31-33                                  Manufacturing   \n",
       "\n",
       "         Date  Claims  area_code Regional Commission  CBSA Code CBSA Title  \\\n",
       "0  03/07/2020       2      13001    Heart of Georgia        NaN        NaN   \n",
       "1  03/07/2020       0      13001    Heart of Georgia        NaN        NaN   \n",
       "2  03/07/2020       0      13001    Heart of Georgia        NaN        NaN   \n",
       "3  03/07/2020       0      13001    Heart of Georgia        NaN        NaN   \n",
       "4  03/07/2020       3      13001    Heart of Georgia        NaN        NaN   \n",
       "\n",
       "  State  \n",
       "0   NaN  \n",
       "1   NaN  \n",
       "2   NaN  \n",
       "3   NaN  \n",
       "4   NaN  "
      ]
     },
     "execution_count": 10,
     "metadata": {},
     "output_type": "execute_result"
    }
   ],
   "source": [
    "df.head()"
   ]
  },
  {
   "cell_type": "code",
   "execution_count": 11,
   "metadata": {},
   "outputs": [
    {
     "name": "stderr",
     "output_type": "stream",
     "text": [
      "/Users/mmainza/opt/anaconda3/lib/python3.7/site-packages/ipykernel_launcher.py:5: SettingWithCopyWarning: \n",
      "A value is trying to be set on a copy of a slice from a DataFrame.\n",
      "Try using .loc[row_indexer,col_indexer] = value instead\n",
      "\n",
      "See the caveats in the documentation: https://pandas.pydata.org/pandas-docs/stable/user_guide/indexing.html#returning-a-view-versus-a-copy\n",
      "  \"\"\"\n",
      "/Users/mmainza/opt/anaconda3/lib/python3.7/site-packages/ipykernel_launcher.py:7: SettingWithCopyWarning: \n",
      "A value is trying to be set on a copy of a slice from a DataFrame.\n",
      "Try using .loc[row_indexer,col_indexer] = value instead\n",
      "\n",
      "See the caveats in the documentation: https://pandas.pydata.org/pandas-docs/stable/user_guide/indexing.html#returning-a-view-versus-a-copy\n",
      "  import sys\n"
     ]
    }
   ],
   "source": [
    "today = np.datetime64('today')\n",
    "lastYear = today - 365\n",
    "\n",
    "warnsCurr = warns[(warns['Date'] > '2020-03-01') & (warns['Date'] <= today)]\n",
    "warnsCurr['Period'] = 'CurrentWarns'\n",
    "warnsLast = warns[(warns['Date'] > '2019-03-01') & (warns['Date'] <= lastYear)]\n",
    "warnsLast['Period'] = 'Last Period'\n",
    "warnPeriods = warnsCurr.append([warnsLast])\n",
    "\n",
    "warnPeriods = warnPeriods[['ID','Company name','Est. Impact','Date','Period']]\n",
    "\n",
    "warns = pd.merge(warns,warnPeriods,how='left',on=['ID','Company name','Est. Impact','Date'])\n",
    "\n",
    "warns['Period'].fillna('NA',inplace=True)"
   ]
  },
  {
   "cell_type": "code",
   "execution_count": 12,
   "metadata": {},
   "outputs": [],
   "source": [
    "warns['State'] = 'Georgia'"
   ]
  },
  {
   "cell_type": "code",
   "execution_count": 13,
   "metadata": {},
   "outputs": [],
   "source": [
    "countyWarns = warns.groupby(['County','Period']).size().reset_index()\n",
    "countyWarns = countyWarns.pivot_table(0, ['County'], 'Period').reset_index(drop=False)\n",
    "countyWarns.rename(columns={'County':'Area'}, inplace=True)\n",
    "msaWarns = warns.groupby(['CBSA Title','Period']).size().reset_index()\n",
    "msaWarns = msaWarns.pivot_table(0, ['CBSA Title'], 'Period').reset_index(drop=False)\n",
    "msaWarns.rename(columns={'CBSA Title':'Area'}, inplace=True)\n",
    "rcWarns = warns.groupby(['Regional Commission','Period']).size().reset_index()\n",
    "rcWarns = rcWarns.pivot_table(0, ['Regional Commission'], 'Period').reset_index(drop=False)\n",
    "rcWarns.rename(columns={'Regional Commission':'Area'}, inplace=True)\n",
    "stateWarns = warns.groupby(['State','Period']).size().reset_index()\n",
    "stateWarns = stateWarns.pivot_table(0, ['State'], 'Period').reset_index(drop=False)\n",
    "stateWarns.rename(columns={'State':'Area'}, inplace=True)\n",
    "del warns['State']\n",
    "\n",
    "areaWarns = stateWarns.append([rcWarns,msaWarns,countyWarns])\n",
    "areaWarns.reset_index(drop=True, inplace=True)\n",
    "\n",
    "areaWarns.fillna(0, inplace=True)"
   ]
  },
  {
   "cell_type": "code",
   "execution_count": 14,
   "metadata": {},
   "outputs": [],
   "source": [
    "areaWarns = areaWarns[['Area','CurrentWarns']]\n",
    "areaWarns.fillna(0, inplace=True)"
   ]
  },
  {
   "cell_type": "code",
   "execution_count": 15,
   "metadata": {},
   "outputs": [],
   "source": [
    "labor = pd.read_excel('county_laborForce.xlsx')\n",
    "labor.dropna(subset=['title'], inplace=True)\n",
    "labor = labor.loc[labor['Month'] == 2.0]\n",
    "labor['Month'] = labor['Month'] + 1\n",
    "labor['Date'] = pd.to_datetime(labor.Month.astype(int).astype(str) + '-7' + '-2020', format = '%m-%d-%Y')\n",
    "labor['Date'] = labor['Date'].dt.strftime('%m/%d/%Y')\n",
    "labor['title'] = labor['title'].replace(', GA', '', regex=True)"
   ]
  },
  {
   "cell_type": "code",
   "execution_count": 16,
   "metadata": {},
   "outputs": [],
   "source": [
    "febLabor = labor[['title','Date','emp','unemp','laborforce']]"
   ]
  },
  {
   "cell_type": "code",
   "execution_count": 17,
   "metadata": {},
   "outputs": [
    {
     "name": "stderr",
     "output_type": "stream",
     "text": [
      "/Users/mmainza/opt/anaconda3/lib/python3.7/site-packages/pandas/core/frame.py:4133: SettingWithCopyWarning: \n",
      "A value is trying to be set on a copy of a slice from a DataFrame\n",
      "\n",
      "See the caveats in the documentation: https://pandas.pydata.org/pandas-docs/stable/user_guide/indexing.html#returning-a-view-versus-a-copy\n",
      "  errors=errors,\n"
     ]
    }
   ],
   "source": [
    "febLabor.rename(columns={'title'      : 'County',\n",
    "                           'emp'        : 'FebEmployed',\n",
    "                           'unemp'      : 'FebUnemployed',\n",
    "                           'laborforce' : 'FebLaborForce'}, inplace=True)\n",
    "febLabor.reset_index(drop=True, inplace=True)"
   ]
  },
  {
   "cell_type": "code",
   "execution_count": 18,
   "metadata": {},
   "outputs": [],
   "source": [
    "# create separate frame of total claims by county, not industry\n",
    "countyClaims = df.groupby(['area_code','County','Date']).agg({'Claims':'sum'}).reset_index()"
   ]
  },
  {
   "cell_type": "code",
   "execution_count": 19,
   "metadata": {},
   "outputs": [],
   "source": [
    "countyClaims.drop_duplicates(inplace=True)"
   ]
  },
  {
   "cell_type": "code",
   "execution_count": 20,
   "metadata": {},
   "outputs": [
    {
     "data": {
      "text/plain": [
       "area_code     int64\n",
       "County       object\n",
       "Date         object\n",
       "Claims        int64\n",
       "dtype: object"
      ]
     },
     "execution_count": 20,
     "metadata": {},
     "output_type": "execute_result"
    }
   ],
   "source": [
    "countyClaims.dtypes"
   ]
  },
  {
   "cell_type": "code",
   "execution_count": 21,
   "metadata": {},
   "outputs": [],
   "source": [
    "countyClaims['Date'] =  pd.to_datetime(countyClaims['Date'], format='%m/%d/%Y')"
   ]
  },
  {
   "cell_type": "code",
   "execution_count": 22,
   "metadata": {},
   "outputs": [],
   "source": [
    "countyClaims['Month'] = countyClaims['Date'].dt.strftime('%b')\n",
    "countyClaims['MonthN'] = countyClaims['Date'].dt.month"
   ]
  },
  {
   "cell_type": "code",
   "execution_count": 23,
   "metadata": {},
   "outputs": [],
   "source": [
    "countyClaims = countyClaims.groupby(['area_code','County','Month','MonthN']) \\\n",
    "                             .agg({'Claims':'sum'}) \\\n",
    "                             .reset_index()"
   ]
  },
  {
   "cell_type": "code",
   "execution_count": 24,
   "metadata": {},
   "outputs": [
    {
     "data": {
      "text/plain": [
       "area_code     int64\n",
       "County       object\n",
       "Month        object\n",
       "MonthN        int64\n",
       "Claims        int64\n",
       "dtype: object"
      ]
     },
     "execution_count": 24,
     "metadata": {},
     "output_type": "execute_result"
    }
   ],
   "source": [
    "countyClaims.dtypes"
   ]
  },
  {
   "cell_type": "code",
   "execution_count": 25,
   "metadata": {},
   "outputs": [],
   "source": [
    "countyClaims.sort_values(['area_code','MonthN'], inplace=True)"
   ]
  },
  {
   "cell_type": "code",
   "execution_count": 26,
   "metadata": {},
   "outputs": [],
   "source": [
    "del countyClaims['MonthN']"
   ]
  },
  {
   "cell_type": "code",
   "execution_count": 27,
   "metadata": {},
   "outputs": [
    {
     "data": {
      "text/html": [
       "<div>\n",
       "<style scoped>\n",
       "    .dataframe tbody tr th:only-of-type {\n",
       "        vertical-align: middle;\n",
       "    }\n",
       "\n",
       "    .dataframe tbody tr th {\n",
       "        vertical-align: top;\n",
       "    }\n",
       "\n",
       "    .dataframe thead th {\n",
       "        text-align: right;\n",
       "    }\n",
       "</style>\n",
       "<table border=\"1\" class=\"dataframe\">\n",
       "  <thead>\n",
       "    <tr style=\"text-align: right;\">\n",
       "      <th></th>\n",
       "      <th>area_code</th>\n",
       "      <th>County</th>\n",
       "      <th>Month</th>\n",
       "      <th>Claims</th>\n",
       "    </tr>\n",
       "  </thead>\n",
       "  <tbody>\n",
       "    <tr>\n",
       "      <th>4</th>\n",
       "      <td>13001</td>\n",
       "      <td>Appling County</td>\n",
       "      <td>Mar</td>\n",
       "      <td>159</td>\n",
       "    </tr>\n",
       "    <tr>\n",
       "      <th>0</th>\n",
       "      <td>13001</td>\n",
       "      <td>Appling County</td>\n",
       "      <td>Apr</td>\n",
       "      <td>1214</td>\n",
       "    </tr>\n",
       "    <tr>\n",
       "      <th>5</th>\n",
       "      <td>13001</td>\n",
       "      <td>Appling County</td>\n",
       "      <td>May</td>\n",
       "      <td>981</td>\n",
       "    </tr>\n",
       "    <tr>\n",
       "      <th>3</th>\n",
       "      <td>13001</td>\n",
       "      <td>Appling County</td>\n",
       "      <td>Jun</td>\n",
       "      <td>508</td>\n",
       "    </tr>\n",
       "    <tr>\n",
       "      <th>2</th>\n",
       "      <td>13001</td>\n",
       "      <td>Appling County</td>\n",
       "      <td>Jul</td>\n",
       "      <td>449</td>\n",
       "    </tr>\n",
       "  </tbody>\n",
       "</table>\n",
       "</div>"
      ],
      "text/plain": [
       "   area_code          County Month  Claims\n",
       "4      13001  Appling County   Mar     159\n",
       "0      13001  Appling County   Apr    1214\n",
       "5      13001  Appling County   May     981\n",
       "3      13001  Appling County   Jun     508\n",
       "2      13001  Appling County   Jul     449"
      ]
     },
     "execution_count": 27,
     "metadata": {},
     "output_type": "execute_result"
    }
   ],
   "source": [
    "countyClaims.head()"
   ]
  },
  {
   "cell_type": "code",
   "execution_count": 28,
   "metadata": {},
   "outputs": [],
   "source": [
    "countyClaims.to_csv('countyMonthClaims.csv', index=False)"
   ]
  },
  {
   "cell_type": "code",
   "execution_count": 29,
   "metadata": {},
   "outputs": [
    {
     "ename": "KeyError",
     "evalue": "'Date'",
     "output_type": "error",
     "traceback": [
      "\u001b[0;31m---------------------------------------------------------------------------\u001b[0m",
      "\u001b[0;31mKeyError\u001b[0m                                  Traceback (most recent call last)",
      "\u001b[0;32m<ipython-input-29-a860ef561b16>\u001b[0m in \u001b[0;36m<module>\u001b[0;34m\u001b[0m\n\u001b[0;32m----> 1\u001b[0;31m \u001b[0mcountyClaims\u001b[0m \u001b[0;34m=\u001b[0m \u001b[0mpd\u001b[0m\u001b[0;34m.\u001b[0m\u001b[0mmerge\u001b[0m\u001b[0;34m(\u001b[0m\u001b[0mcountyClaims\u001b[0m\u001b[0;34m,\u001b[0m\u001b[0mfebLabor\u001b[0m\u001b[0;34m,\u001b[0m\u001b[0mhow\u001b[0m\u001b[0;34m=\u001b[0m\u001b[0;34m'left'\u001b[0m\u001b[0;34m,\u001b[0m\u001b[0mon\u001b[0m\u001b[0;34m=\u001b[0m\u001b[0;34m[\u001b[0m\u001b[0;34m'County'\u001b[0m\u001b[0;34m,\u001b[0m\u001b[0;34m'Date'\u001b[0m\u001b[0;34m]\u001b[0m\u001b[0;34m)\u001b[0m\u001b[0;34m\u001b[0m\u001b[0;34m\u001b[0m\u001b[0m\n\u001b[0m\u001b[1;32m      2\u001b[0m \u001b[0;34m\u001b[0m\u001b[0m\n\u001b[1;32m      3\u001b[0m \u001b[0mcountyClaims\u001b[0m\u001b[0;34m.\u001b[0m\u001b[0mFebEmployed\u001b[0m\u001b[0;34m.\u001b[0m\u001b[0mfillna\u001b[0m\u001b[0;34m(\u001b[0m\u001b[0mmethod\u001b[0m\u001b[0;34m=\u001b[0m\u001b[0;34m'ffill'\u001b[0m\u001b[0;34m,\u001b[0m \u001b[0minplace\u001b[0m\u001b[0;34m=\u001b[0m\u001b[0;32mTrue\u001b[0m\u001b[0;34m)\u001b[0m\u001b[0;34m\u001b[0m\u001b[0;34m\u001b[0m\u001b[0m\n\u001b[1;32m      4\u001b[0m \u001b[0mcountyClaims\u001b[0m\u001b[0;34m.\u001b[0m\u001b[0mFebUnemployed\u001b[0m\u001b[0;34m.\u001b[0m\u001b[0mfillna\u001b[0m\u001b[0;34m(\u001b[0m\u001b[0mmethod\u001b[0m\u001b[0;34m=\u001b[0m\u001b[0;34m'ffill'\u001b[0m\u001b[0;34m,\u001b[0m \u001b[0minplace\u001b[0m\u001b[0;34m=\u001b[0m\u001b[0;32mTrue\u001b[0m\u001b[0;34m)\u001b[0m\u001b[0;34m\u001b[0m\u001b[0;34m\u001b[0m\u001b[0m\n\u001b[1;32m      5\u001b[0m \u001b[0mcountyClaims\u001b[0m\u001b[0;34m.\u001b[0m\u001b[0mFebLaborForce\u001b[0m\u001b[0;34m.\u001b[0m\u001b[0mfillna\u001b[0m\u001b[0;34m(\u001b[0m\u001b[0mmethod\u001b[0m\u001b[0;34m=\u001b[0m\u001b[0;34m'ffill'\u001b[0m\u001b[0;34m,\u001b[0m \u001b[0minplace\u001b[0m\u001b[0;34m=\u001b[0m\u001b[0;32mTrue\u001b[0m\u001b[0;34m)\u001b[0m\u001b[0;34m\u001b[0m\u001b[0;34m\u001b[0m\u001b[0m\n",
      "\u001b[0;32m~/opt/anaconda3/lib/python3.7/site-packages/pandas/core/reshape/merge.py\u001b[0m in \u001b[0;36mmerge\u001b[0;34m(left, right, how, on, left_on, right_on, left_index, right_index, sort, suffixes, copy, indicator, validate)\u001b[0m\n\u001b[1;32m     84\u001b[0m         \u001b[0mcopy\u001b[0m\u001b[0;34m=\u001b[0m\u001b[0mcopy\u001b[0m\u001b[0;34m,\u001b[0m\u001b[0;34m\u001b[0m\u001b[0;34m\u001b[0m\u001b[0m\n\u001b[1;32m     85\u001b[0m         \u001b[0mindicator\u001b[0m\u001b[0;34m=\u001b[0m\u001b[0mindicator\u001b[0m\u001b[0;34m,\u001b[0m\u001b[0;34m\u001b[0m\u001b[0;34m\u001b[0m\u001b[0m\n\u001b[0;32m---> 86\u001b[0;31m         \u001b[0mvalidate\u001b[0m\u001b[0;34m=\u001b[0m\u001b[0mvalidate\u001b[0m\u001b[0;34m,\u001b[0m\u001b[0;34m\u001b[0m\u001b[0;34m\u001b[0m\u001b[0m\n\u001b[0m\u001b[1;32m     87\u001b[0m     )\n\u001b[1;32m     88\u001b[0m     \u001b[0;32mreturn\u001b[0m \u001b[0mop\u001b[0m\u001b[0;34m.\u001b[0m\u001b[0mget_result\u001b[0m\u001b[0;34m(\u001b[0m\u001b[0;34m)\u001b[0m\u001b[0;34m\u001b[0m\u001b[0;34m\u001b[0m\u001b[0m\n",
      "\u001b[0;32m~/opt/anaconda3/lib/python3.7/site-packages/pandas/core/reshape/merge.py\u001b[0m in \u001b[0;36m__init__\u001b[0;34m(self, left, right, how, on, left_on, right_on, axis, left_index, right_index, sort, suffixes, copy, indicator, validate)\u001b[0m\n\u001b[1;32m    625\u001b[0m             \u001b[0mself\u001b[0m\u001b[0;34m.\u001b[0m\u001b[0mright_join_keys\u001b[0m\u001b[0;34m,\u001b[0m\u001b[0;34m\u001b[0m\u001b[0;34m\u001b[0m\u001b[0m\n\u001b[1;32m    626\u001b[0m             \u001b[0mself\u001b[0m\u001b[0;34m.\u001b[0m\u001b[0mjoin_names\u001b[0m\u001b[0;34m,\u001b[0m\u001b[0;34m\u001b[0m\u001b[0;34m\u001b[0m\u001b[0m\n\u001b[0;32m--> 627\u001b[0;31m         ) = self._get_merge_keys()\n\u001b[0m\u001b[1;32m    628\u001b[0m \u001b[0;34m\u001b[0m\u001b[0m\n\u001b[1;32m    629\u001b[0m         \u001b[0;31m# validate the merge keys dtypes. We may need to coerce\u001b[0m\u001b[0;34m\u001b[0m\u001b[0;34m\u001b[0m\u001b[0;34m\u001b[0m\u001b[0m\n",
      "\u001b[0;32m~/opt/anaconda3/lib/python3.7/site-packages/pandas/core/reshape/merge.py\u001b[0m in \u001b[0;36m_get_merge_keys\u001b[0;34m(self)\u001b[0m\n\u001b[1;32m    994\u001b[0m                         \u001b[0mright_keys\u001b[0m\u001b[0;34m.\u001b[0m\u001b[0mappend\u001b[0m\u001b[0;34m(\u001b[0m\u001b[0mrk\u001b[0m\u001b[0;34m)\u001b[0m\u001b[0;34m\u001b[0m\u001b[0;34m\u001b[0m\u001b[0m\n\u001b[1;32m    995\u001b[0m                     \u001b[0;32mif\u001b[0m \u001b[0mlk\u001b[0m \u001b[0;32mis\u001b[0m \u001b[0;32mnot\u001b[0m \u001b[0;32mNone\u001b[0m\u001b[0;34m:\u001b[0m\u001b[0;34m\u001b[0m\u001b[0;34m\u001b[0m\u001b[0m\n\u001b[0;32m--> 996\u001b[0;31m                         \u001b[0mleft_keys\u001b[0m\u001b[0;34m.\u001b[0m\u001b[0mappend\u001b[0m\u001b[0;34m(\u001b[0m\u001b[0mleft\u001b[0m\u001b[0;34m.\u001b[0m\u001b[0m_get_label_or_level_values\u001b[0m\u001b[0;34m(\u001b[0m\u001b[0mlk\u001b[0m\u001b[0;34m)\u001b[0m\u001b[0;34m)\u001b[0m\u001b[0;34m\u001b[0m\u001b[0;34m\u001b[0m\u001b[0m\n\u001b[0m\u001b[1;32m    997\u001b[0m                         \u001b[0mjoin_names\u001b[0m\u001b[0;34m.\u001b[0m\u001b[0mappend\u001b[0m\u001b[0;34m(\u001b[0m\u001b[0mlk\u001b[0m\u001b[0;34m)\u001b[0m\u001b[0;34m\u001b[0m\u001b[0;34m\u001b[0m\u001b[0m\n\u001b[1;32m    998\u001b[0m                     \u001b[0;32melse\u001b[0m\u001b[0;34m:\u001b[0m\u001b[0;34m\u001b[0m\u001b[0;34m\u001b[0m\u001b[0m\n",
      "\u001b[0;32m~/opt/anaconda3/lib/python3.7/site-packages/pandas/core/generic.py\u001b[0m in \u001b[0;36m_get_label_or_level_values\u001b[0;34m(self, key, axis)\u001b[0m\n\u001b[1;32m   1690\u001b[0m             \u001b[0mvalues\u001b[0m \u001b[0;34m=\u001b[0m \u001b[0mself\u001b[0m\u001b[0;34m.\u001b[0m\u001b[0maxes\u001b[0m\u001b[0;34m[\u001b[0m\u001b[0maxis\u001b[0m\u001b[0;34m]\u001b[0m\u001b[0;34m.\u001b[0m\u001b[0mget_level_values\u001b[0m\u001b[0;34m(\u001b[0m\u001b[0mkey\u001b[0m\u001b[0;34m)\u001b[0m\u001b[0;34m.\u001b[0m\u001b[0m_values\u001b[0m\u001b[0;34m\u001b[0m\u001b[0;34m\u001b[0m\u001b[0m\n\u001b[1;32m   1691\u001b[0m         \u001b[0;32melse\u001b[0m\u001b[0;34m:\u001b[0m\u001b[0;34m\u001b[0m\u001b[0;34m\u001b[0m\u001b[0m\n\u001b[0;32m-> 1692\u001b[0;31m             \u001b[0;32mraise\u001b[0m \u001b[0mKeyError\u001b[0m\u001b[0;34m(\u001b[0m\u001b[0mkey\u001b[0m\u001b[0;34m)\u001b[0m\u001b[0;34m\u001b[0m\u001b[0;34m\u001b[0m\u001b[0m\n\u001b[0m\u001b[1;32m   1693\u001b[0m \u001b[0;34m\u001b[0m\u001b[0m\n\u001b[1;32m   1694\u001b[0m         \u001b[0;31m# Check for duplicates\u001b[0m\u001b[0;34m\u001b[0m\u001b[0;34m\u001b[0m\u001b[0;34m\u001b[0m\u001b[0m\n",
      "\u001b[0;31mKeyError\u001b[0m: 'Date'"
     ]
    }
   ],
   "source": [
    "countyClaims = pd.merge(countyClaims,febLabor,how='left',on=['County','Date'])\n",
    "\n",
    "countyClaims.FebEmployed.fillna(method='ffill', inplace=True)\n",
    "countyClaims.FebUnemployed.fillna(method='ffill', inplace=True)\n",
    "countyClaims.FebLaborForce.fillna(method='ffill', inplace=True)\n",
    "\n",
    "countyClaims['CumClaims'] = countyClaims.groupby(['area_code','County'])['Claims'].apply(lambda x: x.cumsum())"
   ]
  },
  {
   "cell_type": "code",
   "execution_count": 32,
   "metadata": {},
   "outputs": [],
   "source": [
    "countyClaims['PctFebLabor'] = ( countyClaims.CumClaims / countyClaims.FebLaborForce ) * 100\n",
    "countyClaims.PctFebLabor = countyClaims.PctFebLabor.round(1)"
   ]
  },
  {
   "cell_type": "code",
   "execution_count": 33,
   "metadata": {},
   "outputs": [],
   "source": [
    "# do this for the whole state\n",
    "febLaborState = febLabor.groupby('Date') \\\n",
    "                            .agg({'FebEmployed':'sum','FebUnemployed' : 'sum','FebLaborForce' : 'sum'}) \\\n",
    "                            .reset_index()\n",
    "\n",
    "stateClaims = countyClaims[['County','Date','Claims']]\n",
    "\n",
    "stateClaims = stateClaims.groupby('Date').agg({'Claims':'sum'}).reset_index()\n",
    "\n",
    "stateClaims = pd.merge(stateClaims, febLaborState, how='left', on='Date')\n",
    "\n",
    "stateClaims.FebEmployed.fillna(method='ffill', inplace=True)\n",
    "stateClaims.FebUnemployed.fillna(method='ffill', inplace=True)\n",
    "stateClaims.FebLaborForce.fillna(method='ffill', inplace=True)"
   ]
  },
  {
   "cell_type": "code",
   "execution_count": 34,
   "metadata": {},
   "outputs": [],
   "source": [
    "stateClaims['State'] = 'Georgia'"
   ]
  },
  {
   "cell_type": "code",
   "execution_count": 35,
   "metadata": {},
   "outputs": [],
   "source": [
    "stateClaims['CumClaims'] = stateClaims.groupby(['State'])['Claims'].apply(lambda x: x.cumsum())"
   ]
  },
  {
   "cell_type": "code",
   "execution_count": 36,
   "metadata": {},
   "outputs": [],
   "source": [
    "stateClaims['PctFebLabor'] = ( stateClaims.CumClaims / stateClaims.FebLaborForce ) * 100\n",
    "stateClaims.PctFebLabor = stateClaims.PctFebLabor.round(1)"
   ]
  },
  {
   "cell_type": "code",
   "execution_count": 37,
   "metadata": {},
   "outputs": [],
   "source": [
    "stateClaims = stateClaims[['State','Date','Claims','FebEmployed','FebUnemployed','FebLaborForce',\n",
    "                           'CumClaims','PctFebLabor']]"
   ]
  },
  {
   "cell_type": "code",
   "execution_count": 38,
   "metadata": {},
   "outputs": [],
   "source": [
    "# now do the same with msa claims"
   ]
  },
  {
   "cell_type": "code",
   "execution_count": 39,
   "metadata": {},
   "outputs": [],
   "source": [
    "febLaborMsa = pd.merge(febLabor, msa, how='left', on='County')"
   ]
  },
  {
   "cell_type": "code",
   "execution_count": 40,
   "metadata": {},
   "outputs": [],
   "source": [
    "febLaborMsa.dropna(subset=['CBSA Code'], inplace=True)"
   ]
  },
  {
   "cell_type": "code",
   "execution_count": 41,
   "metadata": {},
   "outputs": [],
   "source": [
    "febLaborMsa = febLaborMsa.groupby(['CBSA Title','Date']) \\\n",
    "                             .agg({'FebEmployed':'sum','FebUnemployed' : 'sum','FebLaborForce' : 'sum'}) \\\n",
    "                             .reset_index()"
   ]
  },
  {
   "cell_type": "code",
   "execution_count": 42,
   "metadata": {},
   "outputs": [],
   "source": [
    "msaClaims = countyClaims[['County','Date','Claims']]\n",
    "msaClaims = pd.merge(msaClaims, msa, how='left', on='County')\n",
    "\n",
    "msaClaims.dropna(subset=['CBSA Code'], inplace=True)\n",
    "\n",
    "msaClaims = msaClaims.groupby(['CBSA Title','Date']) \\\n",
    "                             .agg({'Claims':'sum'}) \\\n",
    "                             .reset_index()\n",
    "\n",
    "msaClaims = pd.merge(msaClaims,febLaborMsa,how='left',on=['CBSA Title','Date'])\n",
    "\n",
    "\n",
    "msaClaims.FebEmployed.fillna(method='ffill', inplace=True)\n",
    "msaClaims.FebUnemployed.fillna(method='ffill', inplace=True)\n",
    "msaClaims.FebLaborForce.fillna(method='ffill', inplace=True)\n",
    "\n",
    "msaClaims['CumClaims'] = msaClaims.groupby(['CBSA Title'])['Claims'].apply(lambda x: x.cumsum())\n",
    "\n",
    "msaClaims['PctFebLabor'] = ( msaClaims.CumClaims / msaClaims.FebLaborForce ) * 100\n",
    "msaClaims.PctFebLabor = msaClaims.PctFebLabor.round(1)"
   ]
  },
  {
   "cell_type": "code",
   "execution_count": 43,
   "metadata": {},
   "outputs": [],
   "source": [
    "# now repeat with regional commissions"
   ]
  },
  {
   "cell_type": "code",
   "execution_count": 44,
   "metadata": {},
   "outputs": [],
   "source": [
    "febLaborRc = pd.merge(febLabor, codes, how='left', on='County')"
   ]
  },
  {
   "cell_type": "code",
   "execution_count": 45,
   "metadata": {},
   "outputs": [],
   "source": [
    "febLaborRc = febLaborRc.groupby(['Regional Commission','Date']) \\\n",
    "                             .agg({'FebEmployed':'sum','FebUnemployed' : 'sum','FebLaborForce' : 'sum'}) \\\n",
    "                             .reset_index()"
   ]
  },
  {
   "cell_type": "code",
   "execution_count": 46,
   "metadata": {},
   "outputs": [],
   "source": [
    "rcClaims = countyClaims[['County','Date','Claims']]\n",
    "rcClaims = pd.merge(rcClaims, codes, how='left', on='County')\n",
    "\n",
    "rcClaims = rcClaims.groupby(['Regional Commission','Date']) \\\n",
    "                             .agg({'Claims':'sum'}) \\\n",
    "                             .reset_index()\n",
    "\n",
    "rcClaims = pd.merge(rcClaims,febLaborRc,how='left',on=['Regional Commission','Date'])\n",
    "\n",
    "\n",
    "rcClaims.FebEmployed.fillna(method='ffill', inplace=True)\n",
    "rcClaims.FebUnemployed.fillna(method='ffill', inplace=True)\n",
    "rcClaims.FebLaborForce.fillna(method='ffill', inplace=True)\n",
    "\n",
    "rcClaims['CumClaims'] = rcClaims.groupby(['Regional Commission'])['Claims'].apply(lambda x: x.cumsum())\n",
    "\n",
    "rcClaims['PctFebLabor'] = ( rcClaims.CumClaims / rcClaims.FebLaborForce ) * 100\n",
    "rcClaims.PctFebLabor = rcClaims.PctFebLabor.round(1)"
   ]
  },
  {
   "cell_type": "code",
   "execution_count": 47,
   "metadata": {},
   "outputs": [],
   "source": [
    "del countyClaims['area_code']\n",
    "\n",
    "msaClaims.rename(columns={'CBSA Title' : 'Area'}, inplace=True)\n",
    "rcClaims.rename(columns={'Regional Commission' : 'Area'}, inplace=True)\n",
    "countyClaims.rename(columns={'County' : 'Area'}, inplace=True)\n",
    "stateClaims.rename(columns={'State' : 'Area'}, inplace=True)"
   ]
  },
  {
   "cell_type": "code",
   "execution_count": null,
   "metadata": {},
   "outputs": [],
   "source": []
  },
  {
   "cell_type": "code",
   "execution_count": 48,
   "metadata": {},
   "outputs": [],
   "source": [
    "# stack on top of each other and write out as a single data frame for line and bar charts"
   ]
  },
  {
   "cell_type": "code",
   "execution_count": 49,
   "metadata": {},
   "outputs": [],
   "source": [
    "data = stateClaims.append([countyClaims,rcClaims,msaClaims])"
   ]
  },
  {
   "cell_type": "code",
   "execution_count": 50,
   "metadata": {},
   "outputs": [],
   "source": [
    "data.reset_index(drop=True, inplace=True)"
   ]
  },
  {
   "cell_type": "code",
   "execution_count": 51,
   "metadata": {},
   "outputs": [],
   "source": [
    "data = data[['Area','Date','Claims','FebLaborForce','CumClaims','PctFebLabor']]"
   ]
  },
  {
   "cell_type": "code",
   "execution_count": 52,
   "metadata": {},
   "outputs": [],
   "source": [
    "dataCum = data.copy()"
   ]
  },
  {
   "cell_type": "code",
   "execution_count": 53,
   "metadata": {},
   "outputs": [],
   "source": [
    "countyClaims=countyClaims.groupby('Area').apply(lambda x: x.reset_index(drop=True)).drop('Area',axis=1).reset_index()\n",
    "dateMax = countyClaims.level_1.max()\n",
    "countyClaims = countyClaims.loc[countyClaims['level_1'] == dateMax]\n",
    "countyClaims.reset_index(drop=True, inplace=True)\n",
    "countyShape = gpd.read_file(\"spatial/ga-counties.geojson\")\n",
    "countyClaims = pd.merge(countyClaims, codes, how='left', left_on='Area', right_on='County')\n",
    "countyClaims.area_code = countyClaims.area_code.astype(str)"
   ]
  },
  {
   "cell_type": "code",
   "execution_count": 54,
   "metadata": {},
   "outputs": [],
   "source": [
    "countyClaims = pd.merge(countyClaims,areaWarns,how='left',on='Area')"
   ]
  },
  {
   "cell_type": "code",
   "execution_count": 55,
   "metadata": {},
   "outputs": [],
   "source": [
    "countyShape = pd.merge(countyShape, countyClaims, how='left', left_on='GEOID', right_on='area_code')\n",
    "countyShapes = countyShape[['area_code','County','CumClaims','FebLaborForce','PctFebLabor','CurrentWarns','geometry']]"
   ]
  },
  {
   "cell_type": "code",
   "execution_count": 56,
   "metadata": {},
   "outputs": [],
   "source": [
    "countyShapes = gpd.GeoDataFrame(countyShapes, geometry='geometry')\n",
    "countyPoints = countyShapes.copy()\n",
    "countyPoints['geometry'] = countyPoints['geometry'].centroid"
   ]
  },
  {
   "cell_type": "code",
   "execution_count": 57,
   "metadata": {},
   "outputs": [],
   "source": [
    "# now reshape the industry claims data to rollup by county and industry\n",
    "\n",
    "df['State'] = 'Georgia'\n",
    "\n",
    "df.rename(columns={'INDUSTRY NAME':'Industry'}, inplace=True)\n",
    "\n",
    "industryCountyClaims = df.groupby(['County','Industry']) \\\n",
    "                             .agg({'Claims':'sum'}) \\\n",
    "                             .reset_index() \\\n",
    "                             .rename(columns={'County':'Area'})\n",
    "\n",
    "industryCountyClaims.sort_values(['Area','Claims'], ascending=[True,False], inplace=True)\n",
    "\n",
    "industryRcClaims = df.groupby(['Regional Commission','Industry']) \\\n",
    "                             .agg({'Claims':'sum'}) \\\n",
    "                             .reset_index() \\\n",
    "                             .rename(columns={'Regional Commission':'Area'})\n",
    "\n",
    "industryRcClaims.sort_values(['Area','Claims'], ascending=[True,False], inplace=True)\n",
    "\n",
    "industryMsaClaims = df.groupby(['CBSA Title','Industry']) \\\n",
    "                             .agg({'Claims':'sum'}) \\\n",
    "                             .reset_index() \\\n",
    "                             .rename(columns={'CBSA Title':'Area'})\n",
    "\n",
    "industryMsaClaims.sort_values(['Area','Claims'], ascending=[True,False], inplace=True)\n",
    "\n",
    "\n",
    "industryStateClaims = df.groupby(['State','Industry']) \\\n",
    "                             .agg({'Claims':'sum'}) \\\n",
    "                             .reset_index() \\\n",
    "                             .rename(columns={'State':'Area'})\n",
    "\n",
    "industryStateClaims.sort_values(['Area','Claims'], ascending=[True,False], inplace=True)\n",
    "\n",
    "del df['State']"
   ]
  },
  {
   "cell_type": "code",
   "execution_count": 58,
   "metadata": {},
   "outputs": [],
   "source": [
    "# append these together and reindex them\n",
    "industryClaims = industryStateClaims.append([industryCountyClaims,industryRcClaims,industryMsaClaims])\n",
    "\n",
    "industryClaims.reset_index(drop=True, inplace=True)\n",
    "\n",
    "industryClaims['Ind'] = np.where(industryClaims.Industry.str.contains(\"Accommodation\"), \"Food Services\",\n",
    "                        np.where(industryClaims.Industry.str.contains(\"Waste\"), \"Support, Waste Management\",\n",
    "                        np.where(industryClaims.Industry.str.contains(\"Agriculture\"), \"Agriculture\",\n",
    "                        np.where(industryClaims.Industry.str.contains(\"Entertainment\"), \"Entertainment\",\n",
    "                        np.where(industryClaims.Industry.str.contains(\"Construction\"), \"Construction\",\n",
    "                        np.where(industryClaims.Industry.str.contains(\"Educational\"), \"Education\",\n",
    "                        np.where(industryClaims.Industry.str.contains(\"Finance\"), \"Finance\",\n",
    "                        np.where(industryClaims.Industry.str.contains(\"Health\"), \"Health Care\",\n",
    "                        np.where(industryClaims.Industry.str.contains(\"Information\"), \"Information\",\n",
    "                        np.where(industryClaims.Industry.str.contains(\"Management\"), \"Enterprise Management\",\n",
    "                        np.where(industryClaims.Industry.str.contains(\"Manufacturing\"), \"Manufacturing\",\n",
    "                        np.where(industryClaims.Industry.str.contains(\"Mining\"), \"Oil & Gas\",\n",
    "                        np.where(industryClaims.Industry.str.contains(\"Other\"), \"Other\",\n",
    "                        np.where(industryClaims.Industry.str.contains(\"Technical\"), \"Technical Services\",\n",
    "                        np.where(industryClaims.Industry.str.contains(\"Public\"), \"Public Admin\",\n",
    "                        np.where(industryClaims.Industry.str.contains(\"Real Estate\"), \"Real Estate\",\n",
    "                        np.where(industryClaims.Industry.str.contains(\"Retail Trade\"), \"Retail\",\n",
    "                        np.where(industryClaims.Industry.str.contains(\"Transportation\"), \"Transportation\",\n",
    "                        np.where(industryClaims.Industry.str.contains(\"Unclassified\"), \"Unclassified\",\n",
    "                        np.where(industryClaims.Industry.str.contains(\"Utilities\"), \"Utilities\",\n",
    "                        np.where(industryClaims.Industry.str.contains(\"Wholesale\"), \"Wholesale Trade\",\"ts\")))))))))))))))))))))"
   ]
  },
  {
   "cell_type": "code",
   "execution_count": 59,
   "metadata": {},
   "outputs": [],
   "source": [
    "industryClaims = industryClaims[['Area','Industry','Ind','Claims']]"
   ]
  },
  {
   "cell_type": "code",
   "execution_count": 60,
   "metadata": {},
   "outputs": [],
   "source": [
    "# now get the KPIs you need in a json file\n",
    "dataK = data.copy()\n",
    "dataK=dataK.groupby('Area').apply(lambda x: x.reset_index(drop=True)).drop('Area',axis=1).reset_index()\n",
    "dateMax = dataK.level_1.max()\n",
    "dataK = dataK.loc[dataK['level_1'] == dateMax]"
   ]
  },
  {
   "cell_type": "code",
   "execution_count": 61,
   "metadata": {},
   "outputs": [],
   "source": [
    "dataK.sort_values('Claims', ascending=False, inplace=True)"
   ]
  },
  {
   "cell_type": "code",
   "execution_count": 62,
   "metadata": {},
   "outputs": [
    {
     "data": {
      "text/html": [
       "<div>\n",
       "<style scoped>\n",
       "    .dataframe tbody tr th:only-of-type {\n",
       "        vertical-align: middle;\n",
       "    }\n",
       "\n",
       "    .dataframe tbody tr th {\n",
       "        vertical-align: top;\n",
       "    }\n",
       "\n",
       "    .dataframe thead th {\n",
       "        text-align: right;\n",
       "    }\n",
       "</style>\n",
       "<table border=\"1\" class=\"dataframe\">\n",
       "  <thead>\n",
       "    <tr style=\"text-align: right;\">\n",
       "      <th></th>\n",
       "      <th>Area</th>\n",
       "      <th>level_1</th>\n",
       "      <th>Date</th>\n",
       "      <th>Claims</th>\n",
       "      <th>FebLaborForce</th>\n",
       "      <th>CumClaims</th>\n",
       "      <th>PctFebLabor</th>\n",
       "    </tr>\n",
       "  </thead>\n",
       "  <tbody>\n",
       "    <tr>\n",
       "      <th>1742</th>\n",
       "      <td>Georgia</td>\n",
       "      <td>20</td>\n",
       "      <td>07/25/2020</td>\n",
       "      <td>84379</td>\n",
       "      <td>5187308.0</td>\n",
       "      <td>3226000</td>\n",
       "      <td>62.2</td>\n",
       "    </tr>\n",
       "    <tr>\n",
       "      <th>146</th>\n",
       "      <td>Atlanta-Sandy Springs-Alpharetta, GA</td>\n",
       "      <td>20</td>\n",
       "      <td>07/25/2020</td>\n",
       "      <td>52528</td>\n",
       "      <td>3139975.0</td>\n",
       "      <td>2032326</td>\n",
       "      <td>64.7</td>\n",
       "    </tr>\n",
       "    <tr>\n",
       "      <th>20</th>\n",
       "      <td>ARC</td>\n",
       "      <td>20</td>\n",
       "      <td>07/25/2020</td>\n",
       "      <td>43242</td>\n",
       "      <td>2474606.0</td>\n",
       "      <td>1662895</td>\n",
       "      <td>67.2</td>\n",
       "    </tr>\n",
       "    <tr>\n",
       "      <th>1700</th>\n",
       "      <td>Fulton County</td>\n",
       "      <td>20</td>\n",
       "      <td>07/25/2020</td>\n",
       "      <td>12364</td>\n",
       "      <td>565766.0</td>\n",
       "      <td>445572</td>\n",
       "      <td>78.8</td>\n",
       "    </tr>\n",
       "    <tr>\n",
       "      <th>1259</th>\n",
       "      <td>DeKalb County</td>\n",
       "      <td>20</td>\n",
       "      <td>07/25/2020</td>\n",
       "      <td>7589</td>\n",
       "      <td>405645.0</td>\n",
       "      <td>271781</td>\n",
       "      <td>67.0</td>\n",
       "    </tr>\n",
       "  </tbody>\n",
       "</table>\n",
       "</div>"
      ],
      "text/plain": [
       "                                      Area  level_1        Date  Claims  \\\n",
       "1742                               Georgia       20  07/25/2020   84379   \n",
       "146   Atlanta-Sandy Springs-Alpharetta, GA       20  07/25/2020   52528   \n",
       "20                                     ARC       20  07/25/2020   43242   \n",
       "1700                         Fulton County       20  07/25/2020   12364   \n",
       "1259                         DeKalb County       20  07/25/2020    7589   \n",
       "\n",
       "      FebLaborForce  CumClaims  PctFebLabor  \n",
       "1742      5187308.0    3226000         62.2  \n",
       "146       3139975.0    2032326         64.7  \n",
       "20        2474606.0    1662895         67.2  \n",
       "1700       565766.0     445572         78.8  \n",
       "1259       405645.0     271781         67.0  "
      ]
     },
     "execution_count": 62,
     "metadata": {},
     "output_type": "execute_result"
    }
   ],
   "source": [
    "dataK.head()"
   ]
  },
  {
   "cell_type": "code",
   "execution_count": 63,
   "metadata": {},
   "outputs": [],
   "source": [
    "dataK = pd.merge(dataK,areaWarns,how='left',on='Area')"
   ]
  },
  {
   "cell_type": "code",
   "execution_count": 64,
   "metadata": {},
   "outputs": [],
   "source": [
    "dataK = dataK[['Area','FebLaborForce','CumClaims','PctFebLabor','CurrentWarns']]"
   ]
  },
  {
   "cell_type": "code",
   "execution_count": 65,
   "metadata": {},
   "outputs": [],
   "source": [
    "dataK.set_index('Area', inplace=True)"
   ]
  },
  {
   "cell_type": "code",
   "execution_count": 66,
   "metadata": {},
   "outputs": [],
   "source": [
    "dataK['CurrentWarns'].fillna(0, inplace=True)\n",
    "countyShapes['CurrentWarns'].fillna(0, inplace=True)\n",
    "countyPoints['CurrentWarns'].fillna(0, inplace=True)"
   ]
  },
  {
   "cell_type": "code",
   "execution_count": 67,
   "metadata": {},
   "outputs": [],
   "source": [
    "dataK.FebLaborForce = dataK.FebLaborForce.astype(int)\n",
    "dataK.CurrentWarns = dataK.CurrentWarns.astype(int)\n",
    "dataK.CumClaims = dataK.CumClaims.astype(int)"
   ]
  },
  {
   "cell_type": "code",
   "execution_count": 68,
   "metadata": {},
   "outputs": [],
   "source": [
    "def human_format(num):\n",
    "    num = float('{:.3g}'.format(num))\n",
    "    magnitude = 0\n",
    "    while abs(num) >= 1000:\n",
    "        magnitude += 1\n",
    "        num /= 1000.0\n",
    "    return '{}{}'.format('{:f}'.format(num).rstrip('0').rstrip('.'), ['', 'K', 'M', 'B', 'T'][magnitude])\n",
    "\n",
    "dataK['CumClaims'] = dataK['CumClaims'].apply(lambda x: human_format(x))\n",
    "dataK['CurrentWarns'] = dataK['CurrentWarns'].apply(lambda x: human_format(x))\n",
    "dataK['FebLaborForce'] = dataK['FebLaborForce'].apply(lambda x: human_format(x))"
   ]
  },
  {
   "cell_type": "code",
   "execution_count": 69,
   "metadata": {},
   "outputs": [
    {
     "data": {
      "text/html": [
       "<div>\n",
       "<style scoped>\n",
       "    .dataframe tbody tr th:only-of-type {\n",
       "        vertical-align: middle;\n",
       "    }\n",
       "\n",
       "    .dataframe tbody tr th {\n",
       "        vertical-align: top;\n",
       "    }\n",
       "\n",
       "    .dataframe thead th {\n",
       "        text-align: right;\n",
       "    }\n",
       "</style>\n",
       "<table border=\"1\" class=\"dataframe\">\n",
       "  <thead>\n",
       "    <tr style=\"text-align: right;\">\n",
       "      <th></th>\n",
       "      <th>FebLaborForce</th>\n",
       "      <th>CumClaims</th>\n",
       "      <th>PctFebLabor</th>\n",
       "      <th>CurrentWarns</th>\n",
       "    </tr>\n",
       "    <tr>\n",
       "      <th>Area</th>\n",
       "      <th></th>\n",
       "      <th></th>\n",
       "      <th></th>\n",
       "      <th></th>\n",
       "    </tr>\n",
       "  </thead>\n",
       "  <tbody>\n",
       "    <tr>\n",
       "      <th>Georgia</th>\n",
       "      <td>5.19M</td>\n",
       "      <td>3.23M</td>\n",
       "      <td>62.2</td>\n",
       "      <td>365</td>\n",
       "    </tr>\n",
       "    <tr>\n",
       "      <th>Atlanta-Sandy Springs-Alpharetta, GA</th>\n",
       "      <td>3.14M</td>\n",
       "      <td>2.03M</td>\n",
       "      <td>64.7</td>\n",
       "      <td>217</td>\n",
       "    </tr>\n",
       "    <tr>\n",
       "      <th>ARC</th>\n",
       "      <td>2.47M</td>\n",
       "      <td>1.66M</td>\n",
       "      <td>67.2</td>\n",
       "      <td>190</td>\n",
       "    </tr>\n",
       "    <tr>\n",
       "      <th>Fulton County</th>\n",
       "      <td>566K</td>\n",
       "      <td>446K</td>\n",
       "      <td>78.8</td>\n",
       "      <td>99</td>\n",
       "    </tr>\n",
       "    <tr>\n",
       "      <th>DeKalb County</th>\n",
       "      <td>406K</td>\n",
       "      <td>272K</td>\n",
       "      <td>67.0</td>\n",
       "      <td>0</td>\n",
       "    </tr>\n",
       "  </tbody>\n",
       "</table>\n",
       "</div>"
      ],
      "text/plain": [
       "                                     FebLaborForce CumClaims  PctFebLabor  \\\n",
       "Area                                                                        \n",
       "Georgia                                      5.19M     3.23M         62.2   \n",
       "Atlanta-Sandy Springs-Alpharetta, GA         3.14M     2.03M         64.7   \n",
       "ARC                                          2.47M     1.66M         67.2   \n",
       "Fulton County                                 566K      446K         78.8   \n",
       "DeKalb County                                 406K      272K         67.0   \n",
       "\n",
       "                                     CurrentWarns  \n",
       "Area                                               \n",
       "Georgia                                       365  \n",
       "Atlanta-Sandy Springs-Alpharetta, GA          217  \n",
       "ARC                                           190  \n",
       "Fulton County                                  99  \n",
       "DeKalb County                                   0  "
      ]
     },
     "execution_count": 69,
     "metadata": {},
     "output_type": "execute_result"
    }
   ],
   "source": [
    "dataK.head()"
   ]
  },
  {
   "cell_type": "code",
   "execution_count": 70,
   "metadata": {},
   "outputs": [],
   "source": [
    "# convert kpi to strings with correct format for display purposes\n",
    "dataK['PctFebLabor'] = dataK['PctFebLabor'].map('{:,.1f}'.format) + '%'"
   ]
  },
  {
   "cell_type": "code",
   "execution_count": 71,
   "metadata": {},
   "outputs": [],
   "source": [
    "# now process the data file from which d3 will generate charts to only include necessary columns, etc.\n",
    "data[\"date\"] = pd.to_datetime(data[\"Date\"]).dt.strftime('%b %d')\n",
    "data = data[['Area','Date','date','Claims']]"
   ]
  },
  {
   "cell_type": "code",
   "execution_count": 72,
   "metadata": {},
   "outputs": [],
   "source": [
    "industryClaims['Ind'] = np.where(industryClaims.Industry.str.contains(\"Accommodation\"), \"Food Services\",\n",
    "                        np.where(industryClaims.Industry.str.contains(\"Waste\"), \"Waste Management\",\n",
    "                        np.where(industryClaims.Industry.str.contains(\"Agriculture\"), \"Agriculture\",\n",
    "                        np.where(industryClaims.Industry.str.contains(\"Entertainment\"), \"Entertainment\",\n",
    "                        np.where(industryClaims.Industry.str.contains(\"Construction\"), \"Construction\",\n",
    "                        np.where(industryClaims.Industry.str.contains(\"Educational\"), \"Education\",\n",
    "                        np.where(industryClaims.Industry.str.contains(\"Finance\"), \"Finance\",\n",
    "                        np.where(industryClaims.Industry.str.contains(\"Health\"), \"Health Care\",\n",
    "                        np.where(industryClaims.Industry.str.contains(\"Information\"), \"Information\",\n",
    "                        np.where(industryClaims.Industry.str.contains(\"Management\"), \"Enterprise Management\",\n",
    "                        np.where(industryClaims.Industry.str.contains(\"Manufacturing\"), \"Manufacturing\",\n",
    "                        np.where(industryClaims.Industry.str.contains(\"Mining\"), \"Oil & Gas\",\n",
    "                        np.where(industryClaims.Industry.str.contains(\"Other\"), \"Other\",\n",
    "                        np.where(industryClaims.Industry.str.contains(\"Technical\"), \"Technical Services\",\n",
    "                        np.where(industryClaims.Industry.str.contains(\"Public\"), \"Public Admin\",\n",
    "                        np.where(industryClaims.Industry.str.contains(\"Real Estate\"), \"Real Estate\",\n",
    "                        np.where(industryClaims.Industry.str.contains(\"Retail Trade\"), \"Retail\",\n",
    "                        np.where(industryClaims.Industry.str.contains(\"Transportation\"), \"Transportation\",\n",
    "                        np.where(industryClaims.Industry.str.contains(\"Unclassified\"), \"Unclassified\",\n",
    "                        np.where(industryClaims.Industry.str.contains(\"Utilities\"), \"Utilities\",\n",
    "                        np.where(industryClaims.Industry.str.contains(\"Wholesale\"), \"Wholesale Trade\",\"ts\")))))))))))))))))))))"
   ]
  },
  {
   "cell_type": "code",
   "execution_count": 73,
   "metadata": {},
   "outputs": [],
   "source": [
    "appWarns = warns[warns['Date'] >= '2020-01-01']"
   ]
  },
  {
   "cell_type": "code",
   "execution_count": 74,
   "metadata": {},
   "outputs": [],
   "source": [
    "appWarns = appWarns[['Date','Company name','City','ZIP','County','Est. Impact','Regional Commission','CBSA Title']]\n",
    "appWarns.rename(columns={'Company name' : 'Company',\n",
    "                         'Regional Commissions':'RC',\n",
    "                         'CBSA Title':'MSA',\n",
    "                         'Est. Impact':'Employees'}, inplace=True)"
   ]
  },
  {
   "cell_type": "code",
   "execution_count": 75,
   "metadata": {},
   "outputs": [],
   "source": [
    "appWarns[\"Date\"] = pd.to_datetime(appWarns[\"Date\"]).dt.strftime('%b %d')"
   ]
  },
  {
   "cell_type": "code",
   "execution_count": 76,
   "metadata": {},
   "outputs": [],
   "source": [
    "industryRoll = industryClaims[industryClaims['Area'].str.contains(\"County\")]\n",
    "industryRoll = industryRoll[['Area','Ind','Claims']]\n",
    "industryRoll = industryRoll.pivot_table('Claims', ['Area'], 'Ind')\n",
    "industryRoll.reset_index(inplace=True)\n",
    "industryRoll = industryRoll[~industryRoll['Area'].str.contains(\",\")]\n",
    "codes = codes[['area_code','County']]\n",
    "industryRoll.rename(columns={'Area':'County'}, inplace=True)\n",
    "industryRoll = pd.merge(industryRoll,codes,how='left',on='County')\n",
    "industryRoll.rename(columns={'area_code':'GEOID'}, inplace=True)"
   ]
  },
  {
   "cell_type": "code",
   "execution_count": 77,
   "metadata": {},
   "outputs": [],
   "source": [
    "industryRoll['Total Claims'] = industryRoll.Agriculture + industryRoll.Construction + industryRoll.Education + \\\n",
    "                            industryRoll['Enterprise Management'] + industryRoll.Entertainment + industryRoll.Finance + \\\n",
    "                            industryRoll['Food Services'] + industryRoll['Health Care'] + industryRoll.Information + \\\n",
    "                            industryRoll.Manufacturing + industryRoll['Oil & Gas'] + industryRoll.Other + \\\n",
    "                            industryRoll['Public Admin'] + industryRoll['Real Estate'] + industryRoll.Retail + \\\n",
    "                            industryRoll['Technical Services'] + industryRoll.Transportation + industryRoll.Unclassified + \\\n",
    "                            industryRoll.Utilities + industryRoll['Waste Management'] + industryRoll['Wholesale Trade']"
   ]
  },
  {
   "cell_type": "code",
   "execution_count": 78,
   "metadata": {},
   "outputs": [],
   "source": [
    "industryRoll['Other Claims'] = industryRoll['Agriculture'] + industryRoll['Oil & Gas'] + industryRoll.Utilities"
   ]
  },
  {
   "cell_type": "code",
   "execution_count": 79,
   "metadata": {},
   "outputs": [],
   "source": [
    "gaDataCum = dataCum.loc[dataCum['Area'] == 'Georgia']"
   ]
  },
  {
   "cell_type": "code",
   "execution_count": 80,
   "metadata": {},
   "outputs": [
    {
     "data": {
      "text/plain": [
       "'{\"Georgia\":{\"FebLaborForce\":\"5.19M\",\"CumClaims\":\"3.23M\",\"PctFebLabor\":\"62.2%\",\"CurrentWarns\":\"365\"},\"Atlanta-Sandy Springs-Alpharetta, GA\":{\"FebLaborForce\":\"3.14M\",\"CumClaims\":\"2.03M\",\"PctFebLabor\":\"64.7%\",\"CurrentWarns\":\"217\"},\"ARC\":{\"FebLaborForce\":\"2.47M\",\"CumClaims\":\"1.66M\",\"PctFebLabor\":\"67.2%\",\"CurrentWarns\":\"190\"},\"Fulton County\":{\"FebLaborForce\":\"566K\",\"CumClaims\":\"446K\",\"PctFebLabor\":\"78.8%\",\"CurrentWarns\":\"99\"},\"DeKalb County\":{\"FebLaborForce\":\"406K\",\"CumClaims\":\"272K\",\"PctFebLabor\":\"67.0%\",\"CurrentWarns\":\"0\"},\"Gwinnett County\":{\"FebLaborForce\":\"497K\",\"CumClaims\":\"302K\",\"PctFebLabor\":\"60.9%\",\"CurrentWarns\":\"23\"},\"Northwest\":{\"FebLaborForce\":\"427K\",\"CumClaims\":\"259K\",\"PctFebLabor\":\"60.6%\",\"CurrentWarns\":\"18\"},\"Cobb County\":{\"FebLaborForce\":\"432K\",\"CumClaims\":\"238K\",\"PctFebLabor\":\"55.2%\",\"CurrentWarns\":\"33\"},\"Northeast\":{\"FebLaborForce\":\"309K\",\"CumClaims\":\"180K\",\"PctFebLabor\":\"58.2%\",\"CurrentWarns\":\"15\"},\"Coastal\":{\"FebLaborForce\":\"333K\",\"CumClaims\":\"225K\",\"PctFebLabor\":\"67.5%\",\"CurrentWarns\":\"31\"},\"Three Rivers\":{\"FebLaborForce\":\"254K\",\"CumClaims\":\"161K\",\"PctFebLabor\":\"63.6%\",\"CurrentWarns\":\"11\"},\"River Valley\":{\"FebLaborForce\":\"149K\",\"CumClaims\":\"96.9K\",\"PctFebLabor\":\"65.1%\",\"CurrentWarns\":\"11\"},\"Georgia Mountains\":{\"FebLaborForce\":\"356K\",\"CumClaims\":\"171K\",\"PctFebLabor\":\"48.0%\",\"CurrentWarns\":\"17\"},\"Clayton County\":{\"FebLaborForce\":\"140K\",\"CumClaims\":\"121K\",\"PctFebLabor\":\"86.5%\",\"CurrentWarns\":\"15\"},\"Southern\":{\"FebLaborForce\":\"182K\",\"CumClaims\":\"111K\",\"PctFebLabor\":\"61.2%\",\"CurrentWarns\":\"2\"},\"Middle Georgia\":{\"FebLaborForce\":\"222K\",\"CumClaims\":\"117K\",\"PctFebLabor\":\"52.9%\",\"CurrentWarns\":\"16\"},\"CSRA\":{\"FebLaborForce\":\"212K\",\"CumClaims\":\"108K\",\"PctFebLabor\":\"50.8%\",\"CurrentWarns\":\"20\"},\"Savannah, GA\":{\"FebLaborForce\":\"190K\",\"CumClaims\":\"139K\",\"PctFebLabor\":\"73.3%\",\"CurrentWarns\":\"24\"},\"Columbus, GA-AL\":{\"FebLaborForce\":\"105K\",\"CumClaims\":\"71.9K\",\"PctFebLabor\":\"68.3%\",\"CurrentWarns\":\"6\"},\"Augusta-Richmond County, GA-SC\":{\"FebLaborForce\":\"184K\",\"CumClaims\":\"94.2K\",\"PctFebLabor\":\"51.3%\",\"CurrentWarns\":\"19\"},\"Muscogee County\":{\"FebLaborForce\":\"77.8K\",\"CumClaims\":\"58.2K\",\"PctFebLabor\":\"74.9%\",\"CurrentWarns\":\"5\"},\"Chatham County\":{\"FebLaborForce\":\"140K\",\"CumClaims\":\"112K\",\"PctFebLabor\":\"80.0%\",\"CurrentWarns\":\"23\"},\"Southwest\":{\"FebLaborForce\":\"151K\",\"CumClaims\":\"80.2K\",\"PctFebLabor\":\"53.3%\",\"CurrentWarns\":\"3\"},\"Henry County\":{\"FebLaborForce\":\"117K\",\"CumClaims\":\"87.9K\",\"PctFebLabor\":\"74.8%\",\"CurrentWarns\":\"4\"},\"Macon-Bibb County, GA\":{\"FebLaborForce\":\"104K\",\"CumClaims\":\"58.5K\",\"PctFebLabor\":\"56.1%\",\"CurrentWarns\":\"9\"},\"Heart of Georgia\":{\"FebLaborForce\":\"118K\",\"CumClaims\":\"53.3K\",\"PctFebLabor\":\"45.1%\",\"CurrentWarns\":\"5\"},\"Dalton, GA\":{\"FebLaborForce\":\"59.2K\",\"CumClaims\":\"59.3K\",\"PctFebLabor\":\"100.3%\",\"CurrentWarns\":\"7\"},\"Richmond County\":{\"FebLaborForce\":\"86K\",\"CumClaims\":\"52.7K\",\"PctFebLabor\":\"61.3%\",\"CurrentWarns\":\"12\"},\"Athens-Clarke County, GA\":{\"FebLaborForce\":\"100K\",\"CumClaims\":\"58.2K\",\"PctFebLabor\":\"58.1%\",\"CurrentWarns\":\"6\"},\"Douglas County\":{\"FebLaborForce\":\"74.4K\",\"CumClaims\":\"52.1K\",\"PctFebLabor\":\"70.1%\",\"CurrentWarns\":\"5\"},\"Cherokee County\":{\"FebLaborForce\":\"138K\",\"CumClaims\":\"69.3K\",\"PctFebLabor\":\"50.3%\",\"CurrentWarns\":\"5\"},\"Valdosta, GA\":{\"FebLaborForce\":\"64.8K\",\"CumClaims\":\"39.9K\",\"PctFebLabor\":\"61.6%\",\"CurrentWarns\":\"1\"},\"Hall County\":{\"FebLaborForce\":\"104K\",\"CumClaims\":\"51K\",\"PctFebLabor\":\"49.2%\",\"CurrentWarns\":\"6\"},\"Gainesville, GA\":{\"FebLaborForce\":\"104K\",\"CumClaims\":\"51K\",\"PctFebLabor\":\"49.2%\",\"CurrentWarns\":\"6\"},\"Coweta County\":{\"FebLaborForce\":\"75.8K\",\"CumClaims\":\"46.8K\",\"PctFebLabor\":\"61.7%\",\"CurrentWarns\":\"5\"},\"Bibb County\":{\"FebLaborForce\":\"68.6K\",\"CumClaims\":\"45.2K\",\"PctFebLabor\":\"66.0%\",\"CurrentWarns\":\"8\"},\"Whitfield County\":{\"FebLaborForce\":\"43.5K\",\"CumClaims\":\"44.3K\",\"PctFebLabor\":\"101.8%\",\"CurrentWarns\":\"6\"},\"Albany, GA\":{\"FebLaborForce\":\"66.5K\",\"CumClaims\":\"42.8K\",\"PctFebLabor\":\"64.3%\",\"CurrentWarns\":\"3\"},\"Lowndes County\":{\"FebLaborForce\":\"51.9K\",\"CumClaims\":\"34.4K\",\"PctFebLabor\":\"66.3%\",\"CurrentWarns\":\"1\"},\"Fayette County\":{\"FebLaborForce\":\"58.9K\",\"CumClaims\":\"43.2K\",\"PctFebLabor\":\"73.3%\",\"CurrentWarns\":\"5\"},\"Clarke County\":{\"FebLaborForce\":\"59.9K\",\"CumClaims\":\"39.3K\",\"PctFebLabor\":\"65.5%\",\"CurrentWarns\":\"5\"},\"Paulding County\":{\"FebLaborForce\":\"87.4K\",\"CumClaims\":\"39.5K\",\"PctFebLabor\":\"45.1%\",\"CurrentWarns\":\"2\"},\"Bartow County\":{\"FebLaborForce\":\"51.5K\",\"CumClaims\":\"36.5K\",\"PctFebLabor\":\"70.9%\",\"CurrentWarns\":\"5\"},\"Newton County\":{\"FebLaborForce\":\"53.1K\",\"CumClaims\":\"33.1K\",\"PctFebLabor\":\"62.4%\",\"CurrentWarns\":\"2\"},\"Rockdale County\":{\"FebLaborForce\":\"45.5K\",\"CumClaims\":\"31.1K\",\"PctFebLabor\":\"68.3%\",\"CurrentWarns\":\"1\"},\"Forsyth County\":{\"FebLaborForce\":\"124K\",\"CumClaims\":\"54.7K\",\"PctFebLabor\":\"44.1%\",\"CurrentWarns\":\"6\"},\"Warner Robins, GA\":{\"FebLaborForce\":\"83.4K\",\"CumClaims\":\"41.1K\",\"PctFebLabor\":\"49.2%\",\"CurrentWarns\":\"6\"},\"Carroll County\":{\"FebLaborForce\":\"56.3K\",\"CumClaims\":\"33.4K\",\"PctFebLabor\":\"59.4%\",\"CurrentWarns\":\"4\"},\"Dougherty County\":{\"FebLaborForce\":\"38.9K\",\"CumClaims\":\"26.8K\",\"PctFebLabor\":\"68.8%\",\"CurrentWarns\":\"3\"},\"Brunswick, GA\":{\"FebLaborForce\":\"52.6K\",\"CumClaims\":\"34.6K\",\"PctFebLabor\":\"65.9%\",\"CurrentWarns\":\"4\"},\"Troup County\":{\"FebLaborForce\":\"37.8K\",\"CumClaims\":\"29.9K\",\"PctFebLabor\":\"79.1%\",\"CurrentWarns\":\"1\"},\"LaGrange, GA-AL\":{\"FebLaborForce\":\"37.8K\",\"CumClaims\":\"29.9K\",\"PctFebLabor\":\"79.1%\",\"CurrentWarns\":\"1\"},\"Floyd County\":{\"FebLaborForce\":\"44.8K\",\"CumClaims\":\"29.9K\",\"PctFebLabor\":\"66.7%\",\"CurrentWarns\":\"2\"},\"Rome, GA\":{\"FebLaborForce\":\"44.8K\",\"CumClaims\":\"29.9K\",\"PctFebLabor\":\"66.7%\",\"CurrentWarns\":\"2\"},\"Houston County\":{\"FebLaborForce\":\"71.4K\",\"CumClaims\":\"33.9K\",\"PctFebLabor\":\"47.4%\",\"CurrentWarns\":\"4\"},\"Walton County\":{\"FebLaborForce\":\"46.8K\",\"CumClaims\":\"26.8K\",\"PctFebLabor\":\"57.3%\",\"CurrentWarns\":\"0\"},\"Columbia County\":{\"FebLaborForce\":\"75.9K\",\"CumClaims\":\"29.7K\",\"PctFebLabor\":\"39.2%\",\"CurrentWarns\":\"6\"},\"Barrow County\":{\"FebLaborForce\":\"41.1K\",\"CumClaims\":\"24.2K\",\"PctFebLabor\":\"59.0%\",\"CurrentWarns\":\"1\"},\"Glynn County\":{\"FebLaborForce\":\"39.1K\",\"CumClaims\":\"28K\",\"PctFebLabor\":\"71.6%\",\"CurrentWarns\":\"4\"},\"Jackson County\":{\"FebLaborForce\":\"37K\",\"CumClaims\":\"21.3K\",\"PctFebLabor\":\"57.5%\",\"CurrentWarns\":\"4\"},\"Jefferson, GA\":{\"FebLaborForce\":\"37K\",\"CumClaims\":\"21.3K\",\"PctFebLabor\":\"57.5%\",\"CurrentWarns\":\"4\"},\"Dublin, GA\":{\"FebLaborForce\":\"25.9K\",\"CumClaims\":\"13.6K\",\"PctFebLabor\":\"52.5%\",\"CurrentWarns\":\"1\"},\"Chattanooga, TN-GA\":{\"FebLaborForce\":\"74.5K\",\"CumClaims\":\"25.2K\",\"PctFebLabor\":\"33.8%\",\"CurrentWarns\":\"0\"},\"Bulloch County\":{\"FebLaborForce\":\"37K\",\"CumClaims\":\"23.5K\",\"PctFebLabor\":\"63.5%\",\"CurrentWarns\":\"0\"},\"Statesboro, GA\":{\"FebLaborForce\":\"37K\",\"CumClaims\":\"23.5K\",\"PctFebLabor\":\"63.5%\",\"CurrentWarns\":\"0\"},\"Douglas, GA\":{\"FebLaborForce\":\"24.4K\",\"CumClaims\":\"17.9K\",\"PctFebLabor\":\"73.3%\",\"CurrentWarns\":\"0\"},\"Spalding County\":{\"FebLaborForce\":\"29.2K\",\"CumClaims\":\"18.6K\",\"PctFebLabor\":\"63.8%\",\"CurrentWarns\":\"0\"},\"Laurens County\":{\"FebLaborForce\":\"19.1K\",\"CumClaims\":\"11.1K\",\"PctFebLabor\":\"58.0%\",\"CurrentWarns\":\"1\"},\"Calhoun, GA\":{\"FebLaborForce\":\"28.5K\",\"CumClaims\":\"19.8K\",\"PctFebLabor\":\"69.3%\",\"CurrentWarns\":\"0\"},\"Gordon County\":{\"FebLaborForce\":\"28.5K\",\"CumClaims\":\"19.8K\",\"PctFebLabor\":\"69.3%\",\"CurrentWarns\":\"0\"},\"Crisp County\":{\"FebLaborForce\":\"9.65K\",\"CumClaims\":\"9.18K\",\"PctFebLabor\":\"95.1%\",\"CurrentWarns\":\"2\"},\"Cordele, GA\":{\"FebLaborForce\":\"9.65K\",\"CumClaims\":\"9.18K\",\"PctFebLabor\":\"95.1%\",\"CurrentWarns\":\"2\"},\"Hinesville, GA\":{\"FebLaborForce\":\"35.1K\",\"CumClaims\":\"17.9K\",\"PctFebLabor\":\"51.0%\",\"CurrentWarns\":\"2\"},\"Murray County\":{\"FebLaborForce\":\"15.6K\",\"CumClaims\":\"15K\",\"PctFebLabor\":\"96.1%\",\"CurrentWarns\":\"1\"},\"Liberty County\":{\"FebLaborForce\":\"26.7K\",\"CumClaims\":\"14.8K\",\"PctFebLabor\":\"55.3%\",\"CurrentWarns\":\"2\"},\"Milledgeville, GA\":{\"FebLaborForce\":\"20.4K\",\"CumClaims\":\"11.7K\",\"PctFebLabor\":\"57.3%\",\"CurrentWarns\":\"0\"},\"Harris County\":{\"FebLaborForce\":\"16.8K\",\"CumClaims\":\"8.68K\",\"PctFebLabor\":\"51.7%\",\"CurrentWarns\":\"0\"},\"Effingham County\":{\"FebLaborForce\":\"31.1K\",\"CumClaims\":\"14.9K\",\"PctFebLabor\":\"47.8%\",\"CurrentWarns\":\"1\"},\"Atkinson County\":{\"FebLaborForce\":\"5.15K\",\"CumClaims\":\"9.16K\",\"PctFebLabor\":\"178.0%\",\"CurrentWarns\":\"0\"},\"Cedartown, GA\":{\"FebLaborForce\":\"18.6K\",\"CumClaims\":\"11.5K\",\"PctFebLabor\":\"61.7%\",\"CurrentWarns\":\"0\"},\"Polk County\":{\"FebLaborForce\":\"18.6K\",\"CumClaims\":\"11.5K\",\"PctFebLabor\":\"61.7%\",\"CurrentWarns\":\"0\"},\"Tift County\":{\"FebLaborForce\":\"20.3K\",\"CumClaims\":\"9.78K\",\"PctFebLabor\":\"48.1%\",\"CurrentWarns\":\"0\"},\"Tifton, GA\":{\"FebLaborForce\":\"20.3K\",\"CumClaims\":\"9.78K\",\"PctFebLabor\":\"48.1%\",\"CurrentWarns\":\"0\"},\"Baldwin County\":{\"FebLaborForce\":\"17.8K\",\"CumClaims\":\"10K\",\"PctFebLabor\":\"56.4%\",\"CurrentWarns\":\"0\"},\"Lee County\":{\"FebLaborForce\":\"15K\",\"CumClaims\":\"11.1K\",\"PctFebLabor\":\"74.5%\",\"CurrentWarns\":\"0\"},\"Waycross, GA\":{\"FebLaborForce\":\"24.7K\",\"CumClaims\":\"10.4K\",\"PctFebLabor\":\"42.3%\",\"CurrentWarns\":\"1\"},\"Upson County\":{\"FebLaborForce\":\"11.6K\",\"CumClaims\":\"7.57K\",\"PctFebLabor\":\"65.5%\",\"CurrentWarns\":\"0\"},\"Thomaston, GA\":{\"FebLaborForce\":\"11.6K\",\"CumClaims\":\"7.57K\",\"PctFebLabor\":\"65.5%\",\"CurrentWarns\":\"0\"},\"Thomasville, GA\":{\"FebLaborForce\":\"16.6K\",\"CumClaims\":\"9.17K\",\"PctFebLabor\":\"55.3%\",\"CurrentWarns\":\"0\"},\"Coffee County\":{\"FebLaborForce\":\"19.3K\",\"CumClaims\":\"8.75K\",\"PctFebLabor\":\"45.4%\",\"CurrentWarns\":\"0\"},\"Thomas County\":{\"FebLaborForce\":\"16.6K\",\"CumClaims\":\"9.17K\",\"PctFebLabor\":\"55.3%\",\"CurrentWarns\":\"0\"},\"Bryan County\":{\"FebLaborForce\":\"18.4K\",\"CumClaims\":\"12K\",\"PctFebLabor\":\"65.4%\",\"CurrentWarns\":\"0\"},\"Walker County\":{\"FebLaborForce\":\"32K\",\"CumClaims\":\"13K\",\"PctFebLabor\":\"40.8%\",\"CurrentWarns\":\"0\"},\"Moultrie, GA\":{\"FebLaborForce\":\"22K\",\"CumClaims\":\"8.78K\",\"PctFebLabor\":\"40.0%\",\"CurrentWarns\":\"0\"},\"Colquitt County\":{\"FebLaborForce\":\"22K\",\"CumClaims\":\"8.78K\",\"PctFebLabor\":\"40.0%\",\"CurrentWarns\":\"0\"},\"Americus, GA\":{\"FebLaborForce\":\"15.3K\",\"CumClaims\":\"6.49K\",\"PctFebLabor\":\"42.4%\",\"CurrentWarns\":\"2\"},\"Sumter County\":{\"FebLaborForce\":\"13.1K\",\"CumClaims\":\"5.91K\",\"PctFebLabor\":\"45.2%\",\"CurrentWarns\":\"2\"},\"Catoosa County\":{\"FebLaborForce\":\"34.2K\",\"CumClaims\":\"9.39K\",\"PctFebLabor\":\"27.4%\",\"CurrentWarns\":\"0\"},\"Madison County\":{\"FebLaborForce\":\"13.5K\",\"CumClaims\":\"7.74K\",\"PctFebLabor\":\"57.5%\",\"CurrentWarns\":\"0\"},\"Putnam County\":{\"FebLaborForce\":\"8.27K\",\"CumClaims\":\"5.05K\",\"PctFebLabor\":\"61.1%\",\"CurrentWarns\":\"1\"},\"Meriwether County\":{\"FebLaborForce\":\"9.05K\",\"CumClaims\":\"6.35K\",\"PctFebLabor\":\"70.2%\",\"CurrentWarns\":\"0\"},\"Ware County\":{\"FebLaborForce\":\"15.8K\",\"CumClaims\":\"6.83K\",\"PctFebLabor\":\"43.1%\",\"CurrentWarns\":\"1\"},\"Vidalia, GA\":{\"FebLaborForce\":\"15.7K\",\"CumClaims\":\"8.42K\",\"PctFebLabor\":\"53.6%\",\"CurrentWarns\":\"1\"},\"Peach County\":{\"FebLaborForce\":\"12K\",\"CumClaims\":\"7.2K\",\"PctFebLabor\":\"59.8%\",\"CurrentWarns\":\"2\"},\"Oconee County\":{\"FebLaborForce\":\"19.8K\",\"CumClaims\":\"8.54K\",\"PctFebLabor\":\"43.2%\",\"CurrentWarns\":\"1\"},\"Ben Hill County\":{\"FebLaborForce\":\"5.36K\",\"CumClaims\":\"8.89K\",\"PctFebLabor\":\"165.9%\",\"CurrentWarns\":\"0\"},\"Banks County\":{\"FebLaborForce\":\"9.9K\",\"CumClaims\":\"5.68K\",\"PctFebLabor\":\"57.4%\",\"CurrentWarns\":\"1\"},\"Fitzgerald, GA\":{\"FebLaborForce\":\"5.36K\",\"CumClaims\":\"8.89K\",\"PctFebLabor\":\"165.9%\",\"CurrentWarns\":\"0\"},\"Franklin County\":{\"FebLaborForce\":\"10.1K\",\"CumClaims\":\"7.21K\",\"PctFebLabor\":\"71.4%\",\"CurrentWarns\":\"0\"},\"Butts County\":{\"FebLaborForce\":\"10.9K\",\"CumClaims\":\"7.24K\",\"PctFebLabor\":\"66.1%\",\"CurrentWarns\":\"0\"},\"McDuffie County\":{\"FebLaborForce\":\"8.97K\",\"CumClaims\":\"5.59K\",\"PctFebLabor\":\"62.3%\",\"CurrentWarns\":\"1\"},\"Lumpkin County\":{\"FebLaborForce\":\"16.9K\",\"CumClaims\":\"8.11K\",\"PctFebLabor\":\"48.0%\",\"CurrentWarns\":\"1\"},\"Morgan County\":{\"FebLaborForce\":\"9.43K\",\"CumClaims\":\"4.83K\",\"PctFebLabor\":\"51.3%\",\"CurrentWarns\":\"0\"},\"Bainbridge, GA\":{\"FebLaborForce\":\"11.9K\",\"CumClaims\":\"5.79K\",\"PctFebLabor\":\"48.6%\",\"CurrentWarns\":\"0\"},\"Summerville, GA\":{\"FebLaborForce\":\"10.4K\",\"CumClaims\":\"8.7K\",\"PctFebLabor\":\"83.9%\",\"CurrentWarns\":\"1\"},\"Decatur County\":{\"FebLaborForce\":\"11.9K\",\"CumClaims\":\"5.79K\",\"PctFebLabor\":\"48.6%\",\"CurrentWarns\":\"0\"},\"Chattooga County\":{\"FebLaborForce\":\"10.4K\",\"CumClaims\":\"8.7K\",\"PctFebLabor\":\"83.9%\",\"CurrentWarns\":\"1\"},\"Emanuel County\":{\"FebLaborForce\":\"8.45K\",\"CumClaims\":\"4.53K\",\"PctFebLabor\":\"53.6%\",\"CurrentWarns\":\"0\"},\"Burke County\":{\"FebLaborForce\":\"9.32K\",\"CumClaims\":\"4.74K\",\"PctFebLabor\":\"50.9%\",\"CurrentWarns\":\"0\"},\"St. Marys, GA\":{\"FebLaborForce\":\"21K\",\"CumClaims\":\"9.38K\",\"PctFebLabor\":\"44.6%\",\"CurrentWarns\":\"1\"},\"Habersham County\":{\"FebLaborForce\":\"19.2K\",\"CumClaims\":\"8.49K\",\"PctFebLabor\":\"44.2%\",\"CurrentWarns\":\"0\"},\"Camden County\":{\"FebLaborForce\":\"21K\",\"CumClaims\":\"9.38K\",\"PctFebLabor\":\"44.6%\",\"CurrentWarns\":\"1\"},\"Cornelia, GA\":{\"FebLaborForce\":\"19.2K\",\"CumClaims\":\"8.49K\",\"PctFebLabor\":\"44.2%\",\"CurrentWarns\":\"0\"},\"Haralson County\":{\"FebLaborForce\":\"12.8K\",\"CumClaims\":\"7.9K\",\"PctFebLabor\":\"61.8%\",\"CurrentWarns\":\"0\"},\"Cook County\":{\"FebLaborForce\":\"8.22K\",\"CumClaims\":\"4.2K\",\"PctFebLabor\":\"51.1%\",\"CurrentWarns\":\"0\"},\"Monroe County\":{\"FebLaborForce\":\"13.2K\",\"CumClaims\":\"5.08K\",\"PctFebLabor\":\"38.5%\",\"CurrentWarns\":\"0\"},\"Pickens County\":{\"FebLaborForce\":\"15.5K\",\"CumClaims\":\"7.44K\",\"PctFebLabor\":\"47.9%\",\"CurrentWarns\":\"0\"},\"Toccoa, GA\":{\"FebLaborForce\":\"10.7K\",\"CumClaims\":\"6.37K\",\"PctFebLabor\":\"59.4%\",\"CurrentWarns\":\"0\"},\"Stephens County\":{\"FebLaborForce\":\"10.7K\",\"CumClaims\":\"6.37K\",\"PctFebLabor\":\"59.4%\",\"CurrentWarns\":\"0\"},\"Jefferson County\":{\"FebLaborForce\":\"6.76K\",\"CumClaims\":\"3.47K\",\"PctFebLabor\":\"51.3%\",\"CurrentWarns\":\"1\"},\"Dawson County\":{\"FebLaborForce\":\"12.5K\",\"CumClaims\":\"7.8K\",\"PctFebLabor\":\"62.4%\",\"CurrentWarns\":\"1\"},\"Gilmer County\":{\"FebLaborForce\":\"11.9K\",\"CumClaims\":\"6.68K\",\"PctFebLabor\":\"56.2%\",\"CurrentWarns\":\"1\"},\"Jesup, GA\":{\"FebLaborForce\":\"11.4K\",\"CumClaims\":\"5.82K\",\"PctFebLabor\":\"51.1%\",\"CurrentWarns\":\"0\"},\"Wayne County\":{\"FebLaborForce\":\"11.4K\",\"CumClaims\":\"5.82K\",\"PctFebLabor\":\"51.1%\",\"CurrentWarns\":\"0\"},\"Toombs County\":{\"FebLaborForce\":\"11.8K\",\"CumClaims\":\"6.14K\",\"PctFebLabor\":\"51.8%\",\"CurrentWarns\":\"1\"},\"Brooks County\":{\"FebLaborForce\":\"7.13K\",\"CumClaims\":\"3.31K\",\"PctFebLabor\":\"46.4%\",\"CurrentWarns\":\"0\"},\"Greene County\":{\"FebLaborForce\":\"7K\",\"CumClaims\":\"4.34K\",\"PctFebLabor\":\"62.0%\",\"CurrentWarns\":\"2\"},\"Jones County\":{\"FebLaborForce\":\"13.9K\",\"CumClaims\":\"4.46K\",\"PctFebLabor\":\"32.1%\",\"CurrentWarns\":\"0\"},\"Berrien County\":{\"FebLaborForce\":\"7.71K\",\"CumClaims\":\"4.44K\",\"PctFebLabor\":\"57.5%\",\"CurrentWarns\":\"0\"},\"Clinch County\":{\"FebLaborForce\":\"2.64K\",\"CumClaims\":\"4.96K\",\"PctFebLabor\":\"187.7%\",\"CurrentWarns\":\"0\"},\"Pike County\":{\"FebLaborForce\":\"9.05K\",\"CumClaims\":\"4.21K\",\"PctFebLabor\":\"46.5%\",\"CurrentWarns\":\"1\"},\"Fannin County\":{\"FebLaborForce\":\"11.5K\",\"CumClaims\":\"6.1K\",\"PctFebLabor\":\"52.9%\",\"CurrentWarns\":\"0\"},\"Screven County\":{\"FebLaborForce\":\"5.11K\",\"CumClaims\":\"4.22K\",\"PctFebLabor\":\"82.6%\",\"CurrentWarns\":\"0\"},\"White County\":{\"FebLaborForce\":\"16.5K\",\"CumClaims\":\"6.86K\",\"PctFebLabor\":\"41.7%\",\"CurrentWarns\":\"1\"},\"Dade County\":{\"FebLaborForce\":\"8.34K\",\"CumClaims\":\"2.8K\",\"PctFebLabor\":\"33.6%\",\"CurrentWarns\":\"0\"},\"Elbert County\":{\"FebLaborForce\":\"7.75K\",\"CumClaims\":\"4.41K\",\"PctFebLabor\":\"56.9%\",\"CurrentWarns\":\"0\"},\"Lamar County\":{\"FebLaborForce\":\"8.41K\",\"CumClaims\":\"4.11K\",\"PctFebLabor\":\"48.8%\",\"CurrentWarns\":\"0\"},\"Washington County\":{\"FebLaborForce\":\"7.07K\",\"CumClaims\":\"3.21K\",\"PctFebLabor\":\"45.4%\",\"CurrentWarns\":\"0\"},\"Dodge County\":{\"FebLaborForce\":\"7.06K\",\"CumClaims\":\"3.28K\",\"PctFebLabor\":\"46.4%\",\"CurrentWarns\":\"1\"},\"Hart County\":{\"FebLaborForce\":\"11.2K\",\"CumClaims\":\"4.48K\",\"PctFebLabor\":\"40.0%\",\"CurrentWarns\":\"0\"},\"Appling County\":{\"FebLaborForce\":\"9.9K\",\"CumClaims\":\"3.31K\",\"PctFebLabor\":\"33.5%\",\"CurrentWarns\":\"1\"},\"Macon County\":{\"FebLaborForce\":\"4.84K\",\"CumClaims\":\"2.73K\",\"PctFebLabor\":\"56.4%\",\"CurrentWarns\":\"0\"},\"Heard County\":{\"FebLaborForce\":\"5.36K\",\"CumClaims\":\"2.86K\",\"PctFebLabor\":\"53.3%\",\"CurrentWarns\":\"0\"},\"Brantley County\":{\"FebLaborForce\":\"7.25K\",\"CumClaims\":\"3.7K\",\"PctFebLabor\":\"51.0%\",\"CurrentWarns\":\"0\"},\"Grady County\":{\"FebLaborForce\":\"10.6K\",\"CumClaims\":\"3.5K\",\"PctFebLabor\":\"32.9%\",\"CurrentWarns\":\"0\"},\"Bacon County\":{\"FebLaborForce\":\"5.06K\",\"CumClaims\":\"2.5K\",\"PctFebLabor\":\"49.3%\",\"CurrentWarns\":\"0\"},\"McIntosh County\":{\"FebLaborForce\":\"6.21K\",\"CumClaims\":\"2.92K\",\"PctFebLabor\":\"47.0%\",\"CurrentWarns\":\"0\"},\"Mitchell County\":{\"FebLaborForce\":\"8.79K\",\"CumClaims\":\"3.06K\",\"PctFebLabor\":\"34.9%\",\"CurrentWarns\":\"0\"},\"Long County\":{\"FebLaborForce\":\"8.36K\",\"CumClaims\":\"3.12K\",\"PctFebLabor\":\"37.3%\",\"CurrentWarns\":\"0\"},\"Terrell County\":{\"FebLaborForce\":\"3.55K\",\"CumClaims\":\"1.67K\",\"PctFebLabor\":\"47.1%\",\"CurrentWarns\":\"0\"},\"Tattnall County\":{\"FebLaborForce\":\"9.81K\",\"CumClaims\":\"2.66K\",\"PctFebLabor\":\"27.2%\",\"CurrentWarns\":\"0\"},\"Union County\":{\"FebLaborForce\":\"10.4K\",\"CumClaims\":\"4.64K\",\"PctFebLabor\":\"44.6%\",\"CurrentWarns\":\"0\"},\"Johnson County\":{\"FebLaborForce\":\"4.06K\",\"CumClaims\":\"1.38K\",\"PctFebLabor\":\"34.1%\",\"CurrentWarns\":\"0\"},\"Early County\":{\"FebLaborForce\":\"4.55K\",\"CumClaims\":\"1.82K\",\"PctFebLabor\":\"40.1%\",\"CurrentWarns\":\"0\"},\"Worth County\":{\"FebLaborForce\":\"9.09K\",\"CumClaims\":\"3.18K\",\"PctFebLabor\":\"34.9%\",\"CurrentWarns\":\"0\"},\"Crawford County\":{\"FebLaborForce\":\"5.69K\",\"CumClaims\":\"2.49K\",\"PctFebLabor\":\"43.7%\",\"CurrentWarns\":\"1\"},\"Jasper County\":{\"FebLaborForce\":\"7.06K\",\"CumClaims\":\"2.96K\",\"PctFebLabor\":\"42.0%\",\"CurrentWarns\":\"0\"},\"Jeff Davis County\":{\"FebLaborForce\":\"6.14K\",\"CumClaims\":\"2.53K\",\"PctFebLabor\":\"41.2%\",\"CurrentWarns\":\"0\"},\"Calhoun County\":{\"FebLaborForce\":\"2.38K\",\"CumClaims\":\"2.58K\",\"PctFebLabor\":\"108.1%\",\"CurrentWarns\":\"0\"},\"Rabun County\":{\"FebLaborForce\":\"6.95K\",\"CumClaims\":\"3.4K\",\"PctFebLabor\":\"49.0%\",\"CurrentWarns\":\"0\"},\"Oglethorpe County\":{\"FebLaborForce\":\"7.08K\",\"CumClaims\":\"2.69K\",\"PctFebLabor\":\"38.0%\",\"CurrentWarns\":\"0\"},\"Hancock County\":{\"FebLaborForce\":\"2.55K\",\"CumClaims\":\"1.62K\",\"PctFebLabor\":\"63.4%\",\"CurrentWarns\":\"0\"},\"Pierce County\":{\"FebLaborForce\":\"8.83K\",\"CumClaims\":\"3.61K\",\"PctFebLabor\":\"40.8%\",\"CurrentWarns\":\"0\"},\"Charlton County\":{\"FebLaborForce\":\"4.89K\",\"CumClaims\":\"1.81K\",\"PctFebLabor\":\"37.0%\",\"CurrentWarns\":\"0\"},\"Candler County\":{\"FebLaborForce\":\"5.72K\",\"CumClaims\":\"2.33K\",\"PctFebLabor\":\"40.7%\",\"CurrentWarns\":\"0\"},\"Talbot County\":{\"FebLaborForce\":\"2.83K\",\"CumClaims\":\"1.26K\",\"PctFebLabor\":\"44.6%\",\"CurrentWarns\":\"0\"},\"Montgomery County\":{\"FebLaborForce\":\"3.86K\",\"CumClaims\":\"2.28K\",\"PctFebLabor\":\"59.1%\",\"CurrentWarns\":\"0\"},\"Marion County\":{\"FebLaborForce\":\"3.34K\",\"CumClaims\":\"1.37K\",\"PctFebLabor\":\"41.0%\",\"CurrentWarns\":\"0\"},\"Dooly County\":{\"FebLaborForce\":\"5.19K\",\"CumClaims\":\"1.95K\",\"PctFebLabor\":\"37.6%\",\"CurrentWarns\":\"0\"},\"Evans County\":{\"FebLaborForce\":\"4.98K\",\"CumClaims\":\"1.99K\",\"PctFebLabor\":\"40.0%\",\"CurrentWarns\":\"0\"},\"Turner County\":{\"FebLaborForce\":\"3.23K\",\"CumClaims\":\"1.68K\",\"PctFebLabor\":\"52.1%\",\"CurrentWarns\":\"0\"},\"Taylor County\":{\"FebLaborForce\":\"3.26K\",\"CumClaims\":\"1.29K\",\"PctFebLabor\":\"39.7%\",\"CurrentWarns\":\"0\"},\"Telfair County\":{\"FebLaborForce\":\"4.2K\",\"CumClaims\":\"1.47K\",\"PctFebLabor\":\"35.1%\",\"CurrentWarns\":\"1\"},\"Lanier County\":{\"FebLaborForce\":\"3.8K\",\"CumClaims\":\"1.39K\",\"PctFebLabor\":\"36.7%\",\"CurrentWarns\":\"0\"},\"Warren County\":{\"FebLaborForce\":\"2.9K\",\"CumClaims\":\"1.32K\",\"PctFebLabor\":\"45.3%\",\"CurrentWarns\":\"0\"},\"Bleckley County\":{\"FebLaborForce\":\"4.58K\",\"CumClaims\":\"1.9K\",\"PctFebLabor\":\"41.4%\",\"CurrentWarns\":\"0\"},\"Twiggs County\":{\"FebLaborForce\":\"2.93K\",\"CumClaims\":\"1.26K\",\"PctFebLabor\":\"43.1%\",\"CurrentWarns\":\"0\"},\"Randolph County\":{\"FebLaborForce\":\"2.62K\",\"CumClaims\":\"1.75K\",\"PctFebLabor\":\"66.9%\",\"CurrentWarns\":\"0\"},\"Irwin County\":{\"FebLaborForce\":\"3.45K\",\"CumClaims\":\"1.27K\",\"PctFebLabor\":\"36.9%\",\"CurrentWarns\":\"0\"},\"Wilcox County\":{\"FebLaborForce\":\"2.75K\",\"CumClaims\":\"842\",\"PctFebLabor\":\"30.6%\",\"CurrentWarns\":\"0\"},\"Treutlen County\":{\"FebLaborForce\":\"2.68K\",\"CumClaims\":\"1.1K\",\"PctFebLabor\":\"41.2%\",\"CurrentWarns\":\"0\"},\"Jenkins County\":{\"FebLaborForce\":\"3.13K\",\"CumClaims\":\"1.47K\",\"PctFebLabor\":\"47.1%\",\"CurrentWarns\":\"0\"},\"Wilkinson County\":{\"FebLaborForce\":\"4.05K\",\"CumClaims\":\"1.5K\",\"PctFebLabor\":\"37.1%\",\"CurrentWarns\":\"0\"},\"Chattahoochee County\":{\"FebLaborForce\":\"2.02K\",\"CumClaims\":\"1.63K\",\"PctFebLabor\":\"80.5%\",\"CurrentWarns\":\"1\"},\"Wilkes County\":{\"FebLaborForce\":\"3.89K\",\"CumClaims\":\"1.4K\",\"PctFebLabor\":\"36.1%\",\"CurrentWarns\":\"0\"},\"Clay County\":{\"FebLaborForce\":\"910\",\"CumClaims\":\"1.23K\",\"PctFebLabor\":\"135.3%\",\"CurrentWarns\":\"1\"},\"Lincoln County\":{\"FebLaborForce\":\"3.64K\",\"CumClaims\":\"1.46K\",\"PctFebLabor\":\"40.0%\",\"CurrentWarns\":\"0\"},\"Towns County\":{\"FebLaborForce\":\"3.87K\",\"CumClaims\":\"2.16K\",\"PctFebLabor\":\"55.9%\",\"CurrentWarns\":\"1\"},\"Pulaski County\":{\"FebLaborForce\":\"4.14K\",\"CumClaims\":\"1.28K\",\"PctFebLabor\":\"31.0%\",\"CurrentWarns\":\"0\"},\"Seminole County\":{\"FebLaborForce\":\"3.12K\",\"CumClaims\":\"1.22K\",\"PctFebLabor\":\"39.0%\",\"CurrentWarns\":\"0\"},\"Echols County\":{\"FebLaborForce\":\"2K\",\"CumClaims\":\"807\",\"PctFebLabor\":\"40.4%\",\"CurrentWarns\":\"0\"},\"Glascock County\":{\"FebLaborForce\":\"1.31K\",\"CumClaims\":\"726\",\"PctFebLabor\":\"55.6%\",\"CurrentWarns\":\"0\"},\"Miller County\":{\"FebLaborForce\":\"2.85K\",\"CumClaims\":\"859\",\"PctFebLabor\":\"30.2%\",\"CurrentWarns\":\"0\"},\"Stewart County\":{\"FebLaborForce\":\"2.46K\",\"CumClaims\":\"682\",\"PctFebLabor\":\"27.8%\",\"CurrentWarns\":\"0\"},\"Wheeler County\":{\"FebLaborForce\":\"1.66K\",\"CumClaims\":\"655\",\"PctFebLabor\":\"39.3%\",\"CurrentWarns\":\"0\"},\"Baker County\":{\"FebLaborForce\":\"1.23K\",\"CumClaims\":\"684\",\"PctFebLabor\":\"55.7%\",\"CurrentWarns\":\"0\"},\"Schley County\":{\"FebLaborForce\":\"2.25K\",\"CumClaims\":\"586\",\"PctFebLabor\":\"26.0%\",\"CurrentWarns\":\"0\"},\"Webster County\":{\"FebLaborForce\":\"1.04K\",\"CumClaims\":\"273\",\"PctFebLabor\":\"26.1%\",\"CurrentWarns\":\"0\"},\"Taliaferro County\":{\"FebLaborForce\":\"581\",\"CumClaims\":\"301\",\"PctFebLabor\":\"51.8%\",\"CurrentWarns\":\"0\"},\"Eufaula, AL-GA\":{\"FebLaborForce\":\"797\",\"CumClaims\":\"142\",\"PctFebLabor\":\"17.8%\",\"CurrentWarns\":\"0\"},\"Quitman County\":{\"FebLaborForce\":\"797\",\"CumClaims\":\"142\",\"PctFebLabor\":\"17.8%\",\"CurrentWarns\":\"0\"}}'"
      ]
     },
     "execution_count": 80,
     "metadata": {},
     "output_type": "execute_result"
    }
   ],
   "source": [
    "# write files\n",
    "# this is the county polygon file for fill layers in mapbox\n",
    "countyShapes.to_file(\"app-data/mapbox/countyShapes.geojson\", driver='GeoJSON')\n",
    "# this is the county point file for circle layers in mapbox\n",
    "countyPoints.to_file(\"app-data/mapbox/countyPoints.geojson\", driver='GeoJSON')\n",
    "# this is for the github file to draw the d3 charts\n",
    "data.to_csv('app-data/uiClaims.csv', index=False)\n",
    "industryClaims.to_csv('app-data/industryClaims.csv', index=False)\n",
    "industryRoll.to_csv('app-data/countyIndustryClaims.csv', index=False)\n",
    "dataCum.to_csv('app-data/dataCum.csv', index=False)\n",
    "gaDataCum.to_csv('app-data/gaDataCum.csv', index=False)\n",
    "# this is for the warn logs by city for a point layer within the application\n",
    "appWarns.to_csv('app-data/warns.csv', index=False)\n",
    "warns.to_excel('app-data/warnsClean.xlsx', index=False)\n",
    "# this is for the json object to use as dynamically generated KPIs\n",
    "dataK.to_json(orient='index')"
   ]
  },
  {
   "cell_type": "code",
   "execution_count": null,
   "metadata": {},
   "outputs": [],
   "source": []
  },
  {
   "cell_type": "code",
   "execution_count": null,
   "metadata": {},
   "outputs": [],
   "source": []
  },
  {
   "cell_type": "code",
   "execution_count": null,
   "metadata": {},
   "outputs": [],
   "source": []
  }
 ],
 "metadata": {
  "kernelspec": {
   "display_name": "Python 3",
   "language": "python",
   "name": "python3"
  },
  "language_info": {
   "codemirror_mode": {
    "name": "ipython",
    "version": 3
   },
   "file_extension": ".py",
   "mimetype": "text/x-python",
   "name": "python",
   "nbconvert_exporter": "python",
   "pygments_lexer": "ipython3",
   "version": "3.7.6"
  }
 },
 "nbformat": 4,
 "nbformat_minor": 4
}
