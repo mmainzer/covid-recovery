{
 "cells": [
  {
   "cell_type": "code",
   "execution_count": 1,
   "metadata": {},
   "outputs": [],
   "source": [
    "import pandas as pd\n",
    "pd.set_option('display.max_columns', None)\n",
    "\n",
    "import numpy as np\n",
    "\n",
    "import geopandas as gpd\n",
    "import fiona\n",
    "\n",
    "import datetime"
   ]
  },
  {
   "cell_type": "code",
   "execution_count": 2,
   "metadata": {},
   "outputs": [],
   "source": [
    "sheets_dict = pd.read_excel('ui_claims_county_industry.xlsx', sheet_name=None,skiprows=2,skipfooter=3)\n",
    "\n",
    "df = pd.DataFrame()\n",
    "for name, sheet in sheets_dict.items():\n",
    "    sheet['County'] = name + 'County'\n",
    "    sheet = sheet.rename(columns=lambda x: x.split('\\n')[-1])\n",
    "    df = df.append(sheet)\n",
    "\n",
    "df.reset_index(inplace=True, drop=True)"
   ]
  },
  {
   "cell_type": "code",
   "execution_count": 3,
   "metadata": {},
   "outputs": [],
   "source": [
    "del df['Unnamed: 2']\n",
    "del df['Unnamed: 4']"
   ]
  },
  {
   "cell_type": "code",
   "execution_count": 4,
   "metadata": {},
   "outputs": [],
   "source": [
    "df = df.melt(id_vars=[\"County\", \"NAICS\", \"INDUSTRY NAME\"], \n",
    "             var_name=\"Date\", \n",
    "             value_name=\"Claims\")\n",
    "\n",
    "df['Claims'] = df['Claims'].replace(',', '', regex=True)\n",
    "\n",
    "df['Claims'] = df['Claims'].astype(int)"
   ]
  },
  {
   "cell_type": "code",
   "execution_count": 5,
   "metadata": {},
   "outputs": [],
   "source": [
    "warns = pd.read_excel('warnLogs_200720.xlsx')\n",
    "warns['County'] = warns['County'] + ' County'\n",
    "warns['County'] = warns['County'].str.strip()"
   ]
  },
  {
   "cell_type": "code",
   "execution_count": 6,
   "metadata": {},
   "outputs": [],
   "source": [
    "codes = pd.read_excel('../../data/geographies/regional-commissions.xlsx', usecols='A,B,C')\n",
    "codes['County'] = codes['County'] + ' County'\n",
    "codes['County'] = codes['County'].astype(str)\n",
    "\n",
    "msa = pd.read_excel('../../data/geographies/cbsa.xlsx', sheet_name='cbsa', usecols='A,D,H,I')\n",
    "msa = msa.loc[msa['State'] == 'Georgia']"
   ]
  },
  {
   "cell_type": "code",
   "execution_count": 7,
   "metadata": {},
   "outputs": [],
   "source": [
    "df = pd.merge(df,codes,how='left',on='County')\n"
   ]
  },
  {
   "cell_type": "code",
   "execution_count": 8,
   "metadata": {},
   "outputs": [],
   "source": [
    "df = pd.merge(df,msa,how='left',on='County')\n",
    "warns = pd.merge(warns,codes,how='left',on='County')\n",
    "warns = pd.merge(warns,msa,how='left',on='County')"
   ]
  },
  {
   "cell_type": "code",
   "execution_count": 9,
   "metadata": {},
   "outputs": [
    {
     "name": "stderr",
     "output_type": "stream",
     "text": [
      "/Users/mmainza/opt/anaconda3/lib/python3.7/site-packages/ipykernel_launcher.py:5: SettingWithCopyWarning: \n",
      "A value is trying to be set on a copy of a slice from a DataFrame.\n",
      "Try using .loc[row_indexer,col_indexer] = value instead\n",
      "\n",
      "See the caveats in the documentation: https://pandas.pydata.org/pandas-docs/stable/user_guide/indexing.html#returning-a-view-versus-a-copy\n",
      "  \"\"\"\n",
      "/Users/mmainza/opt/anaconda3/lib/python3.7/site-packages/ipykernel_launcher.py:7: SettingWithCopyWarning: \n",
      "A value is trying to be set on a copy of a slice from a DataFrame.\n",
      "Try using .loc[row_indexer,col_indexer] = value instead\n",
      "\n",
      "See the caveats in the documentation: https://pandas.pydata.org/pandas-docs/stable/user_guide/indexing.html#returning-a-view-versus-a-copy\n",
      "  import sys\n"
     ]
    }
   ],
   "source": [
    "today = np.datetime64('today')\n",
    "lastYear = today - 365\n",
    "\n",
    "warnsCurr = warns[(warns['Date'] > '2020-03-01') & (warns['Date'] <= today)]\n",
    "warnsCurr['Period'] = 'CurrentWarns'\n",
    "warnsLast = warns[(warns['Date'] > '2019-03-01') & (warns['Date'] <= lastYear)]\n",
    "warnsLast['Period'] = 'Last Period'\n",
    "warnPeriods = warnsCurr.append([warnsLast])\n",
    "\n",
    "warnPeriods = warnPeriods[['ID','Company name','Est. Impact','Date','Period']]\n",
    "\n",
    "warns = pd.merge(warns,warnPeriods,how='left',on=['ID','Company name','Est. Impact','Date'])\n",
    "\n",
    "warns['Period'].fillna('NA',inplace=True)"
   ]
  },
  {
   "cell_type": "code",
   "execution_count": 10,
   "metadata": {},
   "outputs": [],
   "source": [
    "warns['State'] = 'Georgia'"
   ]
  },
  {
   "cell_type": "code",
   "execution_count": 11,
   "metadata": {},
   "outputs": [],
   "source": [
    "countyWarns = warns.groupby(['County','Period']).size().reset_index()\n",
    "countyWarns = countyWarns.pivot_table(0, ['County'], 'Period').reset_index(drop=False)\n",
    "countyWarns.rename(columns={'County':'Area'}, inplace=True)\n",
    "msaWarns = warns.groupby(['CBSA Title','Period']).size().reset_index()\n",
    "msaWarns = msaWarns.pivot_table(0, ['CBSA Title'], 'Period').reset_index(drop=False)\n",
    "msaWarns.rename(columns={'CBSA Title':'Area'}, inplace=True)\n",
    "rcWarns = warns.groupby(['Regional Commission','Period']).size().reset_index()\n",
    "rcWarns = rcWarns.pivot_table(0, ['Regional Commission'], 'Period').reset_index(drop=False)\n",
    "rcWarns.rename(columns={'Regional Commission':'Area'}, inplace=True)\n",
    "stateWarns = warns.groupby(['State','Period']).size().reset_index()\n",
    "stateWarns = stateWarns.pivot_table(0, ['State'], 'Period').reset_index(drop=False)\n",
    "stateWarns.rename(columns={'State':'Area'}, inplace=True)\n",
    "del warns['State']\n",
    "\n",
    "areaWarns = stateWarns.append([rcWarns,msaWarns,countyWarns])\n",
    "areaWarns.reset_index(drop=True, inplace=True)\n",
    "\n",
    "areaWarns.fillna(0, inplace=True)"
   ]
  },
  {
   "cell_type": "code",
   "execution_count": 12,
   "metadata": {},
   "outputs": [],
   "source": [
    "areaWarns = areaWarns[['Area','CurrentWarns']]\n",
    "areaWarns.fillna(0, inplace=True)"
   ]
  },
  {
   "cell_type": "code",
   "execution_count": 13,
   "metadata": {},
   "outputs": [],
   "source": [
    "labor = pd.read_excel('county_laborForce.xlsx')\n",
    "labor.dropna(subset=['title'], inplace=True)\n",
    "labor = labor.loc[labor['Month'] == 2.0]\n",
    "labor['Month'] = labor['Month'] + 1\n",
    "labor['Date'] = pd.to_datetime(labor.Month.astype(int).astype(str) + '-7' + '-2020', format = '%m-%d-%Y')\n",
    "labor['Date'] = labor['Date'].dt.strftime('%m/%d/%Y')\n",
    "labor['title'] = labor['title'].replace(', GA', '', regex=True)"
   ]
  },
  {
   "cell_type": "code",
   "execution_count": 14,
   "metadata": {},
   "outputs": [],
   "source": [
    "febLabor = labor[['title','Date','emp','unemp','laborforce']]"
   ]
  },
  {
   "cell_type": "code",
   "execution_count": 15,
   "metadata": {},
   "outputs": [
    {
     "name": "stderr",
     "output_type": "stream",
     "text": [
      "/Users/mmainza/opt/anaconda3/lib/python3.7/site-packages/pandas/core/frame.py:4133: SettingWithCopyWarning: \n",
      "A value is trying to be set on a copy of a slice from a DataFrame\n",
      "\n",
      "See the caveats in the documentation: https://pandas.pydata.org/pandas-docs/stable/user_guide/indexing.html#returning-a-view-versus-a-copy\n",
      "  errors=errors,\n"
     ]
    }
   ],
   "source": [
    "febLabor.rename(columns={'title'      : 'County',\n",
    "                           'emp'        : 'FebEmployed',\n",
    "                           'unemp'      : 'FebUnemployed',\n",
    "                           'laborforce' : 'FebLaborForce'}, inplace=True)\n",
    "febLabor.reset_index(drop=True, inplace=True)"
   ]
  },
  {
   "cell_type": "code",
   "execution_count": 16,
   "metadata": {},
   "outputs": [],
   "source": [
    "# create separate frame of total claims by county, not industry\n",
    "countyClaims = df.groupby(['area_code','County','Date']).agg({'Claims':'sum'}).reset_index()"
   ]
  },
  {
   "cell_type": "code",
   "execution_count": 17,
   "metadata": {},
   "outputs": [],
   "source": [
    "countyClaims.drop_duplicates(inplace=True)"
   ]
  },
  {
   "cell_type": "code",
   "execution_count": 18,
   "metadata": {},
   "outputs": [
    {
     "data": {
      "text/html": [
       "<div>\n",
       "<style scoped>\n",
       "    .dataframe tbody tr th:only-of-type {\n",
       "        vertical-align: middle;\n",
       "    }\n",
       "\n",
       "    .dataframe tbody tr th {\n",
       "        vertical-align: top;\n",
       "    }\n",
       "\n",
       "    .dataframe thead th {\n",
       "        text-align: right;\n",
       "    }\n",
       "</style>\n",
       "<table border=\"1\" class=\"dataframe\">\n",
       "  <thead>\n",
       "    <tr style=\"text-align: right;\">\n",
       "      <th></th>\n",
       "      <th>area_code</th>\n",
       "      <th>County</th>\n",
       "      <th>Date</th>\n",
       "      <th>Claims</th>\n",
       "    </tr>\n",
       "  </thead>\n",
       "  <tbody>\n",
       "    <tr>\n",
       "      <th>0</th>\n",
       "      <td>13001</td>\n",
       "      <td>Appling County</td>\n",
       "      <td>03/07/2020</td>\n",
       "      <td>5</td>\n",
       "    </tr>\n",
       "    <tr>\n",
       "      <th>1</th>\n",
       "      <td>13001</td>\n",
       "      <td>Appling County</td>\n",
       "      <td>03/14/2020</td>\n",
       "      <td>6</td>\n",
       "    </tr>\n",
       "    <tr>\n",
       "      <th>2</th>\n",
       "      <td>13001</td>\n",
       "      <td>Appling County</td>\n",
       "      <td>03/21/2020</td>\n",
       "      <td>5</td>\n",
       "    </tr>\n",
       "    <tr>\n",
       "      <th>3</th>\n",
       "      <td>13001</td>\n",
       "      <td>Appling County</td>\n",
       "      <td>03/28/2020</td>\n",
       "      <td>143</td>\n",
       "    </tr>\n",
       "    <tr>\n",
       "      <th>4</th>\n",
       "      <td>13001</td>\n",
       "      <td>Appling County</td>\n",
       "      <td>04/04/2020</td>\n",
       "      <td>322</td>\n",
       "    </tr>\n",
       "  </tbody>\n",
       "</table>\n",
       "</div>"
      ],
      "text/plain": [
       "   area_code          County        Date  Claims\n",
       "0      13001  Appling County  03/07/2020       5\n",
       "1      13001  Appling County  03/14/2020       6\n",
       "2      13001  Appling County  03/21/2020       5\n",
       "3      13001  Appling County  03/28/2020     143\n",
       "4      13001  Appling County  04/04/2020     322"
      ]
     },
     "execution_count": 18,
     "metadata": {},
     "output_type": "execute_result"
    }
   ],
   "source": [
    "countyClaims.head()"
   ]
  },
  {
   "cell_type": "code",
   "execution_count": 19,
   "metadata": {},
   "outputs": [
    {
     "data": {
      "text/html": [
       "<div>\n",
       "<style scoped>\n",
       "    .dataframe tbody tr th:only-of-type {\n",
       "        vertical-align: middle;\n",
       "    }\n",
       "\n",
       "    .dataframe tbody tr th {\n",
       "        vertical-align: top;\n",
       "    }\n",
       "\n",
       "    .dataframe thead th {\n",
       "        text-align: right;\n",
       "    }\n",
       "</style>\n",
       "<table border=\"1\" class=\"dataframe\">\n",
       "  <thead>\n",
       "    <tr style=\"text-align: right;\">\n",
       "      <th></th>\n",
       "      <th>County</th>\n",
       "      <th>Date</th>\n",
       "      <th>FebEmployed</th>\n",
       "      <th>FebUnemployed</th>\n",
       "      <th>FebLaborForce</th>\n",
       "    </tr>\n",
       "  </thead>\n",
       "  <tbody>\n",
       "    <tr>\n",
       "      <th>0</th>\n",
       "      <td>Appling County</td>\n",
       "      <td>03/07/2020</td>\n",
       "      <td>9534.0</td>\n",
       "      <td>363.0</td>\n",
       "      <td>9897.0</td>\n",
       "    </tr>\n",
       "    <tr>\n",
       "      <th>1</th>\n",
       "      <td>Atkinson County</td>\n",
       "      <td>03/07/2020</td>\n",
       "      <td>4994.0</td>\n",
       "      <td>154.0</td>\n",
       "      <td>5148.0</td>\n",
       "    </tr>\n",
       "    <tr>\n",
       "      <th>2</th>\n",
       "      <td>Bacon County</td>\n",
       "      <td>03/07/2020</td>\n",
       "      <td>4867.0</td>\n",
       "      <td>190.0</td>\n",
       "      <td>5057.0</td>\n",
       "    </tr>\n",
       "    <tr>\n",
       "      <th>3</th>\n",
       "      <td>Baker County</td>\n",
       "      <td>03/07/2020</td>\n",
       "      <td>1172.0</td>\n",
       "      <td>57.0</td>\n",
       "      <td>1229.0</td>\n",
       "    </tr>\n",
       "    <tr>\n",
       "      <th>4</th>\n",
       "      <td>Baldwin County</td>\n",
       "      <td>03/07/2020</td>\n",
       "      <td>17013.0</td>\n",
       "      <td>797.0</td>\n",
       "      <td>17810.0</td>\n",
       "    </tr>\n",
       "  </tbody>\n",
       "</table>\n",
       "</div>"
      ],
      "text/plain": [
       "            County        Date  FebEmployed  FebUnemployed  FebLaborForce\n",
       "0   Appling County  03/07/2020       9534.0          363.0         9897.0\n",
       "1  Atkinson County  03/07/2020       4994.0          154.0         5148.0\n",
       "2     Bacon County  03/07/2020       4867.0          190.0         5057.0\n",
       "3     Baker County  03/07/2020       1172.0           57.0         1229.0\n",
       "4   Baldwin County  03/07/2020      17013.0          797.0        17810.0"
      ]
     },
     "execution_count": 19,
     "metadata": {},
     "output_type": "execute_result"
    }
   ],
   "source": [
    "febLabor.head()"
   ]
  },
  {
   "cell_type": "code",
   "execution_count": 20,
   "metadata": {},
   "outputs": [],
   "source": [
    "countyClaims = pd.merge(countyClaims,febLabor,how='left',on=['County','Date'])\n",
    "\n",
    "countyClaims.FebEmployed.fillna(method='ffill', inplace=True)\n",
    "countyClaims.FebUnemployed.fillna(method='ffill', inplace=True)\n",
    "countyClaims.FebLaborForce.fillna(method='ffill', inplace=True)\n",
    "\n",
    "countyClaims['CumClaims'] = countyClaims.groupby(['area_code','County'])['Claims'].apply(lambda x: x.cumsum())"
   ]
  },
  {
   "cell_type": "code",
   "execution_count": 21,
   "metadata": {},
   "outputs": [],
   "source": [
    "countyClaims['PctFebLabor'] = ( countyClaims.CumClaims / countyClaims.FebLaborForce ) * 100\n",
    "countyClaims.PctFebLabor = countyClaims.PctFebLabor.round(1)"
   ]
  },
  {
   "cell_type": "code",
   "execution_count": 22,
   "metadata": {},
   "outputs": [],
   "source": [
    "# do this for the whole state\n",
    "febLaborState = febLabor.groupby('Date') \\\n",
    "                            .agg({'FebEmployed':'sum','FebUnemployed' : 'sum','FebLaborForce' : 'sum'}) \\\n",
    "                            .reset_index()\n",
    "\n",
    "stateClaims = countyClaims[['County','Date','Claims']]\n",
    "\n",
    "stateClaims = stateClaims.groupby('Date').agg({'Claims':'sum'}).reset_index()\n",
    "\n",
    "stateClaims = pd.merge(stateClaims, febLaborState, how='left', on='Date')\n",
    "\n",
    "stateClaims.FebEmployed.fillna(method='ffill', inplace=True)\n",
    "stateClaims.FebUnemployed.fillna(method='ffill', inplace=True)\n",
    "stateClaims.FebLaborForce.fillna(method='ffill', inplace=True)"
   ]
  },
  {
   "cell_type": "code",
   "execution_count": 23,
   "metadata": {},
   "outputs": [],
   "source": [
    "stateClaims['State'] = 'Georgia'"
   ]
  },
  {
   "cell_type": "code",
   "execution_count": 24,
   "metadata": {},
   "outputs": [],
   "source": [
    "stateClaims['CumClaims'] = stateClaims.groupby(['State'])['Claims'].apply(lambda x: x.cumsum())"
   ]
  },
  {
   "cell_type": "code",
   "execution_count": 25,
   "metadata": {},
   "outputs": [],
   "source": [
    "stateClaims['PctFebLabor'] = ( stateClaims.CumClaims / stateClaims.FebLaborForce ) * 100\n",
    "stateClaims.PctFebLabor = stateClaims.PctFebLabor.round(1)"
   ]
  },
  {
   "cell_type": "code",
   "execution_count": 26,
   "metadata": {},
   "outputs": [],
   "source": [
    "stateClaims = stateClaims[['State','Date','Claims','FebEmployed','FebUnemployed','FebLaborForce',\n",
    "                           'CumClaims','PctFebLabor']]"
   ]
  },
  {
   "cell_type": "code",
   "execution_count": 27,
   "metadata": {},
   "outputs": [],
   "source": [
    "# now do the same with msa claims"
   ]
  },
  {
   "cell_type": "code",
   "execution_count": 28,
   "metadata": {},
   "outputs": [],
   "source": [
    "febLaborMsa = pd.merge(febLabor, msa, how='left', on='County')"
   ]
  },
  {
   "cell_type": "code",
   "execution_count": 29,
   "metadata": {},
   "outputs": [],
   "source": [
    "febLaborMsa.dropna(subset=['CBSA Code'], inplace=True)"
   ]
  },
  {
   "cell_type": "code",
   "execution_count": 30,
   "metadata": {},
   "outputs": [],
   "source": [
    "febLaborMsa = febLaborMsa.groupby(['CBSA Title','Date']) \\\n",
    "                             .agg({'FebEmployed':'sum','FebUnemployed' : 'sum','FebLaborForce' : 'sum'}) \\\n",
    "                             .reset_index()"
   ]
  },
  {
   "cell_type": "code",
   "execution_count": 31,
   "metadata": {},
   "outputs": [],
   "source": [
    "msaClaims = countyClaims[['County','Date','Claims']]\n",
    "msaClaims = pd.merge(msaClaims, msa, how='left', on='County')\n",
    "\n",
    "msaClaims.dropna(subset=['CBSA Code'], inplace=True)\n",
    "\n",
    "msaClaims = msaClaims.groupby(['CBSA Title','Date']) \\\n",
    "                             .agg({'Claims':'sum'}) \\\n",
    "                             .reset_index()\n",
    "\n",
    "msaClaims = pd.merge(msaClaims,febLaborMsa,how='left',on=['CBSA Title','Date'])\n",
    "\n",
    "\n",
    "msaClaims.FebEmployed.fillna(method='ffill', inplace=True)\n",
    "msaClaims.FebUnemployed.fillna(method='ffill', inplace=True)\n",
    "msaClaims.FebLaborForce.fillna(method='ffill', inplace=True)\n",
    "\n",
    "msaClaims['CumClaims'] = msaClaims.groupby(['CBSA Title'])['Claims'].apply(lambda x: x.cumsum())\n",
    "\n",
    "msaClaims['PctFebLabor'] = ( msaClaims.CumClaims / msaClaims.FebLaborForce ) * 100\n",
    "msaClaims.PctFebLabor = msaClaims.PctFebLabor.round(1)"
   ]
  },
  {
   "cell_type": "code",
   "execution_count": 32,
   "metadata": {},
   "outputs": [],
   "source": [
    "# now repeat with regional commissions"
   ]
  },
  {
   "cell_type": "code",
   "execution_count": 33,
   "metadata": {},
   "outputs": [],
   "source": [
    "febLaborRc = pd.merge(febLabor, codes, how='left', on='County')"
   ]
  },
  {
   "cell_type": "code",
   "execution_count": 34,
   "metadata": {},
   "outputs": [],
   "source": [
    "febLaborRc = febLaborRc.groupby(['Regional Commission','Date']) \\\n",
    "                             .agg({'FebEmployed':'sum','FebUnemployed' : 'sum','FebLaborForce' : 'sum'}) \\\n",
    "                             .reset_index()"
   ]
  },
  {
   "cell_type": "code",
   "execution_count": 35,
   "metadata": {},
   "outputs": [],
   "source": [
    "rcClaims = countyClaims[['County','Date','Claims']]\n",
    "rcClaims = pd.merge(rcClaims, codes, how='left', on='County')\n",
    "\n",
    "rcClaims = rcClaims.groupby(['Regional Commission','Date']) \\\n",
    "                             .agg({'Claims':'sum'}) \\\n",
    "                             .reset_index()\n",
    "\n",
    "rcClaims = pd.merge(rcClaims,febLaborRc,how='left',on=['Regional Commission','Date'])\n",
    "\n",
    "\n",
    "rcClaims.FebEmployed.fillna(method='ffill', inplace=True)\n",
    "rcClaims.FebUnemployed.fillna(method='ffill', inplace=True)\n",
    "rcClaims.FebLaborForce.fillna(method='ffill', inplace=True)\n",
    "\n",
    "rcClaims['CumClaims'] = rcClaims.groupby(['Regional Commission'])['Claims'].apply(lambda x: x.cumsum())\n",
    "\n",
    "rcClaims['PctFebLabor'] = ( rcClaims.CumClaims / rcClaims.FebLaborForce ) * 100\n",
    "rcClaims.PctFebLabor = rcClaims.PctFebLabor.round(1)"
   ]
  },
  {
   "cell_type": "code",
   "execution_count": 36,
   "metadata": {},
   "outputs": [],
   "source": [
    "del countyClaims['area_code']\n",
    "\n",
    "msaClaims.rename(columns={'CBSA Title' : 'Area'}, inplace=True)\n",
    "rcClaims.rename(columns={'Regional Commission' : 'Area'}, inplace=True)\n",
    "countyClaims.rename(columns={'County' : 'Area'}, inplace=True)\n",
    "stateClaims.rename(columns={'State' : 'Area'}, inplace=True)"
   ]
  },
  {
   "cell_type": "code",
   "execution_count": null,
   "metadata": {},
   "outputs": [],
   "source": []
  },
  {
   "cell_type": "code",
   "execution_count": 37,
   "metadata": {},
   "outputs": [],
   "source": [
    "# stack on top of each other and write out as a single data frame for line and bar charts"
   ]
  },
  {
   "cell_type": "code",
   "execution_count": 38,
   "metadata": {},
   "outputs": [],
   "source": [
    "data = stateClaims.append([countyClaims,rcClaims,msaClaims])"
   ]
  },
  {
   "cell_type": "code",
   "execution_count": 39,
   "metadata": {},
   "outputs": [],
   "source": [
    "data.reset_index(drop=True, inplace=True)"
   ]
  },
  {
   "cell_type": "code",
   "execution_count": 40,
   "metadata": {},
   "outputs": [],
   "source": [
    "data = data[['Area','Date','Claims','FebLaborForce','CumClaims','PctFebLabor']]"
   ]
  },
  {
   "cell_type": "code",
   "execution_count": 42,
   "metadata": {},
   "outputs": [],
   "source": [
    "dataCum = data.copy()"
   ]
  },
  {
   "cell_type": "code",
   "execution_count": 43,
   "metadata": {},
   "outputs": [],
   "source": [
    "countyClaims=countyClaims.groupby('Area').apply(lambda x: x.reset_index(drop=True)).drop('Area',axis=1).reset_index()\n",
    "dateMax = countyClaims.level_1.max()\n",
    "countyClaims = countyClaims.loc[countyClaims['level_1'] == dateMax]\n",
    "countyClaims.reset_index(drop=True, inplace=True)\n",
    "countyShape = gpd.read_file(\"spatial/ga-counties.geojson\")\n",
    "countyClaims = pd.merge(countyClaims, codes, how='left', left_on='Area', right_on='County')\n",
    "countyClaims.area_code = countyClaims.area_code.astype(str)"
   ]
  },
  {
   "cell_type": "code",
   "execution_count": 44,
   "metadata": {},
   "outputs": [],
   "source": [
    "countyClaims = pd.merge(countyClaims,areaWarns,how='left',on='Area')"
   ]
  },
  {
   "cell_type": "code",
   "execution_count": 45,
   "metadata": {},
   "outputs": [],
   "source": [
    "countyShape = pd.merge(countyShape, countyClaims, how='left', left_on='GEOID', right_on='area_code')\n",
    "countyShapes = countyShape[['area_code','County','CumClaims','FebLaborForce','PctFebLabor','CurrentWarns','geometry']]"
   ]
  },
  {
   "cell_type": "code",
   "execution_count": 46,
   "metadata": {},
   "outputs": [],
   "source": [
    "countyShapes = gpd.GeoDataFrame(countyShapes, geometry='geometry')\n",
    "countyPoints = countyShapes.copy()\n",
    "countyPoints['geometry'] = countyPoints['geometry'].centroid"
   ]
  },
  {
   "cell_type": "code",
   "execution_count": 47,
   "metadata": {},
   "outputs": [],
   "source": [
    "# now reshape the industry claims data to rollup by county and industry\n",
    "\n",
    "df['State'] = 'Georgia'\n",
    "\n",
    "df.rename(columns={'INDUSTRY NAME':'Industry'}, inplace=True)\n",
    "\n",
    "industryCountyClaims = df.groupby(['County','Industry']) \\\n",
    "                             .agg({'Claims':'sum'}) \\\n",
    "                             .reset_index() \\\n",
    "                             .rename(columns={'County':'Area'})\n",
    "\n",
    "industryCountyClaims.sort_values(['Area','Claims'], ascending=[True,False], inplace=True)\n",
    "\n",
    "industryRcClaims = df.groupby(['Regional Commission','Industry']) \\\n",
    "                             .agg({'Claims':'sum'}) \\\n",
    "                             .reset_index() \\\n",
    "                             .rename(columns={'Regional Commission':'Area'})\n",
    "\n",
    "industryRcClaims.sort_values(['Area','Claims'], ascending=[True,False], inplace=True)\n",
    "\n",
    "industryMsaClaims = df.groupby(['CBSA Title','Industry']) \\\n",
    "                             .agg({'Claims':'sum'}) \\\n",
    "                             .reset_index() \\\n",
    "                             .rename(columns={'CBSA Title':'Area'})\n",
    "\n",
    "industryMsaClaims.sort_values(['Area','Claims'], ascending=[True,False], inplace=True)\n",
    "\n",
    "\n",
    "industryStateClaims = df.groupby(['State','Industry']) \\\n",
    "                             .agg({'Claims':'sum'}) \\\n",
    "                             .reset_index() \\\n",
    "                             .rename(columns={'State':'Area'})\n",
    "\n",
    "industryStateClaims.sort_values(['Area','Claims'], ascending=[True,False], inplace=True)\n",
    "\n",
    "del df['State']"
   ]
  },
  {
   "cell_type": "code",
   "execution_count": 48,
   "metadata": {},
   "outputs": [],
   "source": [
    "# append these together and reindex them\n",
    "industryClaims = industryStateClaims.append([industryCountyClaims,industryRcClaims,industryMsaClaims])\n",
    "\n",
    "industryClaims.reset_index(drop=True, inplace=True)\n",
    "\n",
    "industryClaims['Ind'] = np.where(industryClaims.Industry.str.contains(\"Accommodation\"), \"Food Services\",\n",
    "                        np.where(industryClaims.Industry.str.contains(\"Waste\"), \"Support, Waste Management\",\n",
    "                        np.where(industryClaims.Industry.str.contains(\"Agriculture\"), \"Agriculture\",\n",
    "                        np.where(industryClaims.Industry.str.contains(\"Entertainment\"), \"Entertainment\",\n",
    "                        np.where(industryClaims.Industry.str.contains(\"Construction\"), \"Construction\",\n",
    "                        np.where(industryClaims.Industry.str.contains(\"Educational\"), \"Education\",\n",
    "                        np.where(industryClaims.Industry.str.contains(\"Finance\"), \"Finance\",\n",
    "                        np.where(industryClaims.Industry.str.contains(\"Health\"), \"Health Care\",\n",
    "                        np.where(industryClaims.Industry.str.contains(\"Information\"), \"Information\",\n",
    "                        np.where(industryClaims.Industry.str.contains(\"Management\"), \"Enterprise Management\",\n",
    "                        np.where(industryClaims.Industry.str.contains(\"Manufacturing\"), \"Manufacturing\",\n",
    "                        np.where(industryClaims.Industry.str.contains(\"Mining\"), \"Oil & Gas\",\n",
    "                        np.where(industryClaims.Industry.str.contains(\"Other\"), \"Other\",\n",
    "                        np.where(industryClaims.Industry.str.contains(\"Technical\"), \"Technical Services\",\n",
    "                        np.where(industryClaims.Industry.str.contains(\"Public\"), \"Public Admin\",\n",
    "                        np.where(industryClaims.Industry.str.contains(\"Real Estate\"), \"Real Estate\",\n",
    "                        np.where(industryClaims.Industry.str.contains(\"Retail Trade\"), \"Retail\",\n",
    "                        np.where(industryClaims.Industry.str.contains(\"Transportation\"), \"Transportation\",\n",
    "                        np.where(industryClaims.Industry.str.contains(\"Unclassified\"), \"Unclassified\",\n",
    "                        np.where(industryClaims.Industry.str.contains(\"Utilities\"), \"Utilities\",\n",
    "                        np.where(industryClaims.Industry.str.contains(\"Wholesale\"), \"Wholesale Trade\",\"ts\")))))))))))))))))))))"
   ]
  },
  {
   "cell_type": "code",
   "execution_count": 49,
   "metadata": {},
   "outputs": [],
   "source": [
    "industryClaims = industryClaims[['Area','Industry','Ind','Claims']]"
   ]
  },
  {
   "cell_type": "code",
   "execution_count": 50,
   "metadata": {},
   "outputs": [],
   "source": [
    "# now get the KPIs you need in a json file\n",
    "dataK = data.copy()\n",
    "dataK=dataK.groupby('Area').apply(lambda x: x.reset_index(drop=True)).drop('Area',axis=1).reset_index()\n",
    "dateMax = dataK.level_1.max()\n",
    "dataK = dataK.loc[dataK['level_1'] == dateMax]"
   ]
  },
  {
   "cell_type": "code",
   "execution_count": 51,
   "metadata": {},
   "outputs": [],
   "source": [
    "dataK.sort_values('Claims', ascending=False, inplace=True)"
   ]
  },
  {
   "cell_type": "code",
   "execution_count": 52,
   "metadata": {},
   "outputs": [
    {
     "data": {
      "text/html": [
       "<div>\n",
       "<style scoped>\n",
       "    .dataframe tbody tr th:only-of-type {\n",
       "        vertical-align: middle;\n",
       "    }\n",
       "\n",
       "    .dataframe tbody tr th {\n",
       "        vertical-align: top;\n",
       "    }\n",
       "\n",
       "    .dataframe thead th {\n",
       "        text-align: right;\n",
       "    }\n",
       "</style>\n",
       "<table border=\"1\" class=\"dataframe\">\n",
       "  <thead>\n",
       "    <tr style=\"text-align: right;\">\n",
       "      <th></th>\n",
       "      <th>Area</th>\n",
       "      <th>level_1</th>\n",
       "      <th>Date</th>\n",
       "      <th>Claims</th>\n",
       "      <th>FebLaborForce</th>\n",
       "      <th>CumClaims</th>\n",
       "      <th>PctFebLabor</th>\n",
       "    </tr>\n",
       "  </thead>\n",
       "  <tbody>\n",
       "    <tr>\n",
       "      <th>995</th>\n",
       "      <td>Georgia</td>\n",
       "      <td>11</td>\n",
       "      <td>05/23/2020</td>\n",
       "      <td>163304</td>\n",
       "      <td>5187308.0</td>\n",
       "      <td>2132492</td>\n",
       "      <td>41.1</td>\n",
       "    </tr>\n",
       "    <tr>\n",
       "      <th>83</th>\n",
       "      <td>Atlanta-Sandy Springs-Alpharetta, GA</td>\n",
       "      <td>11</td>\n",
       "      <td>05/23/2020</td>\n",
       "      <td>100912</td>\n",
       "      <td>3139975.0</td>\n",
       "      <td>1350118</td>\n",
       "      <td>43.0</td>\n",
       "    </tr>\n",
       "    <tr>\n",
       "      <th>11</th>\n",
       "      <td>ARC</td>\n",
       "      <td>11</td>\n",
       "      <td>05/23/2020</td>\n",
       "      <td>82844</td>\n",
       "      <td>2474606.0</td>\n",
       "      <td>1095873</td>\n",
       "      <td>44.3</td>\n",
       "    </tr>\n",
       "    <tr>\n",
       "      <th>971</th>\n",
       "      <td>Fulton County</td>\n",
       "      <td>11</td>\n",
       "      <td>05/23/2020</td>\n",
       "      <td>22188</td>\n",
       "      <td>565766.0</td>\n",
       "      <td>287292</td>\n",
       "      <td>50.8</td>\n",
       "    </tr>\n",
       "    <tr>\n",
       "      <th>1091</th>\n",
       "      <td>Gwinnett County</td>\n",
       "      <td>11</td>\n",
       "      <td>05/23/2020</td>\n",
       "      <td>14879</td>\n",
       "      <td>497011.0</td>\n",
       "      <td>207781</td>\n",
       "      <td>41.8</td>\n",
       "    </tr>\n",
       "  </tbody>\n",
       "</table>\n",
       "</div>"
      ],
      "text/plain": [
       "                                      Area  level_1        Date  Claims  \\\n",
       "995                                Georgia       11  05/23/2020  163304   \n",
       "83    Atlanta-Sandy Springs-Alpharetta, GA       11  05/23/2020  100912   \n",
       "11                                     ARC       11  05/23/2020   82844   \n",
       "971                          Fulton County       11  05/23/2020   22188   \n",
       "1091                       Gwinnett County       11  05/23/2020   14879   \n",
       "\n",
       "      FebLaborForce  CumClaims  PctFebLabor  \n",
       "995       5187308.0    2132492         41.1  \n",
       "83        3139975.0    1350118         43.0  \n",
       "11        2474606.0    1095873         44.3  \n",
       "971        565766.0     287292         50.8  \n",
       "1091       497011.0     207781         41.8  "
      ]
     },
     "execution_count": 52,
     "metadata": {},
     "output_type": "execute_result"
    }
   ],
   "source": [
    "dataK.head()"
   ]
  },
  {
   "cell_type": "code",
   "execution_count": 53,
   "metadata": {},
   "outputs": [],
   "source": [
    "dataK = pd.merge(dataK,areaWarns,how='left',on='Area')"
   ]
  },
  {
   "cell_type": "code",
   "execution_count": 54,
   "metadata": {},
   "outputs": [],
   "source": [
    "dataK = dataK[['Area','FebLaborForce','CumClaims','PctFebLabor','CurrentWarns']]"
   ]
  },
  {
   "cell_type": "code",
   "execution_count": 55,
   "metadata": {},
   "outputs": [],
   "source": [
    "dataK.set_index('Area', inplace=True)"
   ]
  },
  {
   "cell_type": "code",
   "execution_count": 56,
   "metadata": {},
   "outputs": [],
   "source": [
    "dataK['CurrentWarns'].fillna(0, inplace=True)\n",
    "countyShapes['CurrentWarns'].fillna(0, inplace=True)\n",
    "countyPoints['CurrentWarns'].fillna(0, inplace=True)"
   ]
  },
  {
   "cell_type": "code",
   "execution_count": 57,
   "metadata": {},
   "outputs": [],
   "source": [
    "dataK.FebLaborForce = dataK.FebLaborForce.astype(int)\n",
    "dataK.CurrentWarns = dataK.CurrentWarns.astype(int)\n",
    "dataK.CumClaims = dataK.CumClaims.astype(int)"
   ]
  },
  {
   "cell_type": "code",
   "execution_count": 58,
   "metadata": {},
   "outputs": [],
   "source": [
    "def human_format(num):\n",
    "    num = float('{:.3g}'.format(num))\n",
    "    magnitude = 0\n",
    "    while abs(num) >= 1000:\n",
    "        magnitude += 1\n",
    "        num /= 1000.0\n",
    "    return '{}{}'.format('{:f}'.format(num).rstrip('0').rstrip('.'), ['', 'K', 'M', 'B', 'T'][magnitude])\n",
    "\n",
    "dataK['CumClaims'] = dataK['CumClaims'].apply(lambda x: human_format(x))\n",
    "dataK['CurrentWarns'] = dataK['CurrentWarns'].apply(lambda x: human_format(x))\n",
    "dataK['FebLaborForce'] = dataK['FebLaborForce'].apply(lambda x: human_format(x))"
   ]
  },
  {
   "cell_type": "code",
   "execution_count": 59,
   "metadata": {},
   "outputs": [
    {
     "data": {
      "text/html": [
       "<div>\n",
       "<style scoped>\n",
       "    .dataframe tbody tr th:only-of-type {\n",
       "        vertical-align: middle;\n",
       "    }\n",
       "\n",
       "    .dataframe tbody tr th {\n",
       "        vertical-align: top;\n",
       "    }\n",
       "\n",
       "    .dataframe thead th {\n",
       "        text-align: right;\n",
       "    }\n",
       "</style>\n",
       "<table border=\"1\" class=\"dataframe\">\n",
       "  <thead>\n",
       "    <tr style=\"text-align: right;\">\n",
       "      <th></th>\n",
       "      <th>FebLaborForce</th>\n",
       "      <th>CumClaims</th>\n",
       "      <th>PctFebLabor</th>\n",
       "      <th>CurrentWarns</th>\n",
       "    </tr>\n",
       "    <tr>\n",
       "      <th>Area</th>\n",
       "      <th></th>\n",
       "      <th></th>\n",
       "      <th></th>\n",
       "      <th></th>\n",
       "    </tr>\n",
       "  </thead>\n",
       "  <tbody>\n",
       "    <tr>\n",
       "      <th>Georgia</th>\n",
       "      <td>5.19M</td>\n",
       "      <td>2.13M</td>\n",
       "      <td>41.1</td>\n",
       "      <td>321</td>\n",
       "    </tr>\n",
       "    <tr>\n",
       "      <th>Atlanta-Sandy Springs-Alpharetta, GA</th>\n",
       "      <td>3.14M</td>\n",
       "      <td>1.35M</td>\n",
       "      <td>43.0</td>\n",
       "      <td>207</td>\n",
       "    </tr>\n",
       "    <tr>\n",
       "      <th>ARC</th>\n",
       "      <td>2.47M</td>\n",
       "      <td>1.1M</td>\n",
       "      <td>44.3</td>\n",
       "      <td>182</td>\n",
       "    </tr>\n",
       "    <tr>\n",
       "      <th>Fulton County</th>\n",
       "      <td>566K</td>\n",
       "      <td>287K</td>\n",
       "      <td>50.8</td>\n",
       "      <td>78</td>\n",
       "    </tr>\n",
       "    <tr>\n",
       "      <th>Gwinnett County</th>\n",
       "      <td>497K</td>\n",
       "      <td>208K</td>\n",
       "      <td>41.8</td>\n",
       "      <td>21</td>\n",
       "    </tr>\n",
       "  </tbody>\n",
       "</table>\n",
       "</div>"
      ],
      "text/plain": [
       "                                     FebLaborForce CumClaims  PctFebLabor  \\\n",
       "Area                                                                        \n",
       "Georgia                                      5.19M     2.13M         41.1   \n",
       "Atlanta-Sandy Springs-Alpharetta, GA         3.14M     1.35M         43.0   \n",
       "ARC                                          2.47M      1.1M         44.3   \n",
       "Fulton County                                 566K      287K         50.8   \n",
       "Gwinnett County                               497K      208K         41.8   \n",
       "\n",
       "                                     CurrentWarns  \n",
       "Area                                               \n",
       "Georgia                                       321  \n",
       "Atlanta-Sandy Springs-Alpharetta, GA          207  \n",
       "ARC                                           182  \n",
       "Fulton County                                  78  \n",
       "Gwinnett County                                21  "
      ]
     },
     "execution_count": 59,
     "metadata": {},
     "output_type": "execute_result"
    }
   ],
   "source": [
    "dataK.head()"
   ]
  },
  {
   "cell_type": "code",
   "execution_count": 60,
   "metadata": {},
   "outputs": [],
   "source": [
    "# convert kpi to strings with correct format for display purposes\n",
    "dataK['PctFebLabor'] = dataK['PctFebLabor'].map('{:,.1f}'.format) + '%'"
   ]
  },
  {
   "cell_type": "code",
   "execution_count": 61,
   "metadata": {},
   "outputs": [],
   "source": [
    "# now process the data file from which d3 will generate charts to only include necessary columns, etc.\n",
    "data[\"date\"] = pd.to_datetime(data[\"Date\"]).dt.strftime('%b %d')\n",
    "data = data[['Area','Date','date','Claims']]"
   ]
  },
  {
   "cell_type": "code",
   "execution_count": 62,
   "metadata": {},
   "outputs": [],
   "source": [
    "industryClaims['Ind'] = np.where(industryClaims.Industry.str.contains(\"Accommodation\"), \"Food Services\",\n",
    "                        np.where(industryClaims.Industry.str.contains(\"Waste\"), \"Waste Management\",\n",
    "                        np.where(industryClaims.Industry.str.contains(\"Agriculture\"), \"Agriculture\",\n",
    "                        np.where(industryClaims.Industry.str.contains(\"Entertainment\"), \"Entertainment\",\n",
    "                        np.where(industryClaims.Industry.str.contains(\"Construction\"), \"Construction\",\n",
    "                        np.where(industryClaims.Industry.str.contains(\"Educational\"), \"Education\",\n",
    "                        np.where(industryClaims.Industry.str.contains(\"Finance\"), \"Finance\",\n",
    "                        np.where(industryClaims.Industry.str.contains(\"Health\"), \"Health Care\",\n",
    "                        np.where(industryClaims.Industry.str.contains(\"Information\"), \"Information\",\n",
    "                        np.where(industryClaims.Industry.str.contains(\"Management\"), \"Enterprise Management\",\n",
    "                        np.where(industryClaims.Industry.str.contains(\"Manufacturing\"), \"Manufacturing\",\n",
    "                        np.where(industryClaims.Industry.str.contains(\"Mining\"), \"Oil & Gas\",\n",
    "                        np.where(industryClaims.Industry.str.contains(\"Other\"), \"Other\",\n",
    "                        np.where(industryClaims.Industry.str.contains(\"Technical\"), \"Technical Services\",\n",
    "                        np.where(industryClaims.Industry.str.contains(\"Public\"), \"Public Admin\",\n",
    "                        np.where(industryClaims.Industry.str.contains(\"Real Estate\"), \"Real Estate\",\n",
    "                        np.where(industryClaims.Industry.str.contains(\"Retail Trade\"), \"Retail\",\n",
    "                        np.where(industryClaims.Industry.str.contains(\"Transportation\"), \"Transportation\",\n",
    "                        np.where(industryClaims.Industry.str.contains(\"Unclassified\"), \"Unclassified\",\n",
    "                        np.where(industryClaims.Industry.str.contains(\"Utilities\"), \"Utilities\",\n",
    "                        np.where(industryClaims.Industry.str.contains(\"Wholesale\"), \"Wholesale Trade\",\"ts\")))))))))))))))))))))"
   ]
  },
  {
   "cell_type": "code",
   "execution_count": 63,
   "metadata": {},
   "outputs": [],
   "source": [
    "appWarns = warns[warns['Date'] >= '2020-01-01']"
   ]
  },
  {
   "cell_type": "code",
   "execution_count": 64,
   "metadata": {},
   "outputs": [],
   "source": [
    "appWarns = appWarns[['Date','Company name','City','ZIP','County','Est. Impact','Regional Commission','CBSA Title']]\n",
    "appWarns.rename(columns={'Company name' : 'Company',\n",
    "                         'Regional Commissions':'RC',\n",
    "                         'CBSA Title':'MSA',\n",
    "                         'Est. Impact':'Employees'}, inplace=True)"
   ]
  },
  {
   "cell_type": "code",
   "execution_count": 65,
   "metadata": {},
   "outputs": [],
   "source": [
    "appWarns[\"Date\"] = pd.to_datetime(appWarns[\"Date\"]).dt.strftime('%b %d')"
   ]
  },
  {
   "cell_type": "code",
   "execution_count": 66,
   "metadata": {},
   "outputs": [],
   "source": [
    "industryRoll = industryClaims[industryClaims['Area'].str.contains(\"County\")]\n",
    "industryRoll = industryRoll[['Area','Ind','Claims']]\n",
    "industryRoll = industryRoll.pivot_table('Claims', ['Area'], 'Ind')\n",
    "industryRoll.reset_index(inplace=True)\n",
    "industryRoll = industryRoll[~industryRoll['Area'].str.contains(\",\")]\n",
    "codes = codes[['area_code','County']]\n",
    "industryRoll.rename(columns={'Area':'County'}, inplace=True)\n",
    "industryRoll = pd.merge(industryRoll,codes,how='left',on='County')\n",
    "industryRoll.rename(columns={'area_code':'GEOID'}, inplace=True)"
   ]
  },
  {
   "cell_type": "code",
   "execution_count": 67,
   "metadata": {},
   "outputs": [],
   "source": [
    "industryRoll['Total Claims'] = industryRoll.Agriculture + industryRoll.Construction + industryRoll.Education + \\\n",
    "                            industryRoll['Enterprise Management'] + industryRoll.Entertainment + industryRoll.Finance + \\\n",
    "                            industryRoll['Food Services'] + industryRoll['Health Care'] + industryRoll.Information + \\\n",
    "                            industryRoll.Manufacturing + industryRoll['Oil & Gas'] + industryRoll.Other + \\\n",
    "                            industryRoll['Public Admin'] + industryRoll['Real Estate'] + industryRoll.Retail + \\\n",
    "                            industryRoll['Technical Services'] + industryRoll.Transportation + industryRoll.Unclassified + \\\n",
    "                            industryRoll.Utilities + industryRoll['Waste Management'] + industryRoll['Wholesale Trade']"
   ]
  },
  {
   "cell_type": "code",
   "execution_count": 68,
   "metadata": {},
   "outputs": [],
   "source": [
    "industryRoll['Other Claims'] = industryRoll['Agriculture'] + industryRoll['Oil & Gas'] + industryRoll.Utilities"
   ]
  },
  {
   "cell_type": "code",
   "execution_count": 70,
   "metadata": {},
   "outputs": [],
   "source": [
    "gaDataCum = dataCum.loc[dataCum['Area'] == 'Georgia']"
   ]
  },
  {
   "cell_type": "code",
   "execution_count": 73,
   "metadata": {},
   "outputs": [
    {
     "data": {
      "text/plain": [
       "'{\"Georgia\":{\"FebLaborForce\":\"5.19M\",\"CumClaims\":\"2.13M\",\"PctFebLabor\":\"41.1%\",\"CurrentWarns\":\"321\"},\"Atlanta-Sandy Springs-Alpharetta, GA\":{\"FebLaborForce\":\"3.14M\",\"CumClaims\":\"1.35M\",\"PctFebLabor\":\"43.0%\",\"CurrentWarns\":\"207\"},\"ARC\":{\"FebLaborForce\":\"2.47M\",\"CumClaims\":\"1.1M\",\"PctFebLabor\":\"44.3%\",\"CurrentWarns\":\"182\"},\"Fulton County\":{\"FebLaborForce\":\"566K\",\"CumClaims\":\"287K\",\"PctFebLabor\":\"50.8%\",\"CurrentWarns\":\"78\"},\"Gwinnett County\":{\"FebLaborForce\":\"497K\",\"CumClaims\":\"208K\",\"PctFebLabor\":\"41.8%\",\"CurrentWarns\":\"21\"},\"DeKalb County\":{\"FebLaborForce\":\"406K\",\"CumClaims\":\"172K\",\"PctFebLabor\":\"42.4%\",\"CurrentWarns\":\"20\"},\"Coastal\":{\"FebLaborForce\":\"333K\",\"CumClaims\":\"156K\",\"PctFebLabor\":\"46.7%\",\"CurrentWarns\":\"28\"},\"Cobb County\":{\"FebLaborForce\":\"432K\",\"CumClaims\":\"161K\",\"PctFebLabor\":\"37.3%\",\"CurrentWarns\":\"30\"},\"Northwest\":{\"FebLaborForce\":\"427K\",\"CumClaims\":\"178K\",\"PctFebLabor\":\"41.6%\",\"CurrentWarns\":\"18\"},\"Northeast\":{\"FebLaborForce\":\"309K\",\"CumClaims\":\"123K\",\"PctFebLabor\":\"39.9%\",\"CurrentWarns\":\"12\"},\"Georgia Mountains\":{\"FebLaborForce\":\"356K\",\"CumClaims\":\"122K\",\"PctFebLabor\":\"34.4%\",\"CurrentWarns\":\"17\"},\"Three Rivers\":{\"FebLaborForce\":\"254K\",\"CumClaims\":\"105K\",\"PctFebLabor\":\"41.2%\",\"CurrentWarns\":\"10\"},\"Savannah, GA\":{\"FebLaborForce\":\"190K\",\"CumClaims\":\"97.3K\",\"PctFebLabor\":\"51.2%\",\"CurrentWarns\":\"21\"},\"Middle Georgia\":{\"FebLaborForce\":\"222K\",\"CumClaims\":\"76.2K\",\"PctFebLabor\":\"34.3%\",\"CurrentWarns\":\"15\"},\"Clayton County\":{\"FebLaborForce\":\"140K\",\"CumClaims\":\"75.5K\",\"PctFebLabor\":\"53.9%\",\"CurrentWarns\":\"14\"},\"Chatham County\":{\"FebLaborForce\":\"140K\",\"CumClaims\":\"78.3K\",\"PctFebLabor\":\"55.8%\",\"CurrentWarns\":\"21\"},\"Southern\":{\"FebLaborForce\":\"182K\",\"CumClaims\":\"68.9K\",\"PctFebLabor\":\"37.8%\",\"CurrentWarns\":\"2\"},\"River Valley\":{\"FebLaborForce\":\"149K\",\"CumClaims\":\"57.2K\",\"PctFebLabor\":\"38.4%\",\"CurrentWarns\":\"11\"},\"CSRA\":{\"FebLaborForce\":\"212K\",\"CumClaims\":\"66.9K\",\"PctFebLabor\":\"31.6%\",\"CurrentWarns\":\"19\"},\"Augusta-Richmond County, GA-SC\":{\"FebLaborForce\":\"184K\",\"CumClaims\":\"59.1K\",\"PctFebLabor\":\"32.2%\",\"CurrentWarns\":\"18\"},\"Henry County\":{\"FebLaborForce\":\"117K\",\"CumClaims\":\"59.7K\",\"PctFebLabor\":\"50.8%\",\"CurrentWarns\":\"4\"},\"Southwest\":{\"FebLaborForce\":\"151K\",\"CumClaims\":\"50.3K\",\"PctFebLabor\":\"33.4%\",\"CurrentWarns\":\"3\"},\"Columbus, GA-AL\":{\"FebLaborForce\":\"105K\",\"CumClaims\":\"42.4K\",\"PctFebLabor\":\"40.3%\",\"CurrentWarns\":\"6\"},\"Heart of Georgia\":{\"FebLaborForce\":\"118K\",\"CumClaims\":\"33.7K\",\"PctFebLabor\":\"28.5%\",\"CurrentWarns\":\"3\"},\"Athens-Clarke County, GA\":{\"FebLaborForce\":\"100K\",\"CumClaims\":\"39.4K\",\"PctFebLabor\":\"39.3%\",\"CurrentWarns\":\"6\"},\"Cherokee County\":{\"FebLaborForce\":\"138K\",\"CumClaims\":\"49.9K\",\"PctFebLabor\":\"36.2%\",\"CurrentWarns\":\"4\"},\"Macon-Bibb County, GA\":{\"FebLaborForce\":\"104K\",\"CumClaims\":\"36.7K\",\"PctFebLabor\":\"35.2%\",\"CurrentWarns\":\"9\"},\"Muscogee County\":{\"FebLaborForce\":\"77.8K\",\"CumClaims\":\"33.9K\",\"PctFebLabor\":\"43.5%\",\"CurrentWarns\":\"5\"},\"Douglas County\":{\"FebLaborForce\":\"74.4K\",\"CumClaims\":\"34.2K\",\"PctFebLabor\":\"46.0%\",\"CurrentWarns\":\"5\"},\"Coweta County\":{\"FebLaborForce\":\"75.8K\",\"CumClaims\":\"31.9K\",\"PctFebLabor\":\"42.1%\",\"CurrentWarns\":\"5\"},\"Dalton, GA\":{\"FebLaborForce\":\"59.2K\",\"CumClaims\":\"40.9K\",\"PctFebLabor\":\"69.1%\",\"CurrentWarns\":\"7\"},\"Richmond County\":{\"FebLaborForce\":\"86K\",\"CumClaims\":\"32.2K\",\"PctFebLabor\":\"37.5%\",\"CurrentWarns\":\"11\"},\"Gainesville, GA\":{\"FebLaborForce\":\"104K\",\"CumClaims\":\"36.4K\",\"PctFebLabor\":\"35.0%\",\"CurrentWarns\":\"6\"},\"Hall County\":{\"FebLaborForce\":\"104K\",\"CumClaims\":\"36.4K\",\"PctFebLabor\":\"35.0%\",\"CurrentWarns\":\"6\"},\"Bibb County\":{\"FebLaborForce\":\"68.6K\",\"CumClaims\":\"27.7K\",\"PctFebLabor\":\"40.5%\",\"CurrentWarns\":\"8\"},\"Forsyth County\":{\"FebLaborForce\":\"124K\",\"CumClaims\":\"39.4K\",\"PctFebLabor\":\"31.8%\",\"CurrentWarns\":\"6\"},\"Fayette County\":{\"FebLaborForce\":\"58.9K\",\"CumClaims\":\"28.6K\",\"PctFebLabor\":\"48.6%\",\"CurrentWarns\":\"5\"},\"Clarke County\":{\"FebLaborForce\":\"59.9K\",\"CumClaims\":\"26.3K\",\"PctFebLabor\":\"43.9%\",\"CurrentWarns\":\"5\"},\"Albany, GA\":{\"FebLaborForce\":\"66.5K\",\"CumClaims\":\"26.9K\",\"PctFebLabor\":\"40.5%\",\"CurrentWarns\":\"3\"},\"Valdosta, GA\":{\"FebLaborForce\":\"64.8K\",\"CumClaims\":\"22.6K\",\"PctFebLabor\":\"34.9%\",\"CurrentWarns\":\"1\"},\"Warner Robins, GA\":{\"FebLaborForce\":\"83.4K\",\"CumClaims\":\"27.4K\",\"PctFebLabor\":\"32.9%\",\"CurrentWarns\":\"6\"},\"Whitfield County\":{\"FebLaborForce\":\"43.5K\",\"CumClaims\":\"30.7K\",\"PctFebLabor\":\"70.6%\",\"CurrentWarns\":\"6\"},\"Paulding County\":{\"FebLaborForce\":\"87.4K\",\"CumClaims\":\"27.4K\",\"PctFebLabor\":\"31.3%\",\"CurrentWarns\":\"2\"},\"Lowndes County\":{\"FebLaborForce\":\"51.9K\",\"CumClaims\":\"19.7K\",\"PctFebLabor\":\"37.9%\",\"CurrentWarns\":\"1\"},\"Houston County\":{\"FebLaborForce\":\"71.4K\",\"CumClaims\":\"22.8K\",\"PctFebLabor\":\"32.0%\",\"CurrentWarns\":\"4\"},\"Newton County\":{\"FebLaborForce\":\"53.1K\",\"CumClaims\":\"21.8K\",\"PctFebLabor\":\"41.2%\",\"CurrentWarns\":\"2\"},\"Rockdale County\":{\"FebLaborForce\":\"45.5K\",\"CumClaims\":\"20K\",\"PctFebLabor\":\"44.0%\",\"CurrentWarns\":\"1\"},\"Brunswick, GA\":{\"FebLaborForce\":\"52.6K\",\"CumClaims\":\"24.4K\",\"PctFebLabor\":\"46.4%\",\"CurrentWarns\":\"4\"},\"Bulloch County\":{\"FebLaborForce\":\"37K\",\"CumClaims\":\"15.5K\",\"PctFebLabor\":\"42.1%\",\"CurrentWarns\":\"0\"},\"Statesboro, GA\":{\"FebLaborForce\":\"37K\",\"CumClaims\":\"15.5K\",\"PctFebLabor\":\"42.1%\",\"CurrentWarns\":\"0\"},\"Bartow County\":{\"FebLaborForce\":\"51.5K\",\"CumClaims\":\"25.5K\",\"PctFebLabor\":\"49.5%\",\"CurrentWarns\":\"5\"},\"Carroll County\":{\"FebLaborForce\":\"56.3K\",\"CumClaims\":\"22.3K\",\"PctFebLabor\":\"39.6%\",\"CurrentWarns\":\"3\"},\"LaGrange, GA-AL\":{\"FebLaborForce\":\"37.8K\",\"CumClaims\":\"17.7K\",\"PctFebLabor\":\"46.8%\",\"CurrentWarns\":\"1\"},\"Troup County\":{\"FebLaborForce\":\"37.8K\",\"CumClaims\":\"17.7K\",\"PctFebLabor\":\"46.8%\",\"CurrentWarns\":\"1\"},\"Rome, GA\":{\"FebLaborForce\":\"44.8K\",\"CumClaims\":\"20.3K\",\"PctFebLabor\":\"45.2%\",\"CurrentWarns\":\"2\"},\"Floyd County\":{\"FebLaborForce\":\"44.8K\",\"CumClaims\":\"20.3K\",\"PctFebLabor\":\"45.2%\",\"CurrentWarns\":\"2\"},\"Columbia County\":{\"FebLaborForce\":\"75.9K\",\"CumClaims\":\"19.9K\",\"PctFebLabor\":\"26.2%\",\"CurrentWarns\":\"6\"},\"Walton County\":{\"FebLaborForce\":\"46.8K\",\"CumClaims\":\"18.8K\",\"PctFebLabor\":\"40.2%\",\"CurrentWarns\":\"0\"},\"Barrow County\":{\"FebLaborForce\":\"41.1K\",\"CumClaims\":\"17K\",\"PctFebLabor\":\"41.4%\",\"CurrentWarns\":\"0\"},\"Dougherty County\":{\"FebLaborForce\":\"38.9K\",\"CumClaims\":\"16K\",\"PctFebLabor\":\"41.2%\",\"CurrentWarns\":\"3\"},\"Jackson County\":{\"FebLaborForce\":\"37K\",\"CumClaims\":\"15K\",\"PctFebLabor\":\"40.5%\",\"CurrentWarns\":\"3\"},\"Jefferson, GA\":{\"FebLaborForce\":\"37K\",\"CumClaims\":\"15K\",\"PctFebLabor\":\"40.5%\",\"CurrentWarns\":\"3\"},\"Glynn County\":{\"FebLaborForce\":\"39.1K\",\"CumClaims\":\"19.8K\",\"PctFebLabor\":\"50.7%\",\"CurrentWarns\":\"4\"},\"Chattanooga, TN-GA\":{\"FebLaborForce\":\"74.5K\",\"CumClaims\":\"16.8K\",\"PctFebLabor\":\"22.5%\",\"CurrentWarns\":\"0\"},\"Hinesville, GA\":{\"FebLaborForce\":\"35.1K\",\"CumClaims\":\"11.7K\",\"PctFebLabor\":\"33.3%\",\"CurrentWarns\":\"2\"},\"Dublin, GA\":{\"FebLaborForce\":\"25.9K\",\"CumClaims\":\"8.44K\",\"PctFebLabor\":\"32.6%\",\"CurrentWarns\":\"1\"},\"Douglas, GA\":{\"FebLaborForce\":\"24.4K\",\"CumClaims\":\"11.4K\",\"PctFebLabor\":\"46.8%\",\"CurrentWarns\":\"0\"},\"Spalding County\":{\"FebLaborForce\":\"29.2K\",\"CumClaims\":\"11.9K\",\"PctFebLabor\":\"40.6%\",\"CurrentWarns\":\"0\"},\"Calhoun, GA\":{\"FebLaborForce\":\"28.5K\",\"CumClaims\":\"13.3K\",\"PctFebLabor\":\"46.6%\",\"CurrentWarns\":\"0\"},\"Gordon County\":{\"FebLaborForce\":\"28.5K\",\"CumClaims\":\"13.3K\",\"PctFebLabor\":\"46.6%\",\"CurrentWarns\":\"0\"},\"Liberty County\":{\"FebLaborForce\":\"26.7K\",\"CumClaims\":\"9.61K\",\"PctFebLabor\":\"36.0%\",\"CurrentWarns\":\"2\"},\"Laurens County\":{\"FebLaborForce\":\"19.1K\",\"CumClaims\":\"6.96K\",\"PctFebLabor\":\"36.4%\",\"CurrentWarns\":\"1\"},\"Effingham County\":{\"FebLaborForce\":\"31.1K\",\"CumClaims\":\"10.5K\",\"PctFebLabor\":\"33.7%\",\"CurrentWarns\":\"0\"},\"Murray County\":{\"FebLaborForce\":\"15.6K\",\"CumClaims\":\"10.1K\",\"PctFebLabor\":\"64.9%\",\"CurrentWarns\":\"1\"},\"Milledgeville, GA\":{\"FebLaborForce\":\"20.4K\",\"CumClaims\":\"7.8K\",\"PctFebLabor\":\"38.3%\",\"CurrentWarns\":\"0\"},\"Crisp County\":{\"FebLaborForce\":\"9.65K\",\"CumClaims\":\"5.17K\",\"PctFebLabor\":\"53.6%\",\"CurrentWarns\":\"2\"},\"Cordele, GA\":{\"FebLaborForce\":\"9.65K\",\"CumClaims\":\"5.17K\",\"PctFebLabor\":\"53.6%\",\"CurrentWarns\":\"2\"},\"Polk County\":{\"FebLaborForce\":\"18.6K\",\"CumClaims\":\"7.85K\",\"PctFebLabor\":\"42.2%\",\"CurrentWarns\":\"0\"},\"Cedartown, GA\":{\"FebLaborForce\":\"18.6K\",\"CumClaims\":\"7.85K\",\"PctFebLabor\":\"42.2%\",\"CurrentWarns\":\"0\"},\"Bryan County\":{\"FebLaborForce\":\"18.4K\",\"CumClaims\":\"8.53K\",\"PctFebLabor\":\"46.4%\",\"CurrentWarns\":\"0\"},\"Waycross, GA\":{\"FebLaborForce\":\"24.7K\",\"CumClaims\":\"6.84K\",\"PctFebLabor\":\"27.7%\",\"CurrentWarns\":\"1\"},\"Lee County\":{\"FebLaborForce\":\"15K\",\"CumClaims\":\"7.83K\",\"PctFebLabor\":\"52.4%\",\"CurrentWarns\":\"0\"},\"Baldwin County\":{\"FebLaborForce\":\"17.8K\",\"CumClaims\":\"6.81K\",\"PctFebLabor\":\"38.2%\",\"CurrentWarns\":\"0\"},\"Thomasville, GA\":{\"FebLaborForce\":\"16.6K\",\"CumClaims\":\"5.9K\",\"PctFebLabor\":\"35.6%\",\"CurrentWarns\":\"0\"},\"Thomas County\":{\"FebLaborForce\":\"16.6K\",\"CumClaims\":\"5.9K\",\"PctFebLabor\":\"35.6%\",\"CurrentWarns\":\"0\"},\"Walker County\":{\"FebLaborForce\":\"32K\",\"CumClaims\":\"8.63K\",\"PctFebLabor\":\"27.0%\",\"CurrentWarns\":\"0\"},\"Harris County\":{\"FebLaborForce\":\"16.8K\",\"CumClaims\":\"5.63K\",\"PctFebLabor\":\"33.5%\",\"CurrentWarns\":\"0\"},\"Ben Hill County\":{\"FebLaborForce\":\"5.36K\",\"CumClaims\":\"5.62K\",\"PctFebLabor\":\"105.0%\",\"CurrentWarns\":\"0\"},\"Fitzgerald, GA\":{\"FebLaborForce\":\"5.36K\",\"CumClaims\":\"5.62K\",\"PctFebLabor\":\"105.0%\",\"CurrentWarns\":\"0\"},\"Moultrie, GA\":{\"FebLaborForce\":\"22K\",\"CumClaims\":\"5.79K\",\"PctFebLabor\":\"26.3%\",\"CurrentWarns\":\"0\"},\"Colquitt County\":{\"FebLaborForce\":\"22K\",\"CumClaims\":\"5.79K\",\"PctFebLabor\":\"26.3%\",\"CurrentWarns\":\"0\"},\"Coffee County\":{\"FebLaborForce\":\"19.3K\",\"CumClaims\":\"5.41K\",\"PctFebLabor\":\"28.1%\",\"CurrentWarns\":\"0\"},\"Oconee County\":{\"FebLaborForce\":\"19.8K\",\"CumClaims\":\"5.95K\",\"PctFebLabor\":\"30.1%\",\"CurrentWarns\":\"1\"},\"Atkinson County\":{\"FebLaborForce\":\"5.15K\",\"CumClaims\":\"6.02K\",\"PctFebLabor\":\"117.0%\",\"CurrentWarns\":\"0\"},\"Camden County\":{\"FebLaborForce\":\"21K\",\"CumClaims\":\"6.59K\",\"PctFebLabor\":\"31.3%\",\"CurrentWarns\":\"1\"},\"St. Marys, GA\":{\"FebLaborForce\":\"21K\",\"CumClaims\":\"6.59K\",\"PctFebLabor\":\"31.3%\",\"CurrentWarns\":\"1\"},\"Tift County\":{\"FebLaborForce\":\"20.3K\",\"CumClaims\":\"6.47K\",\"PctFebLabor\":\"31.8%\",\"CurrentWarns\":\"0\"},\"Tifton, GA\":{\"FebLaborForce\":\"20.3K\",\"CumClaims\":\"6.47K\",\"PctFebLabor\":\"31.8%\",\"CurrentWarns\":\"0\"},\"Franklin County\":{\"FebLaborForce\":\"10.1K\",\"CumClaims\":\"4.82K\",\"PctFebLabor\":\"47.7%\",\"CurrentWarns\":\"0\"},\"Madison County\":{\"FebLaborForce\":\"13.5K\",\"CumClaims\":\"5.3K\",\"PctFebLabor\":\"39.3%\",\"CurrentWarns\":\"0\"},\"Vidalia, GA\":{\"FebLaborForce\":\"15.7K\",\"CumClaims\":\"5.63K\",\"PctFebLabor\":\"35.9%\",\"CurrentWarns\":\"1\"},\"Catoosa County\":{\"FebLaborForce\":\"34.2K\",\"CumClaims\":\"6.51K\",\"PctFebLabor\":\"19.0%\",\"CurrentWarns\":\"0\"},\"Cornelia, GA\":{\"FebLaborForce\":\"19.2K\",\"CumClaims\":\"6.15K\",\"PctFebLabor\":\"32.0%\",\"CurrentWarns\":\"0\"},\"Habersham County\":{\"FebLaborForce\":\"19.2K\",\"CumClaims\":\"6.15K\",\"PctFebLabor\":\"32.0%\",\"CurrentWarns\":\"0\"},\"Dawson County\":{\"FebLaborForce\":\"12.5K\",\"CumClaims\":\"5.68K\",\"PctFebLabor\":\"45.4%\",\"CurrentWarns\":\"1\"},\"Peach County\":{\"FebLaborForce\":\"12K\",\"CumClaims\":\"4.6K\",\"PctFebLabor\":\"38.2%\",\"CurrentWarns\":\"2\"},\"Jesup, GA\":{\"FebLaborForce\":\"11.4K\",\"CumClaims\":\"3.9K\",\"PctFebLabor\":\"34.2%\",\"CurrentWarns\":\"0\"},\"Wayne County\":{\"FebLaborForce\":\"11.4K\",\"CumClaims\":\"3.9K\",\"PctFebLabor\":\"34.2%\",\"CurrentWarns\":\"0\"},\"Lumpkin County\":{\"FebLaborForce\":\"16.9K\",\"CumClaims\":\"5.74K\",\"PctFebLabor\":\"33.9%\",\"CurrentWarns\":\"1\"},\"Meriwether County\":{\"FebLaborForce\":\"9.05K\",\"CumClaims\":\"3.85K\",\"PctFebLabor\":\"42.5%\",\"CurrentWarns\":\"0\"},\"Pickens County\":{\"FebLaborForce\":\"15.5K\",\"CumClaims\":\"5.31K\",\"PctFebLabor\":\"34.2%\",\"CurrentWarns\":\"0\"},\"Banks County\":{\"FebLaborForce\":\"9.9K\",\"CumClaims\":\"3.86K\",\"PctFebLabor\":\"39.0%\",\"CurrentWarns\":\"1\"},\"Americus, GA\":{\"FebLaborForce\":\"15.3K\",\"CumClaims\":\"3.72K\",\"PctFebLabor\":\"24.3%\",\"CurrentWarns\":\"2\"},\"Chattooga County\":{\"FebLaborForce\":\"10.4K\",\"CumClaims\":\"5.75K\",\"PctFebLabor\":\"55.5%\",\"CurrentWarns\":\"1\"},\"Summerville, GA\":{\"FebLaborForce\":\"10.4K\",\"CumClaims\":\"5.75K\",\"PctFebLabor\":\"55.5%\",\"CurrentWarns\":\"1\"},\"Gilmer County\":{\"FebLaborForce\":\"11.9K\",\"CumClaims\":\"4.75K\",\"PctFebLabor\":\"40.0%\",\"CurrentWarns\":\"1\"},\"Upson County\":{\"FebLaborForce\":\"11.6K\",\"CumClaims\":\"4.59K\",\"PctFebLabor\":\"39.7%\",\"CurrentWarns\":\"0\"},\"Thomaston, GA\":{\"FebLaborForce\":\"11.6K\",\"CumClaims\":\"4.59K\",\"PctFebLabor\":\"39.7%\",\"CurrentWarns\":\"0\"},\"Toombs County\":{\"FebLaborForce\":\"11.8K\",\"CumClaims\":\"4.14K\",\"PctFebLabor\":\"35.0%\",\"CurrentWarns\":\"1\"},\"Ware County\":{\"FebLaborForce\":\"15.8K\",\"CumClaims\":\"4.34K\",\"PctFebLabor\":\"27.4%\",\"CurrentWarns\":\"1\"},\"Screven County\":{\"FebLaborForce\":\"5.11K\",\"CumClaims\":\"2.61K\",\"PctFebLabor\":\"51.0%\",\"CurrentWarns\":\"0\"},\"Sumter County\":{\"FebLaborForce\":\"13.1K\",\"CumClaims\":\"3.36K\",\"PctFebLabor\":\"25.7%\",\"CurrentWarns\":\"2\"},\"Toccoa, GA\":{\"FebLaborForce\":\"10.7K\",\"CumClaims\":\"4.34K\",\"PctFebLabor\":\"40.5%\",\"CurrentWarns\":\"0\"},\"Stephens County\":{\"FebLaborForce\":\"10.7K\",\"CumClaims\":\"4.34K\",\"PctFebLabor\":\"40.5%\",\"CurrentWarns\":\"0\"},\"Dodge County\":{\"FebLaborForce\":\"7.06K\",\"CumClaims\":\"1.99K\",\"PctFebLabor\":\"28.2%\",\"CurrentWarns\":\"0\"},\"Butts County\":{\"FebLaborForce\":\"10.9K\",\"CumClaims\":\"4.95K\",\"PctFebLabor\":\"45.3%\",\"CurrentWarns\":\"0\"},\"White County\":{\"FebLaborForce\":\"16.5K\",\"CumClaims\":\"5.22K\",\"PctFebLabor\":\"31.7%\",\"CurrentWarns\":\"1\"},\"McDuffie County\":{\"FebLaborForce\":\"8.97K\",\"CumClaims\":\"3.33K\",\"PctFebLabor\":\"37.1%\",\"CurrentWarns\":\"1\"},\"Hart County\":{\"FebLaborForce\":\"11.2K\",\"CumClaims\":\"3.08K\",\"PctFebLabor\":\"27.5%\",\"CurrentWarns\":\"0\"},\"Elbert County\":{\"FebLaborForce\":\"7.75K\",\"CumClaims\":\"2.91K\",\"PctFebLabor\":\"37.5%\",\"CurrentWarns\":\"0\"},\"Haralson County\":{\"FebLaborForce\":\"12.8K\",\"CumClaims\":\"5.64K\",\"PctFebLabor\":\"44.1%\",\"CurrentWarns\":\"0\"},\"Fannin County\":{\"FebLaborForce\":\"11.5K\",\"CumClaims\":\"4.36K\",\"PctFebLabor\":\"37.8%\",\"CurrentWarns\":\"0\"},\"Greene County\":{\"FebLaborForce\":\"7K\",\"CumClaims\":\"2.98K\",\"PctFebLabor\":\"42.5%\",\"CurrentWarns\":\"1\"},\"Decatur County\":{\"FebLaborForce\":\"11.9K\",\"CumClaims\":\"3.32K\",\"PctFebLabor\":\"27.9%\",\"CurrentWarns\":\"0\"},\"Bainbridge, GA\":{\"FebLaborForce\":\"11.9K\",\"CumClaims\":\"3.32K\",\"PctFebLabor\":\"27.9%\",\"CurrentWarns\":\"0\"},\"Putnam County\":{\"FebLaborForce\":\"8.27K\",\"CumClaims\":\"3.44K\",\"PctFebLabor\":\"41.6%\",\"CurrentWarns\":\"0\"},\"Monroe County\":{\"FebLaborForce\":\"13.2K\",\"CumClaims\":\"3.47K\",\"PctFebLabor\":\"26.3%\",\"CurrentWarns\":\"0\"},\"Pierce County\":{\"FebLaborForce\":\"8.83K\",\"CumClaims\":\"2.5K\",\"PctFebLabor\":\"28.4%\",\"CurrentWarns\":\"0\"},\"Clinch County\":{\"FebLaborForce\":\"2.64K\",\"CumClaims\":\"3.31K\",\"PctFebLabor\":\"125.2%\",\"CurrentWarns\":\"0\"},\"Jones County\":{\"FebLaborForce\":\"13.9K\",\"CumClaims\":\"3.08K\",\"PctFebLabor\":\"22.2%\",\"CurrentWarns\":\"0\"},\"Union County\":{\"FebLaborForce\":\"10.4K\",\"CumClaims\":\"3.42K\",\"PctFebLabor\":\"32.9%\",\"CurrentWarns\":\"0\"},\"Emanuel County\":{\"FebLaborForce\":\"8.45K\",\"CumClaims\":\"2.26K\",\"PctFebLabor\":\"26.8%\",\"CurrentWarns\":\"0\"},\"Morgan County\":{\"FebLaborForce\":\"9.43K\",\"CumClaims\":\"3.35K\",\"PctFebLabor\":\"35.5%\",\"CurrentWarns\":\"0\"},\"Berrien County\":{\"FebLaborForce\":\"7.71K\",\"CumClaims\":\"3.05K\",\"PctFebLabor\":\"39.6%\",\"CurrentWarns\":\"0\"},\"Brantley County\":{\"FebLaborForce\":\"7.25K\",\"CumClaims\":\"2.58K\",\"PctFebLabor\":\"35.5%\",\"CurrentWarns\":\"0\"},\"Long County\":{\"FebLaborForce\":\"8.36K\",\"CumClaims\":\"2.07K\",\"PctFebLabor\":\"24.8%\",\"CurrentWarns\":\"0\"},\"Pike County\":{\"FebLaborForce\":\"9.05K\",\"CumClaims\":\"2.85K\",\"PctFebLabor\":\"31.5%\",\"CurrentWarns\":\"1\"},\"Washington County\":{\"FebLaborForce\":\"7.07K\",\"CumClaims\":\"1.76K\",\"PctFebLabor\":\"24.9%\",\"CurrentWarns\":\"0\"},\"Lamar County\":{\"FebLaborForce\":\"8.41K\",\"CumClaims\":\"2.68K\",\"PctFebLabor\":\"31.8%\",\"CurrentWarns\":\"0\"},\"Brooks County\":{\"FebLaborForce\":\"7.13K\",\"CumClaims\":\"1.65K\",\"PctFebLabor\":\"23.2%\",\"CurrentWarns\":\"0\"},\"Burke County\":{\"FebLaborForce\":\"9.32K\",\"CumClaims\":\"2.74K\",\"PctFebLabor\":\"29.4%\",\"CurrentWarns\":\"0\"},\"Cook County\":{\"FebLaborForce\":\"8.22K\",\"CumClaims\":\"2.45K\",\"PctFebLabor\":\"29.8%\",\"CurrentWarns\":\"0\"},\"Macon County\":{\"FebLaborForce\":\"4.84K\",\"CumClaims\":\"1.66K\",\"PctFebLabor\":\"34.4%\",\"CurrentWarns\":\"0\"},\"Mitchell County\":{\"FebLaborForce\":\"8.79K\",\"CumClaims\":\"1.81K\",\"PctFebLabor\":\"20.6%\",\"CurrentWarns\":\"0\"},\"Worth County\":{\"FebLaborForce\":\"9.09K\",\"CumClaims\":\"2.08K\",\"PctFebLabor\":\"22.9%\",\"CurrentWarns\":\"0\"},\"Oglethorpe County\":{\"FebLaborForce\":\"7.08K\",\"CumClaims\":\"1.86K\",\"PctFebLabor\":\"26.3%\",\"CurrentWarns\":\"0\"},\"Dade County\":{\"FebLaborForce\":\"8.34K\",\"CumClaims\":\"1.64K\",\"PctFebLabor\":\"19.7%\",\"CurrentWarns\":\"0\"},\"Grady County\":{\"FebLaborForce\":\"10.6K\",\"CumClaims\":\"2.31K\",\"PctFebLabor\":\"21.8%\",\"CurrentWarns\":\"0\"},\"Tattnall County\":{\"FebLaborForce\":\"9.81K\",\"CumClaims\":\"1.71K\",\"PctFebLabor\":\"17.5%\",\"CurrentWarns\":\"0\"},\"Candler County\":{\"FebLaborForce\":\"5.72K\",\"CumClaims\":\"1.52K\",\"PctFebLabor\":\"26.7%\",\"CurrentWarns\":\"0\"},\"Jeff Davis County\":{\"FebLaborForce\":\"6.14K\",\"CumClaims\":\"1.75K\",\"PctFebLabor\":\"28.5%\",\"CurrentWarns\":\"0\"},\"Jefferson County\":{\"FebLaborForce\":\"6.76K\",\"CumClaims\":\"1.92K\",\"PctFebLabor\":\"28.3%\",\"CurrentWarns\":\"1\"},\"Jasper County\":{\"FebLaborForce\":\"7.06K\",\"CumClaims\":\"2.05K\",\"PctFebLabor\":\"29.0%\",\"CurrentWarns\":\"0\"},\"Bacon County\":{\"FebLaborForce\":\"5.06K\",\"CumClaims\":\"1.55K\",\"PctFebLabor\":\"30.6%\",\"CurrentWarns\":\"0\"},\"Appling County\":{\"FebLaborForce\":\"9.9K\",\"CumClaims\":\"2.22K\",\"PctFebLabor\":\"22.4%\",\"CurrentWarns\":\"0\"},\"Rabun County\":{\"FebLaborForce\":\"6.95K\",\"CumClaims\":\"2.58K\",\"PctFebLabor\":\"37.2%\",\"CurrentWarns\":\"0\"},\"Heard County\":{\"FebLaborForce\":\"5.36K\",\"CumClaims\":\"1.87K\",\"PctFebLabor\":\"34.8%\",\"CurrentWarns\":\"0\"},\"Evans County\":{\"FebLaborForce\":\"4.98K\",\"CumClaims\":\"1.29K\",\"PctFebLabor\":\"25.8%\",\"CurrentWarns\":\"0\"},\"Montgomery County\":{\"FebLaborForce\":\"3.86K\",\"CumClaims\":\"1.49K\",\"PctFebLabor\":\"38.6%\",\"CurrentWarns\":\"0\"},\"Dooly County\":{\"FebLaborForce\":\"5.19K\",\"CumClaims\":\"1.14K\",\"PctFebLabor\":\"21.9%\",\"CurrentWarns\":\"0\"},\"Calhoun County\":{\"FebLaborForce\":\"2.38K\",\"CumClaims\":\"1.65K\",\"PctFebLabor\":\"69.4%\",\"CurrentWarns\":\"0\"},\"Crawford County\":{\"FebLaborForce\":\"5.69K\",\"CumClaims\":\"1.57K\",\"PctFebLabor\":\"27.7%\",\"CurrentWarns\":\"1\"},\"Charlton County\":{\"FebLaborForce\":\"4.89K\",\"CumClaims\":\"1.13K\",\"PctFebLabor\":\"23.0%\",\"CurrentWarns\":\"0\"},\"Hancock County\":{\"FebLaborForce\":\"2.55K\",\"CumClaims\":\"985\",\"PctFebLabor\":\"38.6%\",\"CurrentWarns\":\"0\"},\"Bleckley County\":{\"FebLaborForce\":\"4.58K\",\"CumClaims\":\"1.2K\",\"PctFebLabor\":\"26.1%\",\"CurrentWarns\":\"0\"},\"Johnson County\":{\"FebLaborForce\":\"4.06K\",\"CumClaims\":\"817\",\"PctFebLabor\":\"20.1%\",\"CurrentWarns\":\"0\"},\"McIntosh County\":{\"FebLaborForce\":\"6.21K\",\"CumClaims\":\"1.97K\",\"PctFebLabor\":\"31.7%\",\"CurrentWarns\":\"0\"},\"Towns County\":{\"FebLaborForce\":\"3.87K\",\"CumClaims\":\"1.66K\",\"PctFebLabor\":\"42.9%\",\"CurrentWarns\":\"1\"},\"Wilkes County\":{\"FebLaborForce\":\"3.89K\",\"CumClaims\":\"865\",\"PctFebLabor\":\"22.2%\",\"CurrentWarns\":\"0\"},\"Early County\":{\"FebLaborForce\":\"4.55K\",\"CumClaims\":\"910\",\"PctFebLabor\":\"20.0%\",\"CurrentWarns\":\"0\"},\"Jenkins County\":{\"FebLaborForce\":\"3.13K\",\"CumClaims\":\"895\",\"PctFebLabor\":\"28.6%\",\"CurrentWarns\":\"0\"},\"Lincoln County\":{\"FebLaborForce\":\"3.64K\",\"CumClaims\":\"932\",\"PctFebLabor\":\"25.6%\",\"CurrentWarns\":\"0\"},\"Twiggs County\":{\"FebLaborForce\":\"2.93K\",\"CumClaims\":\"786\",\"PctFebLabor\":\"26.8%\",\"CurrentWarns\":\"0\"},\"Chattahoochee County\":{\"FebLaborForce\":\"2.02K\",\"CumClaims\":\"974\",\"PctFebLabor\":\"48.1%\",\"CurrentWarns\":\"1\"},\"Terrell County\":{\"FebLaborForce\":\"3.55K\",\"CumClaims\":\"981\",\"PctFebLabor\":\"27.7%\",\"CurrentWarns\":\"0\"},\"Wilkinson County\":{\"FebLaborForce\":\"4.05K\",\"CumClaims\":\"981\",\"PctFebLabor\":\"24.2%\",\"CurrentWarns\":\"0\"},\"Telfair County\":{\"FebLaborForce\":\"4.2K\",\"CumClaims\":\"836\",\"PctFebLabor\":\"19.9%\",\"CurrentWarns\":\"1\"},\"Turner County\":{\"FebLaborForce\":\"3.23K\",\"CumClaims\":\"1.07K\",\"PctFebLabor\":\"33.0%\",\"CurrentWarns\":\"0\"},\"Warren County\":{\"FebLaborForce\":\"2.9K\",\"CumClaims\":\"808\",\"PctFebLabor\":\"27.8%\",\"CurrentWarns\":\"0\"},\"Lanier County\":{\"FebLaborForce\":\"3.8K\",\"CumClaims\":\"825\",\"PctFebLabor\":\"21.7%\",\"CurrentWarns\":\"0\"},\"Randolph County\":{\"FebLaborForce\":\"2.62K\",\"CumClaims\":\"1.24K\",\"PctFebLabor\":\"47.6%\",\"CurrentWarns\":\"0\"},\"Pulaski County\":{\"FebLaborForce\":\"4.14K\",\"CumClaims\":\"863\",\"PctFebLabor\":\"20.8%\",\"CurrentWarns\":\"0\"},\"Talbot County\":{\"FebLaborForce\":\"2.83K\",\"CumClaims\":\"709\",\"PctFebLabor\":\"25.1%\",\"CurrentWarns\":\"0\"},\"Seminole County\":{\"FebLaborForce\":\"3.12K\",\"CumClaims\":\"744\",\"PctFebLabor\":\"23.8%\",\"CurrentWarns\":\"0\"},\"Treutlen County\":{\"FebLaborForce\":\"2.68K\",\"CumClaims\":\"661\",\"PctFebLabor\":\"24.7%\",\"CurrentWarns\":\"0\"},\"Clay County\":{\"FebLaborForce\":\"910\",\"CumClaims\":\"801\",\"PctFebLabor\":\"88.0%\",\"CurrentWarns\":\"1\"},\"Marion County\":{\"FebLaborForce\":\"3.34K\",\"CumClaims\":\"836\",\"PctFebLabor\":\"25.0%\",\"CurrentWarns\":\"0\"},\"Taylor County\":{\"FebLaborForce\":\"3.26K\",\"CumClaims\":\"813\",\"PctFebLabor\":\"25.0%\",\"CurrentWarns\":\"0\"},\"Irwin County\":{\"FebLaborForce\":\"3.45K\",\"CumClaims\":\"781\",\"PctFebLabor\":\"22.6%\",\"CurrentWarns\":\"0\"},\"Wilcox County\":{\"FebLaborForce\":\"2.75K\",\"CumClaims\":\"494\",\"PctFebLabor\":\"17.9%\",\"CurrentWarns\":\"0\"},\"Echols County\":{\"FebLaborForce\":\"2K\",\"CumClaims\":\"475\",\"PctFebLabor\":\"23.8%\",\"CurrentWarns\":\"0\"},\"Glascock County\":{\"FebLaborForce\":\"1.31K\",\"CumClaims\":\"396\",\"PctFebLabor\":\"30.3%\",\"CurrentWarns\":\"0\"},\"Schley County\":{\"FebLaborForce\":\"2.25K\",\"CumClaims\":\"359\",\"PctFebLabor\":\"15.9%\",\"CurrentWarns\":\"0\"},\"Stewart County\":{\"FebLaborForce\":\"2.46K\",\"CumClaims\":\"387\",\"PctFebLabor\":\"15.8%\",\"CurrentWarns\":\"0\"},\"Wheeler County\":{\"FebLaborForce\":\"1.66K\",\"CumClaims\":\"412\",\"PctFebLabor\":\"24.7%\",\"CurrentWarns\":\"0\"},\"Miller County\":{\"FebLaborForce\":\"2.85K\",\"CumClaims\":\"512\",\"PctFebLabor\":\"18.0%\",\"CurrentWarns\":\"0\"},\"Baker County\":{\"FebLaborForce\":\"1.23K\",\"CumClaims\":\"460\",\"PctFebLabor\":\"37.4%\",\"CurrentWarns\":\"0\"},\"Taliaferro County\":{\"FebLaborForce\":\"581\",\"CumClaims\":\"185\",\"PctFebLabor\":\"31.8%\",\"CurrentWarns\":\"0\"},\"Webster County\":{\"FebLaborForce\":\"1.04K\",\"CumClaims\":\"150\",\"PctFebLabor\":\"14.4%\",\"CurrentWarns\":\"0\"},\"Eufaula, AL-GA\":{\"FebLaborForce\":\"797\",\"CumClaims\":\"73\",\"PctFebLabor\":\"9.2%\",\"CurrentWarns\":\"0\"},\"Quitman County\":{\"FebLaborForce\":\"797\",\"CumClaims\":\"73\",\"PctFebLabor\":\"9.2%\",\"CurrentWarns\":\"0\"}}'"
      ]
     },
     "execution_count": 73,
     "metadata": {},
     "output_type": "execute_result"
    }
   ],
   "source": [
    "# write files\n",
    "# this is the county polygon file for fill layers in mapbox\n",
    "countyShapes.to_file(\"../application/app-data/mapbox/countyShapes.geojson\", driver='GeoJSON')\n",
    "# this is the county point file for circle layers in mapbox\n",
    "countyPoints.to_file(\"../application/app-data/mapbox/countyPoints.geojson\", driver='GeoJSON')\n",
    "# this is for the github file to draw the d3 charts\n",
    "data.to_csv('../application/app-data/uiClaims.csv', index=False)\n",
    "industryClaims.to_csv('../application/app-data/industryClaims.csv', index=False)\n",
    "industryRoll.to_csv('../application/app-data/countyIndustryClaims.csv', index=False)\n",
    "dataCum.to_csv('../application/app-data/dataCum.csv', index=False)\n",
    "gaDataCum.to_csv('../application/app-data/gaDataCum.csv', index=False)\n",
    "# this is for the warn logs by city for a point layer within the application\n",
    "appWarns.to_csv('../application/app-data/warns.csv', index=False)\n",
    "warns.to_excel('../application/app-data/warnsClean.xlsx', index=False)\n",
    "# this is for the json object to use as dynamically generated KPIs\n",
    "dataK.to_json(orient='index')"
   ]
  },
  {
   "cell_type": "code",
   "execution_count": null,
   "metadata": {},
   "outputs": [],
   "source": []
  },
  {
   "cell_type": "code",
   "execution_count": null,
   "metadata": {},
   "outputs": [],
   "source": []
  },
  {
   "cell_type": "code",
   "execution_count": null,
   "metadata": {},
   "outputs": [],
   "source": []
  }
 ],
 "metadata": {
  "kernelspec": {
   "display_name": "Python 3",
   "language": "python",
   "name": "python3"
  },
  "language_info": {
   "codemirror_mode": {
    "name": "ipython",
    "version": 3
   },
   "file_extension": ".py",
   "mimetype": "text/x-python",
   "name": "python",
   "nbconvert_exporter": "python",
   "pygments_lexer": "ipython3",
   "version": "3.7.6"
  }
 },
 "nbformat": 4,
 "nbformat_minor": 4
}
