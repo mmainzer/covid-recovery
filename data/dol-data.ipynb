{
 "cells": [
  {
   "cell_type": "code",
   "execution_count": 1,
   "metadata": {},
   "outputs": [],
   "source": [
    "import pandas as pd\n",
    "pd.set_option('display.max_columns', None)\n",
    "\n",
    "import numpy as np\n",
    "\n",
    "import geopandas as gpd\n",
    "import fiona\n",
    "\n",
    "import datetime"
   ]
  },
  {
   "cell_type": "code",
   "execution_count": 2,
   "metadata": {},
   "outputs": [],
   "source": [
    "sheets_dict = pd.read_excel('ui_claims_county_industry.xlsx', sheet_name=None,skiprows=2,skipfooter=3)\n",
    "\n",
    "df = pd.DataFrame()\n",
    "for name, sheet in sheets_dict.items():\n",
    "    sheet['County'] = name + 'County'\n",
    "    sheet = sheet.rename(columns=lambda x: x.split('\\n')[-1])\n",
    "    df = df.append(sheet)\n",
    "\n",
    "df.reset_index(inplace=True, drop=True)"
   ]
  },
  {
   "cell_type": "code",
   "execution_count": 3,
   "metadata": {},
   "outputs": [],
   "source": [
    "del df['Unnamed: 2']\n",
    "del df['Unnamed: 4']"
   ]
  },
  {
   "cell_type": "code",
   "execution_count": 4,
   "metadata": {},
   "outputs": [],
   "source": [
    "df = df.melt(id_vars=[\"County\", \"NAICS\", \"INDUSTRY NAME\"], \n",
    "             var_name=\"Date\", \n",
    "             value_name=\"Claims\")\n",
    "\n",
    "df['Claims'] = df['Claims'].replace(',', '', regex=True)\n",
    "\n",
    "df['Claims'] = df['Claims'].astype(int)"
   ]
  },
  {
   "cell_type": "code",
   "execution_count": 5,
   "metadata": {},
   "outputs": [],
   "source": [
    "warns = pd.read_excel('warnLogs_200720.xlsx')\n",
    "warns['County'] = warns['County'] + ' County'\n",
    "warns['County'] = warns['County'].str.strip()"
   ]
  },
  {
   "cell_type": "code",
   "execution_count": 6,
   "metadata": {},
   "outputs": [],
   "source": [
    "codes = pd.read_excel('../../data/geographies/regional-commissions.xlsx', usecols='A,B,C')\n",
    "codes['County'] = codes['County'] + ' County'\n",
    "codes['County'] = codes['County'].astype(str)\n",
    "\n",
    "msa = pd.read_excel('../../data/geographies/cbsa.xlsx', sheet_name='cbsa', usecols='A,D,H,I')\n",
    "msa = msa.loc[msa['State'] == 'Georgia']"
   ]
  },
  {
   "cell_type": "code",
   "execution_count": 7,
   "metadata": {},
   "outputs": [],
   "source": [
    "df = pd.merge(df,codes,how='left',on='County')\n"
   ]
  },
  {
   "cell_type": "code",
   "execution_count": 8,
   "metadata": {},
   "outputs": [],
   "source": [
    "df = pd.merge(df,msa,how='left',on='County')\n",
    "warns = pd.merge(warns,codes,how='left',on='County')\n",
    "warns = pd.merge(warns,msa,how='left',on='County')"
   ]
  },
  {
   "cell_type": "code",
   "execution_count": 9,
   "metadata": {},
   "outputs": [
    {
     "name": "stderr",
     "output_type": "stream",
     "text": [
      "/Users/mmainza/opt/anaconda3/lib/python3.7/site-packages/ipykernel_launcher.py:5: SettingWithCopyWarning: \n",
      "A value is trying to be set on a copy of a slice from a DataFrame.\n",
      "Try using .loc[row_indexer,col_indexer] = value instead\n",
      "\n",
      "See the caveats in the documentation: https://pandas.pydata.org/pandas-docs/stable/user_guide/indexing.html#returning-a-view-versus-a-copy\n",
      "  \"\"\"\n",
      "/Users/mmainza/opt/anaconda3/lib/python3.7/site-packages/ipykernel_launcher.py:7: SettingWithCopyWarning: \n",
      "A value is trying to be set on a copy of a slice from a DataFrame.\n",
      "Try using .loc[row_indexer,col_indexer] = value instead\n",
      "\n",
      "See the caveats in the documentation: https://pandas.pydata.org/pandas-docs/stable/user_guide/indexing.html#returning-a-view-versus-a-copy\n",
      "  import sys\n"
     ]
    }
   ],
   "source": [
    "today = np.datetime64('today')\n",
    "lastYear = today - 365\n",
    "\n",
    "warnsCurr = warns[(warns['Date'] > '2020-03-01') & (warns['Date'] <= today)]\n",
    "warnsCurr['Period'] = 'CurrentWarns'\n",
    "warnsLast = warns[(warns['Date'] > '2019-03-01') & (warns['Date'] <= lastYear)]\n",
    "warnsLast['Period'] = 'Last Period'\n",
    "warnPeriods = warnsCurr.append([warnsLast])\n",
    "\n",
    "warnPeriods = warnPeriods[['ID','Company name','Est. Impact','Date','Period']]\n",
    "\n",
    "warns = pd.merge(warns,warnPeriods,how='left',on=['ID','Company name','Est. Impact','Date'])\n",
    "\n",
    "warns['Period'].fillna('NA',inplace=True)"
   ]
  },
  {
   "cell_type": "code",
   "execution_count": 10,
   "metadata": {},
   "outputs": [],
   "source": [
    "warns['State'] = 'Georgia'"
   ]
  },
  {
   "cell_type": "code",
   "execution_count": 11,
   "metadata": {},
   "outputs": [],
   "source": [
    "countyWarns = warns.groupby(['County','Period']).size().reset_index()\n",
    "countyWarns = countyWarns.pivot_table(0, ['County'], 'Period').reset_index(drop=False)\n",
    "countyWarns.rename(columns={'County':'Area'}, inplace=True)\n",
    "msaWarns = warns.groupby(['CBSA Title','Period']).size().reset_index()\n",
    "msaWarns = msaWarns.pivot_table(0, ['CBSA Title'], 'Period').reset_index(drop=False)\n",
    "msaWarns.rename(columns={'CBSA Title':'Area'}, inplace=True)\n",
    "rcWarns = warns.groupby(['Regional Commission','Period']).size().reset_index()\n",
    "rcWarns = rcWarns.pivot_table(0, ['Regional Commission'], 'Period').reset_index(drop=False)\n",
    "rcWarns.rename(columns={'Regional Commission':'Area'}, inplace=True)\n",
    "stateWarns = warns.groupby(['State','Period']).size().reset_index()\n",
    "stateWarns = stateWarns.pivot_table(0, ['State'], 'Period').reset_index(drop=False)\n",
    "stateWarns.rename(columns={'State':'Area'}, inplace=True)\n",
    "del warns['State']\n",
    "\n",
    "areaWarns = stateWarns.append([rcWarns,msaWarns,countyWarns])\n",
    "areaWarns.reset_index(drop=True, inplace=True)\n",
    "\n",
    "areaWarns.fillna(0, inplace=True)"
   ]
  },
  {
   "cell_type": "code",
   "execution_count": 12,
   "metadata": {},
   "outputs": [],
   "source": [
    "areaWarns = areaWarns[['Area','CurrentWarns']]\n",
    "areaWarns.fillna(0, inplace=True)"
   ]
  },
  {
   "cell_type": "code",
   "execution_count": 13,
   "metadata": {},
   "outputs": [],
   "source": [
    "labor = pd.read_excel('county_laborForce.xlsx')\n",
    "labor.dropna(subset=['title'], inplace=True)\n",
    "labor = labor.loc[labor['Month'] == 2.0]\n",
    "labor['Month'] = labor['Month'] + 1\n",
    "labor['Date'] = pd.to_datetime(labor.Month.astype(int).astype(str) + '-7' + '-2020', format = '%m-%d-%Y')\n",
    "labor['Date'] = labor['Date'].dt.strftime('%m/%d/%Y')\n",
    "labor['title'] = labor['title'].replace(', GA', '', regex=True)"
   ]
  },
  {
   "cell_type": "code",
   "execution_count": 14,
   "metadata": {},
   "outputs": [],
   "source": [
    "febLabor = labor[['title','Date','emp','unemp','laborforce']]"
   ]
  },
  {
   "cell_type": "code",
   "execution_count": 15,
   "metadata": {},
   "outputs": [
    {
     "name": "stderr",
     "output_type": "stream",
     "text": [
      "/Users/mmainza/opt/anaconda3/lib/python3.7/site-packages/pandas/core/frame.py:4133: SettingWithCopyWarning: \n",
      "A value is trying to be set on a copy of a slice from a DataFrame\n",
      "\n",
      "See the caveats in the documentation: https://pandas.pydata.org/pandas-docs/stable/user_guide/indexing.html#returning-a-view-versus-a-copy\n",
      "  errors=errors,\n"
     ]
    }
   ],
   "source": [
    "febLabor.rename(columns={'title'      : 'County',\n",
    "                           'emp'        : 'FebEmployed',\n",
    "                           'unemp'      : 'FebUnemployed',\n",
    "                           'laborforce' : 'FebLaborForce'}, inplace=True)\n",
    "febLabor.reset_index(drop=True, inplace=True)"
   ]
  },
  {
   "cell_type": "code",
   "execution_count": 16,
   "metadata": {},
   "outputs": [],
   "source": [
    "# create separate frame of total claims by county, not industry\n",
    "countyClaims = df.groupby(['area_code','County','Date']).agg({'Claims':'sum'}).reset_index()"
   ]
  },
  {
   "cell_type": "code",
   "execution_count": 17,
   "metadata": {},
   "outputs": [],
   "source": [
    "countyClaims.drop_duplicates(inplace=True)"
   ]
  },
  {
   "cell_type": "code",
   "execution_count": 18,
   "metadata": {},
   "outputs": [
    {
     "data": {
      "text/html": [
       "<div>\n",
       "<style scoped>\n",
       "    .dataframe tbody tr th:only-of-type {\n",
       "        vertical-align: middle;\n",
       "    }\n",
       "\n",
       "    .dataframe tbody tr th {\n",
       "        vertical-align: top;\n",
       "    }\n",
       "\n",
       "    .dataframe thead th {\n",
       "        text-align: right;\n",
       "    }\n",
       "</style>\n",
       "<table border=\"1\" class=\"dataframe\">\n",
       "  <thead>\n",
       "    <tr style=\"text-align: right;\">\n",
       "      <th></th>\n",
       "      <th>area_code</th>\n",
       "      <th>County</th>\n",
       "      <th>Date</th>\n",
       "      <th>Claims</th>\n",
       "    </tr>\n",
       "  </thead>\n",
       "  <tbody>\n",
       "    <tr>\n",
       "      <th>0</th>\n",
       "      <td>13001</td>\n",
       "      <td>Appling County</td>\n",
       "      <td>03/07/2020</td>\n",
       "      <td>5</td>\n",
       "    </tr>\n",
       "    <tr>\n",
       "      <th>1</th>\n",
       "      <td>13001</td>\n",
       "      <td>Appling County</td>\n",
       "      <td>03/14/2020</td>\n",
       "      <td>6</td>\n",
       "    </tr>\n",
       "    <tr>\n",
       "      <th>2</th>\n",
       "      <td>13001</td>\n",
       "      <td>Appling County</td>\n",
       "      <td>03/21/2020</td>\n",
       "      <td>5</td>\n",
       "    </tr>\n",
       "    <tr>\n",
       "      <th>3</th>\n",
       "      <td>13001</td>\n",
       "      <td>Appling County</td>\n",
       "      <td>03/28/2020</td>\n",
       "      <td>143</td>\n",
       "    </tr>\n",
       "    <tr>\n",
       "      <th>4</th>\n",
       "      <td>13001</td>\n",
       "      <td>Appling County</td>\n",
       "      <td>04/04/2020</td>\n",
       "      <td>322</td>\n",
       "    </tr>\n",
       "  </tbody>\n",
       "</table>\n",
       "</div>"
      ],
      "text/plain": [
       "   area_code          County        Date  Claims\n",
       "0      13001  Appling County  03/07/2020       5\n",
       "1      13001  Appling County  03/14/2020       6\n",
       "2      13001  Appling County  03/21/2020       5\n",
       "3      13001  Appling County  03/28/2020     143\n",
       "4      13001  Appling County  04/04/2020     322"
      ]
     },
     "execution_count": 18,
     "metadata": {},
     "output_type": "execute_result"
    }
   ],
   "source": [
    "countyClaims.head()"
   ]
  },
  {
   "cell_type": "code",
   "execution_count": 19,
   "metadata": {},
   "outputs": [
    {
     "data": {
      "text/html": [
       "<div>\n",
       "<style scoped>\n",
       "    .dataframe tbody tr th:only-of-type {\n",
       "        vertical-align: middle;\n",
       "    }\n",
       "\n",
       "    .dataframe tbody tr th {\n",
       "        vertical-align: top;\n",
       "    }\n",
       "\n",
       "    .dataframe thead th {\n",
       "        text-align: right;\n",
       "    }\n",
       "</style>\n",
       "<table border=\"1\" class=\"dataframe\">\n",
       "  <thead>\n",
       "    <tr style=\"text-align: right;\">\n",
       "      <th></th>\n",
       "      <th>County</th>\n",
       "      <th>Date</th>\n",
       "      <th>FebEmployed</th>\n",
       "      <th>FebUnemployed</th>\n",
       "      <th>FebLaborForce</th>\n",
       "    </tr>\n",
       "  </thead>\n",
       "  <tbody>\n",
       "    <tr>\n",
       "      <th>0</th>\n",
       "      <td>Appling County</td>\n",
       "      <td>03/07/2020</td>\n",
       "      <td>9534.0</td>\n",
       "      <td>363.0</td>\n",
       "      <td>9897.0</td>\n",
       "    </tr>\n",
       "    <tr>\n",
       "      <th>1</th>\n",
       "      <td>Atkinson County</td>\n",
       "      <td>03/07/2020</td>\n",
       "      <td>4994.0</td>\n",
       "      <td>154.0</td>\n",
       "      <td>5148.0</td>\n",
       "    </tr>\n",
       "    <tr>\n",
       "      <th>2</th>\n",
       "      <td>Bacon County</td>\n",
       "      <td>03/07/2020</td>\n",
       "      <td>4867.0</td>\n",
       "      <td>190.0</td>\n",
       "      <td>5057.0</td>\n",
       "    </tr>\n",
       "    <tr>\n",
       "      <th>3</th>\n",
       "      <td>Baker County</td>\n",
       "      <td>03/07/2020</td>\n",
       "      <td>1172.0</td>\n",
       "      <td>57.0</td>\n",
       "      <td>1229.0</td>\n",
       "    </tr>\n",
       "    <tr>\n",
       "      <th>4</th>\n",
       "      <td>Baldwin County</td>\n",
       "      <td>03/07/2020</td>\n",
       "      <td>17013.0</td>\n",
       "      <td>797.0</td>\n",
       "      <td>17810.0</td>\n",
       "    </tr>\n",
       "  </tbody>\n",
       "</table>\n",
       "</div>"
      ],
      "text/plain": [
       "            County        Date  FebEmployed  FebUnemployed  FebLaborForce\n",
       "0   Appling County  03/07/2020       9534.0          363.0         9897.0\n",
       "1  Atkinson County  03/07/2020       4994.0          154.0         5148.0\n",
       "2     Bacon County  03/07/2020       4867.0          190.0         5057.0\n",
       "3     Baker County  03/07/2020       1172.0           57.0         1229.0\n",
       "4   Baldwin County  03/07/2020      17013.0          797.0        17810.0"
      ]
     },
     "execution_count": 19,
     "metadata": {},
     "output_type": "execute_result"
    }
   ],
   "source": [
    "febLabor.head()"
   ]
  },
  {
   "cell_type": "code",
   "execution_count": 20,
   "metadata": {},
   "outputs": [],
   "source": [
    "countyClaims = pd.merge(countyClaims,febLabor,how='left',on=['County','Date'])\n",
    "\n",
    "countyClaims.FebEmployed.fillna(method='ffill', inplace=True)\n",
    "countyClaims.FebUnemployed.fillna(method='ffill', inplace=True)\n",
    "countyClaims.FebLaborForce.fillna(method='ffill', inplace=True)\n",
    "\n",
    "countyClaims['CumClaims'] = countyClaims.groupby(['area_code','County'])['Claims'].apply(lambda x: x.cumsum())"
   ]
  },
  {
   "cell_type": "code",
   "execution_count": 21,
   "metadata": {},
   "outputs": [],
   "source": [
    "countyClaims['PctFebLabor'] = ( countyClaims.CumClaims / countyClaims.FebLaborForce ) * 100\n",
    "countyClaims.PctFebLabor = countyClaims.PctFebLabor.round(1)"
   ]
  },
  {
   "cell_type": "code",
   "execution_count": 22,
   "metadata": {},
   "outputs": [],
   "source": [
    "# do this for the whole state\n",
    "febLaborState = febLabor.groupby('Date') \\\n",
    "                            .agg({'FebEmployed':'sum','FebUnemployed' : 'sum','FebLaborForce' : 'sum'}) \\\n",
    "                            .reset_index()\n",
    "\n",
    "stateClaims = countyClaims[['County','Date','Claims']]\n",
    "\n",
    "stateClaims = stateClaims.groupby('Date').agg({'Claims':'sum'}).reset_index()\n",
    "\n",
    "stateClaims = pd.merge(stateClaims, febLaborState, how='left', on='Date')\n",
    "\n",
    "stateClaims.FebEmployed.fillna(method='ffill', inplace=True)\n",
    "stateClaims.FebUnemployed.fillna(method='ffill', inplace=True)\n",
    "stateClaims.FebLaborForce.fillna(method='ffill', inplace=True)"
   ]
  },
  {
   "cell_type": "code",
   "execution_count": 23,
   "metadata": {},
   "outputs": [],
   "source": [
    "stateClaims['State'] = 'Georgia'"
   ]
  },
  {
   "cell_type": "code",
   "execution_count": 24,
   "metadata": {},
   "outputs": [],
   "source": [
    "stateClaims['CumClaims'] = stateClaims.groupby(['State'])['Claims'].apply(lambda x: x.cumsum())"
   ]
  },
  {
   "cell_type": "code",
   "execution_count": 25,
   "metadata": {},
   "outputs": [],
   "source": [
    "stateClaims['PctFebLabor'] = ( stateClaims.CumClaims / stateClaims.FebLaborForce ) * 100\n",
    "stateClaims.PctFebLabor = stateClaims.PctFebLabor.round(1)"
   ]
  },
  {
   "cell_type": "code",
   "execution_count": 26,
   "metadata": {},
   "outputs": [],
   "source": [
    "stateClaims = stateClaims[['State','Date','Claims','FebEmployed','FebUnemployed','FebLaborForce',\n",
    "                           'CumClaims','PctFebLabor']]"
   ]
  },
  {
   "cell_type": "code",
   "execution_count": 27,
   "metadata": {},
   "outputs": [],
   "source": [
    "# now do the same with msa claims"
   ]
  },
  {
   "cell_type": "code",
   "execution_count": 28,
   "metadata": {},
   "outputs": [],
   "source": [
    "febLaborMsa = pd.merge(febLabor, msa, how='left', on='County')"
   ]
  },
  {
   "cell_type": "code",
   "execution_count": 29,
   "metadata": {},
   "outputs": [],
   "source": [
    "febLaborMsa.dropna(subset=['CBSA Code'], inplace=True)"
   ]
  },
  {
   "cell_type": "code",
   "execution_count": 30,
   "metadata": {},
   "outputs": [],
   "source": [
    "febLaborMsa = febLaborMsa.groupby(['CBSA Title','Date']) \\\n",
    "                             .agg({'FebEmployed':'sum','FebUnemployed' : 'sum','FebLaborForce' : 'sum'}) \\\n",
    "                             .reset_index()"
   ]
  },
  {
   "cell_type": "code",
   "execution_count": 31,
   "metadata": {},
   "outputs": [],
   "source": [
    "msaClaims = countyClaims[['County','Date','Claims']]\n",
    "msaClaims = pd.merge(msaClaims, msa, how='left', on='County')\n",
    "\n",
    "msaClaims.dropna(subset=['CBSA Code'], inplace=True)\n",
    "\n",
    "msaClaims = msaClaims.groupby(['CBSA Title','Date']) \\\n",
    "                             .agg({'Claims':'sum'}) \\\n",
    "                             .reset_index()\n",
    "\n",
    "msaClaims = pd.merge(msaClaims,febLaborMsa,how='left',on=['CBSA Title','Date'])\n",
    "\n",
    "\n",
    "msaClaims.FebEmployed.fillna(method='ffill', inplace=True)\n",
    "msaClaims.FebUnemployed.fillna(method='ffill', inplace=True)\n",
    "msaClaims.FebLaborForce.fillna(method='ffill', inplace=True)\n",
    "\n",
    "msaClaims['CumClaims'] = msaClaims.groupby(['CBSA Title'])['Claims'].apply(lambda x: x.cumsum())\n",
    "\n",
    "msaClaims['PctFebLabor'] = ( msaClaims.CumClaims / msaClaims.FebLaborForce ) * 100\n",
    "msaClaims.PctFebLabor = msaClaims.PctFebLabor.round(1)"
   ]
  },
  {
   "cell_type": "code",
   "execution_count": 32,
   "metadata": {},
   "outputs": [],
   "source": [
    "# now repeat with regional commissions"
   ]
  },
  {
   "cell_type": "code",
   "execution_count": 33,
   "metadata": {},
   "outputs": [],
   "source": [
    "febLaborRc = pd.merge(febLabor, codes, how='left', on='County')"
   ]
  },
  {
   "cell_type": "code",
   "execution_count": 34,
   "metadata": {},
   "outputs": [],
   "source": [
    "febLaborRc = febLaborRc.groupby(['Regional Commission','Date']) \\\n",
    "                             .agg({'FebEmployed':'sum','FebUnemployed' : 'sum','FebLaborForce' : 'sum'}) \\\n",
    "                             .reset_index()"
   ]
  },
  {
   "cell_type": "code",
   "execution_count": 35,
   "metadata": {},
   "outputs": [],
   "source": [
    "rcClaims = countyClaims[['County','Date','Claims']]\n",
    "rcClaims = pd.merge(rcClaims, codes, how='left', on='County')\n",
    "\n",
    "rcClaims = rcClaims.groupby(['Regional Commission','Date']) \\\n",
    "                             .agg({'Claims':'sum'}) \\\n",
    "                             .reset_index()\n",
    "\n",
    "rcClaims = pd.merge(rcClaims,febLaborRc,how='left',on=['Regional Commission','Date'])\n",
    "\n",
    "\n",
    "rcClaims.FebEmployed.fillna(method='ffill', inplace=True)\n",
    "rcClaims.FebUnemployed.fillna(method='ffill', inplace=True)\n",
    "rcClaims.FebLaborForce.fillna(method='ffill', inplace=True)\n",
    "\n",
    "rcClaims['CumClaims'] = rcClaims.groupby(['Regional Commission'])['Claims'].apply(lambda x: x.cumsum())\n",
    "\n",
    "rcClaims['PctFebLabor'] = ( rcClaims.CumClaims / rcClaims.FebLaborForce ) * 100\n",
    "rcClaims.PctFebLabor = rcClaims.PctFebLabor.round(1)"
   ]
  },
  {
   "cell_type": "code",
   "execution_count": 36,
   "metadata": {},
   "outputs": [],
   "source": [
    "del countyClaims['area_code']\n",
    "\n",
    "msaClaims.rename(columns={'CBSA Title' : 'Area'}, inplace=True)\n",
    "rcClaims.rename(columns={'Regional Commission' : 'Area'}, inplace=True)\n",
    "countyClaims.rename(columns={'County' : 'Area'}, inplace=True)\n",
    "stateClaims.rename(columns={'State' : 'Area'}, inplace=True)"
   ]
  },
  {
   "cell_type": "code",
   "execution_count": null,
   "metadata": {},
   "outputs": [],
   "source": []
  },
  {
   "cell_type": "code",
   "execution_count": 37,
   "metadata": {},
   "outputs": [],
   "source": [
    "# stack on top of each other and write out as a single data frame for line and bar charts"
   ]
  },
  {
   "cell_type": "code",
   "execution_count": 38,
   "metadata": {},
   "outputs": [],
   "source": [
    "data = stateClaims.append([countyClaims,rcClaims,msaClaims])"
   ]
  },
  {
   "cell_type": "code",
   "execution_count": 39,
   "metadata": {},
   "outputs": [],
   "source": [
    "data.reset_index(drop=True, inplace=True)"
   ]
  },
  {
   "cell_type": "code",
   "execution_count": 40,
   "metadata": {},
   "outputs": [],
   "source": [
    "data = data[['Area','Date','Claims','FebLaborForce','CumClaims','PctFebLabor']]"
   ]
  },
  {
   "cell_type": "code",
   "execution_count": 41,
   "metadata": {},
   "outputs": [],
   "source": [
    "dataCum = data.copy()"
   ]
  },
  {
   "cell_type": "code",
   "execution_count": 42,
   "metadata": {},
   "outputs": [],
   "source": [
    "countyClaims=countyClaims.groupby('Area').apply(lambda x: x.reset_index(drop=True)).drop('Area',axis=1).reset_index()\n",
    "dateMax = countyClaims.level_1.max()\n",
    "countyClaims = countyClaims.loc[countyClaims['level_1'] == dateMax]\n",
    "countyClaims.reset_index(drop=True, inplace=True)\n",
    "countyShape = gpd.read_file(\"spatial/ga-counties.geojson\")\n",
    "countyClaims = pd.merge(countyClaims, codes, how='left', left_on='Area', right_on='County')\n",
    "countyClaims.area_code = countyClaims.area_code.astype(str)"
   ]
  },
  {
   "cell_type": "code",
   "execution_count": 43,
   "metadata": {},
   "outputs": [],
   "source": [
    "countyClaims = pd.merge(countyClaims,areaWarns,how='left',on='Area')"
   ]
  },
  {
   "cell_type": "code",
   "execution_count": 44,
   "metadata": {},
   "outputs": [],
   "source": [
    "countyShape = pd.merge(countyShape, countyClaims, how='left', left_on='GEOID', right_on='area_code')\n",
    "countyShapes = countyShape[['area_code','County','CumClaims','FebLaborForce','PctFebLabor','CurrentWarns','geometry']]"
   ]
  },
  {
   "cell_type": "code",
   "execution_count": 45,
   "metadata": {},
   "outputs": [],
   "source": [
    "countyShapes = gpd.GeoDataFrame(countyShapes, geometry='geometry')\n",
    "countyPoints = countyShapes.copy()\n",
    "countyPoints['geometry'] = countyPoints['geometry'].centroid"
   ]
  },
  {
   "cell_type": "code",
   "execution_count": 46,
   "metadata": {},
   "outputs": [],
   "source": [
    "# now reshape the industry claims data to rollup by county and industry\n",
    "\n",
    "df['State'] = 'Georgia'\n",
    "\n",
    "df.rename(columns={'INDUSTRY NAME':'Industry'}, inplace=True)\n",
    "\n",
    "industryCountyClaims = df.groupby(['County','Industry']) \\\n",
    "                             .agg({'Claims':'sum'}) \\\n",
    "                             .reset_index() \\\n",
    "                             .rename(columns={'County':'Area'})\n",
    "\n",
    "industryCountyClaims.sort_values(['Area','Claims'], ascending=[True,False], inplace=True)\n",
    "\n",
    "industryRcClaims = df.groupby(['Regional Commission','Industry']) \\\n",
    "                             .agg({'Claims':'sum'}) \\\n",
    "                             .reset_index() \\\n",
    "                             .rename(columns={'Regional Commission':'Area'})\n",
    "\n",
    "industryRcClaims.sort_values(['Area','Claims'], ascending=[True,False], inplace=True)\n",
    "\n",
    "industryMsaClaims = df.groupby(['CBSA Title','Industry']) \\\n",
    "                             .agg({'Claims':'sum'}) \\\n",
    "                             .reset_index() \\\n",
    "                             .rename(columns={'CBSA Title':'Area'})\n",
    "\n",
    "industryMsaClaims.sort_values(['Area','Claims'], ascending=[True,False], inplace=True)\n",
    "\n",
    "\n",
    "industryStateClaims = df.groupby(['State','Industry']) \\\n",
    "                             .agg({'Claims':'sum'}) \\\n",
    "                             .reset_index() \\\n",
    "                             .rename(columns={'State':'Area'})\n",
    "\n",
    "industryStateClaims.sort_values(['Area','Claims'], ascending=[True,False], inplace=True)\n",
    "\n",
    "del df['State']"
   ]
  },
  {
   "cell_type": "code",
   "execution_count": 47,
   "metadata": {},
   "outputs": [],
   "source": [
    "# append these together and reindex them\n",
    "industryClaims = industryStateClaims.append([industryCountyClaims,industryRcClaims,industryMsaClaims])\n",
    "\n",
    "industryClaims.reset_index(drop=True, inplace=True)\n",
    "\n",
    "industryClaims['Ind'] = np.where(industryClaims.Industry.str.contains(\"Accommodation\"), \"Food Services\",\n",
    "                        np.where(industryClaims.Industry.str.contains(\"Waste\"), \"Support, Waste Management\",\n",
    "                        np.where(industryClaims.Industry.str.contains(\"Agriculture\"), \"Agriculture\",\n",
    "                        np.where(industryClaims.Industry.str.contains(\"Entertainment\"), \"Entertainment\",\n",
    "                        np.where(industryClaims.Industry.str.contains(\"Construction\"), \"Construction\",\n",
    "                        np.where(industryClaims.Industry.str.contains(\"Educational\"), \"Education\",\n",
    "                        np.where(industryClaims.Industry.str.contains(\"Finance\"), \"Finance\",\n",
    "                        np.where(industryClaims.Industry.str.contains(\"Health\"), \"Health Care\",\n",
    "                        np.where(industryClaims.Industry.str.contains(\"Information\"), \"Information\",\n",
    "                        np.where(industryClaims.Industry.str.contains(\"Management\"), \"Enterprise Management\",\n",
    "                        np.where(industryClaims.Industry.str.contains(\"Manufacturing\"), \"Manufacturing\",\n",
    "                        np.where(industryClaims.Industry.str.contains(\"Mining\"), \"Oil & Gas\",\n",
    "                        np.where(industryClaims.Industry.str.contains(\"Other\"), \"Other\",\n",
    "                        np.where(industryClaims.Industry.str.contains(\"Technical\"), \"Technical Services\",\n",
    "                        np.where(industryClaims.Industry.str.contains(\"Public\"), \"Public Admin\",\n",
    "                        np.where(industryClaims.Industry.str.contains(\"Real Estate\"), \"Real Estate\",\n",
    "                        np.where(industryClaims.Industry.str.contains(\"Retail Trade\"), \"Retail\",\n",
    "                        np.where(industryClaims.Industry.str.contains(\"Transportation\"), \"Transportation\",\n",
    "                        np.where(industryClaims.Industry.str.contains(\"Unclassified\"), \"Unclassified\",\n",
    "                        np.where(industryClaims.Industry.str.contains(\"Utilities\"), \"Utilities\",\n",
    "                        np.where(industryClaims.Industry.str.contains(\"Wholesale\"), \"Wholesale Trade\",\"ts\")))))))))))))))))))))"
   ]
  },
  {
   "cell_type": "code",
   "execution_count": 48,
   "metadata": {},
   "outputs": [],
   "source": [
    "industryClaims = industryClaims[['Area','Industry','Ind','Claims']]"
   ]
  },
  {
   "cell_type": "code",
   "execution_count": 49,
   "metadata": {},
   "outputs": [],
   "source": [
    "# now get the KPIs you need in a json file\n",
    "dataK = data.copy()\n",
    "dataK=dataK.groupby('Area').apply(lambda x: x.reset_index(drop=True)).drop('Area',axis=1).reset_index()\n",
    "dateMax = dataK.level_1.max()\n",
    "dataK = dataK.loc[dataK['level_1'] == dateMax]"
   ]
  },
  {
   "cell_type": "code",
   "execution_count": 50,
   "metadata": {},
   "outputs": [],
   "source": [
    "dataK.sort_values('Claims', ascending=False, inplace=True)"
   ]
  },
  {
   "cell_type": "code",
   "execution_count": 51,
   "metadata": {},
   "outputs": [
    {
     "data": {
      "text/html": [
       "<div>\n",
       "<style scoped>\n",
       "    .dataframe tbody tr th:only-of-type {\n",
       "        vertical-align: middle;\n",
       "    }\n",
       "\n",
       "    .dataframe tbody tr th {\n",
       "        vertical-align: top;\n",
       "    }\n",
       "\n",
       "    .dataframe thead th {\n",
       "        text-align: right;\n",
       "    }\n",
       "</style>\n",
       "<table border=\"1\" class=\"dataframe\">\n",
       "  <thead>\n",
       "    <tr style=\"text-align: right;\">\n",
       "      <th></th>\n",
       "      <th>Area</th>\n",
       "      <th>level_1</th>\n",
       "      <th>Date</th>\n",
       "      <th>Claims</th>\n",
       "      <th>FebLaborForce</th>\n",
       "      <th>CumClaims</th>\n",
       "      <th>PctFebLabor</th>\n",
       "    </tr>\n",
       "  </thead>\n",
       "  <tbody>\n",
       "    <tr>\n",
       "      <th>1078</th>\n",
       "      <td>Georgia</td>\n",
       "      <td>12</td>\n",
       "      <td>05/30/2020</td>\n",
       "      <td>147237</td>\n",
       "      <td>5187308.0</td>\n",
       "      <td>2279729</td>\n",
       "      <td>43.9</td>\n",
       "    </tr>\n",
       "    <tr>\n",
       "      <th>90</th>\n",
       "      <td>Atlanta-Sandy Springs-Alpharetta, GA</td>\n",
       "      <td>12</td>\n",
       "      <td>05/30/2020</td>\n",
       "      <td>92112</td>\n",
       "      <td>3139975.0</td>\n",
       "      <td>1442230</td>\n",
       "      <td>45.9</td>\n",
       "    </tr>\n",
       "    <tr>\n",
       "      <th>12</th>\n",
       "      <td>ARC</td>\n",
       "      <td>12</td>\n",
       "      <td>05/30/2020</td>\n",
       "      <td>75053</td>\n",
       "      <td>2474606.0</td>\n",
       "      <td>1170926</td>\n",
       "      <td>47.3</td>\n",
       "    </tr>\n",
       "    <tr>\n",
       "      <th>1052</th>\n",
       "      <td>Fulton County</td>\n",
       "      <td>12</td>\n",
       "      <td>05/30/2020</td>\n",
       "      <td>18521</td>\n",
       "      <td>565766.0</td>\n",
       "      <td>305813</td>\n",
       "      <td>54.1</td>\n",
       "    </tr>\n",
       "    <tr>\n",
       "      <th>1182</th>\n",
       "      <td>Gwinnett County</td>\n",
       "      <td>12</td>\n",
       "      <td>05/30/2020</td>\n",
       "      <td>13650</td>\n",
       "      <td>497011.0</td>\n",
       "      <td>221431</td>\n",
       "      <td>44.6</td>\n",
       "    </tr>\n",
       "  </tbody>\n",
       "</table>\n",
       "</div>"
      ],
      "text/plain": [
       "                                      Area  level_1        Date  Claims  \\\n",
       "1078                               Georgia       12  05/30/2020  147237   \n",
       "90    Atlanta-Sandy Springs-Alpharetta, GA       12  05/30/2020   92112   \n",
       "12                                     ARC       12  05/30/2020   75053   \n",
       "1052                         Fulton County       12  05/30/2020   18521   \n",
       "1182                       Gwinnett County       12  05/30/2020   13650   \n",
       "\n",
       "      FebLaborForce  CumClaims  PctFebLabor  \n",
       "1078      5187308.0    2279729         43.9  \n",
       "90        3139975.0    1442230         45.9  \n",
       "12        2474606.0    1170926         47.3  \n",
       "1052       565766.0     305813         54.1  \n",
       "1182       497011.0     221431         44.6  "
      ]
     },
     "execution_count": 51,
     "metadata": {},
     "output_type": "execute_result"
    }
   ],
   "source": [
    "dataK.head()"
   ]
  },
  {
   "cell_type": "code",
   "execution_count": 52,
   "metadata": {},
   "outputs": [],
   "source": [
    "dataK = pd.merge(dataK,areaWarns,how='left',on='Area')"
   ]
  },
  {
   "cell_type": "code",
   "execution_count": 53,
   "metadata": {},
   "outputs": [],
   "source": [
    "dataK = dataK[['Area','FebLaborForce','CumClaims','PctFebLabor','CurrentWarns']]"
   ]
  },
  {
   "cell_type": "code",
   "execution_count": 54,
   "metadata": {},
   "outputs": [],
   "source": [
    "dataK.set_index('Area', inplace=True)"
   ]
  },
  {
   "cell_type": "code",
   "execution_count": 55,
   "metadata": {},
   "outputs": [],
   "source": [
    "dataK['CurrentWarns'].fillna(0, inplace=True)\n",
    "countyShapes['CurrentWarns'].fillna(0, inplace=True)\n",
    "countyPoints['CurrentWarns'].fillna(0, inplace=True)"
   ]
  },
  {
   "cell_type": "code",
   "execution_count": 56,
   "metadata": {},
   "outputs": [],
   "source": [
    "dataK.FebLaborForce = dataK.FebLaborForce.astype(int)\n",
    "dataK.CurrentWarns = dataK.CurrentWarns.astype(int)\n",
    "dataK.CumClaims = dataK.CumClaims.astype(int)"
   ]
  },
  {
   "cell_type": "code",
   "execution_count": 57,
   "metadata": {},
   "outputs": [],
   "source": [
    "def human_format(num):\n",
    "    num = float('{:.3g}'.format(num))\n",
    "    magnitude = 0\n",
    "    while abs(num) >= 1000:\n",
    "        magnitude += 1\n",
    "        num /= 1000.0\n",
    "    return '{}{}'.format('{:f}'.format(num).rstrip('0').rstrip('.'), ['', 'K', 'M', 'B', 'T'][magnitude])\n",
    "\n",
    "dataK['CumClaims'] = dataK['CumClaims'].apply(lambda x: human_format(x))\n",
    "dataK['CurrentWarns'] = dataK['CurrentWarns'].apply(lambda x: human_format(x))\n",
    "dataK['FebLaborForce'] = dataK['FebLaborForce'].apply(lambda x: human_format(x))"
   ]
  },
  {
   "cell_type": "code",
   "execution_count": 58,
   "metadata": {},
   "outputs": [
    {
     "data": {
      "text/html": [
       "<div>\n",
       "<style scoped>\n",
       "    .dataframe tbody tr th:only-of-type {\n",
       "        vertical-align: middle;\n",
       "    }\n",
       "\n",
       "    .dataframe tbody tr th {\n",
       "        vertical-align: top;\n",
       "    }\n",
       "\n",
       "    .dataframe thead th {\n",
       "        text-align: right;\n",
       "    }\n",
       "</style>\n",
       "<table border=\"1\" class=\"dataframe\">\n",
       "  <thead>\n",
       "    <tr style=\"text-align: right;\">\n",
       "      <th></th>\n",
       "      <th>FebLaborForce</th>\n",
       "      <th>CumClaims</th>\n",
       "      <th>PctFebLabor</th>\n",
       "      <th>CurrentWarns</th>\n",
       "    </tr>\n",
       "    <tr>\n",
       "      <th>Area</th>\n",
       "      <th></th>\n",
       "      <th></th>\n",
       "      <th></th>\n",
       "      <th></th>\n",
       "    </tr>\n",
       "  </thead>\n",
       "  <tbody>\n",
       "    <tr>\n",
       "      <th>Georgia</th>\n",
       "      <td>5.19M</td>\n",
       "      <td>2.28M</td>\n",
       "      <td>43.9</td>\n",
       "      <td>363</td>\n",
       "    </tr>\n",
       "    <tr>\n",
       "      <th>Atlanta-Sandy Springs-Alpharetta, GA</th>\n",
       "      <td>3.14M</td>\n",
       "      <td>1.44M</td>\n",
       "      <td>45.9</td>\n",
       "      <td>215</td>\n",
       "    </tr>\n",
       "    <tr>\n",
       "      <th>ARC</th>\n",
       "      <td>2.47M</td>\n",
       "      <td>1.17M</td>\n",
       "      <td>47.3</td>\n",
       "      <td>188</td>\n",
       "    </tr>\n",
       "    <tr>\n",
       "      <th>Fulton County</th>\n",
       "      <td>566K</td>\n",
       "      <td>306K</td>\n",
       "      <td>54.1</td>\n",
       "      <td>97</td>\n",
       "    </tr>\n",
       "    <tr>\n",
       "      <th>Gwinnett County</th>\n",
       "      <td>497K</td>\n",
       "      <td>221K</td>\n",
       "      <td>44.6</td>\n",
       "      <td>23</td>\n",
       "    </tr>\n",
       "  </tbody>\n",
       "</table>\n",
       "</div>"
      ],
      "text/plain": [
       "                                     FebLaborForce CumClaims  PctFebLabor  \\\n",
       "Area                                                                        \n",
       "Georgia                                      5.19M     2.28M         43.9   \n",
       "Atlanta-Sandy Springs-Alpharetta, GA         3.14M     1.44M         45.9   \n",
       "ARC                                          2.47M     1.17M         47.3   \n",
       "Fulton County                                 566K      306K         54.1   \n",
       "Gwinnett County                               497K      221K         44.6   \n",
       "\n",
       "                                     CurrentWarns  \n",
       "Area                                               \n",
       "Georgia                                       363  \n",
       "Atlanta-Sandy Springs-Alpharetta, GA          215  \n",
       "ARC                                           188  \n",
       "Fulton County                                  97  \n",
       "Gwinnett County                                23  "
      ]
     },
     "execution_count": 58,
     "metadata": {},
     "output_type": "execute_result"
    }
   ],
   "source": [
    "dataK.head()"
   ]
  },
  {
   "cell_type": "code",
   "execution_count": 59,
   "metadata": {},
   "outputs": [],
   "source": [
    "# convert kpi to strings with correct format for display purposes\n",
    "dataK['PctFebLabor'] = dataK['PctFebLabor'].map('{:,.1f}'.format) + '%'"
   ]
  },
  {
   "cell_type": "code",
   "execution_count": 60,
   "metadata": {},
   "outputs": [],
   "source": [
    "# now process the data file from which d3 will generate charts to only include necessary columns, etc.\n",
    "data[\"date\"] = pd.to_datetime(data[\"Date\"]).dt.strftime('%b %d')\n",
    "data = data[['Area','Date','date','Claims']]"
   ]
  },
  {
   "cell_type": "code",
   "execution_count": 61,
   "metadata": {},
   "outputs": [],
   "source": [
    "industryClaims['Ind'] = np.where(industryClaims.Industry.str.contains(\"Accommodation\"), \"Food Services\",\n",
    "                        np.where(industryClaims.Industry.str.contains(\"Waste\"), \"Waste Management\",\n",
    "                        np.where(industryClaims.Industry.str.contains(\"Agriculture\"), \"Agriculture\",\n",
    "                        np.where(industryClaims.Industry.str.contains(\"Entertainment\"), \"Entertainment\",\n",
    "                        np.where(industryClaims.Industry.str.contains(\"Construction\"), \"Construction\",\n",
    "                        np.where(industryClaims.Industry.str.contains(\"Educational\"), \"Education\",\n",
    "                        np.where(industryClaims.Industry.str.contains(\"Finance\"), \"Finance\",\n",
    "                        np.where(industryClaims.Industry.str.contains(\"Health\"), \"Health Care\",\n",
    "                        np.where(industryClaims.Industry.str.contains(\"Information\"), \"Information\",\n",
    "                        np.where(industryClaims.Industry.str.contains(\"Management\"), \"Enterprise Management\",\n",
    "                        np.where(industryClaims.Industry.str.contains(\"Manufacturing\"), \"Manufacturing\",\n",
    "                        np.where(industryClaims.Industry.str.contains(\"Mining\"), \"Oil & Gas\",\n",
    "                        np.where(industryClaims.Industry.str.contains(\"Other\"), \"Other\",\n",
    "                        np.where(industryClaims.Industry.str.contains(\"Technical\"), \"Technical Services\",\n",
    "                        np.where(industryClaims.Industry.str.contains(\"Public\"), \"Public Admin\",\n",
    "                        np.where(industryClaims.Industry.str.contains(\"Real Estate\"), \"Real Estate\",\n",
    "                        np.where(industryClaims.Industry.str.contains(\"Retail Trade\"), \"Retail\",\n",
    "                        np.where(industryClaims.Industry.str.contains(\"Transportation\"), \"Transportation\",\n",
    "                        np.where(industryClaims.Industry.str.contains(\"Unclassified\"), \"Unclassified\",\n",
    "                        np.where(industryClaims.Industry.str.contains(\"Utilities\"), \"Utilities\",\n",
    "                        np.where(industryClaims.Industry.str.contains(\"Wholesale\"), \"Wholesale Trade\",\"ts\")))))))))))))))))))))"
   ]
  },
  {
   "cell_type": "code",
   "execution_count": 62,
   "metadata": {},
   "outputs": [],
   "source": [
    "appWarns = warns[warns['Date'] >= '2020-01-01']"
   ]
  },
  {
   "cell_type": "code",
   "execution_count": 63,
   "metadata": {},
   "outputs": [],
   "source": [
    "appWarns = appWarns[['Date','Company name','City','ZIP','County','Est. Impact','Regional Commission','CBSA Title']]\n",
    "appWarns.rename(columns={'Company name' : 'Company',\n",
    "                         'Regional Commissions':'RC',\n",
    "                         'CBSA Title':'MSA',\n",
    "                         'Est. Impact':'Employees'}, inplace=True)"
   ]
  },
  {
   "cell_type": "code",
   "execution_count": 64,
   "metadata": {},
   "outputs": [],
   "source": [
    "appWarns[\"Date\"] = pd.to_datetime(appWarns[\"Date\"]).dt.strftime('%b %d')"
   ]
  },
  {
   "cell_type": "code",
   "execution_count": 65,
   "metadata": {},
   "outputs": [],
   "source": [
    "industryRoll = industryClaims[industryClaims['Area'].str.contains(\"County\")]\n",
    "industryRoll = industryRoll[['Area','Ind','Claims']]\n",
    "industryRoll = industryRoll.pivot_table('Claims', ['Area'], 'Ind')\n",
    "industryRoll.reset_index(inplace=True)\n",
    "industryRoll = industryRoll[~industryRoll['Area'].str.contains(\",\")]\n",
    "codes = codes[['area_code','County']]\n",
    "industryRoll.rename(columns={'Area':'County'}, inplace=True)\n",
    "industryRoll = pd.merge(industryRoll,codes,how='left',on='County')\n",
    "industryRoll.rename(columns={'area_code':'GEOID'}, inplace=True)"
   ]
  },
  {
   "cell_type": "code",
   "execution_count": 66,
   "metadata": {},
   "outputs": [],
   "source": [
    "industryRoll['Total Claims'] = industryRoll.Agriculture + industryRoll.Construction + industryRoll.Education + \\\n",
    "                            industryRoll['Enterprise Management'] + industryRoll.Entertainment + industryRoll.Finance + \\\n",
    "                            industryRoll['Food Services'] + industryRoll['Health Care'] + industryRoll.Information + \\\n",
    "                            industryRoll.Manufacturing + industryRoll['Oil & Gas'] + industryRoll.Other + \\\n",
    "                            industryRoll['Public Admin'] + industryRoll['Real Estate'] + industryRoll.Retail + \\\n",
    "                            industryRoll['Technical Services'] + industryRoll.Transportation + industryRoll.Unclassified + \\\n",
    "                            industryRoll.Utilities + industryRoll['Waste Management'] + industryRoll['Wholesale Trade']"
   ]
  },
  {
   "cell_type": "code",
   "execution_count": 67,
   "metadata": {},
   "outputs": [],
   "source": [
    "industryRoll['Other Claims'] = industryRoll['Agriculture'] + industryRoll['Oil & Gas'] + industryRoll.Utilities"
   ]
  },
  {
   "cell_type": "code",
   "execution_count": 68,
   "metadata": {},
   "outputs": [],
   "source": [
    "gaDataCum = dataCum.loc[dataCum['Area'] == 'Georgia']"
   ]
  },
  {
   "cell_type": "code",
   "execution_count": 71,
   "metadata": {},
   "outputs": [
    {
     "data": {
      "text/plain": [
       "'{\"Georgia\":{\"FebLaborForce\":\"5.19M\",\"CumClaims\":\"2.28M\",\"PctFebLabor\":\"43.9%\",\"CurrentWarns\":\"363\"},\"Atlanta-Sandy Springs-Alpharetta, GA\":{\"FebLaborForce\":\"3.14M\",\"CumClaims\":\"1.44M\",\"PctFebLabor\":\"45.9%\",\"CurrentWarns\":\"215\"},\"ARC\":{\"FebLaborForce\":\"2.47M\",\"CumClaims\":\"1.17M\",\"PctFebLabor\":\"47.3%\",\"CurrentWarns\":\"188\"},\"Fulton County\":{\"FebLaborForce\":\"566K\",\"CumClaims\":\"306K\",\"PctFebLabor\":\"54.1%\",\"CurrentWarns\":\"97\"},\"Gwinnett County\":{\"FebLaborForce\":\"497K\",\"CumClaims\":\"221K\",\"PctFebLabor\":\"44.6%\",\"CurrentWarns\":\"23\"},\"Northwest\":{\"FebLaborForce\":\"427K\",\"CumClaims\":\"191K\",\"PctFebLabor\":\"44.7%\",\"CurrentWarns\":\"18\"},\"DeKalb County\":{\"FebLaborForce\":\"406K\",\"CumClaims\":\"184K\",\"PctFebLabor\":\"45.4%\",\"CurrentWarns\":\"0\"},\"Cobb County\":{\"FebLaborForce\":\"432K\",\"CumClaims\":\"172K\",\"PctFebLabor\":\"39.9%\",\"CurrentWarns\":\"33\"},\"Coastal\":{\"FebLaborForce\":\"333K\",\"CumClaims\":\"166K\",\"PctFebLabor\":\"49.8%\",\"CurrentWarns\":\"31\"},\"Northeast\":{\"FebLaborForce\":\"309K\",\"CumClaims\":\"132K\",\"PctFebLabor\":\"42.6%\",\"CurrentWarns\":\"15\"},\"Three Rivers\":{\"FebLaborForce\":\"254K\",\"CumClaims\":\"112K\",\"PctFebLabor\":\"44.3%\",\"CurrentWarns\":\"11\"},\"Georgia Mountains\":{\"FebLaborForce\":\"356K\",\"CumClaims\":\"130K\",\"PctFebLabor\":\"36.6%\",\"CurrentWarns\":\"17\"},\"Savannah, GA\":{\"FebLaborForce\":\"190K\",\"CumClaims\":\"104K\",\"PctFebLabor\":\"54.7%\",\"CurrentWarns\":\"24\"},\"Clayton County\":{\"FebLaborForce\":\"140K\",\"CumClaims\":\"81.2K\",\"PctFebLabor\":\"57.9%\",\"CurrentWarns\":\"15\"},\"Chatham County\":{\"FebLaborForce\":\"140K\",\"CumClaims\":\"83.5K\",\"PctFebLabor\":\"59.5%\",\"CurrentWarns\":\"23\"},\"Southern\":{\"FebLaborForce\":\"182K\",\"CumClaims\":\"74.2K\",\"PctFebLabor\":\"40.7%\",\"CurrentWarns\":\"2\"},\"Middle Georgia\":{\"FebLaborForce\":\"222K\",\"CumClaims\":\"81K\",\"PctFebLabor\":\"36.5%\",\"CurrentWarns\":\"16\"},\"CSRA\":{\"FebLaborForce\":\"212K\",\"CumClaims\":\"71.6K\",\"PctFebLabor\":\"33.8%\",\"CurrentWarns\":\"20\"},\"River Valley\":{\"FebLaborForce\":\"149K\",\"CumClaims\":\"61.4K\",\"PctFebLabor\":\"41.3%\",\"CurrentWarns\":\"11\"},\"Augusta-Richmond County, GA-SC\":{\"FebLaborForce\":\"184K\",\"CumClaims\":\"63.1K\",\"PctFebLabor\":\"34.4%\",\"CurrentWarns\":\"19\"},\"Henry County\":{\"FebLaborForce\":\"117K\",\"CumClaims\":\"63.7K\",\"PctFebLabor\":\"54.2%\",\"CurrentWarns\":\"4\"},\"Southwest\":{\"FebLaborForce\":\"151K\",\"CumClaims\":\"53.8K\",\"PctFebLabor\":\"35.7%\",\"CurrentWarns\":\"3\"},\"Columbus, GA-AL\":{\"FebLaborForce\":\"105K\",\"CumClaims\":\"45.5K\",\"PctFebLabor\":\"43.3%\",\"CurrentWarns\":\"6\"},\"Cherokee County\":{\"FebLaborForce\":\"138K\",\"CumClaims\":\"52.9K\",\"PctFebLabor\":\"38.4%\",\"CurrentWarns\":\"5\"},\"Douglas County\":{\"FebLaborForce\":\"74.4K\",\"CumClaims\":\"37.1K\",\"PctFebLabor\":\"49.9%\",\"CurrentWarns\":\"5\"},\"Athens-Clarke County, GA\":{\"FebLaborForce\":\"100K\",\"CumClaims\":\"42.2K\",\"PctFebLabor\":\"42.1%\",\"CurrentWarns\":\"6\"},\"Forsyth County\":{\"FebLaborForce\":\"124K\",\"CumClaims\":\"42K\",\"PctFebLabor\":\"33.9%\",\"CurrentWarns\":\"6\"},\"Dalton, GA\":{\"FebLaborForce\":\"59.2K\",\"CumClaims\":\"43.4K\",\"PctFebLabor\":\"73.4%\",\"CurrentWarns\":\"7\"},\"Muscogee County\":{\"FebLaborForce\":\"77.8K\",\"CumClaims\":\"36.4K\",\"PctFebLabor\":\"46.8%\",\"CurrentWarns\":\"5\"},\"Macon-Bibb County, GA\":{\"FebLaborForce\":\"104K\",\"CumClaims\":\"39K\",\"PctFebLabor\":\"37.4%\",\"CurrentWarns\":\"9\"},\"Richmond County\":{\"FebLaborForce\":\"86K\",\"CumClaims\":\"34.5K\",\"PctFebLabor\":\"40.1%\",\"CurrentWarns\":\"12\"},\"Gainesville, GA\":{\"FebLaborForce\":\"104K\",\"CumClaims\":\"38.5K\",\"PctFebLabor\":\"37.1%\",\"CurrentWarns\":\"6\"},\"Hall County\":{\"FebLaborForce\":\"104K\",\"CumClaims\":\"38.5K\",\"PctFebLabor\":\"37.1%\",\"CurrentWarns\":\"6\"},\"Fayette County\":{\"FebLaborForce\":\"58.9K\",\"CumClaims\":\"30.8K\",\"PctFebLabor\":\"52.3%\",\"CurrentWarns\":\"5\"},\"Heart of Georgia\":{\"FebLaborForce\":\"118K\",\"CumClaims\":\"35.8K\",\"PctFebLabor\":\"30.3%\",\"CurrentWarns\":\"5\"},\"Coweta County\":{\"FebLaborForce\":\"75.8K\",\"CumClaims\":\"34K\",\"PctFebLabor\":\"44.8%\",\"CurrentWarns\":\"5\"},\"Whitfield County\":{\"FebLaborForce\":\"43.5K\",\"CumClaims\":\"32.6K\",\"PctFebLabor\":\"74.9%\",\"CurrentWarns\":\"6\"},\"Clarke County\":{\"FebLaborForce\":\"59.9K\",\"CumClaims\":\"28.2K\",\"PctFebLabor\":\"47.0%\",\"CurrentWarns\":\"5\"},\"Bibb County\":{\"FebLaborForce\":\"68.6K\",\"CumClaims\":\"29.6K\",\"PctFebLabor\":\"43.1%\",\"CurrentWarns\":\"8\"},\"Paulding County\":{\"FebLaborForce\":\"87.4K\",\"CumClaims\":\"29.2K\",\"PctFebLabor\":\"33.4%\",\"CurrentWarns\":\"2\"},\"Troup County\":{\"FebLaborForce\":\"37.8K\",\"CumClaims\":\"19.5K\",\"PctFebLabor\":\"51.5%\",\"CurrentWarns\":\"1\"},\"Chattanooga, TN-GA\":{\"FebLaborForce\":\"74.5K\",\"CumClaims\":\"18.5K\",\"PctFebLabor\":\"24.9%\",\"CurrentWarns\":\"0\"},\"LaGrange, GA-AL\":{\"FebLaborForce\":\"37.8K\",\"CumClaims\":\"19.5K\",\"PctFebLabor\":\"51.5%\",\"CurrentWarns\":\"1\"},\"Albany, GA\":{\"FebLaborForce\":\"66.5K\",\"CumClaims\":\"28.7K\",\"PctFebLabor\":\"43.1%\",\"CurrentWarns\":\"3\"},\"Valdosta, GA\":{\"FebLaborForce\":\"64.8K\",\"CumClaims\":\"24.4K\",\"PctFebLabor\":\"37.6%\",\"CurrentWarns\":\"1\"},\"Bartow County\":{\"FebLaborForce\":\"51.5K\",\"CumClaims\":\"27.2K\",\"PctFebLabor\":\"52.8%\",\"CurrentWarns\":\"5\"},\"Carroll County\":{\"FebLaborForce\":\"56.3K\",\"CumClaims\":\"24K\",\"PctFebLabor\":\"42.6%\",\"CurrentWarns\":\"4\"},\"Warner Robins, GA\":{\"FebLaborForce\":\"83.4K\",\"CumClaims\":\"29K\",\"PctFebLabor\":\"34.8%\",\"CurrentWarns\":\"6\"},\"Brunswick, GA\":{\"FebLaborForce\":\"52.6K\",\"CumClaims\":\"26K\",\"PctFebLabor\":\"49.4%\",\"CurrentWarns\":\"4\"},\"Floyd County\":{\"FebLaborForce\":\"44.8K\",\"CumClaims\":\"21.8K\",\"PctFebLabor\":\"48.7%\",\"CurrentWarns\":\"2\"},\"Rome, GA\":{\"FebLaborForce\":\"44.8K\",\"CumClaims\":\"21.8K\",\"PctFebLabor\":\"48.7%\",\"CurrentWarns\":\"2\"},\"Newton County\":{\"FebLaborForce\":\"53.1K\",\"CumClaims\":\"23.3K\",\"PctFebLabor\":\"44.0%\",\"CurrentWarns\":\"2\"},\"Rockdale County\":{\"FebLaborForce\":\"45.5K\",\"CumClaims\":\"21.5K\",\"PctFebLabor\":\"47.2%\",\"CurrentWarns\":\"1\"},\"Lowndes County\":{\"FebLaborForce\":\"51.9K\",\"CumClaims\":\"21.1K\",\"PctFebLabor\":\"40.8%\",\"CurrentWarns\":\"1\"},\"Houston County\":{\"FebLaborForce\":\"71.4K\",\"CumClaims\":\"24.1K\",\"PctFebLabor\":\"33.8%\",\"CurrentWarns\":\"4\"},\"Glynn County\":{\"FebLaborForce\":\"39.1K\",\"CumClaims\":\"21.1K\",\"PctFebLabor\":\"53.9%\",\"CurrentWarns\":\"4\"},\"Walton County\":{\"FebLaborForce\":\"46.8K\",\"CumClaims\":\"20.1K\",\"PctFebLabor\":\"42.9%\",\"CurrentWarns\":\"0\"},\"Walker County\":{\"FebLaborForce\":\"32K\",\"CumClaims\":\"9.84K\",\"PctFebLabor\":\"30.8%\",\"CurrentWarns\":\"0\"},\"Columbia County\":{\"FebLaborForce\":\"75.9K\",\"CumClaims\":\"21.1K\",\"PctFebLabor\":\"27.8%\",\"CurrentWarns\":\"6\"},\"Barrow County\":{\"FebLaborForce\":\"41.1K\",\"CumClaims\":\"18.2K\",\"PctFebLabor\":\"44.2%\",\"CurrentWarns\":\"1\"},\"Dougherty County\":{\"FebLaborForce\":\"38.9K\",\"CumClaims\":\"17.1K\",\"PctFebLabor\":\"44.0%\",\"CurrentWarns\":\"3\"},\"Jefferson, GA\":{\"FebLaborForce\":\"37K\",\"CumClaims\":\"16.1K\",\"PctFebLabor\":\"43.4%\",\"CurrentWarns\":\"4\"},\"Jackson County\":{\"FebLaborForce\":\"37K\",\"CumClaims\":\"16.1K\",\"PctFebLabor\":\"43.4%\",\"CurrentWarns\":\"4\"},\"Calhoun, GA\":{\"FebLaborForce\":\"28.5K\",\"CumClaims\":\"14.3K\",\"PctFebLabor\":\"50.3%\",\"CurrentWarns\":\"0\"},\"Gordon County\":{\"FebLaborForce\":\"28.5K\",\"CumClaims\":\"14.3K\",\"PctFebLabor\":\"50.3%\",\"CurrentWarns\":\"0\"},\"Statesboro, GA\":{\"FebLaborForce\":\"37K\",\"CumClaims\":\"16.5K\",\"PctFebLabor\":\"44.7%\",\"CurrentWarns\":\"0\"},\"Bulloch County\":{\"FebLaborForce\":\"37K\",\"CumClaims\":\"16.5K\",\"PctFebLabor\":\"44.7%\",\"CurrentWarns\":\"0\"},\"Chattooga County\":{\"FebLaborForce\":\"10.4K\",\"CumClaims\":\"6.68K\",\"PctFebLabor\":\"64.4%\",\"CurrentWarns\":\"1\"},\"Summerville, GA\":{\"FebLaborForce\":\"10.4K\",\"CumClaims\":\"6.68K\",\"PctFebLabor\":\"64.4%\",\"CurrentWarns\":\"1\"},\"Hinesville, GA\":{\"FebLaborForce\":\"35.1K\",\"CumClaims\":\"12.6K\",\"PctFebLabor\":\"35.9%\",\"CurrentWarns\":\"2\"},\"Spalding County\":{\"FebLaborForce\":\"29.2K\",\"CumClaims\":\"12.7K\",\"PctFebLabor\":\"43.4%\",\"CurrentWarns\":\"0\"},\"Douglas, GA\":{\"FebLaborForce\":\"24.4K\",\"CumClaims\":\"12.2K\",\"PctFebLabor\":\"50.1%\",\"CurrentWarns\":\"0\"},\"Effingham County\":{\"FebLaborForce\":\"31.1K\",\"CumClaims\":\"11.2K\",\"PctFebLabor\":\"36.0%\",\"CurrentWarns\":\"1\"},\"Liberty County\":{\"FebLaborForce\":\"26.7K\",\"CumClaims\":\"10.3K\",\"PctFebLabor\":\"38.6%\",\"CurrentWarns\":\"2\"},\"Murray County\":{\"FebLaborForce\":\"15.6K\",\"CumClaims\":\"10.8K\",\"PctFebLabor\":\"69.2%\",\"CurrentWarns\":\"1\"},\"Bryan County\":{\"FebLaborForce\":\"18.4K\",\"CumClaims\":\"9.08K\",\"PctFebLabor\":\"49.4%\",\"CurrentWarns\":\"0\"},\"Milledgeville, GA\":{\"FebLaborForce\":\"20.4K\",\"CumClaims\":\"8.32K\",\"PctFebLabor\":\"40.9%\",\"CurrentWarns\":\"0\"},\"Fitzgerald, GA\":{\"FebLaborForce\":\"5.36K\",\"CumClaims\":\"6.15K\",\"PctFebLabor\":\"114.7%\",\"CurrentWarns\":\"0\"},\"Ben Hill County\":{\"FebLaborForce\":\"5.36K\",\"CumClaims\":\"6.15K\",\"PctFebLabor\":\"114.7%\",\"CurrentWarns\":\"0\"},\"Waycross, GA\":{\"FebLaborForce\":\"24.7K\",\"CumClaims\":\"7.33K\",\"PctFebLabor\":\"29.7%\",\"CurrentWarns\":\"1\"},\"Cordele, GA\":{\"FebLaborForce\":\"9.65K\",\"CumClaims\":\"5.65K\",\"PctFebLabor\":\"58.5%\",\"CurrentWarns\":\"2\"},\"Crisp County\":{\"FebLaborForce\":\"9.65K\",\"CumClaims\":\"5.65K\",\"PctFebLabor\":\"58.5%\",\"CurrentWarns\":\"2\"},\"Tifton, GA\":{\"FebLaborForce\":\"20.3K\",\"CumClaims\":\"6.94K\",\"PctFebLabor\":\"34.1%\",\"CurrentWarns\":\"0\"},\"Tift County\":{\"FebLaborForce\":\"20.3K\",\"CumClaims\":\"6.94K\",\"PctFebLabor\":\"34.1%\",\"CurrentWarns\":\"0\"},\"Polk County\":{\"FebLaborForce\":\"18.6K\",\"CumClaims\":\"8.32K\",\"PctFebLabor\":\"44.7%\",\"CurrentWarns\":\"0\"},\"Cedartown, GA\":{\"FebLaborForce\":\"18.6K\",\"CumClaims\":\"8.32K\",\"PctFebLabor\":\"44.7%\",\"CurrentWarns\":\"0\"},\"Lee County\":{\"FebLaborForce\":\"15K\",\"CumClaims\":\"8.28K\",\"PctFebLabor\":\"55.4%\",\"CurrentWarns\":\"0\"},\"Baldwin County\":{\"FebLaborForce\":\"17.8K\",\"CumClaims\":\"7.26K\",\"PctFebLabor\":\"40.8%\",\"CurrentWarns\":\"0\"},\"Dublin, GA\":{\"FebLaborForce\":\"25.9K\",\"CumClaims\":\"8.88K\",\"PctFebLabor\":\"34.3%\",\"CurrentWarns\":\"1\"},\"Colquitt County\":{\"FebLaborForce\":\"22K\",\"CumClaims\":\"6.23K\",\"PctFebLabor\":\"28.3%\",\"CurrentWarns\":\"0\"},\"Moultrie, GA\":{\"FebLaborForce\":\"22K\",\"CumClaims\":\"6.23K\",\"PctFebLabor\":\"28.3%\",\"CurrentWarns\":\"0\"},\"Catoosa County\":{\"FebLaborForce\":\"34.2K\",\"CumClaims\":\"6.95K\",\"PctFebLabor\":\"20.3%\",\"CurrentWarns\":\"0\"},\"Lumpkin County\":{\"FebLaborForce\":\"16.9K\",\"CumClaims\":\"6.17K\",\"PctFebLabor\":\"36.5%\",\"CurrentWarns\":\"1\"},\"Oconee County\":{\"FebLaborForce\":\"19.8K\",\"CumClaims\":\"6.37K\",\"PctFebLabor\":\"32.2%\",\"CurrentWarns\":\"1\"},\"Franklin County\":{\"FebLaborForce\":\"10.1K\",\"CumClaims\":\"5.23K\",\"PctFebLabor\":\"51.9%\",\"CurrentWarns\":\"0\"},\"St. Marys, GA\":{\"FebLaborForce\":\"21K\",\"CumClaims\":\"7.01K\",\"PctFebLabor\":\"33.3%\",\"CurrentWarns\":\"1\"},\"Camden County\":{\"FebLaborForce\":\"21K\",\"CumClaims\":\"7.01K\",\"PctFebLabor\":\"33.3%\",\"CurrentWarns\":\"1\"},\"Atkinson County\":{\"FebLaborForce\":\"5.15K\",\"CumClaims\":\"6.43K\",\"PctFebLabor\":\"124.8%\",\"CurrentWarns\":\"0\"},\"Coffee County\":{\"FebLaborForce\":\"19.3K\",\"CumClaims\":\"5.81K\",\"PctFebLabor\":\"30.1%\",\"CurrentWarns\":\"0\"},\"Stephens County\":{\"FebLaborForce\":\"10.7K\",\"CumClaims\":\"4.72K\",\"PctFebLabor\":\"44.1%\",\"CurrentWarns\":\"0\"},\"Toccoa, GA\":{\"FebLaborForce\":\"10.7K\",\"CumClaims\":\"4.72K\",\"PctFebLabor\":\"44.1%\",\"CurrentWarns\":\"0\"},\"Harris County\":{\"FebLaborForce\":\"16.8K\",\"CumClaims\":\"6.01K\",\"PctFebLabor\":\"35.8%\",\"CurrentWarns\":\"0\"},\"Thomasville, GA\":{\"FebLaborForce\":\"16.6K\",\"CumClaims\":\"6.28K\",\"PctFebLabor\":\"37.9%\",\"CurrentWarns\":\"0\"},\"Thomas County\":{\"FebLaborForce\":\"16.6K\",\"CumClaims\":\"6.28K\",\"PctFebLabor\":\"37.9%\",\"CurrentWarns\":\"0\"},\"Madison County\":{\"FebLaborForce\":\"13.5K\",\"CumClaims\":\"5.67K\",\"PctFebLabor\":\"42.1%\",\"CurrentWarns\":\"0\"},\"Upson County\":{\"FebLaborForce\":\"11.6K\",\"CumClaims\":\"4.97K\",\"PctFebLabor\":\"42.9%\",\"CurrentWarns\":\"0\"},\"Thomaston, GA\":{\"FebLaborForce\":\"11.6K\",\"CumClaims\":\"4.97K\",\"PctFebLabor\":\"42.9%\",\"CurrentWarns\":\"0\"},\"Cornelia, GA\":{\"FebLaborForce\":\"19.2K\",\"CumClaims\":\"6.5K\",\"PctFebLabor\":\"33.8%\",\"CurrentWarns\":\"0\"},\"Habersham County\":{\"FebLaborForce\":\"19.2K\",\"CumClaims\":\"6.5K\",\"PctFebLabor\":\"33.8%\",\"CurrentWarns\":\"0\"},\"Wayne County\":{\"FebLaborForce\":\"11.4K\",\"CumClaims\":\"4.25K\",\"PctFebLabor\":\"37.3%\",\"CurrentWarns\":\"0\"},\"Jesup, GA\":{\"FebLaborForce\":\"11.4K\",\"CumClaims\":\"4.25K\",\"PctFebLabor\":\"37.3%\",\"CurrentWarns\":\"0\"},\"Laurens County\":{\"FebLaborForce\":\"19.1K\",\"CumClaims\":\"7.3K\",\"PctFebLabor\":\"38.1%\",\"CurrentWarns\":\"1\"},\"Vidalia, GA\":{\"FebLaborForce\":\"15.7K\",\"CumClaims\":\"5.98K\",\"PctFebLabor\":\"38.1%\",\"CurrentWarns\":\"1\"},\"Dawson County\":{\"FebLaborForce\":\"12.5K\",\"CumClaims\":\"6.02K\",\"PctFebLabor\":\"48.2%\",\"CurrentWarns\":\"1\"},\"Butts County\":{\"FebLaborForce\":\"10.9K\",\"CumClaims\":\"5.29K\",\"PctFebLabor\":\"48.4%\",\"CurrentWarns\":\"0\"},\"Haralson County\":{\"FebLaborForce\":\"12.8K\",\"CumClaims\":\"5.97K\",\"PctFebLabor\":\"46.7%\",\"CurrentWarns\":\"0\"},\"Pickens County\":{\"FebLaborForce\":\"15.5K\",\"CumClaims\":\"5.64K\",\"PctFebLabor\":\"36.3%\",\"CurrentWarns\":\"0\"},\"White County\":{\"FebLaborForce\":\"16.5K\",\"CumClaims\":\"5.54K\",\"PctFebLabor\":\"33.6%\",\"CurrentWarns\":\"1\"},\"Meriwether County\":{\"FebLaborForce\":\"9.05K\",\"CumClaims\":\"4.16K\",\"PctFebLabor\":\"45.9%\",\"CurrentWarns\":\"0\"},\"Gilmer County\":{\"FebLaborForce\":\"11.9K\",\"CumClaims\":\"5.04K\",\"PctFebLabor\":\"42.4%\",\"CurrentWarns\":\"1\"},\"Peach County\":{\"FebLaborForce\":\"12K\",\"CumClaims\":\"4.89K\",\"PctFebLabor\":\"40.7%\",\"CurrentWarns\":\"2\"},\"Fannin County\":{\"FebLaborForce\":\"11.5K\",\"CumClaims\":\"4.64K\",\"PctFebLabor\":\"40.3%\",\"CurrentWarns\":\"0\"},\"Americus, GA\":{\"FebLaborForce\":\"15.3K\",\"CumClaims\":\"4K\",\"PctFebLabor\":\"26.1%\",\"CurrentWarns\":\"2\"},\"Decatur County\":{\"FebLaborForce\":\"11.9K\",\"CumClaims\":\"3.6K\",\"PctFebLabor\":\"30.2%\",\"CurrentWarns\":\"0\"},\"Bainbridge, GA\":{\"FebLaborForce\":\"11.9K\",\"CumClaims\":\"3.6K\",\"PctFebLabor\":\"30.2%\",\"CurrentWarns\":\"0\"},\"Ware County\":{\"FebLaborForce\":\"15.8K\",\"CumClaims\":\"4.61K\",\"PctFebLabor\":\"29.1%\",\"CurrentWarns\":\"1\"},\"Banks County\":{\"FebLaborForce\":\"9.9K\",\"CumClaims\":\"4.13K\",\"PctFebLabor\":\"41.7%\",\"CurrentWarns\":\"1\"},\"McDuffie County\":{\"FebLaborForce\":\"8.97K\",\"CumClaims\":\"3.6K\",\"PctFebLabor\":\"40.1%\",\"CurrentWarns\":\"1\"},\"Putnam County\":{\"FebLaborForce\":\"8.27K\",\"CumClaims\":\"3.71K\",\"PctFebLabor\":\"44.8%\",\"CurrentWarns\":\"1\"},\"Morgan County\":{\"FebLaborForce\":\"9.43K\",\"CumClaims\":\"3.6K\",\"PctFebLabor\":\"38.2%\",\"CurrentWarns\":\"0\"},\"Elbert County\":{\"FebLaborForce\":\"7.75K\",\"CumClaims\":\"3.16K\",\"PctFebLabor\":\"40.8%\",\"CurrentWarns\":\"0\"},\"Sumter County\":{\"FebLaborForce\":\"13.1K\",\"CumClaims\":\"3.61K\",\"PctFebLabor\":\"27.6%\",\"CurrentWarns\":\"2\"},\"Clinch County\":{\"FebLaborForce\":\"2.64K\",\"CumClaims\":\"3.55K\",\"PctFebLabor\":\"134.4%\",\"CurrentWarns\":\"0\"},\"Greene County\":{\"FebLaborForce\":\"7K\",\"CumClaims\":\"3.2K\",\"PctFebLabor\":\"45.7%\",\"CurrentWarns\":\"2\"},\"Toombs County\":{\"FebLaborForce\":\"11.8K\",\"CumClaims\":\"4.36K\",\"PctFebLabor\":\"36.8%\",\"CurrentWarns\":\"1\"},\"Pierce County\":{\"FebLaborForce\":\"8.83K\",\"CumClaims\":\"2.72K\",\"PctFebLabor\":\"30.8%\",\"CurrentWarns\":\"0\"},\"Monroe County\":{\"FebLaborForce\":\"13.2K\",\"CumClaims\":\"3.68K\",\"PctFebLabor\":\"27.9%\",\"CurrentWarns\":\"0\"},\"Cook County\":{\"FebLaborForce\":\"8.22K\",\"CumClaims\":\"2.66K\",\"PctFebLabor\":\"32.3%\",\"CurrentWarns\":\"0\"},\"Berrien County\":{\"FebLaborForce\":\"7.71K\",\"CumClaims\":\"3.26K\",\"PctFebLabor\":\"42.2%\",\"CurrentWarns\":\"0\"},\"Long County\":{\"FebLaborForce\":\"8.36K\",\"CumClaims\":\"2.27K\",\"PctFebLabor\":\"27.1%\",\"CurrentWarns\":\"0\"},\"Burke County\":{\"FebLaborForce\":\"9.32K\",\"CumClaims\":\"2.94K\",\"PctFebLabor\":\"31.5%\",\"CurrentWarns\":\"0\"},\"Hart County\":{\"FebLaborForce\":\"11.2K\",\"CumClaims\":\"3.27K\",\"PctFebLabor\":\"29.2%\",\"CurrentWarns\":\"0\"},\"Pike County\":{\"FebLaborForce\":\"9.05K\",\"CumClaims\":\"3.04K\",\"PctFebLabor\":\"33.6%\",\"CurrentWarns\":\"1\"},\"Brantley County\":{\"FebLaborForce\":\"7.25K\",\"CumClaims\":\"2.77K\",\"PctFebLabor\":\"38.2%\",\"CurrentWarns\":\"0\"},\"Lamar County\":{\"FebLaborForce\":\"8.41K\",\"CumClaims\":\"2.86K\",\"PctFebLabor\":\"34.0%\",\"CurrentWarns\":\"0\"},\"Jones County\":{\"FebLaborForce\":\"13.9K\",\"CumClaims\":\"3.26K\",\"PctFebLabor\":\"23.5%\",\"CurrentWarns\":\"0\"},\"Brooks County\":{\"FebLaborForce\":\"7.13K\",\"CumClaims\":\"1.83K\",\"PctFebLabor\":\"25.6%\",\"CurrentWarns\":\"0\"},\"Washington County\":{\"FebLaborForce\":\"7.07K\",\"CumClaims\":\"1.93K\",\"PctFebLabor\":\"27.3%\",\"CurrentWarns\":\"0\"},\"Emanuel County\":{\"FebLaborForce\":\"8.45K\",\"CumClaims\":\"2.43K\",\"PctFebLabor\":\"28.7%\",\"CurrentWarns\":\"0\"},\"Union County\":{\"FebLaborForce\":\"10.4K\",\"CumClaims\":\"3.58K\",\"PctFebLabor\":\"34.4%\",\"CurrentWarns\":\"0\"},\"Grady County\":{\"FebLaborForce\":\"10.6K\",\"CumClaims\":\"2.46K\",\"PctFebLabor\":\"23.2%\",\"CurrentWarns\":\"0\"},\"Heard County\":{\"FebLaborForce\":\"5.36K\",\"CumClaims\":\"2.01K\",\"PctFebLabor\":\"37.5%\",\"CurrentWarns\":\"0\"},\"Jefferson County\":{\"FebLaborForce\":\"6.76K\",\"CumClaims\":\"2.06K\",\"PctFebLabor\":\"30.5%\",\"CurrentWarns\":\"1\"},\"Worth County\":{\"FebLaborForce\":\"9.09K\",\"CumClaims\":\"2.22K\",\"PctFebLabor\":\"24.5%\",\"CurrentWarns\":\"0\"},\"Screven County\":{\"FebLaborForce\":\"5.11K\",\"CumClaims\":\"2.75K\",\"PctFebLabor\":\"53.7%\",\"CurrentWarns\":\"0\"},\"Jeff Davis County\":{\"FebLaborForce\":\"6.14K\",\"CumClaims\":\"1.88K\",\"PctFebLabor\":\"30.7%\",\"CurrentWarns\":\"0\"},\"Appling County\":{\"FebLaborForce\":\"9.9K\",\"CumClaims\":\"2.35K\",\"PctFebLabor\":\"23.8%\",\"CurrentWarns\":\"1\"},\"McIntosh County\":{\"FebLaborForce\":\"6.21K\",\"CumClaims\":\"2.1K\",\"PctFebLabor\":\"33.8%\",\"CurrentWarns\":\"0\"},\"Rabun County\":{\"FebLaborForce\":\"6.95K\",\"CumClaims\":\"2.72K\",\"PctFebLabor\":\"39.1%\",\"CurrentWarns\":\"0\"},\"Montgomery County\":{\"FebLaborForce\":\"3.86K\",\"CumClaims\":\"1.62K\",\"PctFebLabor\":\"41.9%\",\"CurrentWarns\":\"0\"},\"Mitchell County\":{\"FebLaborForce\":\"8.79K\",\"CumClaims\":\"1.93K\",\"PctFebLabor\":\"22.0%\",\"CurrentWarns\":\"0\"},\"Charlton County\":{\"FebLaborForce\":\"4.89K\",\"CumClaims\":\"1.25K\",\"PctFebLabor\":\"25.6%\",\"CurrentWarns\":\"0\"},\"Bacon County\":{\"FebLaborForce\":\"5.06K\",\"CumClaims\":\"1.67K\",\"PctFebLabor\":\"33.0%\",\"CurrentWarns\":\"0\"},\"Dodge County\":{\"FebLaborForce\":\"7.06K\",\"CumClaims\":\"2.11K\",\"PctFebLabor\":\"29.9%\",\"CurrentWarns\":\"1\"},\"Calhoun County\":{\"FebLaborForce\":\"2.38K\",\"CumClaims\":\"1.77K\",\"PctFebLabor\":\"74.2%\",\"CurrentWarns\":\"0\"},\"Dade County\":{\"FebLaborForce\":\"8.34K\",\"CumClaims\":\"1.75K\",\"PctFebLabor\":\"21.0%\",\"CurrentWarns\":\"0\"},\"Jasper County\":{\"FebLaborForce\":\"7.06K\",\"CumClaims\":\"2.15K\",\"PctFebLabor\":\"30.5%\",\"CurrentWarns\":\"0\"},\"Oglethorpe County\":{\"FebLaborForce\":\"7.08K\",\"CumClaims\":\"1.96K\",\"PctFebLabor\":\"27.7%\",\"CurrentWarns\":\"0\"},\"Tattnall County\":{\"FebLaborForce\":\"9.81K\",\"CumClaims\":\"1.81K\",\"PctFebLabor\":\"18.5%\",\"CurrentWarns\":\"0\"},\"Early County\":{\"FebLaborForce\":\"4.55K\",\"CumClaims\":\"1.01K\",\"PctFebLabor\":\"22.2%\",\"CurrentWarns\":\"0\"},\"Crawford County\":{\"FebLaborForce\":\"5.69K\",\"CumClaims\":\"1.67K\",\"PctFebLabor\":\"29.3%\",\"CurrentWarns\":\"1\"},\"Wilkinson County\":{\"FebLaborForce\":\"4.05K\",\"CumClaims\":\"1.07K\",\"PctFebLabor\":\"26.5%\",\"CurrentWarns\":\"0\"},\"Evans County\":{\"FebLaborForce\":\"4.98K\",\"CumClaims\":\"1.38K\",\"PctFebLabor\":\"27.6%\",\"CurrentWarns\":\"0\"},\"Chattahoochee County\":{\"FebLaborForce\":\"2.02K\",\"CumClaims\":\"1.06K\",\"PctFebLabor\":\"52.6%\",\"CurrentWarns\":\"1\"},\"Macon County\":{\"FebLaborForce\":\"4.84K\",\"CumClaims\":\"1.75K\",\"PctFebLabor\":\"36.2%\",\"CurrentWarns\":\"0\"},\"Bleckley County\":{\"FebLaborForce\":\"4.58K\",\"CumClaims\":\"1.28K\",\"PctFebLabor\":\"28.0%\",\"CurrentWarns\":\"0\"},\"Wilkes County\":{\"FebLaborForce\":\"3.89K\",\"CumClaims\":\"946\",\"PctFebLabor\":\"24.3%\",\"CurrentWarns\":\"0\"},\"Hancock County\":{\"FebLaborForce\":\"2.55K\",\"CumClaims\":\"1.06K\",\"PctFebLabor\":\"41.7%\",\"CurrentWarns\":\"0\"},\"Towns County\":{\"FebLaborForce\":\"3.87K\",\"CumClaims\":\"1.74K\",\"PctFebLabor\":\"44.9%\",\"CurrentWarns\":\"1\"},\"Terrell County\":{\"FebLaborForce\":\"3.55K\",\"CumClaims\":\"1.05K\",\"PctFebLabor\":\"29.6%\",\"CurrentWarns\":\"0\"},\"Turner County\":{\"FebLaborForce\":\"3.23K\",\"CumClaims\":\"1.14K\",\"PctFebLabor\":\"35.2%\",\"CurrentWarns\":\"0\"},\"Candler County\":{\"FebLaborForce\":\"5.72K\",\"CumClaims\":\"1.59K\",\"PctFebLabor\":\"27.8%\",\"CurrentWarns\":\"0\"},\"Lanier County\":{\"FebLaborForce\":\"3.8K\",\"CumClaims\":\"889\",\"PctFebLabor\":\"23.4%\",\"CurrentWarns\":\"0\"},\"Irwin County\":{\"FebLaborForce\":\"3.45K\",\"CumClaims\":\"843\",\"PctFebLabor\":\"24.4%\",\"CurrentWarns\":\"0\"},\"Dooly County\":{\"FebLaborForce\":\"5.19K\",\"CumClaims\":\"1.2K\",\"PctFebLabor\":\"23.1%\",\"CurrentWarns\":\"0\"},\"Lincoln County\":{\"FebLaborForce\":\"3.64K\",\"CumClaims\":\"994\",\"PctFebLabor\":\"27.3%\",\"CurrentWarns\":\"0\"},\"Marion County\":{\"FebLaborForce\":\"3.34K\",\"CumClaims\":\"897\",\"PctFebLabor\":\"26.9%\",\"CurrentWarns\":\"0\"},\"Warren County\":{\"FebLaborForce\":\"2.9K\",\"CumClaims\":\"868\",\"PctFebLabor\":\"29.9%\",\"CurrentWarns\":\"0\"},\"Telfair County\":{\"FebLaborForce\":\"4.2K\",\"CumClaims\":\"893\",\"PctFebLabor\":\"21.2%\",\"CurrentWarns\":\"1\"},\"Johnson County\":{\"FebLaborForce\":\"4.06K\",\"CumClaims\":\"873\",\"PctFebLabor\":\"21.5%\",\"CurrentWarns\":\"0\"},\"Randolph County\":{\"FebLaborForce\":\"2.62K\",\"CumClaims\":\"1.3K\",\"PctFebLabor\":\"49.7%\",\"CurrentWarns\":\"0\"},\"Talbot County\":{\"FebLaborForce\":\"2.83K\",\"CumClaims\":\"763\",\"PctFebLabor\":\"27.0%\",\"CurrentWarns\":\"0\"},\"Pulaski County\":{\"FebLaborForce\":\"4.14K\",\"CumClaims\":\"913\",\"PctFebLabor\":\"22.0%\",\"CurrentWarns\":\"0\"},\"Clay County\":{\"FebLaborForce\":\"910\",\"CumClaims\":\"849\",\"PctFebLabor\":\"93.3%\",\"CurrentWarns\":\"1\"},\"Seminole County\":{\"FebLaborForce\":\"3.12K\",\"CumClaims\":\"792\",\"PctFebLabor\":\"25.4%\",\"CurrentWarns\":\"0\"},\"Twiggs County\":{\"FebLaborForce\":\"2.93K\",\"CumClaims\":\"831\",\"PctFebLabor\":\"28.3%\",\"CurrentWarns\":\"0\"},\"Treutlen County\":{\"FebLaborForce\":\"2.68K\",\"CumClaims\":\"706\",\"PctFebLabor\":\"26.4%\",\"CurrentWarns\":\"0\"},\"Jenkins County\":{\"FebLaborForce\":\"3.13K\",\"CumClaims\":\"938\",\"PctFebLabor\":\"29.9%\",\"CurrentWarns\":\"0\"},\"Echols County\":{\"FebLaborForce\":\"2K\",\"CumClaims\":\"515\",\"PctFebLabor\":\"25.8%\",\"CurrentWarns\":\"0\"},\"Taylor County\":{\"FebLaborForce\":\"3.26K\",\"CumClaims\":\"852\",\"PctFebLabor\":\"26.2%\",\"CurrentWarns\":\"0\"},\"Schley County\":{\"FebLaborForce\":\"2.25K\",\"CumClaims\":\"397\",\"PctFebLabor\":\"17.6%\",\"CurrentWarns\":\"0\"},\"Wheeler County\":{\"FebLaborForce\":\"1.66K\",\"CumClaims\":\"449\",\"PctFebLabor\":\"27.0%\",\"CurrentWarns\":\"0\"},\"Glascock County\":{\"FebLaborForce\":\"1.31K\",\"CumClaims\":\"428\",\"PctFebLabor\":\"32.8%\",\"CurrentWarns\":\"0\"},\"Stewart County\":{\"FebLaborForce\":\"2.46K\",\"CumClaims\":\"417\",\"PctFebLabor\":\"17.0%\",\"CurrentWarns\":\"0\"},\"Wilcox County\":{\"FebLaborForce\":\"2.75K\",\"CumClaims\":\"524\",\"PctFebLabor\":\"19.0%\",\"CurrentWarns\":\"0\"},\"Miller County\":{\"FebLaborForce\":\"2.85K\",\"CumClaims\":\"542\",\"PctFebLabor\":\"19.0%\",\"CurrentWarns\":\"0\"},\"Baker County\":{\"FebLaborForce\":\"1.23K\",\"CumClaims\":\"482\",\"PctFebLabor\":\"39.2%\",\"CurrentWarns\":\"0\"},\"Webster County\":{\"FebLaborForce\":\"1.04K\",\"CumClaims\":\"161\",\"PctFebLabor\":\"15.4%\",\"CurrentWarns\":\"0\"},\"Taliaferro County\":{\"FebLaborForce\":\"581\",\"CumClaims\":\"195\",\"PctFebLabor\":\"33.6%\",\"CurrentWarns\":\"0\"},\"Eufaula, AL-GA\":{\"FebLaborForce\":\"797\",\"CumClaims\":\"80\",\"PctFebLabor\":\"10.0%\",\"CurrentWarns\":\"0\"},\"Quitman County\":{\"FebLaborForce\":\"797\",\"CumClaims\":\"80\",\"PctFebLabor\":\"10.0%\",\"CurrentWarns\":\"0\"}}'"
      ]
     },
     "execution_count": 71,
     "metadata": {},
     "output_type": "execute_result"
    }
   ],
   "source": [
    "# write files\n",
    "# this is the county polygon file for fill layers in mapbox\n",
    "countyShapes.to_file(\"app-data/mapbox/countyShapes.geojson\", driver='GeoJSON')\n",
    "# this is the county point file for circle layers in mapbox\n",
    "countyPoints.to_file(\"app-data/mapbox/countyPoints.geojson\", driver='GeoJSON')\n",
    "# this is for the github file to draw the d3 charts\n",
    "data.to_csv('app-data/uiClaims.csv', index=False)\n",
    "industryClaims.to_csv('app-data/industryClaims.csv', index=False)\n",
    "industryRoll.to_csv('app-data/countyIndustryClaims.csv', index=False)\n",
    "dataCum.to_csv('app-data/dataCum.csv', index=False)\n",
    "gaDataCum.to_csv('app-data/gaDataCum.csv', index=False)\n",
    "# this is for the warn logs by city for a point layer within the application\n",
    "appWarns.to_csv('app-data/warns.csv', index=False)\n",
    "warns.to_excel('app-data/warnsClean.xlsx', index=False)\n",
    "# this is for the json object to use as dynamically generated KPIs\n",
    "dataK.to_json(orient='index')"
   ]
  },
  {
   "cell_type": "code",
   "execution_count": null,
   "metadata": {},
   "outputs": [],
   "source": []
  },
  {
   "cell_type": "code",
   "execution_count": null,
   "metadata": {},
   "outputs": [],
   "source": []
  },
  {
   "cell_type": "code",
   "execution_count": null,
   "metadata": {},
   "outputs": [],
   "source": []
  }
 ],
 "metadata": {
  "kernelspec": {
   "display_name": "Python 3",
   "language": "python",
   "name": "python3"
  },
  "language_info": {
   "codemirror_mode": {
    "name": "ipython",
    "version": 3
   },
   "file_extension": ".py",
   "mimetype": "text/x-python",
   "name": "python",
   "nbconvert_exporter": "python",
   "pygments_lexer": "ipython3",
   "version": "3.7.6"
  }
 },
 "nbformat": 4,
 "nbformat_minor": 4
}
