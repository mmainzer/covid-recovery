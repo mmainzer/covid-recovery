{
 "cells": [
  {
   "cell_type": "code",
   "execution_count": 1,
   "metadata": {},
   "outputs": [],
   "source": [
    "import pandas as pd\n",
    "pd.set_option('display.max_columns', None)\n",
    "\n",
    "import numpy as np\n",
    "\n",
    "import geopandas as gpd\n",
    "import fiona\n",
    "\n",
    "import datetime"
   ]
  },
  {
   "cell_type": "code",
   "execution_count": 2,
   "metadata": {},
   "outputs": [],
   "source": [
    "sheets_dict = pd.read_excel('ui_claims_county_industry.xlsx', sheet_name=None,skiprows=2,skipfooter=3)\n",
    "\n",
    "df = pd.DataFrame()\n",
    "for name, sheet in sheets_dict.items():\n",
    "    sheet['County'] = name + 'County'\n",
    "    sheet = sheet.rename(columns=lambda x: x.split('\\n')[-1])\n",
    "    df = df.append(sheet)\n",
    "\n",
    "df.reset_index(inplace=True, drop=True)"
   ]
  },
  {
   "cell_type": "code",
   "execution_count": 3,
   "metadata": {},
   "outputs": [],
   "source": [
    "del df['Unnamed: 2']\n",
    "del df['Unnamed: 4']"
   ]
  },
  {
   "cell_type": "code",
   "execution_count": 4,
   "metadata": {},
   "outputs": [],
   "source": [
    "df = df.melt(id_vars=[\"County\", \"NAICS\", \"INDUSTRY NAME\"], \n",
    "             var_name=\"Date\", \n",
    "             value_name=\"Claims\")\n",
    "\n",
    "df['Claims'] = df['Claims'].replace(',', '', regex=True)\n",
    "\n",
    "df['Claims'] = df['Claims'].astype(int)"
   ]
  },
  {
   "cell_type": "code",
   "execution_count": 5,
   "metadata": {},
   "outputs": [],
   "source": [
    "warns = pd.read_excel('warnLogs_200720.xlsx')\n",
    "warns['County'] = warns['County'] + ' County'\n",
    "warns['County'] = warns['County'].str.strip()"
   ]
  },
  {
   "cell_type": "code",
   "execution_count": 6,
   "metadata": {},
   "outputs": [],
   "source": [
    "codes = pd.read_excel('../../data/geographies/regional-commissions.xlsx', usecols='A,B,C')\n",
    "codes['County'] = codes['County'] + ' County'\n",
    "codes['County'] = codes['County'].astype(str)\n",
    "\n",
    "msa = pd.read_excel('../../data/geographies/cbsa.xlsx', sheet_name='cbsa', usecols='A,D,H,I')\n",
    "msa = msa.loc[msa['State'] == 'Georgia']"
   ]
  },
  {
   "cell_type": "code",
   "execution_count": 7,
   "metadata": {},
   "outputs": [],
   "source": [
    "df = pd.merge(df,codes,how='left',on='County')\n"
   ]
  },
  {
   "cell_type": "code",
   "execution_count": 8,
   "metadata": {},
   "outputs": [],
   "source": [
    "df = pd.merge(df,msa,how='left',on='County')\n",
    "warns = pd.merge(warns,codes,how='left',on='County')\n",
    "warns = pd.merge(warns,msa,how='left',on='County')"
   ]
  },
  {
   "cell_type": "code",
   "execution_count": 9,
   "metadata": {},
   "outputs": [
    {
     "name": "stderr",
     "output_type": "stream",
     "text": [
      "/Users/mmainza/opt/anaconda3/lib/python3.7/site-packages/ipykernel_launcher.py:5: SettingWithCopyWarning: \n",
      "A value is trying to be set on a copy of a slice from a DataFrame.\n",
      "Try using .loc[row_indexer,col_indexer] = value instead\n",
      "\n",
      "See the caveats in the documentation: https://pandas.pydata.org/pandas-docs/stable/user_guide/indexing.html#returning-a-view-versus-a-copy\n",
      "  \"\"\"\n",
      "/Users/mmainza/opt/anaconda3/lib/python3.7/site-packages/ipykernel_launcher.py:7: SettingWithCopyWarning: \n",
      "A value is trying to be set on a copy of a slice from a DataFrame.\n",
      "Try using .loc[row_indexer,col_indexer] = value instead\n",
      "\n",
      "See the caveats in the documentation: https://pandas.pydata.org/pandas-docs/stable/user_guide/indexing.html#returning-a-view-versus-a-copy\n",
      "  import sys\n"
     ]
    }
   ],
   "source": [
    "today = np.datetime64('today')\n",
    "lastYear = today - 365\n",
    "\n",
    "warnsCurr = warns[(warns['Date'] > '2020-03-01') & (warns['Date'] <= today)]\n",
    "warnsCurr['Period'] = 'CurrentWarns'\n",
    "warnsLast = warns[(warns['Date'] > '2019-03-01') & (warns['Date'] <= lastYear)]\n",
    "warnsLast['Period'] = 'Last Period'\n",
    "warnPeriods = warnsCurr.append([warnsLast])\n",
    "\n",
    "warnPeriods = warnPeriods[['ID','Company name','Est. Impact','Date','Period']]\n",
    "\n",
    "warns = pd.merge(warns,warnPeriods,how='left',on=['ID','Company name','Est. Impact','Date'])\n",
    "\n",
    "warns['Period'].fillna('NA',inplace=True)"
   ]
  },
  {
   "cell_type": "code",
   "execution_count": 10,
   "metadata": {},
   "outputs": [],
   "source": [
    "warns['State'] = 'Georgia'"
   ]
  },
  {
   "cell_type": "code",
   "execution_count": 11,
   "metadata": {},
   "outputs": [],
   "source": [
    "countyWarns = warns.groupby(['County','Period']).size().reset_index()\n",
    "countyWarns = countyWarns.pivot_table(0, ['County'], 'Period').reset_index(drop=False)\n",
    "countyWarns.rename(columns={'County':'Area'}, inplace=True)\n",
    "msaWarns = warns.groupby(['CBSA Title','Period']).size().reset_index()\n",
    "msaWarns = msaWarns.pivot_table(0, ['CBSA Title'], 'Period').reset_index(drop=False)\n",
    "msaWarns.rename(columns={'CBSA Title':'Area'}, inplace=True)\n",
    "rcWarns = warns.groupby(['Regional Commission','Period']).size().reset_index()\n",
    "rcWarns = rcWarns.pivot_table(0, ['Regional Commission'], 'Period').reset_index(drop=False)\n",
    "rcWarns.rename(columns={'Regional Commission':'Area'}, inplace=True)\n",
    "stateWarns = warns.groupby(['State','Period']).size().reset_index()\n",
    "stateWarns = stateWarns.pivot_table(0, ['State'], 'Period').reset_index(drop=False)\n",
    "stateWarns.rename(columns={'State':'Area'}, inplace=True)\n",
    "del warns['State']\n",
    "\n",
    "areaWarns = stateWarns.append([rcWarns,msaWarns,countyWarns])\n",
    "areaWarns.reset_index(drop=True, inplace=True)\n",
    "\n",
    "areaWarns.fillna(0, inplace=True)"
   ]
  },
  {
   "cell_type": "code",
   "execution_count": 12,
   "metadata": {},
   "outputs": [],
   "source": [
    "areaWarns = areaWarns[['Area','CurrentWarns']]\n",
    "areaWarns.fillna(0, inplace=True)"
   ]
  },
  {
   "cell_type": "code",
   "execution_count": 13,
   "metadata": {},
   "outputs": [],
   "source": [
    "labor = pd.read_excel('county_laborForce.xlsx')\n",
    "labor.dropna(subset=['title'], inplace=True)\n",
    "labor = labor.loc[labor['Month'] == 3.0]\n",
    "labor['Date'] = pd.to_datetime(labor.Month.astype(int).astype(str) + '-7' + '-2020', format = '%m-%d-%Y')\n",
    "labor['Date'] = labor['Date'].dt.strftime('%m/%d/%Y')\n",
    "labor['title'] = labor['title'].replace(', GA', '', regex=True)"
   ]
  },
  {
   "cell_type": "code",
   "execution_count": 14,
   "metadata": {},
   "outputs": [],
   "source": [
    "marchLabor = labor[['title','Date','emp','unemp','laborforce']]"
   ]
  },
  {
   "cell_type": "code",
   "execution_count": 15,
   "metadata": {},
   "outputs": [
    {
     "name": "stderr",
     "output_type": "stream",
     "text": [
      "/Users/mmainza/opt/anaconda3/lib/python3.7/site-packages/pandas/core/frame.py:4133: SettingWithCopyWarning: \n",
      "A value is trying to be set on a copy of a slice from a DataFrame\n",
      "\n",
      "See the caveats in the documentation: https://pandas.pydata.org/pandas-docs/stable/user_guide/indexing.html#returning-a-view-versus-a-copy\n",
      "  errors=errors,\n"
     ]
    }
   ],
   "source": [
    "marchLabor.rename(columns={'title'      : 'County',\n",
    "                           'emp'        : 'MarchEmployed',\n",
    "                           'unemp'      : 'MarchUnemployed',\n",
    "                           'laborforce' : 'MarchLaborForce'}, inplace=True)\n",
    "marchLabor.reset_index(drop=True, inplace=True)"
   ]
  },
  {
   "cell_type": "code",
   "execution_count": 16,
   "metadata": {},
   "outputs": [],
   "source": [
    "# create separate frame of total claims by county, not industry\n",
    "countyClaims = df.groupby(['area_code','County','Date']).agg({'Claims':'sum'}).reset_index()"
   ]
  },
  {
   "cell_type": "code",
   "execution_count": 17,
   "metadata": {},
   "outputs": [],
   "source": [
    "countyClaims.drop_duplicates(inplace=True)"
   ]
  },
  {
   "cell_type": "code",
   "execution_count": 18,
   "metadata": {},
   "outputs": [],
   "source": [
    "countyClaims = pd.merge(countyClaims,marchLabor,how='left',on=['County','Date'])\n",
    "\n",
    "countyClaims.MarchEmployed.fillna(method='ffill', inplace=True)\n",
    "countyClaims.MarchUnemployed.fillna(method='ffill', inplace=True)\n",
    "countyClaims.MarchLaborForce.fillna(method='ffill', inplace=True)\n",
    "\n",
    "countyClaims['CumClaims'] = countyClaims.groupby(['area_code','County'])['Claims'].apply(lambda x: x.cumsum())\n",
    "\n",
    "countyClaims['Employed'] = countyClaims.MarchEmployed - countyClaims.CumClaims\n",
    "countyClaims['Unemployed'] = countyClaims.MarchUnemployed + countyClaims.CumClaims\n",
    "countyClaims['PctChngEmployed'] = ( ( countyClaims.Employed - countyClaims.MarchEmployed ) / countyClaims.MarchEmployed ) * 100\n",
    "countyClaims.PctChngEmployed = countyClaims.PctChngEmployed.round(1)"
   ]
  },
  {
   "cell_type": "code",
   "execution_count": 19,
   "metadata": {},
   "outputs": [],
   "source": [
    "# do this for the whole state\n",
    "marchLaborState = marchLabor.groupby('Date') \\\n",
    "                            .agg({'MarchEmployed':'sum','MarchUnemployed' : 'sum','MarchLaborForce' : 'sum'}) \\\n",
    "                            .reset_index()\n",
    "\n",
    "stateClaims = countyClaims[['County','Date','Claims']]\n",
    "\n",
    "stateClaims = stateClaims.groupby('Date').agg({'Claims':'sum'}).reset_index()\n",
    "\n",
    "stateClaims = pd.merge(stateClaims, marchLaborState, how='left', on='Date')\n",
    "\n",
    "stateClaims.MarchEmployed.fillna(method='ffill', inplace=True)\n",
    "stateClaims.MarchUnemployed.fillna(method='ffill', inplace=True)\n",
    "stateClaims.MarchLaborForce.fillna(method='ffill', inplace=True)"
   ]
  },
  {
   "cell_type": "code",
   "execution_count": 20,
   "metadata": {},
   "outputs": [],
   "source": [
    "stateClaims['State'] = 'Georgia'"
   ]
  },
  {
   "cell_type": "code",
   "execution_count": 21,
   "metadata": {},
   "outputs": [],
   "source": [
    "stateClaims['CumClaims'] = stateClaims.groupby(['State'])['Claims'].apply(lambda x: x.cumsum())"
   ]
  },
  {
   "cell_type": "code",
   "execution_count": 22,
   "metadata": {},
   "outputs": [],
   "source": [
    "stateClaims['Employed'] = stateClaims.MarchEmployed - stateClaims.CumClaims\n",
    "stateClaims['Unemployed'] = stateClaims.MarchUnemployed + stateClaims.CumClaims\n",
    "stateClaims['PctChngEmployed'] = ( ( stateClaims.Employed - stateClaims.MarchEmployed ) / stateClaims.MarchEmployed ) * 100\n",
    "stateClaims.PctChngEmployed = stateClaims.PctChngEmployed.round(1)"
   ]
  },
  {
   "cell_type": "code",
   "execution_count": 23,
   "metadata": {},
   "outputs": [],
   "source": [
    "stateClaims = stateClaims[['State','Date','Claims','MarchEmployed','MarchUnemployed','MarchLaborForce',\n",
    "                           'CumClaims','Employed','Unemployed','PctChngEmployed']]"
   ]
  },
  {
   "cell_type": "code",
   "execution_count": 24,
   "metadata": {},
   "outputs": [],
   "source": [
    "# now do the same with msa claims"
   ]
  },
  {
   "cell_type": "code",
   "execution_count": 25,
   "metadata": {},
   "outputs": [],
   "source": [
    "marchLaborMsa = pd.merge(marchLabor, msa, how='left', on='County')"
   ]
  },
  {
   "cell_type": "code",
   "execution_count": 26,
   "metadata": {},
   "outputs": [],
   "source": [
    "marchLaborMsa.dropna(subset=['CBSA Code'], inplace=True)"
   ]
  },
  {
   "cell_type": "code",
   "execution_count": 27,
   "metadata": {},
   "outputs": [],
   "source": [
    "marchLaborMsa = marchLaborMsa.groupby(['CBSA Title','Date']) \\\n",
    "                             .agg({'MarchEmployed':'sum','MarchUnemployed' : 'sum','MarchLaborForce' : 'sum'}) \\\n",
    "                             .reset_index()"
   ]
  },
  {
   "cell_type": "code",
   "execution_count": 28,
   "metadata": {},
   "outputs": [],
   "source": [
    "msaClaims = countyClaims[['County','Date','Claims']]\n",
    "msaClaims = pd.merge(msaClaims, msa, how='left', on='County')\n",
    "\n",
    "msaClaims.dropna(subset=['CBSA Code'], inplace=True)\n",
    "\n",
    "msaClaims = msaClaims.groupby(['CBSA Title','Date']) \\\n",
    "                             .agg({'Claims':'sum'}) \\\n",
    "                             .reset_index()\n",
    "\n",
    "msaClaims = pd.merge(msaClaims,marchLaborMsa,how='left',on=['CBSA Title','Date'])\n",
    "\n",
    "\n",
    "msaClaims.MarchEmployed.fillna(method='ffill', inplace=True)\n",
    "msaClaims.MarchUnemployed.fillna(method='ffill', inplace=True)\n",
    "msaClaims.MarchLaborForce.fillna(method='ffill', inplace=True)\n",
    "\n",
    "msaClaims['CumClaims'] = msaClaims.groupby(['CBSA Title'])['Claims'].apply(lambda x: x.cumsum())\n",
    "\n",
    "msaClaims['Employed'] = msaClaims.MarchEmployed - msaClaims.CumClaims\n",
    "msaClaims['Unemployed'] = msaClaims.MarchUnemployed + msaClaims.CumClaims\n",
    "msaClaims['PctChngEmployed'] = ( ( msaClaims.Employed - msaClaims.MarchEmployed ) / msaClaims.MarchEmployed ) * 100\n",
    "msaClaims.PctChngEmployed = msaClaims.PctChngEmployed.round(1)"
   ]
  },
  {
   "cell_type": "code",
   "execution_count": 29,
   "metadata": {},
   "outputs": [],
   "source": [
    "# now repeat with regional commissions"
   ]
  },
  {
   "cell_type": "code",
   "execution_count": 30,
   "metadata": {},
   "outputs": [],
   "source": [
    "marchLaborRc = pd.merge(marchLabor, codes, how='left', on='County')"
   ]
  },
  {
   "cell_type": "code",
   "execution_count": 31,
   "metadata": {},
   "outputs": [],
   "source": [
    "marchLaborRc = marchLaborRc.groupby(['Regional Commission','Date']) \\\n",
    "                             .agg({'MarchEmployed':'sum','MarchUnemployed' : 'sum','MarchLaborForce' : 'sum'}) \\\n",
    "                             .reset_index()"
   ]
  },
  {
   "cell_type": "code",
   "execution_count": 32,
   "metadata": {},
   "outputs": [],
   "source": [
    "rcClaims = countyClaims[['County','Date','Claims']]\n",
    "rcClaims = pd.merge(rcClaims, codes, how='left', on='County')\n",
    "\n",
    "rcClaims = rcClaims.groupby(['Regional Commission','Date']) \\\n",
    "                             .agg({'Claims':'sum'}) \\\n",
    "                             .reset_index()\n",
    "\n",
    "rcClaims = pd.merge(rcClaims,marchLaborRc,how='left',on=['Regional Commission','Date'])\n",
    "\n",
    "\n",
    "rcClaims.MarchEmployed.fillna(method='ffill', inplace=True)\n",
    "rcClaims.MarchUnemployed.fillna(method='ffill', inplace=True)\n",
    "rcClaims.MarchLaborForce.fillna(method='ffill', inplace=True)\n",
    "\n",
    "rcClaims['CumClaims'] = rcClaims.groupby(['Regional Commission'])['Claims'].apply(lambda x: x.cumsum())\n",
    "\n",
    "rcClaims['Employed'] = rcClaims.MarchEmployed - rcClaims.CumClaims\n",
    "rcClaims['Unemployed'] = rcClaims.MarchUnemployed + rcClaims.CumClaims\n",
    "rcClaims['PctChngEmployed'] = ( ( rcClaims.Employed - rcClaims.MarchEmployed ) / rcClaims.MarchEmployed ) * 100\n",
    "rcClaims.PctChngEmployed = rcClaims.PctChngEmployed.round(1)"
   ]
  },
  {
   "cell_type": "code",
   "execution_count": 33,
   "metadata": {},
   "outputs": [],
   "source": [
    "del countyClaims['area_code']\n",
    "\n",
    "msaClaims.rename(columns={'CBSA Title' : 'Area'}, inplace=True)\n",
    "rcClaims.rename(columns={'Regional Commission' : 'Area'}, inplace=True)\n",
    "countyClaims.rename(columns={'County' : 'Area'}, inplace=True)\n",
    "stateClaims.rename(columns={'State' : 'Area'}, inplace=True)"
   ]
  },
  {
   "cell_type": "code",
   "execution_count": null,
   "metadata": {},
   "outputs": [],
   "source": []
  },
  {
   "cell_type": "code",
   "execution_count": 34,
   "metadata": {},
   "outputs": [],
   "source": [
    "# stack on top of each other and write out as a single data frame for line and bar charts"
   ]
  },
  {
   "cell_type": "code",
   "execution_count": 35,
   "metadata": {},
   "outputs": [],
   "source": [
    "data = stateClaims.append([countyClaims,rcClaims,msaClaims])"
   ]
  },
  {
   "cell_type": "code",
   "execution_count": 36,
   "metadata": {},
   "outputs": [],
   "source": [
    "data.reset_index(drop=True, inplace=True)"
   ]
  },
  {
   "cell_type": "code",
   "execution_count": 37,
   "metadata": {},
   "outputs": [
    {
     "data": {
      "text/html": [
       "<div>\n",
       "<style scoped>\n",
       "    .dataframe tbody tr th:only-of-type {\n",
       "        vertical-align: middle;\n",
       "    }\n",
       "\n",
       "    .dataframe tbody tr th {\n",
       "        vertical-align: top;\n",
       "    }\n",
       "\n",
       "    .dataframe thead th {\n",
       "        text-align: right;\n",
       "    }\n",
       "</style>\n",
       "<table border=\"1\" class=\"dataframe\">\n",
       "  <thead>\n",
       "    <tr style=\"text-align: right;\">\n",
       "      <th></th>\n",
       "      <th>Area</th>\n",
       "      <th>Date</th>\n",
       "      <th>Claims</th>\n",
       "      <th>MarchEmployed</th>\n",
       "      <th>MarchUnemployed</th>\n",
       "      <th>MarchLaborForce</th>\n",
       "      <th>CumClaims</th>\n",
       "      <th>Employed</th>\n",
       "      <th>Unemployed</th>\n",
       "      <th>PctChngEmployed</th>\n",
       "    </tr>\n",
       "  </thead>\n",
       "  <tbody>\n",
       "    <tr>\n",
       "      <th>0</th>\n",
       "      <td>Georgia</td>\n",
       "      <td>03/07/2020</td>\n",
       "      <td>4401</td>\n",
       "      <td>4936482.0</td>\n",
       "      <td>223653.0</td>\n",
       "      <td>5160135.0</td>\n",
       "      <td>4401</td>\n",
       "      <td>4932081.0</td>\n",
       "      <td>228054.0</td>\n",
       "      <td>-0.1</td>\n",
       "    </tr>\n",
       "    <tr>\n",
       "      <th>1</th>\n",
       "      <td>Georgia</td>\n",
       "      <td>03/14/2020</td>\n",
       "      <td>5248</td>\n",
       "      <td>4936482.0</td>\n",
       "      <td>223653.0</td>\n",
       "      <td>5160135.0</td>\n",
       "      <td>9649</td>\n",
       "      <td>4926833.0</td>\n",
       "      <td>233302.0</td>\n",
       "      <td>-0.2</td>\n",
       "    </tr>\n",
       "    <tr>\n",
       "      <th>2</th>\n",
       "      <td>Georgia</td>\n",
       "      <td>03/21/2020</td>\n",
       "      <td>11707</td>\n",
       "      <td>4936482.0</td>\n",
       "      <td>223653.0</td>\n",
       "      <td>5160135.0</td>\n",
       "      <td>21356</td>\n",
       "      <td>4915126.0</td>\n",
       "      <td>245009.0</td>\n",
       "      <td>-0.4</td>\n",
       "    </tr>\n",
       "    <tr>\n",
       "      <th>3</th>\n",
       "      <td>Georgia</td>\n",
       "      <td>03/28/2020</td>\n",
       "      <td>130544</td>\n",
       "      <td>4936482.0</td>\n",
       "      <td>223653.0</td>\n",
       "      <td>5160135.0</td>\n",
       "      <td>151900</td>\n",
       "      <td>4784582.0</td>\n",
       "      <td>375553.0</td>\n",
       "      <td>-3.1</td>\n",
       "    </tr>\n",
       "    <tr>\n",
       "      <th>4</th>\n",
       "      <td>Georgia</td>\n",
       "      <td>04/04/2020</td>\n",
       "      <td>377105</td>\n",
       "      <td>4936482.0</td>\n",
       "      <td>223653.0</td>\n",
       "      <td>5160135.0</td>\n",
       "      <td>529005</td>\n",
       "      <td>4407477.0</td>\n",
       "      <td>752658.0</td>\n",
       "      <td>-10.7</td>\n",
       "    </tr>\n",
       "  </tbody>\n",
       "</table>\n",
       "</div>"
      ],
      "text/plain": [
       "      Area        Date  Claims  MarchEmployed  MarchUnemployed  \\\n",
       "0  Georgia  03/07/2020    4401      4936482.0         223653.0   \n",
       "1  Georgia  03/14/2020    5248      4936482.0         223653.0   \n",
       "2  Georgia  03/21/2020   11707      4936482.0         223653.0   \n",
       "3  Georgia  03/28/2020  130544      4936482.0         223653.0   \n",
       "4  Georgia  04/04/2020  377105      4936482.0         223653.0   \n",
       "\n",
       "   MarchLaborForce  CumClaims   Employed  Unemployed  PctChngEmployed  \n",
       "0        5160135.0       4401  4932081.0    228054.0             -0.1  \n",
       "1        5160135.0       9649  4926833.0    233302.0             -0.2  \n",
       "2        5160135.0      21356  4915126.0    245009.0             -0.4  \n",
       "3        5160135.0     151900  4784582.0    375553.0             -3.1  \n",
       "4        5160135.0     529005  4407477.0    752658.0            -10.7  "
      ]
     },
     "execution_count": 37,
     "metadata": {},
     "output_type": "execute_result"
    }
   ],
   "source": [
    "data.head()"
   ]
  },
  {
   "cell_type": "code",
   "execution_count": 38,
   "metadata": {},
   "outputs": [],
   "source": [
    "countyClaims=countyClaims.groupby('Area').apply(lambda x: x.reset_index(drop=True)).drop('Area',axis=1).reset_index()\n",
    "dateMax = countyClaims.level_1.max()\n",
    "countyClaims = countyClaims.loc[countyClaims['level_1'] == dateMax]\n",
    "countyClaims.reset_index(drop=True, inplace=True)\n",
    "countyShape = gpd.read_file(\"spatial/ga-counties.geojson\")\n",
    "countyClaims = pd.merge(countyClaims, codes, how='left', left_on='Area', right_on='County')\n",
    "countyClaims.area_code = countyClaims.area_code.astype(str)"
   ]
  },
  {
   "cell_type": "code",
   "execution_count": 39,
   "metadata": {},
   "outputs": [],
   "source": [
    "countyClaims = pd.merge(countyClaims,areaWarns,how='left',on='Area')"
   ]
  },
  {
   "cell_type": "code",
   "execution_count": 40,
   "metadata": {},
   "outputs": [],
   "source": [
    "countyShape = pd.merge(countyShape, countyClaims, how='left', left_on='GEOID', right_on='area_code')\n",
    "countyShapes = countyShape[['area_code','County','CumClaims','MarchEmployed','MarchUnemployed',\n",
    "                            'MarchLaborForce','Employed','Unemployed','PctChngEmployed','CurrentWarns','geometry']]"
   ]
  },
  {
   "cell_type": "code",
   "execution_count": 41,
   "metadata": {},
   "outputs": [],
   "source": [
    "countyShapes = gpd.GeoDataFrame(countyShapes, geometry='geometry')\n",
    "countyPoints = countyShapes.copy()\n",
    "countyPoints['geometry'] = countyPoints['geometry'].centroid"
   ]
  },
  {
   "cell_type": "code",
   "execution_count": 42,
   "metadata": {},
   "outputs": [],
   "source": [
    "# now reshape the industry claims data to rollup by county and industry\n",
    "\n",
    "df['State'] = 'Georgia'\n",
    "\n",
    "df.rename(columns={'INDUSTRY NAME':'Industry'}, inplace=True)\n",
    "\n",
    "industryCountyClaims = df.groupby(['County','Industry']) \\\n",
    "                             .agg({'Claims':'sum'}) \\\n",
    "                             .reset_index() \\\n",
    "                             .rename(columns={'County':'Area'})\n",
    "\n",
    "industryCountyClaims.sort_values(['Area','Claims'], ascending=[True,False], inplace=True)\n",
    "\n",
    "industryRcClaims = df.groupby(['Regional Commission','Industry']) \\\n",
    "                             .agg({'Claims':'sum'}) \\\n",
    "                             .reset_index() \\\n",
    "                             .rename(columns={'Regional Commission':'Area'})\n",
    "\n",
    "industryRcClaims.sort_values(['Area','Claims'], ascending=[True,False], inplace=True)\n",
    "\n",
    "industryMsaClaims = df.groupby(['CBSA Title','Industry']) \\\n",
    "                             .agg({'Claims':'sum'}) \\\n",
    "                             .reset_index() \\\n",
    "                             .rename(columns={'CBSA Title':'Area'})\n",
    "\n",
    "industryMsaClaims.sort_values(['Area','Claims'], ascending=[True,False], inplace=True)\n",
    "\n",
    "\n",
    "industryStateClaims = df.groupby(['State','Industry']) \\\n",
    "                             .agg({'Claims':'sum'}) \\\n",
    "                             .reset_index() \\\n",
    "                             .rename(columns={'State':'Area'})\n",
    "\n",
    "industryStateClaims.sort_values(['Area','Claims'], ascending=[True,False], inplace=True)\n",
    "\n",
    "del df['State']"
   ]
  },
  {
   "cell_type": "code",
   "execution_count": 43,
   "metadata": {},
   "outputs": [],
   "source": [
    "# append these together and reindex them\n",
    "industryClaims = industryStateClaims.append([industryCountyClaims,industryRcClaims,industryMsaClaims])\n",
    "\n",
    "industryClaims.reset_index(drop=True, inplace=True)\n",
    "\n",
    "industryClaims['Ind'] = np.where(industryClaims.Industry.str.contains(\"Accommodation\"), \"Food Services\",\n",
    "                        np.where(industryClaims.Industry.str.contains(\"Waste\"), \"Support, Waste Management\",\n",
    "                        np.where(industryClaims.Industry.str.contains(\"Agriculture\"), \"Agriculture\",\n",
    "                        np.where(industryClaims.Industry.str.contains(\"Entertainment\"), \"Entertainment\",\n",
    "                        np.where(industryClaims.Industry.str.contains(\"Construction\"), \"Construction\",\n",
    "                        np.where(industryClaims.Industry.str.contains(\"Educational\"), \"Education\",\n",
    "                        np.where(industryClaims.Industry.str.contains(\"Finance\"), \"Finance\",\n",
    "                        np.where(industryClaims.Industry.str.contains(\"Health\"), \"Health Care\",\n",
    "                        np.where(industryClaims.Industry.str.contains(\"Information\"), \"Information\",\n",
    "                        np.where(industryClaims.Industry.str.contains(\"Management\"), \"Enterprise Management\",\n",
    "                        np.where(industryClaims.Industry.str.contains(\"Manufacturing\"), \"Manufacturing\",\n",
    "                        np.where(industryClaims.Industry.str.contains(\"Mining\"), \"Oil & Gas\",\n",
    "                        np.where(industryClaims.Industry.str.contains(\"Other\"), \"Other\",\n",
    "                        np.where(industryClaims.Industry.str.contains(\"Technical\"), \"Technical Services\",\n",
    "                        np.where(industryClaims.Industry.str.contains(\"Public\"), \"Public Admin\",\n",
    "                        np.where(industryClaims.Industry.str.contains(\"Real Estate\"), \"Real Estate\",\n",
    "                        np.where(industryClaims.Industry.str.contains(\"Retail Trade\"), \"Retail\",\n",
    "                        np.where(industryClaims.Industry.str.contains(\"Transportation\"), \"Transportation\",\n",
    "                        np.where(industryClaims.Industry.str.contains(\"Unclassified\"), \"Unclassified\",\n",
    "                        np.where(industryClaims.Industry.str.contains(\"Utilities\"), \"Utilities\",\n",
    "                        np.where(industryClaims.Industry.str.contains(\"Wholesale\"), \"Wholesale Trade\",\"ts\")))))))))))))))))))))"
   ]
  },
  {
   "cell_type": "code",
   "execution_count": 44,
   "metadata": {},
   "outputs": [],
   "source": [
    "industryClaims = industryClaims[['Area','Industry','Ind','Claims']]"
   ]
  },
  {
   "cell_type": "code",
   "execution_count": 45,
   "metadata": {},
   "outputs": [],
   "source": [
    "# now get the KPIs you need in a json file\n",
    "dataK = data.copy()\n",
    "dataK=dataK.groupby('Area').apply(lambda x: x.reset_index(drop=True)).drop('Area',axis=1).reset_index()\n",
    "dateMax = dataK.level_1.max()\n",
    "dataK = dataK.loc[dataK['level_1'] == dateMax]"
   ]
  },
  {
   "cell_type": "code",
   "execution_count": 46,
   "metadata": {},
   "outputs": [],
   "source": [
    "dataK.sort_values('Claims', ascending=False, inplace=True)"
   ]
  },
  {
   "cell_type": "code",
   "execution_count": 47,
   "metadata": {},
   "outputs": [],
   "source": [
    "dataK['LaborForce'] = dataK.Employed + dataK.Unemployed\n",
    "dataK['Rate'] = ( dataK.Unemployed / dataK.LaborForce ) * 100\n",
    "dataK.Rate = dataK.Rate.round(1)"
   ]
  },
  {
   "cell_type": "code",
   "execution_count": 48,
   "metadata": {},
   "outputs": [],
   "source": [
    "dataK = pd.merge(dataK,areaWarns,how='left',on='Area')"
   ]
  },
  {
   "cell_type": "code",
   "execution_count": 49,
   "metadata": {},
   "outputs": [],
   "source": [
    "dataK = dataK[['Area','MarchEmployed','CumClaims','Employed','Unemployed','PctChngEmployed','LaborForce','Rate','CurrentWarns']]"
   ]
  },
  {
   "cell_type": "code",
   "execution_count": 50,
   "metadata": {},
   "outputs": [],
   "source": [
    "dataK.set_index('Area', inplace=True)"
   ]
  },
  {
   "cell_type": "code",
   "execution_count": 51,
   "metadata": {},
   "outputs": [],
   "source": [
    "dataK['CurrentWarns'].fillna(0, inplace=True)\n",
    "countyShapes['CurrentWarns'].fillna(0, inplace=True)\n",
    "countyPoints['CurrentWarns'].fillna(0, inplace=True)"
   ]
  },
  {
   "cell_type": "code",
   "execution_count": 52,
   "metadata": {},
   "outputs": [],
   "source": [
    "dataK.MarchEmployed = dataK.MarchEmployed.astype(int)\n",
    "dataK.Employed = dataK.Employed.astype(int)\n",
    "dataK.Unemployed = dataK.Unemployed.astype(int)\n",
    "dataK.LaborForce = dataK.LaborForce.astype(int)\n",
    "dataK.CurrentWarns = dataK.CurrentWarns.astype(int)"
   ]
  },
  {
   "cell_type": "code",
   "execution_count": 53,
   "metadata": {},
   "outputs": [],
   "source": [
    "def human_format(num):\n",
    "    num = float('{:.3g}'.format(num))\n",
    "    magnitude = 0\n",
    "    while abs(num) >= 1000:\n",
    "        magnitude += 1\n",
    "        num /= 1000.0\n",
    "    return '{}{}'.format('{:f}'.format(num).rstrip('0').rstrip('.'), ['', 'K', 'M', 'B', 'T'][magnitude])\n",
    "\n",
    "dataK['MarchEmployed'] = dataK['MarchEmployed'].apply(lambda x: human_format(x))\n",
    "dataK['CumClaims'] = dataK['CumClaims'].apply(lambda x: human_format(x))\n",
    "dataK['CurrentWarns'] = dataK['CurrentWarns'].apply(lambda x: human_format(x))\n",
    "dataK['Employed'] = dataK['Employed'].apply(lambda x: human_format(x))\n",
    "dataK['Unemployed'] = dataK['Unemployed'].apply(lambda x: human_format(x))\n",
    "dataK['LaborForce'] = dataK['LaborForce'].apply(lambda x: human_format(x))"
   ]
  },
  {
   "cell_type": "code",
   "execution_count": 54,
   "metadata": {},
   "outputs": [],
   "source": [
    "# convert kpi to strings with correct format for display purposes\n",
    "dataK['PctChngEmployed'] = dataK['PctChngEmployed'].map('{:,.1f}'.format) + '%'\n",
    "dataK['Rate'] = dataK['Rate'].map('{:,.1f}'.format) + '%'"
   ]
  },
  {
   "cell_type": "code",
   "execution_count": 55,
   "metadata": {},
   "outputs": [],
   "source": [
    "# now process the data file from which d3 will generate charts to only include necessary columns, etc.\n",
    "data[\"date\"] = pd.to_datetime(data[\"Date\"]).dt.strftime('%b %d')\n",
    "data = data[['Area','Date','date','Claims']]"
   ]
  },
  {
   "cell_type": "code",
   "execution_count": 56,
   "metadata": {},
   "outputs": [],
   "source": [
    "industryClaims['Ind'] = np.where(industryClaims.Industry.str.contains(\"Accommodation\"), \"Food Services\",\n",
    "                        np.where(industryClaims.Industry.str.contains(\"Waste\"), \"Waste Management\",\n",
    "                        np.where(industryClaims.Industry.str.contains(\"Agriculture\"), \"Agriculture\",\n",
    "                        np.where(industryClaims.Industry.str.contains(\"Entertainment\"), \"Entertainment\",\n",
    "                        np.where(industryClaims.Industry.str.contains(\"Construction\"), \"Construction\",\n",
    "                        np.where(industryClaims.Industry.str.contains(\"Educational\"), \"Education\",\n",
    "                        np.where(industryClaims.Industry.str.contains(\"Finance\"), \"Finance\",\n",
    "                        np.where(industryClaims.Industry.str.contains(\"Health\"), \"Health Care\",\n",
    "                        np.where(industryClaims.Industry.str.contains(\"Information\"), \"Information\",\n",
    "                        np.where(industryClaims.Industry.str.contains(\"Management\"), \"Enterprise Management\",\n",
    "                        np.where(industryClaims.Industry.str.contains(\"Manufacturing\"), \"Manufacturing\",\n",
    "                        np.where(industryClaims.Industry.str.contains(\"Mining\"), \"Oil & Gas\",\n",
    "                        np.where(industryClaims.Industry.str.contains(\"Other\"), \"Other\",\n",
    "                        np.where(industryClaims.Industry.str.contains(\"Technical\"), \"Technical Services\",\n",
    "                        np.where(industryClaims.Industry.str.contains(\"Public\"), \"Public Admin\",\n",
    "                        np.where(industryClaims.Industry.str.contains(\"Real Estate\"), \"Real Estate\",\n",
    "                        np.where(industryClaims.Industry.str.contains(\"Retail Trade\"), \"Retail\",\n",
    "                        np.where(industryClaims.Industry.str.contains(\"Transportation\"), \"Transportation\",\n",
    "                        np.where(industryClaims.Industry.str.contains(\"Unclassified\"), \"Unclassified\",\n",
    "                        np.where(industryClaims.Industry.str.contains(\"Utilities\"), \"Utilities\",\n",
    "                        np.where(industryClaims.Industry.str.contains(\"Wholesale\"), \"Wholesale Trade\",\"ts\")))))))))))))))))))))"
   ]
  },
  {
   "cell_type": "code",
   "execution_count": 57,
   "metadata": {},
   "outputs": [],
   "source": [
    "appWarns = warns[warns['Date'] >= '2020-01-01']"
   ]
  },
  {
   "cell_type": "code",
   "execution_count": 58,
   "metadata": {},
   "outputs": [],
   "source": [
    "appWarns = appWarns[['Date','Company name','City','ZIP','County','Est. Impact','Regional Commission','CBSA Title']]\n",
    "appWarns.rename(columns={'Company name' : 'Company',\n",
    "                         'Regional Commissions':'RC',\n",
    "                         'CBSA Title':'MSA',\n",
    "                         'Est. Impact':'Employees'}, inplace=True)"
   ]
  },
  {
   "cell_type": "code",
   "execution_count": 59,
   "metadata": {},
   "outputs": [],
   "source": [
    "appWarns[\"Date\"] = pd.to_datetime(appWarns[\"Date\"]).dt.strftime('%b %d')"
   ]
  },
  {
   "cell_type": "code",
   "execution_count": 65,
   "metadata": {},
   "outputs": [
    {
     "data": {
      "text/html": [
       "<div>\n",
       "<style scoped>\n",
       "    .dataframe tbody tr th:only-of-type {\n",
       "        vertical-align: middle;\n",
       "    }\n",
       "\n",
       "    .dataframe tbody tr th {\n",
       "        vertical-align: top;\n",
       "    }\n",
       "\n",
       "    .dataframe thead th {\n",
       "        text-align: right;\n",
       "    }\n",
       "</style>\n",
       "<table border=\"1\" class=\"dataframe\">\n",
       "  <thead>\n",
       "    <tr style=\"text-align: right;\">\n",
       "      <th></th>\n",
       "      <th>Area</th>\n",
       "      <th>Date</th>\n",
       "      <th>date</th>\n",
       "      <th>Claims</th>\n",
       "    </tr>\n",
       "  </thead>\n",
       "  <tbody>\n",
       "    <tr>\n",
       "      <th>0</th>\n",
       "      <td>Georgia</td>\n",
       "      <td>03/07/2020</td>\n",
       "      <td>Mar 07</td>\n",
       "      <td>4401</td>\n",
       "    </tr>\n",
       "    <tr>\n",
       "      <th>1</th>\n",
       "      <td>Georgia</td>\n",
       "      <td>03/14/2020</td>\n",
       "      <td>Mar 14</td>\n",
       "      <td>5248</td>\n",
       "    </tr>\n",
       "    <tr>\n",
       "      <th>2</th>\n",
       "      <td>Georgia</td>\n",
       "      <td>03/21/2020</td>\n",
       "      <td>Mar 21</td>\n",
       "      <td>11707</td>\n",
       "    </tr>\n",
       "    <tr>\n",
       "      <th>3</th>\n",
       "      <td>Georgia</td>\n",
       "      <td>03/28/2020</td>\n",
       "      <td>Mar 28</td>\n",
       "      <td>130544</td>\n",
       "    </tr>\n",
       "    <tr>\n",
       "      <th>4</th>\n",
       "      <td>Georgia</td>\n",
       "      <td>04/04/2020</td>\n",
       "      <td>Apr 04</td>\n",
       "      <td>377105</td>\n",
       "    </tr>\n",
       "    <tr>\n",
       "      <th>5</th>\n",
       "      <td>Georgia</td>\n",
       "      <td>04/11/2020</td>\n",
       "      <td>Apr 11</td>\n",
       "      <td>294035</td>\n",
       "    </tr>\n",
       "    <tr>\n",
       "      <th>6</th>\n",
       "      <td>Georgia</td>\n",
       "      <td>04/18/2020</td>\n",
       "      <td>Apr 18</td>\n",
       "      <td>243320</td>\n",
       "    </tr>\n",
       "    <tr>\n",
       "      <th>7</th>\n",
       "      <td>Georgia</td>\n",
       "      <td>04/25/2020</td>\n",
       "      <td>Apr 25</td>\n",
       "      <td>262615</td>\n",
       "    </tr>\n",
       "    <tr>\n",
       "      <th>8</th>\n",
       "      <td>Georgia</td>\n",
       "      <td>05/02/2020</td>\n",
       "      <td>May 02</td>\n",
       "      <td>224794</td>\n",
       "    </tr>\n",
       "    <tr>\n",
       "      <th>9</th>\n",
       "      <td>Georgia</td>\n",
       "      <td>05/09/2020</td>\n",
       "      <td>May 09</td>\n",
       "      <td>240092</td>\n",
       "    </tr>\n",
       "    <tr>\n",
       "      <th>10</th>\n",
       "      <td>Georgia</td>\n",
       "      <td>05/16/2020</td>\n",
       "      <td>May 16</td>\n",
       "      <td>175327</td>\n",
       "    </tr>\n",
       "  </tbody>\n",
       "</table>\n",
       "</div>"
      ],
      "text/plain": [
       "       Area        Date    date  Claims\n",
       "0   Georgia  03/07/2020  Mar 07    4401\n",
       "1   Georgia  03/14/2020  Mar 14    5248\n",
       "2   Georgia  03/21/2020  Mar 21   11707\n",
       "3   Georgia  03/28/2020  Mar 28  130544\n",
       "4   Georgia  04/04/2020  Apr 04  377105\n",
       "5   Georgia  04/11/2020  Apr 11  294035\n",
       "6   Georgia  04/18/2020  Apr 18  243320\n",
       "7   Georgia  04/25/2020  Apr 25  262615\n",
       "8   Georgia  05/02/2020  May 02  224794\n",
       "9   Georgia  05/09/2020  May 09  240092\n",
       "10  Georgia  05/16/2020  May 16  175327"
      ]
     },
     "execution_count": 65,
     "metadata": {},
     "output_type": "execute_result"
    }
   ],
   "source": [
    "data.head(11)"
   ]
  },
  {
   "cell_type": "code",
   "execution_count": 60,
   "metadata": {},
   "outputs": [
    {
     "data": {
      "text/plain": [
       "'{\"Georgia\":{\"MarchEmployed\":\"4.94M\",\"CumClaims\":\"1.97M\",\"Employed\":\"2.97M\",\"Unemployed\":\"2.19M\",\"PctChngEmployed\":\"-39.9%\",\"LaborForce\":\"5.16M\",\"Rate\":\"42.5%\",\"CurrentWarns\":\"320\"},\"Atlanta-Sandy Springs-Alpharetta, GA\":{\"MarchEmployed\":\"3M\",\"CumClaims\":\"1.25M\",\"Employed\":\"1.75M\",\"Unemployed\":\"1.38M\",\"PctChngEmployed\":\"-41.7%\",\"LaborForce\":\"3.13M\",\"Rate\":\"44.1%\",\"CurrentWarns\":\"206\"},\"ARC\":{\"MarchEmployed\":\"2.36M\",\"CumClaims\":\"1.01M\",\"Employed\":\"1.35M\",\"Unemployed\":\"1.12M\",\"PctChngEmployed\":\"-42.9%\",\"LaborForce\":\"2.46M\",\"Rate\":\"45.3%\",\"CurrentWarns\":\"181\"},\"Fulton County\":{\"MarchEmployed\":\"539K\",\"CumClaims\":\"265K\",\"Employed\":\"274K\",\"Unemployed\":\"290K\",\"PctChngEmployed\":\"-49.2%\",\"LaborForce\":\"564K\",\"Rate\":\"51.5%\",\"CurrentWarns\":\"77\"},\"Gwinnett County\":{\"MarchEmployed\":\"475K\",\"CumClaims\":\"193K\",\"Employed\":\"282K\",\"Unemployed\":\"212K\",\"PctChngEmployed\":\"-40.6%\",\"LaborForce\":\"494K\",\"Rate\":\"42.9%\",\"CurrentWarns\":\"21\"},\"DeKalb County\":{\"MarchEmployed\":\"386K\",\"CumClaims\":\"159K\",\"Employed\":\"228K\",\"Unemployed\":\"176K\",\"PctChngEmployed\":\"-41.0%\",\"LaborForce\":\"404K\",\"Rate\":\"43.6%\",\"CurrentWarns\":\"20\"},\"Cobb County\":{\"MarchEmployed\":\"413K\",\"CumClaims\":\"149K\",\"Employed\":\"264K\",\"Unemployed\":\"165K\",\"PctChngEmployed\":\"-36.1%\",\"LaborForce\":\"430K\",\"Rate\":\"38.5%\",\"CurrentWarns\":\"30\"},\"Coastal\":{\"MarchEmployed\":\"317K\",\"CumClaims\":\"144K\",\"Employed\":\"174K\",\"Unemployed\":\"158K\",\"PctChngEmployed\":\"-45.3%\",\"LaborForce\":\"332K\",\"Rate\":\"47.7%\",\"CurrentWarns\":\"28\"},\"Northwest\":{\"MarchEmployed\":\"406K\",\"CumClaims\":\"166K\",\"Employed\":\"240K\",\"Unemployed\":\"184K\",\"PctChngEmployed\":\"-40.9%\",\"LaborForce\":\"424K\",\"Rate\":\"43.4%\",\"CurrentWarns\":\"18\"},\"Georgia Mountains\":{\"MarchEmployed\":\"341K\",\"CumClaims\":\"114K\",\"Employed\":\"227K\",\"Unemployed\":\"127K\",\"PctChngEmployed\":\"-33.5%\",\"LaborForce\":\"354K\",\"Rate\":\"36.0%\",\"CurrentWarns\":\"17\"},\"Northeast\":{\"MarchEmployed\":\"294K\",\"CumClaims\":\"113K\",\"Employed\":\"181K\",\"Unemployed\":\"126K\",\"PctChngEmployed\":\"-38.5%\",\"LaborForce\":\"307K\",\"Rate\":\"41.0%\",\"CurrentWarns\":\"12\"},\"Three Rivers\":{\"MarchEmployed\":\"241K\",\"CumClaims\":\"96.4K\",\"Employed\":\"145K\",\"Unemployed\":\"107K\",\"PctChngEmployed\":\"-39.9%\",\"LaborForce\":\"252K\",\"Rate\":\"42.5%\",\"CurrentWarns\":\"10\"},\"Savannah, GA\":{\"MarchEmployed\":\"181K\",\"CumClaims\":\"90K\",\"Employed\":\"91K\",\"Unemployed\":\"97.9K\",\"PctChngEmployed\":\"-49.7%\",\"LaborForce\":\"189K\",\"Rate\":\"51.8%\",\"CurrentWarns\":\"21\"},\"Clayton County\":{\"MarchEmployed\":\"132K\",\"CumClaims\":\"69.5K\",\"Employed\":\"62.8K\",\"Unemployed\":\"77.1K\",\"PctChngEmployed\":\"-52.5%\",\"LaborForce\":\"140K\",\"Rate\":\"55.1%\",\"CurrentWarns\":\"14\"},\"Chatham County\":{\"MarchEmployed\":\"134K\",\"CumClaims\":\"72.4K\",\"Employed\":\"61.4K\",\"Unemployed\":\"78.4K\",\"PctChngEmployed\":\"-54.1%\",\"LaborForce\":\"140K\",\"Rate\":\"56.1%\",\"CurrentWarns\":\"21\"},\"Middle Georgia\":{\"MarchEmployed\":\"211K\",\"CumClaims\":\"70K\",\"Employed\":\"141K\",\"Unemployed\":\"80.1K\",\"PctChngEmployed\":\"-33.2%\",\"LaborForce\":\"221K\",\"Rate\":\"36.3%\",\"CurrentWarns\":\"15\"},\"Southern\":{\"MarchEmployed\":\"172K\",\"CumClaims\":\"63K\",\"Employed\":\"109K\",\"Unemployed\":\"71.4K\",\"PctChngEmployed\":\"-36.7%\",\"LaborForce\":\"180K\",\"Rate\":\"39.6%\",\"CurrentWarns\":\"2\"},\"Henry County\":{\"MarchEmployed\":\"112K\",\"CumClaims\":\"55.2K\",\"Employed\":\"56.6K\",\"Unemployed\":\"60.4K\",\"PctChngEmployed\":\"-49.4%\",\"LaborForce\":\"117K\",\"Rate\":\"51.6%\",\"CurrentWarns\":\"4\"},\"CSRA\":{\"MarchEmployed\":\"201K\",\"CumClaims\":\"61.6K\",\"Employed\":\"140K\",\"Unemployed\":\"71.9K\",\"PctChngEmployed\":\"-30.6%\",\"LaborForce\":\"212K\",\"Rate\":\"34.0%\",\"CurrentWarns\":\"19\"},\"River Valley\":{\"MarchEmployed\":\"140K\",\"CumClaims\":\"51.8K\",\"Employed\":\"88.2K\",\"Unemployed\":\"59.5K\",\"PctChngEmployed\":\"-37.0%\",\"LaborForce\":\"148K\",\"Rate\":\"40.3%\",\"CurrentWarns\":\"11\"},\"Southwest\":{\"MarchEmployed\":\"142K\",\"CumClaims\":\"46.2K\",\"Employed\":\"95.6K\",\"Unemployed\":\"53.5K\",\"PctChngEmployed\":\"-32.6%\",\"LaborForce\":\"149K\",\"Rate\":\"35.9%\",\"CurrentWarns\":\"3\"},\"Augusta-Richmond County, GA-SC\":{\"MarchEmployed\":\"175K\",\"CumClaims\":\"54.6K\",\"Employed\":\"120K\",\"Unemployed\":\"63.3K\",\"PctChngEmployed\":\"-31.2%\",\"LaborForce\":\"184K\",\"Rate\":\"34.5%\",\"CurrentWarns\":\"18\"},\"Forsyth County\":{\"MarchEmployed\":\"119K\",\"CumClaims\":\"37K\",\"Employed\":\"82K\",\"Unemployed\":\"41.3K\",\"PctChngEmployed\":\"-31.1%\",\"LaborForce\":\"123K\",\"Rate\":\"33.5%\",\"CurrentWarns\":\"6\"},\"Cherokee County\":{\"MarchEmployed\":\"132K\",\"CumClaims\":\"46.7K\",\"Employed\":\"85.6K\",\"Unemployed\":\"51.4K\",\"PctChngEmployed\":\"-35.3%\",\"LaborForce\":\"137K\",\"Rate\":\"37.5%\",\"CurrentWarns\":\"4\"},\"Columbus, GA-AL\":{\"MarchEmployed\":\"99.1K\",\"CumClaims\":\"38.6K\",\"Employed\":\"60.5K\",\"Unemployed\":\"43.9K\",\"PctChngEmployed\":\"-38.9%\",\"LaborForce\":\"104K\",\"Rate\":\"42.1%\",\"CurrentWarns\":\"6\"},\"Athens-Clarke County, GA\":{\"MarchEmployed\":\"95K\",\"CumClaims\":\"36K\",\"Employed\":\"59K\",\"Unemployed\":\"40.2K\",\"PctChngEmployed\":\"-37.9%\",\"LaborForce\":\"99.2K\",\"Rate\":\"40.5%\",\"CurrentWarns\":\"6\"},\"Macon-Bibb County, GA\":{\"MarchEmployed\":\"99K\",\"CumClaims\":\"33.5K\",\"Employed\":\"65.5K\",\"Unemployed\":\"38.3K\",\"PctChngEmployed\":\"-33.9%\",\"LaborForce\":\"104K\",\"Rate\":\"36.9%\",\"CurrentWarns\":\"9\"},\"Heart of Georgia\":{\"MarchEmployed\":\"111K\",\"CumClaims\":\"30.2K\",\"Employed\":\"80.6K\",\"Unemployed\":\"37K\",\"PctChngEmployed\":\"-27.3%\",\"LaborForce\":\"118K\",\"Rate\":\"31.5%\",\"CurrentWarns\":\"3\"},\"Dalton, GA\":{\"MarchEmployed\":\"55.6K\",\"CumClaims\":\"38.2K\",\"Employed\":\"17.5K\",\"Unemployed\":\"41.1K\",\"PctChngEmployed\":\"-68.6%\",\"LaborForce\":\"58.6K\",\"Rate\":\"70.2%\",\"CurrentWarns\":\"7\"},\"Douglas County\":{\"MarchEmployed\":\"70.8K\",\"CumClaims\":\"31.3K\",\"Employed\":\"39.4K\",\"Unemployed\":\"34.7K\",\"PctChngEmployed\":\"-44.3%\",\"LaborForce\":\"74.1K\",\"Rate\":\"46.8%\",\"CurrentWarns\":\"5\"},\"Gainesville, GA\":{\"MarchEmployed\":\"99.4K\",\"CumClaims\":\"33.9K\",\"Employed\":\"65.5K\",\"Unemployed\":\"37.5K\",\"PctChngEmployed\":\"-34.1%\",\"LaborForce\":\"103K\",\"Rate\":\"36.4%\",\"CurrentWarns\":\"6\"},\"Hall County\":{\"MarchEmployed\":\"99.4K\",\"CumClaims\":\"33.9K\",\"Employed\":\"65.5K\",\"Unemployed\":\"37.5K\",\"PctChngEmployed\":\"-34.1%\",\"LaborForce\":\"103K\",\"Rate\":\"36.4%\",\"CurrentWarns\":\"6\"},\"Coweta County\":{\"MarchEmployed\":\"72.6K\",\"CumClaims\":\"29.2K\",\"Employed\":\"43.4K\",\"Unemployed\":\"32K\",\"PctChngEmployed\":\"-40.2%\",\"LaborForce\":\"75.4K\",\"Rate\":\"42.5%\",\"CurrentWarns\":\"5\"},\"Muscogee County\":{\"MarchEmployed\":\"73.1K\",\"CumClaims\":\"30.8K\",\"Employed\":\"42.3K\",\"Unemployed\":\"35K\",\"PctChngEmployed\":\"-42.1%\",\"LaborForce\":\"77.3K\",\"Rate\":\"45.3%\",\"CurrentWarns\":\"5\"},\"Fayette County\":{\"MarchEmployed\":\"56.4K\",\"CumClaims\":\"26.3K\",\"Employed\":\"30.1K\",\"Unemployed\":\"28.4K\",\"PctChngEmployed\":\"-46.6%\",\"LaborForce\":\"58.6K\",\"Rate\":\"48.6%\",\"CurrentWarns\":\"5\"},\"Richmond County\":{\"MarchEmployed\":\"81.4K\",\"CumClaims\":\"29.6K\",\"Employed\":\"51.7K\",\"Unemployed\":\"34.2K\",\"PctChngEmployed\":\"-36.4%\",\"LaborForce\":\"86K\",\"Rate\":\"39.8%\",\"CurrentWarns\":\"11\"},\"Bibb County\":{\"MarchEmployed\":\"65.1K\",\"CumClaims\":\"25.3K\",\"Employed\":\"39.8K\",\"Unemployed\":\"28.6K\",\"PctChngEmployed\":\"-38.9%\",\"LaborForce\":\"68.4K\",\"Rate\":\"41.8%\",\"CurrentWarns\":\"8\"},\"Albany, GA\":{\"MarchEmployed\":\"62.6K\",\"CumClaims\":\"24.8K\",\"Employed\":\"37.8K\",\"Unemployed\":\"28.3K\",\"PctChngEmployed\":\"-39.6%\",\"LaborForce\":\"66.1K\",\"Rate\":\"42.8%\",\"CurrentWarns\":\"3\"},\"Whitfield County\":{\"MarchEmployed\":\"41.1K\",\"CumClaims\":\"28.7K\",\"Employed\":\"12.3K\",\"Unemployed\":\"30.8K\",\"PctChngEmployed\":\"-70.0%\",\"LaborForce\":\"43.2K\",\"Rate\":\"71.4%\",\"CurrentWarns\":\"6\"},\"Clarke County\":{\"MarchEmployed\":\"56.6K\",\"CumClaims\":\"24K\",\"Employed\":\"32.6K\",\"Unemployed\":\"26.8K\",\"PctChngEmployed\":\"-42.4%\",\"LaborForce\":\"59.4K\",\"Rate\":\"45.1%\",\"CurrentWarns\":\"5\"},\"Valdosta, GA\":{\"MarchEmployed\":\"61.1K\",\"CumClaims\":\"20.5K\",\"Employed\":\"40.5K\",\"Unemployed\":\"23.4K\",\"PctChngEmployed\":\"-33.6%\",\"LaborForce\":\"63.9K\",\"Rate\":\"36.6%\",\"CurrentWarns\":\"1\"},\"Warner Robins, GA\":{\"MarchEmployed\":\"79.4K\",\"CumClaims\":\"25.3K\",\"Employed\":\"54.1K\",\"Unemployed\":\"28.8K\",\"PctChngEmployed\":\"-31.9%\",\"LaborForce\":\"82.9K\",\"Rate\":\"34.8%\",\"CurrentWarns\":\"6\"},\"Paulding County\":{\"MarchEmployed\":\"83.6K\",\"CumClaims\":\"25.4K\",\"Employed\":\"58.2K\",\"Unemployed\":\"28.7K\",\"PctChngEmployed\":\"-30.4%\",\"LaborForce\":\"86.9K\",\"Rate\":\"33.0%\",\"CurrentWarns\":\"2\"},\"Newton County\":{\"MarchEmployed\":\"50.3K\",\"CumClaims\":\"20.2K\",\"Employed\":\"30.2K\",\"Unemployed\":\"22.7K\",\"PctChngEmployed\":\"-40.0%\",\"LaborForce\":\"52.9K\",\"Rate\":\"42.9%\",\"CurrentWarns\":\"2\"},\"Rockdale County\":{\"MarchEmployed\":\"43.1K\",\"CumClaims\":\"18.4K\",\"Employed\":\"24.8K\",\"Unemployed\":\"20.5K\",\"PctChngEmployed\":\"-42.6%\",\"LaborForce\":\"45.3K\",\"Rate\":\"45.3%\",\"CurrentWarns\":\"1\"},\"Brunswick, GA\":{\"MarchEmployed\":\"49.9K\",\"CumClaims\":\"22.8K\",\"Employed\":\"27.1K\",\"Unemployed\":\"25.1K\",\"PctChngEmployed\":\"-45.8%\",\"LaborForce\":\"52.1K\",\"Rate\":\"48.1%\",\"CurrentWarns\":\"4\"},\"Carroll County\":{\"MarchEmployed\":\"53.4K\",\"CumClaims\":\"20.8K\",\"Employed\":\"32.6K\",\"Unemployed\":\"23.4K\",\"PctChngEmployed\":\"-38.9%\",\"LaborForce\":\"56K\",\"Rate\":\"41.7%\",\"CurrentWarns\":\"3\"},\"Lowndes County\":{\"MarchEmployed\":\"48.9K\",\"CumClaims\":\"17.9K\",\"Employed\":\"31.1K\",\"Unemployed\":\"20.2K\",\"PctChngEmployed\":\"-36.5%\",\"LaborForce\":\"51.2K\",\"Rate\":\"39.4%\",\"CurrentWarns\":\"1\"},\"Houston County\":{\"MarchEmployed\":\"68K\",\"CumClaims\":\"21.1K\",\"Employed\":\"46.9K\",\"Unemployed\":\"24K\",\"PctChngEmployed\":\"-31.0%\",\"LaborForce\":\"71K\",\"Rate\":\"33.9%\",\"CurrentWarns\":\"4\"},\"Bartow County\":{\"MarchEmployed\":\"49K\",\"CumClaims\":\"24K\",\"Employed\":\"25.1K\",\"Unemployed\":\"26.1K\",\"PctChngEmployed\":\"-48.9%\",\"LaborForce\":\"51.2K\",\"Rate\":\"51.0%\",\"CurrentWarns\":\"5\"},\"Bulloch County\":{\"MarchEmployed\":\"35K\",\"CumClaims\":\"14K\",\"Employed\":\"21K\",\"Unemployed\":\"16K\",\"PctChngEmployed\":\"-39.9%\",\"LaborForce\":\"37K\",\"Rate\":\"43.1%\",\"CurrentWarns\":\"0\"},\"Statesboro, GA\":{\"MarchEmployed\":\"35K\",\"CumClaims\":\"14K\",\"Employed\":\"21K\",\"Unemployed\":\"16K\",\"PctChngEmployed\":\"-39.9%\",\"LaborForce\":\"37K\",\"Rate\":\"43.1%\",\"CurrentWarns\":\"0\"},\"Jefferson, GA\":{\"MarchEmployed\":\"35.3K\",\"CumClaims\":\"13.7K\",\"Employed\":\"21.6K\",\"Unemployed\":\"15K\",\"PctChngEmployed\":\"-38.9%\",\"LaborForce\":\"36.6K\",\"Rate\":\"41.0%\",\"CurrentWarns\":\"3\"},\"Jackson County\":{\"MarchEmployed\":\"35.3K\",\"CumClaims\":\"13.7K\",\"Employed\":\"21.6K\",\"Unemployed\":\"15K\",\"PctChngEmployed\":\"-38.9%\",\"LaborForce\":\"36.6K\",\"Rate\":\"41.0%\",\"CurrentWarns\":\"3\"},\"Walton County\":{\"MarchEmployed\":\"44.7K\",\"CumClaims\":\"17.4K\",\"Employed\":\"27.3K\",\"Unemployed\":\"19.2K\",\"PctChngEmployed\":\"-39.0%\",\"LaborForce\":\"46.6K\",\"Rate\":\"41.3%\",\"CurrentWarns\":\"0\"},\"Dougherty County\":{\"MarchEmployed\":\"36.5K\",\"CumClaims\":\"14.7K\",\"Employed\":\"21.7K\",\"Unemployed\":\"17K\",\"PctChngEmployed\":\"-40.4%\",\"LaborForce\":\"38.7K\",\"Rate\":\"43.9%\",\"CurrentWarns\":\"3\"},\"Columbia County\":{\"MarchEmployed\":\"72.9K\",\"CumClaims\":\"18.5K\",\"Employed\":\"54.4K\",\"Unemployed\":\"21.3K\",\"PctChngEmployed\":\"-25.4%\",\"LaborForce\":\"75.7K\",\"Rate\":\"28.2%\",\"CurrentWarns\":\"6\"},\"Rome, GA\":{\"MarchEmployed\":\"42.5K\",\"CumClaims\":\"18.8K\",\"Employed\":\"23.7K\",\"Unemployed\":\"20.8K\",\"PctChngEmployed\":\"-44.3%\",\"LaborForce\":\"44.5K\",\"Rate\":\"46.7%\",\"CurrentWarns\":\"2\"},\"Floyd County\":{\"MarchEmployed\":\"42.5K\",\"CumClaims\":\"18.8K\",\"Employed\":\"23.7K\",\"Unemployed\":\"20.8K\",\"PctChngEmployed\":\"-44.3%\",\"LaborForce\":\"44.5K\",\"Rate\":\"46.7%\",\"CurrentWarns\":\"2\"},\"Barrow County\":{\"MarchEmployed\":\"39.4K\",\"CumClaims\":\"15.7K\",\"Employed\":\"23.7K\",\"Unemployed\":\"17.1K\",\"PctChngEmployed\":\"-39.8%\",\"LaborForce\":\"40.8K\",\"Rate\":\"42.0%\",\"CurrentWarns\":\"0\"},\"Glynn County\":{\"MarchEmployed\":\"37.2K\",\"CumClaims\":\"18.6K\",\"Employed\":\"18.6K\",\"Unemployed\":\"20.2K\",\"PctChngEmployed\":\"-50.0%\",\"LaborForce\":\"38.8K\",\"Rate\":\"52.1%\",\"CurrentWarns\":\"4\"},\"LaGrange, GA-AL\":{\"MarchEmployed\":\"36.2K\",\"CumClaims\":\"16.2K\",\"Employed\":\"19.9K\",\"Unemployed\":\"17.7K\",\"PctChngEmployed\":\"-44.9%\",\"LaborForce\":\"37.6K\",\"Rate\":\"47.1%\",\"CurrentWarns\":\"1\"},\"Troup County\":{\"MarchEmployed\":\"36.2K\",\"CumClaims\":\"16.2K\",\"Employed\":\"19.9K\",\"Unemployed\":\"17.7K\",\"PctChngEmployed\":\"-44.9%\",\"LaborForce\":\"37.6K\",\"Rate\":\"47.1%\",\"CurrentWarns\":\"1\"},\"Chattanooga, TN-GA\":{\"MarchEmployed\":\"71.3K\",\"CumClaims\":\"15.7K\",\"Employed\":\"55.7K\",\"Unemployed\":\"18.5K\",\"PctChngEmployed\":\"-21.9%\",\"LaborForce\":\"74.2K\",\"Rate\":\"24.9%\",\"CurrentWarns\":\"0\"},\"Hinesville, GA\":{\"MarchEmployed\":\"33.2K\",\"CumClaims\":\"10.6K\",\"Employed\":\"22.6K\",\"Unemployed\":\"12.2K\",\"PctChngEmployed\":\"-32.0%\",\"LaborForce\":\"34.8K\",\"Rate\":\"35.2%\",\"CurrentWarns\":\"2\"},\"Gordon County\":{\"MarchEmployed\":\"27.1K\",\"CumClaims\":\"12.4K\",\"Employed\":\"14.7K\",\"Unemployed\":\"13.5K\",\"PctChngEmployed\":\"-45.7%\",\"LaborForce\":\"28.2K\",\"Rate\":\"47.9%\",\"CurrentWarns\":\"0\"},\"Calhoun, GA\":{\"MarchEmployed\":\"27.1K\",\"CumClaims\":\"12.4K\",\"Employed\":\"14.7K\",\"Unemployed\":\"13.5K\",\"PctChngEmployed\":\"-45.7%\",\"LaborForce\":\"28.2K\",\"Rate\":\"47.9%\",\"CurrentWarns\":\"0\"},\"Effingham County\":{\"MarchEmployed\":\"29.7K\",\"CumClaims\":\"9.7K\",\"Employed\":\"20K\",\"Unemployed\":\"10.9K\",\"PctChngEmployed\":\"-32.6%\",\"LaborForce\":\"30.9K\",\"Rate\":\"35.2%\",\"CurrentWarns\":\"0\"},\"Spalding County\":{\"MarchEmployed\":\"27.6K\",\"CumClaims\":\"10.9K\",\"Employed\":\"16.7K\",\"Unemployed\":\"12.4K\",\"PctChngEmployed\":\"-39.5%\",\"LaborForce\":\"29.1K\",\"Rate\":\"42.7%\",\"CurrentWarns\":\"0\"},\"Douglas, GA\":{\"MarchEmployed\":\"23K\",\"CumClaims\":\"10.5K\",\"Employed\":\"12.6K\",\"Unemployed\":\"11.7K\",\"PctChngEmployed\":\"-45.5%\",\"LaborForce\":\"24.2K\",\"Rate\":\"48.2%\",\"CurrentWarns\":\"0\"},\"Murray County\":{\"MarchEmployed\":\"14.5K\",\"CumClaims\":\"9.42K\",\"Employed\":\"5.13K\",\"Unemployed\":\"10.3K\",\"PctChngEmployed\":\"-64.7%\",\"LaborForce\":\"15.4K\",\"Rate\":\"66.8%\",\"CurrentWarns\":\"1\"},\"Liberty County\":{\"MarchEmployed\":\"25.3K\",\"CumClaims\":\"8.77K\",\"Employed\":\"16.5K\",\"Unemployed\":\"10K\",\"PctChngEmployed\":\"-34.7%\",\"LaborForce\":\"26.5K\",\"Rate\":\"37.8%\",\"CurrentWarns\":\"2\"},\"Bryan County\":{\"MarchEmployed\":\"17.6K\",\"CumClaims\":\"7.95K\",\"Employed\":\"9.62K\",\"Unemployed\":\"8.69K\",\"PctChngEmployed\":\"-45.3%\",\"LaborForce\":\"18.3K\",\"Rate\":\"47.5%\",\"CurrentWarns\":\"0\"},\"Milledgeville, GA\":{\"MarchEmployed\":\"19.1K\",\"CumClaims\":\"7.14K\",\"Employed\":\"12K\",\"Unemployed\":\"8.31K\",\"PctChngEmployed\":\"-37.4%\",\"LaborForce\":\"20.3K\",\"Rate\":\"41.0%\",\"CurrentWarns\":\"0\"},\"Dublin, GA\":{\"MarchEmployed\":\"24.3K\",\"CumClaims\":\"7.42K\",\"Employed\":\"16.9K\",\"Unemployed\":\"9K\",\"PctChngEmployed\":\"-30.6%\",\"LaborForce\":\"25.9K\",\"Rate\":\"34.8%\",\"CurrentWarns\":\"1\"},\"Lee County\":{\"MarchEmployed\":\"14.2K\",\"CumClaims\":\"7.28K\",\"Employed\":\"6.97K\",\"Unemployed\":\"7.86K\",\"PctChngEmployed\":\"-51.1%\",\"LaborForce\":\"14.8K\",\"Rate\":\"53.0%\",\"CurrentWarns\":\"0\"},\"Walker County\":{\"MarchEmployed\":\"30.6K\",\"CumClaims\":\"8.1K\",\"Employed\":\"22.4K\",\"Unemployed\":\"9.38K\",\"PctChngEmployed\":\"-26.5%\",\"LaborForce\":\"31.8K\",\"Rate\":\"29.5%\",\"CurrentWarns\":\"0\"},\"Baldwin County\":{\"MarchEmployed\":\"16.7K\",\"CumClaims\":\"6.26K\",\"Employed\":\"10.5K\",\"Unemployed\":\"7.26K\",\"PctChngEmployed\":\"-37.4%\",\"LaborForce\":\"17.7K\",\"Rate\":\"40.9%\",\"CurrentWarns\":\"0\"},\"Oconee County\":{\"MarchEmployed\":\"18.9K\",\"CumClaims\":\"5.47K\",\"Employed\":\"13.4K\",\"Unemployed\":\"6.09K\",\"PctChngEmployed\":\"-29.0%\",\"LaborForce\":\"19.5K\",\"Rate\":\"31.3%\",\"CurrentWarns\":\"1\"},\"Cedartown, GA\":{\"MarchEmployed\":\"17.7K\",\"CumClaims\":\"7.25K\",\"Employed\":\"10.5K\",\"Unemployed\":\"8.12K\",\"PctChngEmployed\":\"-40.9%\",\"LaborForce\":\"18.6K\",\"Rate\":\"43.7%\",\"CurrentWarns\":\"0\"},\"Polk County\":{\"MarchEmployed\":\"17.7K\",\"CumClaims\":\"7.25K\",\"Employed\":\"10.5K\",\"Unemployed\":\"8.12K\",\"PctChngEmployed\":\"-40.9%\",\"LaborForce\":\"18.6K\",\"Rate\":\"43.7%\",\"CurrentWarns\":\"0\"},\"Thomas County\":{\"MarchEmployed\":\"15.7K\",\"CumClaims\":\"5.36K\",\"Employed\":\"10.3K\",\"Unemployed\":\"6.18K\",\"PctChngEmployed\":\"-34.1%\",\"LaborForce\":\"16.5K\",\"Rate\":\"37.4%\",\"CurrentWarns\":\"0\"},\"Thomasville, GA\":{\"MarchEmployed\":\"15.7K\",\"CumClaims\":\"5.36K\",\"Employed\":\"10.3K\",\"Unemployed\":\"6.18K\",\"PctChngEmployed\":\"-34.1%\",\"LaborForce\":\"16.5K\",\"Rate\":\"37.4%\",\"CurrentWarns\":\"0\"},\"Waycross, GA\":{\"MarchEmployed\":\"23.4K\",\"CumClaims\":\"6.28K\",\"Employed\":\"17.1K\",\"Unemployed\":\"7.34K\",\"PctChngEmployed\":\"-26.8%\",\"LaborForce\":\"24.5K\",\"Rate\":\"30.0%\",\"CurrentWarns\":\"1\"},\"Camden County\":{\"MarchEmployed\":\"20K\",\"CumClaims\":\"6.12K\",\"Employed\":\"13.8K\",\"Unemployed\":\"7.06K\",\"PctChngEmployed\":\"-30.7%\",\"LaborForce\":\"20.9K\",\"Rate\":\"33.8%\",\"CurrentWarns\":\"1\"},\"St. Marys, GA\":{\"MarchEmployed\":\"20K\",\"CumClaims\":\"6.12K\",\"Employed\":\"13.8K\",\"Unemployed\":\"7.06K\",\"PctChngEmployed\":\"-30.7%\",\"LaborForce\":\"20.9K\",\"Rate\":\"33.8%\",\"CurrentWarns\":\"1\"},\"Moultrie, GA\":{\"MarchEmployed\":\"20.8K\",\"CumClaims\":\"5.27K\",\"Employed\":\"15.5K\",\"Unemployed\":\"6.08K\",\"PctChngEmployed\":\"-25.3%\",\"LaborForce\":\"21.6K\",\"Rate\":\"28.1%\",\"CurrentWarns\":\"0\"},\"Colquitt County\":{\"MarchEmployed\":\"20.8K\",\"CumClaims\":\"5.27K\",\"Employed\":\"15.5K\",\"Unemployed\":\"6.08K\",\"PctChngEmployed\":\"-25.3%\",\"LaborForce\":\"21.6K\",\"Rate\":\"28.1%\",\"CurrentWarns\":\"0\"},\"Laurens County\":{\"MarchEmployed\":\"18K\",\"CumClaims\":\"6.11K\",\"Employed\":\"11.8K\",\"Unemployed\":\"7.33K\",\"PctChngEmployed\":\"-34.0%\",\"LaborForce\":\"19.2K\",\"Rate\":\"38.2%\",\"CurrentWarns\":\"1\"},\"Tifton, GA\":{\"MarchEmployed\":\"19.3K\",\"CumClaims\":\"6K\",\"Employed\":\"13.3K\",\"Unemployed\":\"6.82K\",\"PctChngEmployed\":\"-31.0%\",\"LaborForce\":\"20.2K\",\"Rate\":\"33.9%\",\"CurrentWarns\":\"0\"},\"Tift County\":{\"MarchEmployed\":\"19.3K\",\"CumClaims\":\"6K\",\"Employed\":\"13.3K\",\"Unemployed\":\"6.82K\",\"PctChngEmployed\":\"-31.0%\",\"LaborForce\":\"20.2K\",\"Rate\":\"33.9%\",\"CurrentWarns\":\"0\"},\"Catoosa County\":{\"MarchEmployed\":\"32.8K\",\"CumClaims\":\"6.08K\",\"Employed\":\"26.7K\",\"Unemployed\":\"7.3K\",\"PctChngEmployed\":\"-18.5%\",\"LaborForce\":\"34K\",\"Rate\":\"21.4%\",\"CurrentWarns\":\"0\"},\"Harris County\":{\"MarchEmployed\":\"16K\",\"CumClaims\":\"5.1K\",\"Employed\":\"10.9K\",\"Unemployed\":\"5.74K\",\"PctChngEmployed\":\"-32.0%\",\"LaborForce\":\"16.6K\",\"Rate\":\"34.6%\",\"CurrentWarns\":\"0\"},\"Vidalia, GA\":{\"MarchEmployed\":\"14.7K\",\"CumClaims\":\"5.17K\",\"Employed\":\"9.57K\",\"Unemployed\":\"6.07K\",\"PctChngEmployed\":\"-35.1%\",\"LaborForce\":\"15.6K\",\"Rate\":\"38.8%\",\"CurrentWarns\":\"1\"},\"Habersham County\":{\"MarchEmployed\":\"18.3K\",\"CumClaims\":\"5.75K\",\"Employed\":\"12.5K\",\"Unemployed\":\"6.62K\",\"PctChngEmployed\":\"-31.5%\",\"LaborForce\":\"19.1K\",\"Rate\":\"34.6%\",\"CurrentWarns\":\"0\"},\"Cornelia, GA\":{\"MarchEmployed\":\"18.3K\",\"CumClaims\":\"5.75K\",\"Employed\":\"12.5K\",\"Unemployed\":\"6.62K\",\"PctChngEmployed\":\"-31.5%\",\"LaborForce\":\"19.1K\",\"Rate\":\"34.6%\",\"CurrentWarns\":\"0\"},\"Atkinson County\":{\"MarchEmployed\":\"4.85K\",\"CumClaims\":\"5.55K\",\"Employed\":\"-700\",\"Unemployed\":\"5.72K\",\"PctChngEmployed\":\"-114.4%\",\"LaborForce\":\"5.02K\",\"Rate\":\"113.9%\",\"CurrentWarns\":\"0\"},\"Franklin County\":{\"MarchEmployed\":\"9.56K\",\"CumClaims\":\"4.35K\",\"Employed\":\"5.21K\",\"Unemployed\":\"4.84K\",\"PctChngEmployed\":\"-45.5%\",\"LaborForce\":\"10.1K\",\"Rate\":\"48.1%\",\"CurrentWarns\":\"0\"},\"Cordele, GA\":{\"MarchEmployed\":\"9.08K\",\"CumClaims\":\"4.53K\",\"Employed\":\"4.55K\",\"Unemployed\":\"5K\",\"PctChngEmployed\":\"-49.9%\",\"LaborForce\":\"9.55K\",\"Rate\":\"52.3%\",\"CurrentWarns\":\"2\"},\"Crisp County\":{\"MarchEmployed\":\"9.08K\",\"CumClaims\":\"4.53K\",\"Employed\":\"4.55K\",\"Unemployed\":\"5K\",\"PctChngEmployed\":\"-49.9%\",\"LaborForce\":\"9.55K\",\"Rate\":\"52.3%\",\"CurrentWarns\":\"2\"},\"Lumpkin County\":{\"MarchEmployed\":\"16.2K\",\"CumClaims\":\"5.37K\",\"Employed\":\"10.8K\",\"Unemployed\":\"6.02K\",\"PctChngEmployed\":\"-33.2%\",\"LaborForce\":\"16.8K\",\"Rate\":\"35.7%\",\"CurrentWarns\":\"1\"},\"Dawson County\":{\"MarchEmployed\":\"12K\",\"CumClaims\":\"5.29K\",\"Employed\":\"6.68K\",\"Unemployed\":\"5.74K\",\"PctChngEmployed\":\"-44.2%\",\"LaborForce\":\"12.4K\",\"Rate\":\"46.2%\",\"CurrentWarns\":\"1\"},\"Butts County\":{\"MarchEmployed\":\"10.4K\",\"CumClaims\":\"4.65K\",\"Employed\":\"5.76K\",\"Unemployed\":\"5.11K\",\"PctChngEmployed\":\"-44.6%\",\"LaborForce\":\"10.9K\",\"Rate\":\"47.0%\",\"CurrentWarns\":\"0\"},\"Summerville, GA\":{\"MarchEmployed\":\"9.74K\",\"CumClaims\":\"5.42K\",\"Employed\":\"4.33K\",\"Unemployed\":\"6K\",\"PctChngEmployed\":\"-55.6%\",\"LaborForce\":\"10.3K\",\"Rate\":\"58.1%\",\"CurrentWarns\":\"1\"},\"Chattooga County\":{\"MarchEmployed\":\"9.74K\",\"CumClaims\":\"5.42K\",\"Employed\":\"4.33K\",\"Unemployed\":\"6K\",\"PctChngEmployed\":\"-55.6%\",\"LaborForce\":\"10.3K\",\"Rate\":\"58.1%\",\"CurrentWarns\":\"1\"},\"Fitzgerald, GA\":{\"MarchEmployed\":\"5K\",\"CumClaims\":\"5.1K\",\"Employed\":\"-109\",\"Unemployed\":\"5.5K\",\"PctChngEmployed\":\"-102.2%\",\"LaborForce\":\"5.4K\",\"Rate\":\"102.0%\",\"CurrentWarns\":\"0\"},\"Ben Hill County\":{\"MarchEmployed\":\"5K\",\"CumClaims\":\"5.1K\",\"Employed\":\"-109\",\"Unemployed\":\"5.5K\",\"PctChngEmployed\":\"-102.2%\",\"LaborForce\":\"5.4K\",\"Rate\":\"102.0%\",\"CurrentWarns\":\"0\"},\"Pickens County\":{\"MarchEmployed\":\"14.8K\",\"CumClaims\":\"4.95K\",\"Employed\":\"9.9K\",\"Unemployed\":\"5.54K\",\"PctChngEmployed\":\"-33.4%\",\"LaborForce\":\"15.4K\",\"Rate\":\"35.9%\",\"CurrentWarns\":\"0\"},\"Coffee County\":{\"MarchEmployed\":\"18.2K\",\"CumClaims\":\"4.93K\",\"Employed\":\"13.3K\",\"Unemployed\":\"5.96K\",\"PctChngEmployed\":\"-27.1%\",\"LaborForce\":\"19.2K\",\"Rate\":\"31.0%\",\"CurrentWarns\":\"0\"},\"Madison County\":{\"MarchEmployed\":\"12.8K\",\"CumClaims\":\"4.83K\",\"Employed\":\"7.95K\",\"Unemployed\":\"5.36K\",\"PctChngEmployed\":\"-37.8%\",\"LaborForce\":\"13.3K\",\"Rate\":\"40.3%\",\"CurrentWarns\":\"0\"},\"Wayne County\":{\"MarchEmployed\":\"10.8K\",\"CumClaims\":\"3.53K\",\"Employed\":\"7.29K\",\"Unemployed\":\"4.07K\",\"PctChngEmployed\":\"-32.6%\",\"LaborForce\":\"11.4K\",\"Rate\":\"35.8%\",\"CurrentWarns\":\"0\"},\"Jesup, GA\":{\"MarchEmployed\":\"10.8K\",\"CumClaims\":\"3.53K\",\"Employed\":\"7.29K\",\"Unemployed\":\"4.07K\",\"PctChngEmployed\":\"-32.6%\",\"LaborForce\":\"11.4K\",\"Rate\":\"35.8%\",\"CurrentWarns\":\"0\"},\"Thomaston, GA\":{\"MarchEmployed\":\"10.9K\",\"CumClaims\":\"4.26K\",\"Employed\":\"6.68K\",\"Unemployed\":\"4.77K\",\"PctChngEmployed\":\"-39.0%\",\"LaborForce\":\"11.4K\",\"Rate\":\"41.7%\",\"CurrentWarns\":\"0\"},\"Upson County\":{\"MarchEmployed\":\"10.9K\",\"CumClaims\":\"4.26K\",\"Employed\":\"6.68K\",\"Unemployed\":\"4.77K\",\"PctChngEmployed\":\"-39.0%\",\"LaborForce\":\"11.4K\",\"Rate\":\"41.7%\",\"CurrentWarns\":\"0\"},\"White County\":{\"MarchEmployed\":\"15.9K\",\"CumClaims\":\"4.92K\",\"Employed\":\"11K\",\"Unemployed\":\"5.49K\",\"PctChngEmployed\":\"-30.9%\",\"LaborForce\":\"16.5K\",\"Rate\":\"33.3%\",\"CurrentWarns\":\"1\"},\"Toccoa, GA\":{\"MarchEmployed\":\"10.2K\",\"CumClaims\":\"4.03K\",\"Employed\":\"6.15K\",\"Unemployed\":\"4.55K\",\"PctChngEmployed\":\"-39.6%\",\"LaborForce\":\"10.7K\",\"Rate\":\"42.5%\",\"CurrentWarns\":\"0\"},\"Stephens County\":{\"MarchEmployed\":\"10.2K\",\"CumClaims\":\"4.03K\",\"Employed\":\"6.15K\",\"Unemployed\":\"4.55K\",\"PctChngEmployed\":\"-39.6%\",\"LaborForce\":\"10.7K\",\"Rate\":\"42.5%\",\"CurrentWarns\":\"0\"},\"Banks County\":{\"MarchEmployed\":\"9.48K\",\"CumClaims\":\"3.5K\",\"Employed\":\"5.98K\",\"Unemployed\":\"3.85K\",\"PctChngEmployed\":\"-36.9%\",\"LaborForce\":\"9.83K\",\"Rate\":\"39.2%\",\"CurrentWarns\":\"1\"},\"Americus, GA\":{\"MarchEmployed\":\"14.4K\",\"CumClaims\":\"3.36K\",\"Employed\":\"11K\",\"Unemployed\":\"4.26K\",\"PctChngEmployed\":\"-23.4%\",\"LaborForce\":\"15.2K\",\"Rate\":\"27.9%\",\"CurrentWarns\":\"2\"},\"Haralson County\":{\"MarchEmployed\":\"12.1K\",\"CumClaims\":\"5.36K\",\"Employed\":\"6.79K\",\"Unemployed\":\"5.93K\",\"PctChngEmployed\":\"-44.1%\",\"LaborForce\":\"12.7K\",\"Rate\":\"46.6%\",\"CurrentWarns\":\"0\"},\"Gilmer County\":{\"MarchEmployed\":\"11.3K\",\"CumClaims\":\"4.42K\",\"Employed\":\"6.89K\",\"Unemployed\":\"4.94K\",\"PctChngEmployed\":\"-39.1%\",\"LaborForce\":\"11.8K\",\"Rate\":\"41.8%\",\"CurrentWarns\":\"1\"},\"Peach County\":{\"MarchEmployed\":\"11.4K\",\"CumClaims\":\"4.21K\",\"Employed\":\"7.16K\",\"Unemployed\":\"4.78K\",\"PctChngEmployed\":\"-37.1%\",\"LaborForce\":\"11.9K\",\"Rate\":\"40.0%\",\"CurrentWarns\":\"2\"},\"Clinch County\":{\"MarchEmployed\":\"2.48K\",\"CumClaims\":\"3.08K\",\"Employed\":\"-597\",\"Unemployed\":\"3.21K\",\"PctChngEmployed\":\"-124.1%\",\"LaborForce\":\"2.61K\",\"Rate\":\"122.9%\",\"CurrentWarns\":\"0\"},\"Fannin County\":{\"MarchEmployed\":\"11K\",\"CumClaims\":\"4.09K\",\"Employed\":\"6.92K\",\"Unemployed\":\"4.59K\",\"PctChngEmployed\":\"-37.1%\",\"LaborForce\":\"11.5K\",\"Rate\":\"39.9%\",\"CurrentWarns\":\"0\"},\"Toombs County\":{\"MarchEmployed\":\"11.1K\",\"CumClaims\":\"3.81K\",\"Employed\":\"7.31K\",\"Unemployed\":\"4.5K\",\"PctChngEmployed\":\"-34.3%\",\"LaborForce\":\"11.8K\",\"Rate\":\"38.1%\",\"CurrentWarns\":\"1\"},\"Bainbridge, GA\":{\"MarchEmployed\":\"11.2K\",\"CumClaims\":\"3.06K\",\"Employed\":\"8.14K\",\"Unemployed\":\"3.6K\",\"PctChngEmployed\":\"-27.3%\",\"LaborForce\":\"11.7K\",\"Rate\":\"30.6%\",\"CurrentWarns\":\"0\"},\"Decatur County\":{\"MarchEmployed\":\"11.2K\",\"CumClaims\":\"3.06K\",\"Employed\":\"8.14K\",\"Unemployed\":\"3.6K\",\"PctChngEmployed\":\"-27.3%\",\"LaborForce\":\"11.7K\",\"Rate\":\"30.6%\",\"CurrentWarns\":\"0\"},\"Meriwether County\":{\"MarchEmployed\":\"8.53K\",\"CumClaims\":\"3.49K\",\"Employed\":\"5.04K\",\"Unemployed\":\"3.98K\",\"PctChngEmployed\":\"-40.9%\",\"LaborForce\":\"9.02K\",\"Rate\":\"44.1%\",\"CurrentWarns\":\"0\"},\"Ware County\":{\"MarchEmployed\":\"15K\",\"CumClaims\":\"4.01K\",\"Employed\":\"11K\",\"Unemployed\":\"4.74K\",\"PctChngEmployed\":\"-26.8%\",\"LaborForce\":\"15.7K\",\"Rate\":\"30.1%\",\"CurrentWarns\":\"1\"},\"Morgan County\":{\"MarchEmployed\":\"8.98K\",\"CumClaims\":\"3.13K\",\"Employed\":\"5.85K\",\"Unemployed\":\"3.48K\",\"PctChngEmployed\":\"-34.9%\",\"LaborForce\":\"9.33K\",\"Rate\":\"37.3%\",\"CurrentWarns\":\"0\"},\"Sumter County\":{\"MarchEmployed\":\"12.2K\",\"CumClaims\":\"3.05K\",\"Employed\":\"9.17K\",\"Unemployed\":\"3.84K\",\"PctChngEmployed\":\"-24.9%\",\"LaborForce\":\"13K\",\"Rate\":\"29.5%\",\"CurrentWarns\":\"2\"},\"Monroe County\":{\"MarchEmployed\":\"12.5K\",\"CumClaims\":\"3.23K\",\"Employed\":\"9.32K\",\"Unemployed\":\"3.78K\",\"PctChngEmployed\":\"-25.7%\",\"LaborForce\":\"13.1K\",\"Rate\":\"28.8%\",\"CurrentWarns\":\"0\"},\"Screven County\":{\"MarchEmployed\":\"4.79K\",\"CumClaims\":\"2.29K\",\"Employed\":\"2.5K\",\"Unemployed\":\"2.6K\",\"PctChngEmployed\":\"-47.8%\",\"LaborForce\":\"5.1K\",\"Rate\":\"51.0%\",\"CurrentWarns\":\"0\"},\"Jones County\":{\"MarchEmployed\":\"13.2K\",\"CumClaims\":\"2.85K\",\"Employed\":\"10.4K\",\"Unemployed\":\"3.4K\",\"PctChngEmployed\":\"-21.5%\",\"LaborForce\":\"13.8K\",\"Rate\":\"24.6%\",\"CurrentWarns\":\"0\"},\"Hart County\":{\"MarchEmployed\":\"10.6K\",\"CumClaims\":\"2.8K\",\"Employed\":\"7.77K\",\"Unemployed\":\"3.38K\",\"PctChngEmployed\":\"-26.5%\",\"LaborForce\":\"11.2K\",\"Rate\":\"30.3%\",\"CurrentWarns\":\"0\"},\"Brantley County\":{\"MarchEmployed\":\"6.83K\",\"CumClaims\":\"2.36K\",\"Employed\":\"4.47K\",\"Unemployed\":\"2.7K\",\"PctChngEmployed\":\"-34.6%\",\"LaborForce\":\"7.17K\",\"Rate\":\"37.7%\",\"CurrentWarns\":\"0\"},\"McDuffie County\":{\"MarchEmployed\":\"8.42K\",\"CumClaims\":\"3.05K\",\"Employed\":\"5.37K\",\"Unemployed\":\"3.61K\",\"PctChngEmployed\":\"-36.2%\",\"LaborForce\":\"8.98K\",\"Rate\":\"40.2%\",\"CurrentWarns\":\"1\"},\"Elbert County\":{\"MarchEmployed\":\"7.3K\",\"CumClaims\":\"2.63K\",\"Employed\":\"4.67K\",\"Unemployed\":\"3.04K\",\"PctChngEmployed\":\"-36.0%\",\"LaborForce\":\"7.71K\",\"Rate\":\"39.4%\",\"CurrentWarns\":\"0\"},\"Union County\":{\"MarchEmployed\":\"9.93K\",\"CumClaims\":\"3.2K\",\"Employed\":\"6.73K\",\"Unemployed\":\"3.61K\",\"PctChngEmployed\":\"-32.2%\",\"LaborForce\":\"10.3K\",\"Rate\":\"34.9%\",\"CurrentWarns\":\"0\"},\"Putnam County\":{\"MarchEmployed\":\"7.82K\",\"CumClaims\":\"3.19K\",\"Employed\":\"4.63K\",\"Unemployed\":\"3.61K\",\"PctChngEmployed\":\"-40.8%\",\"LaborForce\":\"8.24K\",\"Rate\":\"43.8%\",\"CurrentWarns\":\"0\"},\"Pierce County\":{\"MarchEmployed\":\"8.41K\",\"CumClaims\":\"2.26K\",\"Employed\":\"6.15K\",\"Unemployed\":\"2.6K\",\"PctChngEmployed\":\"-26.9%\",\"LaborForce\":\"8.75K\",\"Rate\":\"29.8%\",\"CurrentWarns\":\"0\"},\"Dodge County\":{\"MarchEmployed\":\"6.58K\",\"CumClaims\":\"1.68K\",\"Employed\":\"4.89K\",\"Unemployed\":\"2.15K\",\"PctChngEmployed\":\"-25.6%\",\"LaborForce\":\"7.04K\",\"Rate\":\"30.5%\",\"CurrentWarns\":\"0\"},\"Emanuel County\":{\"MarchEmployed\":\"7.88K\",\"CumClaims\":\"2.04K\",\"Employed\":\"5.84K\",\"Unemployed\":\"2.58K\",\"PctChngEmployed\":\"-25.9%\",\"LaborForce\":\"8.42K\",\"Rate\":\"30.7%\",\"CurrentWarns\":\"0\"},\"Berrien County\":{\"MarchEmployed\":\"7.22K\",\"CumClaims\":\"2.83K\",\"Employed\":\"4.39K\",\"Unemployed\":\"3.25K\",\"PctChngEmployed\":\"-39.2%\",\"LaborForce\":\"7.64K\",\"Rate\":\"42.6%\",\"CurrentWarns\":\"0\"},\"Cook County\":{\"MarchEmployed\":\"7.83K\",\"CumClaims\":\"2.26K\",\"Employed\":\"5.57K\",\"Unemployed\":\"2.59K\",\"PctChngEmployed\":\"-28.9%\",\"LaborForce\":\"8.16K\",\"Rate\":\"31.8%\",\"CurrentWarns\":\"0\"},\"Greene County\":{\"MarchEmployed\":\"6.65K\",\"CumClaims\":\"2.71K\",\"Employed\":\"3.94K\",\"Unemployed\":\"3.06K\",\"PctChngEmployed\":\"-40.8%\",\"LaborForce\":\"7K\",\"Rate\":\"43.8%\",\"CurrentWarns\":\"1\"},\"Burke County\":{\"MarchEmployed\":\"8.74K\",\"CumClaims\":\"2.54K\",\"Employed\":\"6.2K\",\"Unemployed\":\"3.07K\",\"PctChngEmployed\":\"-29.1%\",\"LaborForce\":\"9.27K\",\"Rate\":\"33.1%\",\"CurrentWarns\":\"0\"},\"Long County\":{\"MarchEmployed\":\"7.91K\",\"CumClaims\":\"1.85K\",\"Employed\":\"6.06K\",\"Unemployed\":\"2.22K\",\"PctChngEmployed\":\"-23.4%\",\"LaborForce\":\"8.27K\",\"Rate\":\"26.8%\",\"CurrentWarns\":\"0\"},\"Pike County\":{\"MarchEmployed\":\"8.64K\",\"CumClaims\":\"2.65K\",\"Employed\":\"6K\",\"Unemployed\":\"3K\",\"PctChngEmployed\":\"-30.7%\",\"LaborForce\":\"9K\",\"Rate\":\"33.4%\",\"CurrentWarns\":\"1\"},\"Calhoun County\":{\"MarchEmployed\":\"2.22K\",\"CumClaims\":\"1.53K\",\"Employed\":\"690\",\"Unemployed\":\"1.65K\",\"PctChngEmployed\":\"-68.9%\",\"LaborForce\":\"2.34K\",\"Rate\":\"70.5%\",\"CurrentWarns\":\"0\"},\"Appling County\":{\"MarchEmployed\":\"9.31K\",\"CumClaims\":\"2.07K\",\"Employed\":\"7.23K\",\"Unemployed\":\"2.5K\",\"PctChngEmployed\":\"-22.3%\",\"LaborForce\":\"9.74K\",\"Rate\":\"25.7%\",\"CurrentWarns\":\"0\"},\"Lamar County\":{\"MarchEmployed\":\"7.92K\",\"CumClaims\":\"2.48K\",\"Employed\":\"5.44K\",\"Unemployed\":\"2.9K\",\"PctChngEmployed\":\"-31.3%\",\"LaborForce\":\"8.34K\",\"Rate\":\"34.8%\",\"CurrentWarns\":\"0\"},\"Dade County\":{\"MarchEmployed\":\"7.96K\",\"CumClaims\":\"1.47K\",\"Employed\":\"6.49K\",\"Unemployed\":\"1.8K\",\"PctChngEmployed\":\"-18.5%\",\"LaborForce\":\"8.29K\",\"Rate\":\"21.7%\",\"CurrentWarns\":\"0\"},\"Brooks County\":{\"MarchEmployed\":\"6.68K\",\"CumClaims\":\"1.46K\",\"Employed\":\"5.22K\",\"Unemployed\":\"1.75K\",\"PctChngEmployed\":\"-21.8%\",\"LaborForce\":\"6.97K\",\"Rate\":\"25.1%\",\"CurrentWarns\":\"0\"},\"Heard County\":{\"MarchEmployed\":\"5.09K\",\"CumClaims\":\"1.72K\",\"Employed\":\"3.37K\",\"Unemployed\":\"1.97K\",\"PctChngEmployed\":\"-33.8%\",\"LaborForce\":\"5.33K\",\"Rate\":\"36.9%\",\"CurrentWarns\":\"0\"},\"Mitchell County\":{\"MarchEmployed\":\"8.16K\",\"CumClaims\":\"1.63K\",\"Employed\":\"6.53K\",\"Unemployed\":\"2.14K\",\"PctChngEmployed\":\"-20.0%\",\"LaborForce\":\"8.66K\",\"Rate\":\"24.6%\",\"CurrentWarns\":\"0\"},\"Grady County\":{\"MarchEmployed\":\"10.1K\",\"CumClaims\":\"2.14K\",\"Employed\":\"7.94K\",\"Unemployed\":\"2.57K\",\"PctChngEmployed\":\"-21.2%\",\"LaborForce\":\"10.5K\",\"Rate\":\"24.5%\",\"CurrentWarns\":\"0\"},\"Worth County\":{\"MarchEmployed\":\"8.58K\",\"CumClaims\":\"1.91K\",\"Employed\":\"6.67K\",\"Unemployed\":\"2.34K\",\"PctChngEmployed\":\"-22.3%\",\"LaborForce\":\"9.01K\",\"Rate\":\"25.9%\",\"CurrentWarns\":\"0\"},\"Jefferson County\":{\"MarchEmployed\":\"6.3K\",\"CumClaims\":\"1.76K\",\"Employed\":\"4.54K\",\"Unemployed\":\"2.16K\",\"PctChngEmployed\":\"-27.9%\",\"LaborForce\":\"6.7K\",\"Rate\":\"32.2%\",\"CurrentWarns\":\"1\"},\"Jasper County\":{\"MarchEmployed\":\"6.75K\",\"CumClaims\":\"1.89K\",\"Employed\":\"4.85K\",\"Unemployed\":\"2.16K\",\"PctChngEmployed\":\"-28.1%\",\"LaborForce\":\"7.02K\",\"Rate\":\"30.9%\",\"CurrentWarns\":\"0\"},\"Crawford County\":{\"MarchEmployed\":\"5.41K\",\"CumClaims\":\"1.45K\",\"Employed\":\"3.96K\",\"Unemployed\":\"1.69K\",\"PctChngEmployed\":\"-26.9%\",\"LaborForce\":\"5.65K\",\"Rate\":\"29.9%\",\"CurrentWarns\":\"1\"},\"Bacon County\":{\"MarchEmployed\":\"4.77K\",\"CumClaims\":\"1.39K\",\"Employed\":\"3.37K\",\"Unemployed\":\"1.61K\",\"PctChngEmployed\":\"-29.2%\",\"LaborForce\":\"4.99K\",\"Rate\":\"32.4%\",\"CurrentWarns\":\"0\"},\"Montgomery County\":{\"MarchEmployed\":\"3.63K\",\"CumClaims\":\"1.36K\",\"Employed\":\"2.27K\",\"Unemployed\":\"1.57K\",\"PctChngEmployed\":\"-37.5%\",\"LaborForce\":\"3.84K\",\"Rate\":\"40.9%\",\"CurrentWarns\":\"0\"},\"Jeff Davis County\":{\"MarchEmployed\":\"5.72K\",\"CumClaims\":\"1.59K\",\"Employed\":\"4.14K\",\"Unemployed\":\"1.93K\",\"PctChngEmployed\":\"-27.7%\",\"LaborForce\":\"6.07K\",\"Rate\":\"31.8%\",\"CurrentWarns\":\"0\"},\"Evans County\":{\"MarchEmployed\":\"4.7K\",\"CumClaims\":\"1.15K\",\"Employed\":\"3.55K\",\"Unemployed\":\"1.39K\",\"PctChngEmployed\":\"-24.5%\",\"LaborForce\":\"4.94K\",\"Rate\":\"28.1%\",\"CurrentWarns\":\"0\"},\"Candler County\":{\"MarchEmployed\":\"5.44K\",\"CumClaims\":\"1.36K\",\"Employed\":\"4.08K\",\"Unemployed\":\"1.57K\",\"PctChngEmployed\":\"-25.0%\",\"LaborForce\":\"5.66K\",\"Rate\":\"27.8%\",\"CurrentWarns\":\"0\"},\"Towns County\":{\"MarchEmployed\":\"3.66K\",\"CumClaims\":\"1.56K\",\"Employed\":\"2.1K\",\"Unemployed\":\"1.8K\",\"PctChngEmployed\":\"-42.6%\",\"LaborForce\":\"3.91K\",\"Rate\":\"46.2%\",\"CurrentWarns\":\"1\"},\"Rabun County\":{\"MarchEmployed\":\"6.69K\",\"CumClaims\":\"2.44K\",\"Employed\":\"4.26K\",\"Unemployed\":\"2.75K\",\"PctChngEmployed\":\"-36.4%\",\"LaborForce\":\"7.01K\",\"Rate\":\"39.2%\",\"CurrentWarns\":\"0\"},\"Oglethorpe County\":{\"MarchEmployed\":\"6.69K\",\"CumClaims\":\"1.69K\",\"Employed\":\"5K\",\"Unemployed\":\"1.96K\",\"PctChngEmployed\":\"-25.3%\",\"LaborForce\":\"6.96K\",\"Rate\":\"28.1%\",\"CurrentWarns\":\"0\"},\"Tattnall County\":{\"MarchEmployed\":\"9.22K\",\"CumClaims\":\"1.55K\",\"Employed\":\"7.67K\",\"Unemployed\":\"2.03K\",\"PctChngEmployed\":\"-16.8%\",\"LaborForce\":\"9.7K\",\"Rate\":\"21.0%\",\"CurrentWarns\":\"0\"},\"Macon County\":{\"MarchEmployed\":\"4.5K\",\"CumClaims\":\"1.49K\",\"Employed\":\"3.01K\",\"Unemployed\":\"1.77K\",\"PctChngEmployed\":\"-33.1%\",\"LaborForce\":\"4.77K\",\"Rate\":\"37.0%\",\"CurrentWarns\":\"0\"},\"Washington County\":{\"MarchEmployed\":\"6.64K\",\"CumClaims\":\"1.56K\",\"Employed\":\"5.08K\",\"Unemployed\":\"1.93K\",\"PctChngEmployed\":\"-23.5%\",\"LaborForce\":\"7.01K\",\"Rate\":\"27.6%\",\"CurrentWarns\":\"0\"},\"McIntosh County\":{\"MarchEmployed\":\"5.86K\",\"CumClaims\":\"1.86K\",\"Employed\":\"4K\",\"Unemployed\":\"2.13K\",\"PctChngEmployed\":\"-31.7%\",\"LaborForce\":\"6.13K\",\"Rate\":\"34.8%\",\"CurrentWarns\":\"0\"},\"Marion County\":{\"MarchEmployed\":\"3.13K\",\"CumClaims\":\"778\",\"Employed\":\"2.35K\",\"Unemployed\":\"960\",\"PctChngEmployed\":\"-24.8%\",\"LaborForce\":\"3.31K\",\"Rate\":\"29.0%\",\"CurrentWarns\":\"0\"},\"Charlton County\":{\"MarchEmployed\":\"4.61K\",\"CumClaims\":\"1.01K\",\"Employed\":\"3.61K\",\"Unemployed\":\"1.22K\",\"PctChngEmployed\":\"-21.8%\",\"LaborForce\":\"4.83K\",\"Rate\":\"25.3%\",\"CurrentWarns\":\"0\"},\"Bleckley County\":{\"MarchEmployed\":\"4.28K\",\"CumClaims\":\"1.08K\",\"Employed\":\"3.19K\",\"Unemployed\":\"1.37K\",\"PctChngEmployed\":\"-25.4%\",\"LaborForce\":\"4.56K\",\"Rate\":\"30.1%\",\"CurrentWarns\":\"0\"},\"Early County\":{\"MarchEmployed\":\"4.28K\",\"CumClaims\":\"816\",\"Employed\":\"3.46K\",\"Unemployed\":\"1.04K\",\"PctChngEmployed\":\"-19.1%\",\"LaborForce\":\"4.51K\",\"Rate\":\"23.2%\",\"CurrentWarns\":\"0\"},\"Dooly County\":{\"MarchEmployed\":\"4.87K\",\"CumClaims\":\"1.01K\",\"Employed\":\"3.86K\",\"Unemployed\":\"1.25K\",\"PctChngEmployed\":\"-20.8%\",\"LaborForce\":\"5.1K\",\"Rate\":\"24.4%\",\"CurrentWarns\":\"0\"},\"Jenkins County\":{\"MarchEmployed\":\"2.94K\",\"CumClaims\":\"803\",\"Employed\":\"2.14K\",\"Unemployed\":\"1.01K\",\"PctChngEmployed\":\"-27.3%\",\"LaborForce\":\"3.15K\",\"Rate\":\"32.1%\",\"CurrentWarns\":\"0\"},\"Chattahoochee County\":{\"MarchEmployed\":\"1.9K\",\"CumClaims\":\"884\",\"Employed\":\"1.01K\",\"Unemployed\":\"1K\",\"PctChngEmployed\":\"-46.6%\",\"LaborForce\":\"2.01K\",\"Rate\":\"49.8%\",\"CurrentWarns\":\"1\"},\"Wilkinson County\":{\"MarchEmployed\":\"3.86K\",\"CumClaims\":\"899\",\"Employed\":\"2.96K\",\"Unemployed\":\"1.08K\",\"PctChngEmployed\":\"-23.3%\",\"LaborForce\":\"4.04K\",\"Rate\":\"26.8%\",\"CurrentWarns\":\"0\"},\"Terrell County\":{\"MarchEmployed\":\"3.33K\",\"CumClaims\":\"894\",\"Employed\":\"2.44K\",\"Unemployed\":\"1.07K\",\"PctChngEmployed\":\"-26.8%\",\"LaborForce\":\"3.51K\",\"Rate\":\"30.6%\",\"CurrentWarns\":\"0\"},\"Lanier County\":{\"MarchEmployed\":\"3.57K\",\"CumClaims\":\"755\",\"Employed\":\"2.81K\",\"Unemployed\":\"937\",\"PctChngEmployed\":\"-21.2%\",\"LaborForce\":\"3.75K\",\"Rate\":\"25.0%\",\"CurrentWarns\":\"0\"},\"Twiggs County\":{\"MarchEmployed\":\"2.73K\",\"CumClaims\":\"694\",\"Employed\":\"2.03K\",\"Unemployed\":\"894\",\"PctChngEmployed\":\"-25.4%\",\"LaborForce\":\"2.93K\",\"Rate\":\"30.5%\",\"CurrentWarns\":\"0\"},\"Warren County\":{\"MarchEmployed\":\"2.76K\",\"CumClaims\":\"738\",\"Employed\":\"2.02K\",\"Unemployed\":\"884\",\"PctChngEmployed\":\"-26.8%\",\"LaborForce\":\"2.9K\",\"Rate\":\"30.5%\",\"CurrentWarns\":\"0\"},\"Hancock County\":{\"MarchEmployed\":\"2.35K\",\"CumClaims\":\"870\",\"Employed\":\"1.48K\",\"Unemployed\":\"1.06K\",\"PctChngEmployed\":\"-37.1%\",\"LaborForce\":\"2.53K\",\"Rate\":\"41.7%\",\"CurrentWarns\":\"0\"},\"Telfair County\":{\"MarchEmployed\":\"3.73K\",\"CumClaims\":\"759\",\"Employed\":\"2.97K\",\"Unemployed\":\"1.21K\",\"PctChngEmployed\":\"-20.3%\",\"LaborForce\":\"4.18K\",\"Rate\":\"29.0%\",\"CurrentWarns\":\"1\"},\"Lincoln County\":{\"MarchEmployed\":\"3.44K\",\"CumClaims\":\"840\",\"Employed\":\"2.6K\",\"Unemployed\":\"1.02K\",\"PctChngEmployed\":\"-24.4%\",\"LaborForce\":\"3.63K\",\"Rate\":\"28.2%\",\"CurrentWarns\":\"0\"},\"Johnson County\":{\"MarchEmployed\":\"3.84K\",\"CumClaims\":\"711\",\"Employed\":\"3.13K\",\"Unemployed\":\"904\",\"PctChngEmployed\":\"-18.5%\",\"LaborForce\":\"4.03K\",\"Rate\":\"22.4%\",\"CurrentWarns\":\"0\"},\"Pulaski County\":{\"MarchEmployed\":\"3.91K\",\"CumClaims\":\"800\",\"Employed\":\"3.11K\",\"Unemployed\":\"989\",\"PctChngEmployed\":\"-20.5%\",\"LaborForce\":\"4.1K\",\"Rate\":\"24.1%\",\"CurrentWarns\":\"0\"},\"Turner County\":{\"MarchEmployed\":\"3.02K\",\"CumClaims\":\"992\",\"Employed\":\"2.03K\",\"Unemployed\":\"1.18K\",\"PctChngEmployed\":\"-32.8%\",\"LaborForce\":\"3.21K\",\"Rate\":\"36.7%\",\"CurrentWarns\":\"0\"},\"Talbot County\":{\"MarchEmployed\":\"2.66K\",\"CumClaims\":\"646\",\"Employed\":\"2.01K\",\"Unemployed\":\"784\",\"PctChngEmployed\":\"-24.3%\",\"LaborForce\":\"2.8K\",\"Rate\":\"28.0%\",\"CurrentWarns\":\"0\"},\"Clay County\":{\"MarchEmployed\":\"828\",\"CumClaims\":\"740\",\"Employed\":\"88\",\"Unemployed\":\"809\",\"PctChngEmployed\":\"-89.4%\",\"LaborForce\":\"897\",\"Rate\":\"90.2%\",\"CurrentWarns\":\"1\"},\"Wilkes County\":{\"MarchEmployed\":\"3.62K\",\"CumClaims\":\"769\",\"Employed\":\"2.86K\",\"Unemployed\":\"1.02K\",\"PctChngEmployed\":\"-21.2%\",\"LaborForce\":\"3.88K\",\"Rate\":\"26.3%\",\"CurrentWarns\":\"0\"},\"Seminole County\":{\"MarchEmployed\":\"2.92K\",\"CumClaims\":\"682\",\"Employed\":\"2.23K\",\"Unemployed\":\"851\",\"PctChngEmployed\":\"-23.4%\",\"LaborForce\":\"3.08K\",\"Rate\":\"27.6%\",\"CurrentWarns\":\"0\"},\"Treutlen County\":{\"MarchEmployed\":\"2.49K\",\"CumClaims\":\"600\",\"Employed\":\"1.89K\",\"Unemployed\":\"766\",\"PctChngEmployed\":\"-24.1%\",\"LaborForce\":\"2.66K\",\"Rate\":\"28.8%\",\"CurrentWarns\":\"0\"},\"Irwin County\":{\"MarchEmployed\":\"3.23K\",\"CumClaims\":\"732\",\"Employed\":\"2.5K\",\"Unemployed\":\"934\",\"PctChngEmployed\":\"-22.7%\",\"LaborForce\":\"3.43K\",\"Rate\":\"27.2%\",\"CurrentWarns\":\"0\"},\"Randolph County\":{\"MarchEmployed\":\"2.44K\",\"CumClaims\":\"1.18K\",\"Employed\":\"1.26K\",\"Unemployed\":\"1.32K\",\"PctChngEmployed\":\"-48.3%\",\"LaborForce\":\"2.59K\",\"Rate\":\"51.2%\",\"CurrentWarns\":\"0\"},\"Schley County\":{\"MarchEmployed\":\"2.13K\",\"CumClaims\":\"316\",\"Employed\":\"1.82K\",\"Unemployed\":\"414\",\"PctChngEmployed\":\"-14.8%\",\"LaborForce\":\"2.23K\",\"Rate\":\"18.6%\",\"CurrentWarns\":\"0\"},\"Taylor County\":{\"MarchEmployed\":\"3.14K\",\"CumClaims\":\"756\",\"Employed\":\"2.38K\",\"Unemployed\":\"891\",\"PctChngEmployed\":\"-24.1%\",\"LaborForce\":\"3.27K\",\"Rate\":\"27.2%\",\"CurrentWarns\":\"0\"},\"Miller County\":{\"MarchEmployed\":\"2.68K\",\"CumClaims\":\"474\",\"Employed\":\"2.21K\",\"Unemployed\":\"598\",\"PctChngEmployed\":\"-17.7%\",\"LaborForce\":\"2.8K\",\"Rate\":\"21.3%\",\"CurrentWarns\":\"0\"},\"Echols County\":{\"MarchEmployed\":\"1.88K\",\"CumClaims\":\"430\",\"Employed\":\"1.45K\",\"Unemployed\":\"505\",\"PctChngEmployed\":\"-22.9%\",\"LaborForce\":\"1.96K\",\"Rate\":\"25.8%\",\"CurrentWarns\":\"0\"},\"Wheeler County\":{\"MarchEmployed\":\"1.5K\",\"CumClaims\":\"372\",\"Employed\":\"1.13K\",\"Unemployed\":\"521\",\"PctChngEmployed\":\"-24.7%\",\"LaborForce\":\"1.65K\",\"Rate\":\"31.5%\",\"CurrentWarns\":\"0\"},\"Baker County\":{\"MarchEmployed\":\"1.13K\",\"CumClaims\":\"432\",\"Employed\":\"701\",\"Unemployed\":\"496\",\"PctChngEmployed\":\"-38.1%\",\"LaborForce\":\"1.2K\",\"Rate\":\"41.4%\",\"CurrentWarns\":\"0\"},\"Stewart County\":{\"MarchEmployed\":\"2.32K\",\"CumClaims\":\"346\",\"Employed\":\"1.98K\",\"Unemployed\":\"470\",\"PctChngEmployed\":\"-14.9%\",\"LaborForce\":\"2.45K\",\"Rate\":\"19.2%\",\"CurrentWarns\":\"0\"},\"Wilcox County\":{\"MarchEmployed\":\"2.59K\",\"CumClaims\":\"445\",\"Employed\":\"2.14K\",\"Unemployed\":\"607\",\"PctChngEmployed\":\"-17.2%\",\"LaborForce\":\"2.75K\",\"Rate\":\"22.1%\",\"CurrentWarns\":\"0\"},\"Glascock County\":{\"MarchEmployed\":\"1.23K\",\"CumClaims\":\"352\",\"Employed\":\"879\",\"Unemployed\":\"416\",\"PctChngEmployed\":\"-28.6%\",\"LaborForce\":\"1.3K\",\"Rate\":\"32.1%\",\"CurrentWarns\":\"0\"},\"Webster County\":{\"MarchEmployed\":\"973\",\"CumClaims\":\"135\",\"Employed\":\"838\",\"Unemployed\":\"199\",\"PctChngEmployed\":\"-13.9%\",\"LaborForce\":\"1.04K\",\"Rate\":\"19.2%\",\"CurrentWarns\":\"0\"},\"Taliaferro County\":{\"MarchEmployed\":\"532\",\"CumClaims\":\"164\",\"Employed\":\"368\",\"Unemployed\":\"202\",\"PctChngEmployed\":\"-30.8%\",\"LaborForce\":\"570\",\"Rate\":\"35.4%\",\"CurrentWarns\":\"0\"},\"Quitman County\":{\"MarchEmployed\":\"752\",\"CumClaims\":\"66\",\"Employed\":\"686\",\"Unemployed\":\"115\",\"PctChngEmployed\":\"-8.8%\",\"LaborForce\":\"801\",\"Rate\":\"14.4%\",\"CurrentWarns\":\"0\"},\"Eufaula, AL-GA\":{\"MarchEmployed\":\"752\",\"CumClaims\":\"66\",\"Employed\":\"686\",\"Unemployed\":\"115\",\"PctChngEmployed\":\"-8.8%\",\"LaborForce\":\"801\",\"Rate\":\"14.4%\",\"CurrentWarns\":\"0\"}}'"
      ]
     },
     "execution_count": 60,
     "metadata": {},
     "output_type": "execute_result"
    }
   ],
   "source": [
    "# write files\n",
    "# this is the county polygon file for fill layers in mapbox\n",
    "countyShapes.to_file(\"../application/app-data/mapbox/countyShapes.geojson\", driver='GeoJSON')\n",
    "# this is the county point file for circle layers in mapbox\n",
    "countyPoints.to_file(\"../application/app-data/mapbox/countyPoints.geojson\", driver='GeoJSON')\n",
    "# this is for the github file to draw the d3 charts\n",
    "data.to_csv('../application/app-data/uiClaims.csv', index=False)\n",
    "industryClaims.to_csv('../application/app-data/industryClaims.csv', index=False)\n",
    "# this is for the warn logs by city for a point layer within the application\n",
    "appWarns.to_csv('../application/app-data/warns.csv', index=False)\n",
    "warns.to_excel('../application/app-data/warnsClean.xlsx', index=False)\n",
    "# this is for the json object to use as dynamically generated KPIs\n",
    "dataK.to_json(orient='index')"
   ]
  },
  {
   "cell_type": "code",
   "execution_count": null,
   "metadata": {},
   "outputs": [],
   "source": []
  },
  {
   "cell_type": "code",
   "execution_count": null,
   "metadata": {},
   "outputs": [],
   "source": []
  },
  {
   "cell_type": "code",
   "execution_count": null,
   "metadata": {},
   "outputs": [],
   "source": []
  }
 ],
 "metadata": {
  "kernelspec": {
   "display_name": "Python 3",
   "language": "python",
   "name": "python3"
  },
  "language_info": {
   "codemirror_mode": {
    "name": "ipython",
    "version": 3
   },
   "file_extension": ".py",
   "mimetype": "text/x-python",
   "name": "python",
   "nbconvert_exporter": "python",
   "pygments_lexer": "ipython3",
   "version": "3.7.6"
  }
 },
 "nbformat": 4,
 "nbformat_minor": 4
}
