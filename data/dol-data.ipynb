{
 "cells": [
  {
   "cell_type": "code",
   "execution_count": 1,
   "metadata": {},
   "outputs": [],
   "source": [
    "import pandas as pd\n",
    "pd.set_option('display.max_columns', None)\n",
    "\n",
    "import numpy as np\n",
    "\n",
    "import geopandas as gpd\n",
    "import fiona\n",
    "\n",
    "import datetime"
   ]
  },
  {
   "cell_type": "code",
   "execution_count": 2,
   "metadata": {},
   "outputs": [],
   "source": [
    "sheets_dict = pd.read_excel('ui_claims_county_industry.xlsx', sheet_name=None,skiprows=2,skipfooter=3)\n",
    "\n",
    "df = pd.DataFrame()\n",
    "for name, sheet in sheets_dict.items():\n",
    "    sheet['County'] = name + 'County'\n",
    "    sheet = sheet.rename(columns=lambda x: x.split('\\n')[-1])\n",
    "    df = df.append(sheet)\n",
    "\n",
    "df.reset_index(inplace=True, drop=True)"
   ]
  },
  {
   "cell_type": "code",
   "execution_count": 3,
   "metadata": {},
   "outputs": [],
   "source": [
    "del df['Unnamed: 2']\n",
    "del df['Unnamed: 4']"
   ]
  },
  {
   "cell_type": "code",
   "execution_count": 4,
   "metadata": {},
   "outputs": [],
   "source": [
    "df = df.melt(id_vars=[\"County\", \"NAICS\", \"INDUSTRY NAME\"], \n",
    "             var_name=\"Date\", \n",
    "             value_name=\"Claims\")\n",
    "\n",
    "df['Claims'] = df['Claims'].replace(',', '', regex=True)\n",
    "\n",
    "df['Claims'] = df['Claims'].astype(int)"
   ]
  },
  {
   "cell_type": "code",
   "execution_count": 5,
   "metadata": {},
   "outputs": [],
   "source": [
    "warns = pd.read_excel('warnLogs_200720.xlsx')\n",
    "warns['County'] = warns['County'] + ' County'\n",
    "warns['County'] = warns['County'].str.strip()"
   ]
  },
  {
   "cell_type": "code",
   "execution_count": 6,
   "metadata": {},
   "outputs": [],
   "source": [
    "codes = pd.read_excel('../../data/geographies/regional-commissions.xlsx', usecols='A,B,C')\n",
    "codes['County'] = codes['County'] + ' County'\n",
    "codes['County'] = codes['County'].astype(str)\n",
    "\n",
    "msa = pd.read_excel('../../data/geographies/cbsa.xlsx', sheet_name='cbsa', usecols='A,D,H,I')\n",
    "msa = msa.loc[msa['State'] == 'Georgia']"
   ]
  },
  {
   "cell_type": "code",
   "execution_count": 7,
   "metadata": {},
   "outputs": [],
   "source": [
    "df = pd.merge(df,codes,how='left',on='County')\n"
   ]
  },
  {
   "cell_type": "code",
   "execution_count": 8,
   "metadata": {},
   "outputs": [],
   "source": [
    "df = pd.merge(df,msa,how='left',on='County')\n",
    "warns = pd.merge(warns,codes,how='left',on='County')\n",
    "warns = pd.merge(warns,msa,how='left',on='County')"
   ]
  },
  {
   "cell_type": "code",
   "execution_count": 9,
   "metadata": {},
   "outputs": [
    {
     "name": "stderr",
     "output_type": "stream",
     "text": [
      "/Users/mmainza/opt/anaconda3/lib/python3.7/site-packages/ipykernel_launcher.py:5: SettingWithCopyWarning: \n",
      "A value is trying to be set on a copy of a slice from a DataFrame.\n",
      "Try using .loc[row_indexer,col_indexer] = value instead\n",
      "\n",
      "See the caveats in the documentation: https://pandas.pydata.org/pandas-docs/stable/user_guide/indexing.html#returning-a-view-versus-a-copy\n",
      "  \"\"\"\n",
      "/Users/mmainza/opt/anaconda3/lib/python3.7/site-packages/ipykernel_launcher.py:7: SettingWithCopyWarning: \n",
      "A value is trying to be set on a copy of a slice from a DataFrame.\n",
      "Try using .loc[row_indexer,col_indexer] = value instead\n",
      "\n",
      "See the caveats in the documentation: https://pandas.pydata.org/pandas-docs/stable/user_guide/indexing.html#returning-a-view-versus-a-copy\n",
      "  import sys\n"
     ]
    }
   ],
   "source": [
    "today = np.datetime64('today')\n",
    "lastYear = today - 365\n",
    "\n",
    "warnsCurr = warns[(warns['Date'] > '2020-03-01') & (warns['Date'] <= today)]\n",
    "warnsCurr['Period'] = 'CurrentWarns'\n",
    "warnsLast = warns[(warns['Date'] > '2019-03-01') & (warns['Date'] <= lastYear)]\n",
    "warnsLast['Period'] = 'Last Period'\n",
    "warnPeriods = warnsCurr.append([warnsLast])\n",
    "\n",
    "warnPeriods = warnPeriods[['ID','Company name','Est. Impact','Date','Period']]\n",
    "\n",
    "warns = pd.merge(warns,warnPeriods,how='left',on=['ID','Company name','Est. Impact','Date'])\n",
    "\n",
    "warns['Period'].fillna('NA',inplace=True)"
   ]
  },
  {
   "cell_type": "code",
   "execution_count": 10,
   "metadata": {},
   "outputs": [],
   "source": [
    "warns['State'] = 'Georgia'"
   ]
  },
  {
   "cell_type": "code",
   "execution_count": 11,
   "metadata": {},
   "outputs": [],
   "source": [
    "countyWarns = warns.groupby(['County','Period']).size().reset_index()\n",
    "countyWarns = countyWarns.pivot_table(0, ['County'], 'Period').reset_index(drop=False)\n",
    "countyWarns.rename(columns={'County':'Area'}, inplace=True)\n",
    "msaWarns = warns.groupby(['CBSA Title','Period']).size().reset_index()\n",
    "msaWarns = msaWarns.pivot_table(0, ['CBSA Title'], 'Period').reset_index(drop=False)\n",
    "msaWarns.rename(columns={'CBSA Title':'Area'}, inplace=True)\n",
    "rcWarns = warns.groupby(['Regional Commission','Period']).size().reset_index()\n",
    "rcWarns = rcWarns.pivot_table(0, ['Regional Commission'], 'Period').reset_index(drop=False)\n",
    "rcWarns.rename(columns={'Regional Commission':'Area'}, inplace=True)\n",
    "stateWarns = warns.groupby(['State','Period']).size().reset_index()\n",
    "stateWarns = stateWarns.pivot_table(0, ['State'], 'Period').reset_index(drop=False)\n",
    "stateWarns.rename(columns={'State':'Area'}, inplace=True)\n",
    "del warns['State']\n",
    "\n",
    "areaWarns = stateWarns.append([rcWarns,msaWarns,countyWarns])\n",
    "areaWarns.reset_index(drop=True, inplace=True)\n",
    "\n",
    "areaWarns.fillna(0, inplace=True)"
   ]
  },
  {
   "cell_type": "code",
   "execution_count": 12,
   "metadata": {},
   "outputs": [],
   "source": [
    "areaWarns = areaWarns[['Area','CurrentWarns']]\n",
    "areaWarns.fillna(0, inplace=True)"
   ]
  },
  {
   "cell_type": "code",
   "execution_count": 13,
   "metadata": {},
   "outputs": [],
   "source": [
    "labor = pd.read_excel('county_laborForce.xlsx')\n",
    "labor.dropna(subset=['title'], inplace=True)\n",
    "labor = labor.loc[labor['Month'] == 3.0]\n",
    "labor['Date'] = pd.to_datetime(labor.Month.astype(int).astype(str) + '-7' + '-2020', format = '%m-%d-%Y')\n",
    "labor['Date'] = labor['Date'].dt.strftime('%m/%d/%Y')\n",
    "labor['title'] = labor['title'].replace(', GA', '', regex=True)"
   ]
  },
  {
   "cell_type": "code",
   "execution_count": 14,
   "metadata": {},
   "outputs": [],
   "source": [
    "marchLabor = labor[['title','Date','emp','unemp','laborforce']]"
   ]
  },
  {
   "cell_type": "code",
   "execution_count": 15,
   "metadata": {},
   "outputs": [
    {
     "name": "stderr",
     "output_type": "stream",
     "text": [
      "/Users/mmainza/opt/anaconda3/lib/python3.7/site-packages/pandas/core/frame.py:4133: SettingWithCopyWarning: \n",
      "A value is trying to be set on a copy of a slice from a DataFrame\n",
      "\n",
      "See the caveats in the documentation: https://pandas.pydata.org/pandas-docs/stable/user_guide/indexing.html#returning-a-view-versus-a-copy\n",
      "  errors=errors,\n"
     ]
    }
   ],
   "source": [
    "marchLabor.rename(columns={'title'      : 'County',\n",
    "                           'emp'        : 'MarchEmployed',\n",
    "                           'unemp'      : 'MarchUnemployed',\n",
    "                           'laborforce' : 'MarchLaborForce'}, inplace=True)\n",
    "marchLabor.reset_index(drop=True, inplace=True)"
   ]
  },
  {
   "cell_type": "code",
   "execution_count": 16,
   "metadata": {},
   "outputs": [],
   "source": [
    "# create separate frame of total claims by county, not industry\n",
    "countyClaims = df.groupby(['area_code','County','Date']).agg({'Claims':'sum'}).reset_index()"
   ]
  },
  {
   "cell_type": "code",
   "execution_count": 17,
   "metadata": {},
   "outputs": [],
   "source": [
    "countyClaims.drop_duplicates(inplace=True)"
   ]
  },
  {
   "cell_type": "code",
   "execution_count": 18,
   "metadata": {},
   "outputs": [],
   "source": [
    "countyClaims = pd.merge(countyClaims,marchLabor,how='left',on=['County','Date'])\n",
    "\n",
    "countyClaims.MarchEmployed.fillna(method='ffill', inplace=True)\n",
    "countyClaims.MarchUnemployed.fillna(method='ffill', inplace=True)\n",
    "countyClaims.MarchLaborForce.fillna(method='ffill', inplace=True)\n",
    "\n",
    "countyClaims['CumClaims'] = countyClaims.groupby(['area_code','County'])['Claims'].apply(lambda x: x.cumsum())\n",
    "\n",
    "countyClaims['Employed'] = countyClaims.MarchEmployed - countyClaims.CumClaims\n",
    "countyClaims['Unemployed'] = countyClaims.MarchUnemployed + countyClaims.CumClaims\n",
    "countyClaims['PctChngEmployed'] = ( ( countyClaims.Employed - countyClaims.MarchEmployed ) / countyClaims.MarchEmployed ) * 100\n",
    "countyClaims.PctChngEmployed = countyClaims.PctChngEmployed.round(1)"
   ]
  },
  {
   "cell_type": "code",
   "execution_count": 19,
   "metadata": {},
   "outputs": [],
   "source": [
    "# do this for the whole state\n",
    "marchLaborState = marchLabor.groupby('Date') \\\n",
    "                            .agg({'MarchEmployed':'sum','MarchUnemployed' : 'sum','MarchLaborForce' : 'sum'}) \\\n",
    "                            .reset_index()\n",
    "\n",
    "stateClaims = countyClaims[['County','Date','Claims']]\n",
    "\n",
    "stateClaims = stateClaims.groupby('Date').agg({'Claims':'sum'}).reset_index()\n",
    "\n",
    "stateClaims = pd.merge(stateClaims, marchLaborState, how='left', on='Date')\n",
    "\n",
    "stateClaims.MarchEmployed.fillna(method='ffill', inplace=True)\n",
    "stateClaims.MarchUnemployed.fillna(method='ffill', inplace=True)\n",
    "stateClaims.MarchLaborForce.fillna(method='ffill', inplace=True)"
   ]
  },
  {
   "cell_type": "code",
   "execution_count": 20,
   "metadata": {},
   "outputs": [],
   "source": [
    "stateClaims['State'] = 'Georgia'"
   ]
  },
  {
   "cell_type": "code",
   "execution_count": 21,
   "metadata": {},
   "outputs": [],
   "source": [
    "stateClaims['CumClaims'] = stateClaims.groupby(['State'])['Claims'].apply(lambda x: x.cumsum())"
   ]
  },
  {
   "cell_type": "code",
   "execution_count": 22,
   "metadata": {},
   "outputs": [],
   "source": [
    "stateClaims['Employed'] = stateClaims.MarchEmployed - stateClaims.CumClaims\n",
    "stateClaims['Unemployed'] = stateClaims.MarchUnemployed + stateClaims.CumClaims\n",
    "stateClaims['PctChngEmployed'] = ( ( stateClaims.Employed - stateClaims.MarchEmployed ) / stateClaims.MarchEmployed ) * 100\n",
    "stateClaims.PctChngEmployed = stateClaims.PctChngEmployed.round(1)"
   ]
  },
  {
   "cell_type": "code",
   "execution_count": 23,
   "metadata": {},
   "outputs": [],
   "source": [
    "stateClaims = stateClaims[['State','Date','Claims','MarchEmployed','MarchUnemployed','MarchLaborForce',\n",
    "                           'CumClaims','Employed','Unemployed','PctChngEmployed']]"
   ]
  },
  {
   "cell_type": "code",
   "execution_count": 24,
   "metadata": {},
   "outputs": [],
   "source": [
    "# now do the same with msa claims"
   ]
  },
  {
   "cell_type": "code",
   "execution_count": 25,
   "metadata": {},
   "outputs": [],
   "source": [
    "marchLaborMsa = pd.merge(marchLabor, msa, how='left', on='County')"
   ]
  },
  {
   "cell_type": "code",
   "execution_count": 26,
   "metadata": {},
   "outputs": [],
   "source": [
    "marchLaborMsa.dropna(subset=['CBSA Code'], inplace=True)"
   ]
  },
  {
   "cell_type": "code",
   "execution_count": 27,
   "metadata": {},
   "outputs": [],
   "source": [
    "marchLaborMsa = marchLaborMsa.groupby(['CBSA Title','Date']) \\\n",
    "                             .agg({'MarchEmployed':'sum','MarchUnemployed' : 'sum','MarchLaborForce' : 'sum'}) \\\n",
    "                             .reset_index()"
   ]
  },
  {
   "cell_type": "code",
   "execution_count": 28,
   "metadata": {},
   "outputs": [],
   "source": [
    "msaClaims = countyClaims[['County','Date','Claims']]\n",
    "msaClaims = pd.merge(msaClaims, msa, how='left', on='County')\n",
    "\n",
    "msaClaims.dropna(subset=['CBSA Code'], inplace=True)\n",
    "\n",
    "msaClaims = msaClaims.groupby(['CBSA Title','Date']) \\\n",
    "                             .agg({'Claims':'sum'}) \\\n",
    "                             .reset_index()\n",
    "\n",
    "msaClaims = pd.merge(msaClaims,marchLaborMsa,how='left',on=['CBSA Title','Date'])\n",
    "\n",
    "\n",
    "msaClaims.MarchEmployed.fillna(method='ffill', inplace=True)\n",
    "msaClaims.MarchUnemployed.fillna(method='ffill', inplace=True)\n",
    "msaClaims.MarchLaborForce.fillna(method='ffill', inplace=True)\n",
    "\n",
    "msaClaims['CumClaims'] = msaClaims.groupby(['CBSA Title'])['Claims'].apply(lambda x: x.cumsum())\n",
    "\n",
    "msaClaims['Employed'] = msaClaims.MarchEmployed - msaClaims.CumClaims\n",
    "msaClaims['Unemployed'] = msaClaims.MarchUnemployed + msaClaims.CumClaims\n",
    "msaClaims['PctChngEmployed'] = ( ( msaClaims.Employed - msaClaims.MarchEmployed ) / msaClaims.MarchEmployed ) * 100\n",
    "msaClaims.PctChngEmployed = msaClaims.PctChngEmployed.round(1)"
   ]
  },
  {
   "cell_type": "code",
   "execution_count": 29,
   "metadata": {},
   "outputs": [],
   "source": [
    "# now repeat with regional commissions"
   ]
  },
  {
   "cell_type": "code",
   "execution_count": 30,
   "metadata": {},
   "outputs": [],
   "source": [
    "marchLaborRc = pd.merge(marchLabor, codes, how='left', on='County')"
   ]
  },
  {
   "cell_type": "code",
   "execution_count": 31,
   "metadata": {},
   "outputs": [],
   "source": [
    "marchLaborRc = marchLaborRc.groupby(['Regional Commission','Date']) \\\n",
    "                             .agg({'MarchEmployed':'sum','MarchUnemployed' : 'sum','MarchLaborForce' : 'sum'}) \\\n",
    "                             .reset_index()"
   ]
  },
  {
   "cell_type": "code",
   "execution_count": 32,
   "metadata": {},
   "outputs": [],
   "source": [
    "rcClaims = countyClaims[['County','Date','Claims']]\n",
    "rcClaims = pd.merge(rcClaims, codes, how='left', on='County')\n",
    "\n",
    "rcClaims = rcClaims.groupby(['Regional Commission','Date']) \\\n",
    "                             .agg({'Claims':'sum'}) \\\n",
    "                             .reset_index()\n",
    "\n",
    "rcClaims = pd.merge(rcClaims,marchLaborRc,how='left',on=['Regional Commission','Date'])\n",
    "\n",
    "\n",
    "rcClaims.MarchEmployed.fillna(method='ffill', inplace=True)\n",
    "rcClaims.MarchUnemployed.fillna(method='ffill', inplace=True)\n",
    "rcClaims.MarchLaborForce.fillna(method='ffill', inplace=True)\n",
    "\n",
    "rcClaims['CumClaims'] = rcClaims.groupby(['Regional Commission'])['Claims'].apply(lambda x: x.cumsum())\n",
    "\n",
    "rcClaims['Employed'] = rcClaims.MarchEmployed - rcClaims.CumClaims\n",
    "rcClaims['Unemployed'] = rcClaims.MarchUnemployed + rcClaims.CumClaims\n",
    "rcClaims['PctChngEmployed'] = ( ( rcClaims.Employed - rcClaims.MarchEmployed ) / rcClaims.MarchEmployed ) * 100\n",
    "rcClaims.PctChngEmployed = rcClaims.PctChngEmployed.round(1)"
   ]
  },
  {
   "cell_type": "code",
   "execution_count": 33,
   "metadata": {},
   "outputs": [],
   "source": [
    "del countyClaims['area_code']\n",
    "\n",
    "msaClaims.rename(columns={'CBSA Title' : 'Area'}, inplace=True)\n",
    "rcClaims.rename(columns={'Regional Commission' : 'Area'}, inplace=True)\n",
    "countyClaims.rename(columns={'County' : 'Area'}, inplace=True)\n",
    "stateClaims.rename(columns={'State' : 'Area'}, inplace=True)"
   ]
  },
  {
   "cell_type": "code",
   "execution_count": null,
   "metadata": {},
   "outputs": [],
   "source": []
  },
  {
   "cell_type": "code",
   "execution_count": 34,
   "metadata": {},
   "outputs": [],
   "source": [
    "# stack on top of each other and write out as a single data frame for line and bar charts"
   ]
  },
  {
   "cell_type": "code",
   "execution_count": 35,
   "metadata": {},
   "outputs": [],
   "source": [
    "data = stateClaims.append([countyClaims,rcClaims,msaClaims])"
   ]
  },
  {
   "cell_type": "code",
   "execution_count": 36,
   "metadata": {},
   "outputs": [],
   "source": [
    "data.reset_index(drop=True, inplace=True)"
   ]
  },
  {
   "cell_type": "code",
   "execution_count": 37,
   "metadata": {},
   "outputs": [
    {
     "data": {
      "text/html": [
       "<div>\n",
       "<style scoped>\n",
       "    .dataframe tbody tr th:only-of-type {\n",
       "        vertical-align: middle;\n",
       "    }\n",
       "\n",
       "    .dataframe tbody tr th {\n",
       "        vertical-align: top;\n",
       "    }\n",
       "\n",
       "    .dataframe thead th {\n",
       "        text-align: right;\n",
       "    }\n",
       "</style>\n",
       "<table border=\"1\" class=\"dataframe\">\n",
       "  <thead>\n",
       "    <tr style=\"text-align: right;\">\n",
       "      <th></th>\n",
       "      <th>Area</th>\n",
       "      <th>Date</th>\n",
       "      <th>Claims</th>\n",
       "      <th>MarchEmployed</th>\n",
       "      <th>MarchUnemployed</th>\n",
       "      <th>MarchLaborForce</th>\n",
       "      <th>CumClaims</th>\n",
       "      <th>Employed</th>\n",
       "      <th>Unemployed</th>\n",
       "      <th>PctChngEmployed</th>\n",
       "    </tr>\n",
       "  </thead>\n",
       "  <tbody>\n",
       "    <tr>\n",
       "      <th>0</th>\n",
       "      <td>Georgia</td>\n",
       "      <td>03/07/2020</td>\n",
       "      <td>4401</td>\n",
       "      <td>4936482.0</td>\n",
       "      <td>223653.0</td>\n",
       "      <td>5160135.0</td>\n",
       "      <td>4401</td>\n",
       "      <td>4932081.0</td>\n",
       "      <td>228054.0</td>\n",
       "      <td>-0.1</td>\n",
       "    </tr>\n",
       "    <tr>\n",
       "      <th>1</th>\n",
       "      <td>Georgia</td>\n",
       "      <td>03/14/2020</td>\n",
       "      <td>5248</td>\n",
       "      <td>4936482.0</td>\n",
       "      <td>223653.0</td>\n",
       "      <td>5160135.0</td>\n",
       "      <td>9649</td>\n",
       "      <td>4926833.0</td>\n",
       "      <td>233302.0</td>\n",
       "      <td>-0.2</td>\n",
       "    </tr>\n",
       "    <tr>\n",
       "      <th>2</th>\n",
       "      <td>Georgia</td>\n",
       "      <td>03/21/2020</td>\n",
       "      <td>11707</td>\n",
       "      <td>4936482.0</td>\n",
       "      <td>223653.0</td>\n",
       "      <td>5160135.0</td>\n",
       "      <td>21356</td>\n",
       "      <td>4915126.0</td>\n",
       "      <td>245009.0</td>\n",
       "      <td>-0.4</td>\n",
       "    </tr>\n",
       "    <tr>\n",
       "      <th>3</th>\n",
       "      <td>Georgia</td>\n",
       "      <td>03/28/2020</td>\n",
       "      <td>130544</td>\n",
       "      <td>4936482.0</td>\n",
       "      <td>223653.0</td>\n",
       "      <td>5160135.0</td>\n",
       "      <td>151900</td>\n",
       "      <td>4784582.0</td>\n",
       "      <td>375553.0</td>\n",
       "      <td>-3.1</td>\n",
       "    </tr>\n",
       "    <tr>\n",
       "      <th>4</th>\n",
       "      <td>Georgia</td>\n",
       "      <td>04/04/2020</td>\n",
       "      <td>377105</td>\n",
       "      <td>4936482.0</td>\n",
       "      <td>223653.0</td>\n",
       "      <td>5160135.0</td>\n",
       "      <td>529005</td>\n",
       "      <td>4407477.0</td>\n",
       "      <td>752658.0</td>\n",
       "      <td>-10.7</td>\n",
       "    </tr>\n",
       "  </tbody>\n",
       "</table>\n",
       "</div>"
      ],
      "text/plain": [
       "      Area        Date  Claims  MarchEmployed  MarchUnemployed  \\\n",
       "0  Georgia  03/07/2020    4401      4936482.0         223653.0   \n",
       "1  Georgia  03/14/2020    5248      4936482.0         223653.0   \n",
       "2  Georgia  03/21/2020   11707      4936482.0         223653.0   \n",
       "3  Georgia  03/28/2020  130544      4936482.0         223653.0   \n",
       "4  Georgia  04/04/2020  377105      4936482.0         223653.0   \n",
       "\n",
       "   MarchLaborForce  CumClaims   Employed  Unemployed  PctChngEmployed  \n",
       "0        5160135.0       4401  4932081.0    228054.0             -0.1  \n",
       "1        5160135.0       9649  4926833.0    233302.0             -0.2  \n",
       "2        5160135.0      21356  4915126.0    245009.0             -0.4  \n",
       "3        5160135.0     151900  4784582.0    375553.0             -3.1  \n",
       "4        5160135.0     529005  4407477.0    752658.0            -10.7  "
      ]
     },
     "execution_count": 37,
     "metadata": {},
     "output_type": "execute_result"
    }
   ],
   "source": [
    "data.head()"
   ]
  },
  {
   "cell_type": "code",
   "execution_count": 38,
   "metadata": {},
   "outputs": [],
   "source": [
    "countyClaims=countyClaims.groupby('Area').apply(lambda x: x.reset_index(drop=True)).drop('Area',axis=1).reset_index()\n",
    "dateMax = countyClaims.level_1.max()\n",
    "countyClaims = countyClaims.loc[countyClaims['level_1'] == dateMax]\n",
    "countyClaims.reset_index(drop=True, inplace=True)\n",
    "countyShape = gpd.read_file(\"spatial/ga-counties.geojson\")\n",
    "countyClaims = pd.merge(countyClaims, codes, how='left', left_on='Area', right_on='County')\n",
    "countyClaims.area_code = countyClaims.area_code.astype(str)"
   ]
  },
  {
   "cell_type": "code",
   "execution_count": 39,
   "metadata": {},
   "outputs": [],
   "source": [
    "countyClaims = pd.merge(countyClaims,areaWarns,how='left',on='Area')"
   ]
  },
  {
   "cell_type": "code",
   "execution_count": 40,
   "metadata": {},
   "outputs": [],
   "source": [
    "countyShape = pd.merge(countyShape, countyClaims, how='left', left_on='GEOID', right_on='area_code')\n",
    "countyShapes = countyShape[['area_code','County','CumClaims','MarchEmployed','MarchUnemployed',\n",
    "                            'MarchLaborForce','Employed','Unemployed','PctChngEmployed','CurrentWarns','geometry']]"
   ]
  },
  {
   "cell_type": "code",
   "execution_count": 41,
   "metadata": {},
   "outputs": [],
   "source": [
    "countyShapes = gpd.GeoDataFrame(countyShapes, geometry='geometry')\n",
    "countyPoints = countyShapes.copy()\n",
    "countyPoints['geometry'] = countyPoints['geometry'].centroid"
   ]
  },
  {
   "cell_type": "code",
   "execution_count": 42,
   "metadata": {},
   "outputs": [],
   "source": [
    "# now reshape the industry claims data to rollup by county and industry\n",
    "\n",
    "df['State'] = 'Georgia'\n",
    "\n",
    "df.rename(columns={'INDUSTRY NAME':'Industry'}, inplace=True)\n",
    "\n",
    "industryCountyClaims = df.groupby(['County','Industry']) \\\n",
    "                             .agg({'Claims':'sum'}) \\\n",
    "                             .reset_index() \\\n",
    "                             .rename(columns={'County':'Area'})\n",
    "\n",
    "industryCountyClaims.sort_values(['Area','Claims'], ascending=[True,False], inplace=True)\n",
    "\n",
    "industryRcClaims = df.groupby(['Regional Commission','Industry']) \\\n",
    "                             .agg({'Claims':'sum'}) \\\n",
    "                             .reset_index() \\\n",
    "                             .rename(columns={'Regional Commission':'Area'})\n",
    "\n",
    "industryRcClaims.sort_values(['Area','Claims'], ascending=[True,False], inplace=True)\n",
    "\n",
    "industryMsaClaims = df.groupby(['CBSA Title','Industry']) \\\n",
    "                             .agg({'Claims':'sum'}) \\\n",
    "                             .reset_index() \\\n",
    "                             .rename(columns={'CBSA Title':'Area'})\n",
    "\n",
    "industryMsaClaims.sort_values(['Area','Claims'], ascending=[True,False], inplace=True)\n",
    "\n",
    "\n",
    "industryStateClaims = df.groupby(['State','Industry']) \\\n",
    "                             .agg({'Claims':'sum'}) \\\n",
    "                             .reset_index() \\\n",
    "                             .rename(columns={'State':'Area'})\n",
    "\n",
    "industryStateClaims.sort_values(['Area','Claims'], ascending=[True,False], inplace=True)\n",
    "\n",
    "del df['State']"
   ]
  },
  {
   "cell_type": "code",
   "execution_count": 43,
   "metadata": {},
   "outputs": [],
   "source": [
    "# append these together and reindex them\n",
    "industryClaims = industryStateClaims.append([industryCountyClaims,industryRcClaims,industryMsaClaims])\n",
    "\n",
    "industryClaims.reset_index(drop=True, inplace=True)\n",
    "\n",
    "industryClaims['Ind'] = np.where(industryClaims.Industry.str.contains(\"Accommodation\"), \"Food Services\",\n",
    "                        np.where(industryClaims.Industry.str.contains(\"Waste\"), \"Support, Waste Management\",\n",
    "                        np.where(industryClaims.Industry.str.contains(\"Agriculture\"), \"Agriculture\",\n",
    "                        np.where(industryClaims.Industry.str.contains(\"Entertainment\"), \"Entertainment\",\n",
    "                        np.where(industryClaims.Industry.str.contains(\"Construction\"), \"Construction\",\n",
    "                        np.where(industryClaims.Industry.str.contains(\"Educational\"), \"Education\",\n",
    "                        np.where(industryClaims.Industry.str.contains(\"Finance\"), \"Finance\",\n",
    "                        np.where(industryClaims.Industry.str.contains(\"Health\"), \"Health Care\",\n",
    "                        np.where(industryClaims.Industry.str.contains(\"Information\"), \"Information\",\n",
    "                        np.where(industryClaims.Industry.str.contains(\"Management\"), \"Enterprise Management\",\n",
    "                        np.where(industryClaims.Industry.str.contains(\"Manufacturing\"), \"Manufacturing\",\n",
    "                        np.where(industryClaims.Industry.str.contains(\"Mining\"), \"Oil & Gas\",\n",
    "                        np.where(industryClaims.Industry.str.contains(\"Other\"), \"Other\",\n",
    "                        np.where(industryClaims.Industry.str.contains(\"Technical\"), \"Technical Services\",\n",
    "                        np.where(industryClaims.Industry.str.contains(\"Public\"), \"Public Admin\",\n",
    "                        np.where(industryClaims.Industry.str.contains(\"Real Estate\"), \"Real Estate\",\n",
    "                        np.where(industryClaims.Industry.str.contains(\"Retail Trade\"), \"Retail\",\n",
    "                        np.where(industryClaims.Industry.str.contains(\"Transportation\"), \"Transportation\",\n",
    "                        np.where(industryClaims.Industry.str.contains(\"Unclassified\"), \"Unclassified\",\n",
    "                        np.where(industryClaims.Industry.str.contains(\"Utilities\"), \"Utilities\",\n",
    "                        np.where(industryClaims.Industry.str.contains(\"Wholesale\"), \"Wholesale Trade\",\"ts\")))))))))))))))))))))"
   ]
  },
  {
   "cell_type": "code",
   "execution_count": 44,
   "metadata": {},
   "outputs": [],
   "source": [
    "industryClaims = industryClaims[['Area','Industry','Ind','Claims']]"
   ]
  },
  {
   "cell_type": "code",
   "execution_count": 45,
   "metadata": {},
   "outputs": [],
   "source": [
    "# now get the KPIs you need in a json file\n",
    "dataK = data.copy()\n",
    "dataK=dataK.groupby('Area').apply(lambda x: x.reset_index(drop=True)).drop('Area',axis=1).reset_index()\n",
    "dateMax = dataK.level_1.max()\n",
    "dataK = dataK.loc[dataK['level_1'] == dateMax]"
   ]
  },
  {
   "cell_type": "code",
   "execution_count": 46,
   "metadata": {},
   "outputs": [],
   "source": [
    "dataK.sort_values('Claims', ascending=False, inplace=True)"
   ]
  },
  {
   "cell_type": "code",
   "execution_count": 47,
   "metadata": {},
   "outputs": [],
   "source": [
    "dataK['LaborForce'] = dataK.Employed + dataK.Unemployed\n",
    "dataK['Rate'] = ( dataK.Unemployed / dataK.LaborForce ) * 100\n",
    "dataK.Rate = dataK.Rate.round(1)"
   ]
  },
  {
   "cell_type": "code",
   "execution_count": 48,
   "metadata": {},
   "outputs": [],
   "source": [
    "dataK = pd.merge(dataK,areaWarns,how='left',on='Area')"
   ]
  },
  {
   "cell_type": "code",
   "execution_count": 49,
   "metadata": {},
   "outputs": [],
   "source": [
    "dataK = dataK[['Area','MarchEmployed','CumClaims','Employed','Unemployed','PctChngEmployed','LaborForce','Rate','CurrentWarns']]"
   ]
  },
  {
   "cell_type": "code",
   "execution_count": 50,
   "metadata": {},
   "outputs": [],
   "source": [
    "dataK.set_index('Area', inplace=True)"
   ]
  },
  {
   "cell_type": "code",
   "execution_count": 51,
   "metadata": {},
   "outputs": [],
   "source": [
    "dataK['CurrentWarns'].fillna(0, inplace=True)\n",
    "countyShapes['CurrentWarns'].fillna(0, inplace=True)\n",
    "countyPoints['CurrentWarns'].fillna(0, inplace=True)"
   ]
  },
  {
   "cell_type": "code",
   "execution_count": 52,
   "metadata": {},
   "outputs": [],
   "source": [
    "dataK.MarchEmployed = dataK.MarchEmployed.astype(int)\n",
    "dataK.Employed = dataK.Employed.astype(int)\n",
    "dataK.Unemployed = dataK.Unemployed.astype(int)\n",
    "dataK.LaborForce = dataK.LaborForce.astype(int)\n",
    "dataK.CurrentWarns = dataK.CurrentWarns.astype(int)"
   ]
  },
  {
   "cell_type": "code",
   "execution_count": 53,
   "metadata": {},
   "outputs": [],
   "source": [
    "def human_format(num):\n",
    "    num = float('{:.3g}'.format(num))\n",
    "    magnitude = 0\n",
    "    while abs(num) >= 1000:\n",
    "        magnitude += 1\n",
    "        num /= 1000.0\n",
    "    return '{}{}'.format('{:f}'.format(num).rstrip('0').rstrip('.'), ['', 'K', 'M', 'B', 'T'][magnitude])\n",
    "\n",
    "dataK['MarchEmployed'] = dataK['MarchEmployed'].apply(lambda x: human_format(x))\n",
    "dataK['CumClaims'] = dataK['CumClaims'].apply(lambda x: human_format(x))\n",
    "dataK['CurrentWarns'] = dataK['CurrentWarns'].apply(lambda x: human_format(x))\n",
    "dataK['Employed'] = dataK['Employed'].apply(lambda x: human_format(x))\n",
    "dataK['Unemployed'] = dataK['Unemployed'].apply(lambda x: human_format(x))\n",
    "dataK['LaborForce'] = dataK['LaborForce'].apply(lambda x: human_format(x))"
   ]
  },
  {
   "cell_type": "code",
   "execution_count": 54,
   "metadata": {},
   "outputs": [],
   "source": [
    "# convert kpi to strings with correct format for display purposes\n",
    "dataK['PctChngEmployed'] = dataK['PctChngEmployed'].map('{:,.1f}'.format) + '%'\n",
    "dataK['Rate'] = dataK['Rate'].map('{:,.1f}'.format) + '%'"
   ]
  },
  {
   "cell_type": "code",
   "execution_count": 55,
   "metadata": {},
   "outputs": [],
   "source": [
    "# now process the data file from which d3 will generate charts to only include necessary columns, etc.\n",
    "data[\"date\"] = pd.to_datetime(data[\"Date\"]).dt.strftime('%b %d')\n",
    "data = data[['Area','Date','date','Claims']]"
   ]
  },
  {
   "cell_type": "code",
   "execution_count": 56,
   "metadata": {},
   "outputs": [],
   "source": [
    "industryClaims['Ind'] = np.where(industryClaims.Industry.str.contains(\"Accommodation\"), \"Food Services\",\n",
    "                        np.where(industryClaims.Industry.str.contains(\"Waste\"), \"Waste Management\",\n",
    "                        np.where(industryClaims.Industry.str.contains(\"Agriculture\"), \"Agriculture\",\n",
    "                        np.where(industryClaims.Industry.str.contains(\"Entertainment\"), \"Entertainment\",\n",
    "                        np.where(industryClaims.Industry.str.contains(\"Construction\"), \"Construction\",\n",
    "                        np.where(industryClaims.Industry.str.contains(\"Educational\"), \"Education\",\n",
    "                        np.where(industryClaims.Industry.str.contains(\"Finance\"), \"Finance\",\n",
    "                        np.where(industryClaims.Industry.str.contains(\"Health\"), \"Health Care\",\n",
    "                        np.where(industryClaims.Industry.str.contains(\"Information\"), \"Information\",\n",
    "                        np.where(industryClaims.Industry.str.contains(\"Management\"), \"Enterprise Management\",\n",
    "                        np.where(industryClaims.Industry.str.contains(\"Manufacturing\"), \"Manufacturing\",\n",
    "                        np.where(industryClaims.Industry.str.contains(\"Mining\"), \"Oil & Gas\",\n",
    "                        np.where(industryClaims.Industry.str.contains(\"Other\"), \"Other\",\n",
    "                        np.where(industryClaims.Industry.str.contains(\"Technical\"), \"Technical Services\",\n",
    "                        np.where(industryClaims.Industry.str.contains(\"Public\"), \"Public Admin\",\n",
    "                        np.where(industryClaims.Industry.str.contains(\"Real Estate\"), \"Real Estate\",\n",
    "                        np.where(industryClaims.Industry.str.contains(\"Retail Trade\"), \"Retail\",\n",
    "                        np.where(industryClaims.Industry.str.contains(\"Transportation\"), \"Transportation\",\n",
    "                        np.where(industryClaims.Industry.str.contains(\"Unclassified\"), \"Unclassified\",\n",
    "                        np.where(industryClaims.Industry.str.contains(\"Utilities\"), \"Utilities\",\n",
    "                        np.where(industryClaims.Industry.str.contains(\"Wholesale\"), \"Wholesale Trade\",\"ts\")))))))))))))))))))))"
   ]
  },
  {
   "cell_type": "code",
   "execution_count": 57,
   "metadata": {},
   "outputs": [],
   "source": [
    "appWarns = warns[warns['Date'] >= '2020-01-01']"
   ]
  },
  {
   "cell_type": "code",
   "execution_count": 58,
   "metadata": {},
   "outputs": [],
   "source": [
    "appWarns = appWarns[['Date','Company name','City','ZIP','County','Est. Impact','Regional Commission','CBSA Title']]\n",
    "appWarns.rename(columns={'Company name' : 'Company',\n",
    "                         'Regional Commissions':'RC',\n",
    "                         'CBSA Title':'MSA',\n",
    "                         'Est. Impact':'Employees'}, inplace=True)"
   ]
  },
  {
   "cell_type": "code",
   "execution_count": 61,
   "metadata": {},
   "outputs": [],
   "source": [
    "appWarns[\"Date\"] = pd.to_datetime(appWarns[\"Date\"]).dt.strftime('%b %d')"
   ]
  },
  {
   "cell_type": "code",
   "execution_count": null,
   "metadata": {},
   "outputs": [],
   "source": []
  },
  {
   "cell_type": "code",
   "execution_count": 64,
   "metadata": {},
   "outputs": [
    {
     "data": {
      "text/plain": [
       "'{\"Georgia\":{\"MarchEmployed\":\"4.94M\",\"CumClaims\":\"1.79M\",\"Employed\":\"3.14M\",\"Unemployed\":\"2.02M\",\"PctChngEmployed\":\"-36.3%\",\"LaborForce\":\"5.16M\",\"Rate\":\"39.1%\",\"CurrentWarns\":\"320\"},\"Atlanta-Sandy Springs-Alpharetta, GA\":{\"MarchEmployed\":\"3M\",\"CumClaims\":\"1.14M\",\"Employed\":\"1.86M\",\"Unemployed\":\"1.27M\",\"PctChngEmployed\":\"-38.0%\",\"LaborForce\":\"3.13M\",\"Rate\":\"40.5%\",\"CurrentWarns\":\"206\"},\"ARC\":{\"MarchEmployed\":\"2.36M\",\"CumClaims\":\"922K\",\"Employed\":\"1.44M\",\"Unemployed\":\"1.03M\",\"PctChngEmployed\":\"-39.0%\",\"LaborForce\":\"2.46M\",\"Rate\":\"41.6%\",\"CurrentWarns\":\"181\"},\"Fulton County\":{\"MarchEmployed\":\"539K\",\"CumClaims\":\"240K\",\"Employed\":\"298K\",\"Unemployed\":\"266K\",\"PctChngEmployed\":\"-44.6%\",\"LaborForce\":\"564K\",\"Rate\":\"47.1%\",\"CurrentWarns\":\"77\"},\"Gwinnett County\":{\"MarchEmployed\":\"475K\",\"CumClaims\":\"176K\",\"Employed\":\"299K\",\"Unemployed\":\"196K\",\"PctChngEmployed\":\"-37.1%\",\"LaborForce\":\"494K\",\"Rate\":\"39.5%\",\"CurrentWarns\":\"21\"},\"Northwest\":{\"MarchEmployed\":\"406K\",\"CumClaims\":\"153K\",\"Employed\":\"253K\",\"Unemployed\":\"171K\",\"PctChngEmployed\":\"-37.7%\",\"LaborForce\":\"424K\",\"Rate\":\"40.4%\",\"CurrentWarns\":\"18\"},\"DeKalb County\":{\"MarchEmployed\":\"386K\",\"CumClaims\":\"144K\",\"Employed\":\"242K\",\"Unemployed\":\"162K\",\"PctChngEmployed\":\"-37.3%\",\"LaborForce\":\"404K\",\"Rate\":\"40.0%\",\"CurrentWarns\":\"20\"},\"Cobb County\":{\"MarchEmployed\":\"413K\",\"CumClaims\":\"136K\",\"Employed\":\"277K\",\"Unemployed\":\"152K\",\"PctChngEmployed\":\"-32.9%\",\"LaborForce\":\"430K\",\"Rate\":\"35.4%\",\"CurrentWarns\":\"30\"},\"Coastal\":{\"MarchEmployed\":\"317K\",\"CumClaims\":\"131K\",\"Employed\":\"186K\",\"Unemployed\":\"145K\",\"PctChngEmployed\":\"-41.3%\",\"LaborForce\":\"332K\",\"Rate\":\"43.9%\",\"CurrentWarns\":\"28\"},\"Northeast\":{\"MarchEmployed\":\"294K\",\"CumClaims\":\"103K\",\"Employed\":\"191K\",\"Unemployed\":\"116K\",\"PctChngEmployed\":\"-35.0%\",\"LaborForce\":\"307K\",\"Rate\":\"37.7%\",\"CurrentWarns\":\"12\"},\"Georgia Mountains\":{\"MarchEmployed\":\"341K\",\"CumClaims\":\"104K\",\"Employed\":\"237K\",\"Unemployed\":\"117K\",\"PctChngEmployed\":\"-30.4%\",\"LaborForce\":\"354K\",\"Rate\":\"33.0%\",\"CurrentWarns\":\"17\"},\"Three Rivers\":{\"MarchEmployed\":\"241K\",\"CumClaims\":\"88K\",\"Employed\":\"153K\",\"Unemployed\":\"98.9K\",\"PctChngEmployed\":\"-36.5%\",\"LaborForce\":\"252K\",\"Rate\":\"39.2%\",\"CurrentWarns\":\"10\"},\"Savannah, GA\":{\"MarchEmployed\":\"181K\",\"CumClaims\":\"82.1K\",\"Employed\":\"98.9K\",\"Unemployed\":\"90K\",\"PctChngEmployed\":\"-45.4%\",\"LaborForce\":\"189K\",\"Rate\":\"47.6%\",\"CurrentWarns\":\"21\"},\"Middle Georgia\":{\"MarchEmployed\":\"211K\",\"CumClaims\":\"63.9K\",\"Employed\":\"147K\",\"Unemployed\":\"74K\",\"PctChngEmployed\":\"-30.3%\",\"LaborForce\":\"221K\",\"Rate\":\"33.5%\",\"CurrentWarns\":\"15\"},\"Clayton County\":{\"MarchEmployed\":\"132K\",\"CumClaims\":\"63K\",\"Employed\":\"69.3K\",\"Unemployed\":\"70.6K\",\"PctChngEmployed\":\"-47.6%\",\"LaborForce\":\"140K\",\"Rate\":\"50.4%\",\"CurrentWarns\":\"14\"},\"Chatham County\":{\"MarchEmployed\":\"134K\",\"CumClaims\":\"66.1K\",\"Employed\":\"67.6K\",\"Unemployed\":\"72.1K\",\"PctChngEmployed\":\"-49.5%\",\"LaborForce\":\"140K\",\"Rate\":\"51.6%\",\"CurrentWarns\":\"21\"},\"Henry County\":{\"MarchEmployed\":\"112K\",\"CumClaims\":\"50K\",\"Employed\":\"61.8K\",\"Unemployed\":\"55.2K\",\"PctChngEmployed\":\"-44.7%\",\"LaborForce\":\"117K\",\"Rate\":\"47.2%\",\"CurrentWarns\":\"4\"},\"Southern\":{\"MarchEmployed\":\"172K\",\"CumClaims\":\"57.3K\",\"Employed\":\"115K\",\"Unemployed\":\"65.7K\",\"PctChngEmployed\":\"-33.3%\",\"LaborForce\":\"180K\",\"Rate\":\"36.4%\",\"CurrentWarns\":\"2\"},\"CSRA\":{\"MarchEmployed\":\"201K\",\"CumClaims\":\"56.5K\",\"Employed\":\"145K\",\"Unemployed\":\"66.9K\",\"PctChngEmployed\":\"-28.1%\",\"LaborForce\":\"212K\",\"Rate\":\"31.6%\",\"CurrentWarns\":\"19\"},\"River Valley\":{\"MarchEmployed\":\"140K\",\"CumClaims\":\"47K\",\"Employed\":\"93K\",\"Unemployed\":\"54.7K\",\"PctChngEmployed\":\"-33.6%\",\"LaborForce\":\"148K\",\"Rate\":\"37.0%\",\"CurrentWarns\":\"11\"},\"Augusta-Richmond County, GA-SC\":{\"MarchEmployed\":\"175K\",\"CumClaims\":\"50.2K\",\"Employed\":\"125K\",\"Unemployed\":\"58.9K\",\"PctChngEmployed\":\"-28.7%\",\"LaborForce\":\"184K\",\"Rate\":\"32.1%\",\"CurrentWarns\":\"18\"},\"Cherokee County\":{\"MarchEmployed\":\"132K\",\"CumClaims\":\"43.1K\",\"Employed\":\"89.2K\",\"Unemployed\":\"47.8K\",\"PctChngEmployed\":\"-32.6%\",\"LaborForce\":\"137K\",\"Rate\":\"34.9%\",\"CurrentWarns\":\"4\"},\"Dalton, GA\":{\"MarchEmployed\":\"55.6K\",\"CumClaims\":\"35.2K\",\"Employed\":\"20.4K\",\"Unemployed\":\"38.2K\",\"PctChngEmployed\":\"-63.2%\",\"LaborForce\":\"58.6K\",\"Rate\":\"65.1%\",\"CurrentWarns\":\"7\"},\"Southwest\":{\"MarchEmployed\":\"142K\",\"CumClaims\":\"41.7K\",\"Employed\":\"100K\",\"Unemployed\":\"48.9K\",\"PctChngEmployed\":\"-29.4%\",\"LaborForce\":\"149K\",\"Rate\":\"32.8%\",\"CurrentWarns\":\"3\"},\"Columbus, GA-AL\":{\"MarchEmployed\":\"99.1K\",\"CumClaims\":\"35K\",\"Employed\":\"64.1K\",\"Unemployed\":\"40.3K\",\"PctChngEmployed\":\"-35.3%\",\"LaborForce\":\"104K\",\"Rate\":\"38.6%\",\"CurrentWarns\":\"6\"},\"Athens-Clarke County, GA\":{\"MarchEmployed\":\"95K\",\"CumClaims\":\"32.8K\",\"Employed\":\"62.2K\",\"Unemployed\":\"37K\",\"PctChngEmployed\":\"-34.5%\",\"LaborForce\":\"99.2K\",\"Rate\":\"37.3%\",\"CurrentWarns\":\"6\"},\"Forsyth County\":{\"MarchEmployed\":\"119K\",\"CumClaims\":\"33.2K\",\"Employed\":\"85.8K\",\"Unemployed\":\"37.4K\",\"PctChngEmployed\":\"-27.9%\",\"LaborForce\":\"123K\",\"Rate\":\"30.4%\",\"CurrentWarns\":\"6\"},\"Douglas County\":{\"MarchEmployed\":\"70.8K\",\"CumClaims\":\"28.4K\",\"Employed\":\"42.3K\",\"Unemployed\":\"31.8K\",\"PctChngEmployed\":\"-40.2%\",\"LaborForce\":\"74.1K\",\"Rate\":\"42.9%\",\"CurrentWarns\":\"5\"},\"Macon-Bibb County, GA\":{\"MarchEmployed\":\"99K\",\"CumClaims\":\"30.4K\",\"Employed\":\"68.7K\",\"Unemployed\":\"35.2K\",\"PctChngEmployed\":\"-30.7%\",\"LaborForce\":\"104K\",\"Rate\":\"33.9%\",\"CurrentWarns\":\"9\"},\"Whitfield County\":{\"MarchEmployed\":\"41.1K\",\"CumClaims\":\"26.6K\",\"Employed\":\"14.5K\",\"Unemployed\":\"28.7K\",\"PctChngEmployed\":\"-64.7%\",\"LaborForce\":\"43.2K\",\"Rate\":\"66.5%\",\"CurrentWarns\":\"6\"},\"Muscogee County\":{\"MarchEmployed\":\"73.1K\",\"CumClaims\":\"28K\",\"Employed\":\"45.1K\",\"Unemployed\":\"32.2K\",\"PctChngEmployed\":\"-38.3%\",\"LaborForce\":\"77.3K\",\"Rate\":\"41.7%\",\"CurrentWarns\":\"5\"},\"Hall County\":{\"MarchEmployed\":\"99.4K\",\"CumClaims\":\"31.1K\",\"Employed\":\"68.3K\",\"Unemployed\":\"34.6K\",\"PctChngEmployed\":\"-31.3%\",\"LaborForce\":\"103K\",\"Rate\":\"33.6%\",\"CurrentWarns\":\"6\"},\"Gainesville, GA\":{\"MarchEmployed\":\"99.4K\",\"CumClaims\":\"31.1K\",\"Employed\":\"68.3K\",\"Unemployed\":\"34.6K\",\"PctChngEmployed\":\"-31.3%\",\"LaborForce\":\"103K\",\"Rate\":\"33.6%\",\"CurrentWarns\":\"6\"},\"Fayette County\":{\"MarchEmployed\":\"56.4K\",\"CumClaims\":\"23.8K\",\"Employed\":\"32.6K\",\"Unemployed\":\"25.9K\",\"PctChngEmployed\":\"-42.1%\",\"LaborForce\":\"58.6K\",\"Rate\":\"44.3%\",\"CurrentWarns\":\"5\"},\"Heart of Georgia\":{\"MarchEmployed\":\"111K\",\"CumClaims\":\"27.2K\",\"Employed\":\"83.6K\",\"Unemployed\":\"34K\",\"PctChngEmployed\":\"-24.6%\",\"LaborForce\":\"118K\",\"Rate\":\"28.9%\",\"CurrentWarns\":\"3\"},\"Coweta County\":{\"MarchEmployed\":\"72.6K\",\"CumClaims\":\"26.4K\",\"Employed\":\"46.2K\",\"Unemployed\":\"29.2K\",\"PctChngEmployed\":\"-36.4%\",\"LaborForce\":\"75.4K\",\"Rate\":\"38.8%\",\"CurrentWarns\":\"5\"},\"Brunswick, GA\":{\"MarchEmployed\":\"49.9K\",\"CumClaims\":\"21.1K\",\"Employed\":\"28.8K\",\"Unemployed\":\"23.3K\",\"PctChngEmployed\":\"-42.2%\",\"LaborForce\":\"52.1K\",\"Rate\":\"44.7%\",\"CurrentWarns\":\"4\"},\"Richmond County\":{\"MarchEmployed\":\"81.4K\",\"CumClaims\":\"27.2K\",\"Employed\":\"54.2K\",\"Unemployed\":\"31.8K\",\"PctChngEmployed\":\"-33.4%\",\"LaborForce\":\"86K\",\"Rate\":\"37.0%\",\"CurrentWarns\":\"11\"},\"Bibb County\":{\"MarchEmployed\":\"65.1K\",\"CumClaims\":\"22.9K\",\"Employed\":\"42.2K\",\"Unemployed\":\"26.2K\",\"PctChngEmployed\":\"-35.2%\",\"LaborForce\":\"68.4K\",\"Rate\":\"38.3%\",\"CurrentWarns\":\"8\"},\"Warner Robins, GA\":{\"MarchEmployed\":\"79.4K\",\"CumClaims\":\"23.3K\",\"Employed\":\"56.1K\",\"Unemployed\":\"26.8K\",\"PctChngEmployed\":\"-29.4%\",\"LaborForce\":\"82.9K\",\"Rate\":\"32.3%\",\"CurrentWarns\":\"6\"},\"Bartow County\":{\"MarchEmployed\":\"49K\",\"CumClaims\":\"22.3K\",\"Employed\":\"26.8K\",\"Unemployed\":\"24.4K\",\"PctChngEmployed\":\"-45.4%\",\"LaborForce\":\"51.2K\",\"Rate\":\"47.7%\",\"CurrentWarns\":\"5\"},\"Glynn County\":{\"MarchEmployed\":\"37.2K\",\"CumClaims\":\"17.2K\",\"Employed\":\"20K\",\"Unemployed\":\"18.9K\",\"PctChngEmployed\":\"-46.3%\",\"LaborForce\":\"38.8K\",\"Rate\":\"48.6%\",\"CurrentWarns\":\"4\"},\"Clarke County\":{\"MarchEmployed\":\"56.6K\",\"CumClaims\":\"21.9K\",\"Employed\":\"34.8K\",\"Unemployed\":\"24.6K\",\"PctChngEmployed\":\"-38.6%\",\"LaborForce\":\"59.4K\",\"Rate\":\"41.5%\",\"CurrentWarns\":\"5\"},\"Paulding County\":{\"MarchEmployed\":\"83.6K\",\"CumClaims\":\"23.5K\",\"Employed\":\"60.1K\",\"Unemployed\":\"26.8K\",\"PctChngEmployed\":\"-28.1%\",\"LaborForce\":\"86.9K\",\"Rate\":\"30.8%\",\"CurrentWarns\":\"2\"},\"Albany, GA\":{\"MarchEmployed\":\"62.6K\",\"CumClaims\":\"22.5K\",\"Employed\":\"40.1K\",\"Unemployed\":\"26K\",\"PctChngEmployed\":\"-35.9%\",\"LaborForce\":\"66.1K\",\"Rate\":\"39.3%\",\"CurrentWarns\":\"3\"},\"Houston County\":{\"MarchEmployed\":\"68K\",\"CumClaims\":\"19.4K\",\"Employed\":\"48.6K\",\"Unemployed\":\"22.3K\",\"PctChngEmployed\":\"-28.5%\",\"LaborForce\":\"71K\",\"Rate\":\"31.5%\",\"CurrentWarns\":\"4\"},\"Rockdale County\":{\"MarchEmployed\":\"43.1K\",\"CumClaims\":\"16.5K\",\"Employed\":\"26.6K\",\"Unemployed\":\"18.7K\",\"PctChngEmployed\":\"-38.3%\",\"LaborForce\":\"45.3K\",\"Rate\":\"41.3%\",\"CurrentWarns\":\"1\"},\"Newton County\":{\"MarchEmployed\":\"50.3K\",\"CumClaims\":\"18.2K\",\"Employed\":\"32.1K\",\"Unemployed\":\"20.8K\",\"PctChngEmployed\":\"-36.2%\",\"LaborForce\":\"52.9K\",\"Rate\":\"39.3%\",\"CurrentWarns\":\"2\"},\"Valdosta, GA\":{\"MarchEmployed\":\"61.1K\",\"CumClaims\":\"18.5K\",\"Employed\":\"42.6K\",\"Unemployed\":\"21.4K\",\"PctChngEmployed\":\"-30.3%\",\"LaborForce\":\"63.9K\",\"Rate\":\"33.4%\",\"CurrentWarns\":\"1\"},\"Walton County\":{\"MarchEmployed\":\"44.7K\",\"CumClaims\":\"16K\",\"Employed\":\"28.7K\",\"Unemployed\":\"17.8K\",\"PctChngEmployed\":\"-35.8%\",\"LaborForce\":\"46.6K\",\"Rate\":\"38.3%\",\"CurrentWarns\":\"0\"},\"Carroll County\":{\"MarchEmployed\":\"53.4K\",\"CumClaims\":\"19.1K\",\"Employed\":\"34.3K\",\"Unemployed\":\"21.7K\",\"PctChngEmployed\":\"-35.7%\",\"LaborForce\":\"56K\",\"Rate\":\"38.7%\",\"CurrentWarns\":\"3\"},\"Rome, GA\":{\"MarchEmployed\":\"42.5K\",\"CumClaims\":\"17.4K\",\"Employed\":\"25.1K\",\"Unemployed\":\"19.4K\",\"PctChngEmployed\":\"-41.0%\",\"LaborForce\":\"44.5K\",\"Rate\":\"43.6%\",\"CurrentWarns\":\"2\"},\"Floyd County\":{\"MarchEmployed\":\"42.5K\",\"CumClaims\":\"17.4K\",\"Employed\":\"25.1K\",\"Unemployed\":\"19.4K\",\"PctChngEmployed\":\"-41.0%\",\"LaborForce\":\"44.5K\",\"Rate\":\"43.6%\",\"CurrentWarns\":\"2\"},\"Columbia County\":{\"MarchEmployed\":\"72.9K\",\"CumClaims\":\"17.1K\",\"Employed\":\"55.8K\",\"Unemployed\":\"19.9K\",\"PctChngEmployed\":\"-23.4%\",\"LaborForce\":\"75.7K\",\"Rate\":\"26.3%\",\"CurrentWarns\":\"6\"},\"Lowndes County\":{\"MarchEmployed\":\"48.9K\",\"CumClaims\":\"16.2K\",\"Employed\":\"32.7K\",\"Unemployed\":\"18.5K\",\"PctChngEmployed\":\"-33.1%\",\"LaborForce\":\"51.2K\",\"Rate\":\"36.1%\",\"CurrentWarns\":\"1\"},\"Barrow County\":{\"MarchEmployed\":\"39.4K\",\"CumClaims\":\"14.3K\",\"Employed\":\"25.1K\",\"Unemployed\":\"15.8K\",\"PctChngEmployed\":\"-36.3%\",\"LaborForce\":\"40.8K\",\"Rate\":\"38.6%\",\"CurrentWarns\":\"0\"},\"Gordon County\":{\"MarchEmployed\":\"27.1K\",\"CumClaims\":\"11.4K\",\"Employed\":\"15.7K\",\"Unemployed\":\"12.5K\",\"PctChngEmployed\":\"-42.0%\",\"LaborForce\":\"28.2K\",\"Rate\":\"44.3%\",\"CurrentWarns\":\"0\"},\"Calhoun, GA\":{\"MarchEmployed\":\"27.1K\",\"CumClaims\":\"11.4K\",\"Employed\":\"15.7K\",\"Unemployed\":\"12.5K\",\"PctChngEmployed\":\"-42.0%\",\"LaborForce\":\"28.2K\",\"Rate\":\"44.3%\",\"CurrentWarns\":\"0\"},\"LaGrange, GA-AL\":{\"MarchEmployed\":\"36.2K\",\"CumClaims\":\"14.9K\",\"Employed\":\"21.2K\",\"Unemployed\":\"16.4K\",\"PctChngEmployed\":\"-41.3%\",\"LaborForce\":\"37.6K\",\"Rate\":\"43.6%\",\"CurrentWarns\":\"1\"},\"Troup County\":{\"MarchEmployed\":\"36.2K\",\"CumClaims\":\"14.9K\",\"Employed\":\"21.2K\",\"Unemployed\":\"16.4K\",\"PctChngEmployed\":\"-41.3%\",\"LaborForce\":\"37.6K\",\"Rate\":\"43.6%\",\"CurrentWarns\":\"1\"},\"Statesboro, GA\":{\"MarchEmployed\":\"35K\",\"CumClaims\":\"12.5K\",\"Employed\":\"22.5K\",\"Unemployed\":\"14.5K\",\"PctChngEmployed\":\"-35.7%\",\"LaborForce\":\"37K\",\"Rate\":\"39.1%\",\"CurrentWarns\":\"0\"},\"Bulloch County\":{\"MarchEmployed\":\"35K\",\"CumClaims\":\"12.5K\",\"Employed\":\"22.5K\",\"Unemployed\":\"14.5K\",\"PctChngEmployed\":\"-35.7%\",\"LaborForce\":\"37K\",\"Rate\":\"39.1%\",\"CurrentWarns\":\"0\"},\"Chattanooga, TN-GA\":{\"MarchEmployed\":\"71.3K\",\"CumClaims\":\"14.4K\",\"Employed\":\"57K\",\"Unemployed\":\"17.2K\",\"PctChngEmployed\":\"-20.2%\",\"LaborForce\":\"74.2K\",\"Rate\":\"23.2%\",\"CurrentWarns\":\"0\"},\"Dougherty County\":{\"MarchEmployed\":\"36.5K\",\"CumClaims\":\"13.3K\",\"Employed\":\"23.2K\",\"Unemployed\":\"15.6K\",\"PctChngEmployed\":\"-36.5%\",\"LaborForce\":\"38.7K\",\"Rate\":\"40.2%\",\"CurrentWarns\":\"3\"},\"Jefferson, GA\":{\"MarchEmployed\":\"35.3K\",\"CumClaims\":\"12.3K\",\"Employed\":\"23.1K\",\"Unemployed\":\"13.5K\",\"PctChngEmployed\":\"-34.7%\",\"LaborForce\":\"36.6K\",\"Rate\":\"36.9%\",\"CurrentWarns\":\"3\"},\"Jackson County\":{\"MarchEmployed\":\"35.3K\",\"CumClaims\":\"12.3K\",\"Employed\":\"23.1K\",\"Unemployed\":\"13.5K\",\"PctChngEmployed\":\"-34.7%\",\"LaborForce\":\"36.6K\",\"Rate\":\"36.9%\",\"CurrentWarns\":\"3\"},\"Hinesville, GA\":{\"MarchEmployed\":\"33.2K\",\"CumClaims\":\"9.6K\",\"Employed\":\"23.6K\",\"Unemployed\":\"11.2K\",\"PctChngEmployed\":\"-28.9%\",\"LaborForce\":\"34.8K\",\"Rate\":\"32.3%\",\"CurrentWarns\":\"2\"},\"Murray County\":{\"MarchEmployed\":\"14.5K\",\"CumClaims\":\"8.59K\",\"Employed\":\"5.96K\",\"Unemployed\":\"9.47K\",\"PctChngEmployed\":\"-59.0%\",\"LaborForce\":\"15.4K\",\"Rate\":\"61.4%\",\"CurrentWarns\":\"1\"},\"Spalding County\":{\"MarchEmployed\":\"27.6K\",\"CumClaims\":\"10K\",\"Employed\":\"17.6K\",\"Unemployed\":\"11.6K\",\"PctChngEmployed\":\"-36.4%\",\"LaborForce\":\"29.1K\",\"Rate\":\"39.7%\",\"CurrentWarns\":\"0\"},\"Liberty County\":{\"MarchEmployed\":\"25.3K\",\"CumClaims\":\"7.97K\",\"Employed\":\"17.3K\",\"Unemployed\":\"9.24K\",\"PctChngEmployed\":\"-31.5%\",\"LaborForce\":\"26.5K\",\"Rate\":\"34.8%\",\"CurrentWarns\":\"2\"},\"Douglas, GA\":{\"MarchEmployed\":\"23K\",\"CumClaims\":\"9.62K\",\"Employed\":\"13.4K\",\"Unemployed\":\"10.8K\",\"PctChngEmployed\":\"-41.7%\",\"LaborForce\":\"24.2K\",\"Rate\":\"44.6%\",\"CurrentWarns\":\"0\"},\"Effingham County\":{\"MarchEmployed\":\"29.7K\",\"CumClaims\":\"8.77K\",\"Employed\":\"21K\",\"Unemployed\":\"9.94K\",\"PctChngEmployed\":\"-29.5%\",\"LaborForce\":\"30.9K\",\"Rate\":\"32.1%\",\"CurrentWarns\":\"0\"},\"Cedartown, GA\":{\"MarchEmployed\":\"17.7K\",\"CumClaims\":\"6.69K\",\"Employed\":\"11K\",\"Unemployed\":\"7.57K\",\"PctChngEmployed\":\"-37.8%\",\"LaborForce\":\"18.6K\",\"Rate\":\"40.7%\",\"CurrentWarns\":\"0\"},\"Polk County\":{\"MarchEmployed\":\"17.7K\",\"CumClaims\":\"6.69K\",\"Employed\":\"11K\",\"Unemployed\":\"7.57K\",\"PctChngEmployed\":\"-37.8%\",\"LaborForce\":\"18.6K\",\"Rate\":\"40.7%\",\"CurrentWarns\":\"0\"},\"Dublin, GA\":{\"MarchEmployed\":\"24.3K\",\"CumClaims\":\"6.78K\",\"Employed\":\"17.5K\",\"Unemployed\":\"8.36K\",\"PctChngEmployed\":\"-27.9%\",\"LaborForce\":\"25.9K\",\"Rate\":\"32.3%\",\"CurrentWarns\":\"1\"},\"Walker County\":{\"MarchEmployed\":\"30.6K\",\"CumClaims\":\"7.52K\",\"Employed\":\"23K\",\"Unemployed\":\"8.8K\",\"PctChngEmployed\":\"-24.6%\",\"LaborForce\":\"31.8K\",\"Rate\":\"27.7%\",\"CurrentWarns\":\"0\"},\"Lee County\":{\"MarchEmployed\":\"14.2K\",\"CumClaims\":\"6.67K\",\"Employed\":\"7.58K\",\"Unemployed\":\"7.25K\",\"PctChngEmployed\":\"-46.8%\",\"LaborForce\":\"14.8K\",\"Rate\":\"48.9%\",\"CurrentWarns\":\"0\"},\"Bryan County\":{\"MarchEmployed\":\"17.6K\",\"CumClaims\":\"7.23K\",\"Employed\":\"10.3K\",\"Unemployed\":\"7.96K\",\"PctChngEmployed\":\"-41.1%\",\"LaborForce\":\"18.3K\",\"Rate\":\"43.5%\",\"CurrentWarns\":\"0\"},\"Camden County\":{\"MarchEmployed\":\"20K\",\"CumClaims\":\"5.6K\",\"Employed\":\"14.4K\",\"Unemployed\":\"6.53K\",\"PctChngEmployed\":\"-28.0%\",\"LaborForce\":\"20.9K\",\"Rate\":\"31.3%\",\"CurrentWarns\":\"1\"},\"St. Marys, GA\":{\"MarchEmployed\":\"20K\",\"CumClaims\":\"5.6K\",\"Employed\":\"14.4K\",\"Unemployed\":\"6.53K\",\"PctChngEmployed\":\"-28.0%\",\"LaborForce\":\"20.9K\",\"Rate\":\"31.3%\",\"CurrentWarns\":\"1\"},\"Milledgeville, GA\":{\"MarchEmployed\":\"19.1K\",\"CumClaims\":\"6.49K\",\"Employed\":\"12.6K\",\"Unemployed\":\"7.67K\",\"PctChngEmployed\":\"-34.0%\",\"LaborForce\":\"20.3K\",\"Rate\":\"37.8%\",\"CurrentWarns\":\"0\"},\"Summerville, GA\":{\"MarchEmployed\":\"9.74K\",\"CumClaims\":\"4.98K\",\"Employed\":\"4.76K\",\"Unemployed\":\"5.57K\",\"PctChngEmployed\":\"-51.1%\",\"LaborForce\":\"10.3K\",\"Rate\":\"53.9%\",\"CurrentWarns\":\"1\"},\"Chattooga County\":{\"MarchEmployed\":\"9.74K\",\"CumClaims\":\"4.98K\",\"Employed\":\"4.76K\",\"Unemployed\":\"5.57K\",\"PctChngEmployed\":\"-51.1%\",\"LaborForce\":\"10.3K\",\"Rate\":\"53.9%\",\"CurrentWarns\":\"1\"},\"Laurens County\":{\"MarchEmployed\":\"18K\",\"CumClaims\":\"5.6K\",\"Employed\":\"12.4K\",\"Unemployed\":\"6.82K\",\"PctChngEmployed\":\"-31.2%\",\"LaborForce\":\"19.2K\",\"Rate\":\"35.6%\",\"CurrentWarns\":\"1\"},\"Catoosa County\":{\"MarchEmployed\":\"32.8K\",\"CumClaims\":\"5.57K\",\"Employed\":\"27.2K\",\"Unemployed\":\"6.8K\",\"PctChngEmployed\":\"-17.0%\",\"LaborForce\":\"34K\",\"Rate\":\"20.0%\",\"CurrentWarns\":\"0\"},\"Oconee County\":{\"MarchEmployed\":\"18.9K\",\"CumClaims\":\"4.91K\",\"Employed\":\"14K\",\"Unemployed\":\"5.54K\",\"PctChngEmployed\":\"-26.0%\",\"LaborForce\":\"19.5K\",\"Rate\":\"28.4%\",\"CurrentWarns\":\"1\"},\"Butts County\":{\"MarchEmployed\":\"10.4K\",\"CumClaims\":\"4.21K\",\"Employed\":\"6.2K\",\"Unemployed\":\"4.68K\",\"PctChngEmployed\":\"-40.4%\",\"LaborForce\":\"10.9K\",\"Rate\":\"43.0%\",\"CurrentWarns\":\"0\"},\"Baldwin County\":{\"MarchEmployed\":\"16.7K\",\"CumClaims\":\"5.69K\",\"Employed\":\"11K\",\"Unemployed\":\"6.69K\",\"PctChngEmployed\":\"-34.0%\",\"LaborForce\":\"17.7K\",\"Rate\":\"37.7%\",\"CurrentWarns\":\"0\"},\"Pickens County\":{\"MarchEmployed\":\"14.8K\",\"CumClaims\":\"4.56K\",\"Employed\":\"10.3K\",\"Unemployed\":\"5.14K\",\"PctChngEmployed\":\"-30.7%\",\"LaborForce\":\"15.4K\",\"Rate\":\"33.3%\",\"CurrentWarns\":\"0\"},\"Harris County\":{\"MarchEmployed\":\"16K\",\"CumClaims\":\"4.61K\",\"Employed\":\"11.4K\",\"Unemployed\":\"5.25K\",\"PctChngEmployed\":\"-28.9%\",\"LaborForce\":\"16.6K\",\"Rate\":\"31.6%\",\"CurrentWarns\":\"0\"},\"Atkinson County\":{\"MarchEmployed\":\"4.85K\",\"CumClaims\":\"5.08K\",\"Employed\":\"-234\",\"Unemployed\":\"5.26K\",\"PctChngEmployed\":\"-104.8%\",\"LaborForce\":\"5.02K\",\"Rate\":\"104.7%\",\"CurrentWarns\":\"0\"},\"Tift County\":{\"MarchEmployed\":\"19.3K\",\"CumClaims\":\"5.49K\",\"Employed\":\"13.8K\",\"Unemployed\":\"6.32K\",\"PctChngEmployed\":\"-28.4%\",\"LaborForce\":\"20.2K\",\"Rate\":\"31.3%\",\"CurrentWarns\":\"0\"},\"Tifton, GA\":{\"MarchEmployed\":\"19.3K\",\"CumClaims\":\"5.49K\",\"Employed\":\"13.8K\",\"Unemployed\":\"6.32K\",\"PctChngEmployed\":\"-28.4%\",\"LaborForce\":\"20.2K\",\"Rate\":\"31.3%\",\"CurrentWarns\":\"0\"},\"Cornelia, GA\":{\"MarchEmployed\":\"18.3K\",\"CumClaims\":\"5.28K\",\"Employed\":\"13K\",\"Unemployed\":\"6.16K\",\"PctChngEmployed\":\"-28.9%\",\"LaborForce\":\"19.1K\",\"Rate\":\"32.1%\",\"CurrentWarns\":\"0\"},\"Habersham County\":{\"MarchEmployed\":\"18.3K\",\"CumClaims\":\"5.28K\",\"Employed\":\"13K\",\"Unemployed\":\"6.16K\",\"PctChngEmployed\":\"-28.9%\",\"LaborForce\":\"19.1K\",\"Rate\":\"32.1%\",\"CurrentWarns\":\"0\"},\"Moultrie, GA\":{\"MarchEmployed\":\"20.8K\",\"CumClaims\":\"4.75K\",\"Employed\":\"16.1K\",\"Unemployed\":\"5.56K\",\"PctChngEmployed\":\"-22.8%\",\"LaborForce\":\"21.6K\",\"Rate\":\"25.7%\",\"CurrentWarns\":\"0\"},\"Colquitt County\":{\"MarchEmployed\":\"20.8K\",\"CumClaims\":\"4.75K\",\"Employed\":\"16.1K\",\"Unemployed\":\"5.56K\",\"PctChngEmployed\":\"-22.8%\",\"LaborForce\":\"21.6K\",\"Rate\":\"25.7%\",\"CurrentWarns\":\"0\"},\"Gilmer County\":{\"MarchEmployed\":\"11.3K\",\"CumClaims\":\"4.08K\",\"Employed\":\"7.22K\",\"Unemployed\":\"4.61K\",\"PctChngEmployed\":\"-36.1%\",\"LaborForce\":\"11.8K\",\"Rate\":\"38.9%\",\"CurrentWarns\":\"1\"},\"Waycross, GA\":{\"MarchEmployed\":\"23.4K\",\"CumClaims\":\"5.75K\",\"Employed\":\"17.7K\",\"Unemployed\":\"6.82K\",\"PctChngEmployed\":\"-24.6%\",\"LaborForce\":\"24.5K\",\"Rate\":\"27.8%\",\"CurrentWarns\":\"1\"},\"Dawson County\":{\"MarchEmployed\":\"12K\",\"CumClaims\":\"4.85K\",\"Employed\":\"7.13K\",\"Unemployed\":\"5.29K\",\"PctChngEmployed\":\"-40.5%\",\"LaborForce\":\"12.4K\",\"Rate\":\"42.6%\",\"CurrentWarns\":\"1\"},\"Madison County\":{\"MarchEmployed\":\"12.8K\",\"CumClaims\":\"4.44K\",\"Employed\":\"8.34K\",\"Unemployed\":\"4.97K\",\"PctChngEmployed\":\"-34.7%\",\"LaborForce\":\"13.3K\",\"Rate\":\"37.3%\",\"CurrentWarns\":\"0\"},\"Franklin County\":{\"MarchEmployed\":\"9.56K\",\"CumClaims\":\"3.89K\",\"Employed\":\"5.68K\",\"Unemployed\":\"4.38K\",\"PctChngEmployed\":\"-40.6%\",\"LaborForce\":\"10.1K\",\"Rate\":\"43.5%\",\"CurrentWarns\":\"0\"},\"Coffee County\":{\"MarchEmployed\":\"18.2K\",\"CumClaims\":\"4.54K\",\"Employed\":\"13.7K\",\"Unemployed\":\"5.57K\",\"PctChngEmployed\":\"-24.9%\",\"LaborForce\":\"19.2K\",\"Rate\":\"29.0%\",\"CurrentWarns\":\"0\"},\"Cordele, GA\":{\"MarchEmployed\":\"9.08K\",\"CumClaims\":\"4.08K\",\"Employed\":\"5K\",\"Unemployed\":\"4.54K\",\"PctChngEmployed\":\"-44.9%\",\"LaborForce\":\"9.55K\",\"Rate\":\"47.6%\",\"CurrentWarns\":\"2\"},\"Crisp County\":{\"MarchEmployed\":\"9.08K\",\"CumClaims\":\"4.08K\",\"Employed\":\"5K\",\"Unemployed\":\"4.54K\",\"PctChngEmployed\":\"-44.9%\",\"LaborForce\":\"9.55K\",\"Rate\":\"47.6%\",\"CurrentWarns\":\"2\"},\"Lumpkin County\":{\"MarchEmployed\":\"16.2K\",\"CumClaims\":\"4.92K\",\"Employed\":\"11.3K\",\"Unemployed\":\"5.57K\",\"PctChngEmployed\":\"-30.4%\",\"LaborForce\":\"16.8K\",\"Rate\":\"33.1%\",\"CurrentWarns\":\"1\"},\"Ben Hill County\":{\"MarchEmployed\":\"5K\",\"CumClaims\":\"4.69K\",\"Employed\":\"301\",\"Unemployed\":\"5.1K\",\"PctChngEmployed\":\"-94.0%\",\"LaborForce\":\"5.4K\",\"Rate\":\"94.4%\",\"CurrentWarns\":\"0\"},\"Fitzgerald, GA\":{\"MarchEmployed\":\"5K\",\"CumClaims\":\"4.69K\",\"Employed\":\"301\",\"Unemployed\":\"5.1K\",\"PctChngEmployed\":\"-94.0%\",\"LaborForce\":\"5.4K\",\"Rate\":\"94.4%\",\"CurrentWarns\":\"0\"},\"Thomas County\":{\"MarchEmployed\":\"15.7K\",\"CumClaims\":\"4.81K\",\"Employed\":\"10.9K\",\"Unemployed\":\"5.64K\",\"PctChngEmployed\":\"-30.7%\",\"LaborForce\":\"16.5K\",\"Rate\":\"34.1%\",\"CurrentWarns\":\"0\"},\"Thomasville, GA\":{\"MarchEmployed\":\"15.7K\",\"CumClaims\":\"4.81K\",\"Employed\":\"10.9K\",\"Unemployed\":\"5.64K\",\"PctChngEmployed\":\"-30.7%\",\"LaborForce\":\"16.5K\",\"Rate\":\"34.1%\",\"CurrentWarns\":\"0\"},\"Vidalia, GA\":{\"MarchEmployed\":\"14.7K\",\"CumClaims\":\"4.7K\",\"Employed\":\"10K\",\"Unemployed\":\"5.6K\",\"PctChngEmployed\":\"-31.9%\",\"LaborForce\":\"15.6K\",\"Rate\":\"35.8%\",\"CurrentWarns\":\"1\"},\"Fannin County\":{\"MarchEmployed\":\"11K\",\"CumClaims\":\"3.77K\",\"Employed\":\"7.23K\",\"Unemployed\":\"4.27K\",\"PctChngEmployed\":\"-34.3%\",\"LaborForce\":\"11.5K\",\"Rate\":\"37.1%\",\"CurrentWarns\":\"0\"},\"Toccoa, GA\":{\"MarchEmployed\":\"10.2K\",\"CumClaims\":\"3.66K\",\"Employed\":\"6.52K\",\"Unemployed\":\"4.18K\",\"PctChngEmployed\":\"-35.9%\",\"LaborForce\":\"10.7K\",\"Rate\":\"39.0%\",\"CurrentWarns\":\"0\"},\"Stephens County\":{\"MarchEmployed\":\"10.2K\",\"CumClaims\":\"3.66K\",\"Employed\":\"6.52K\",\"Unemployed\":\"4.18K\",\"PctChngEmployed\":\"-35.9%\",\"LaborForce\":\"10.7K\",\"Rate\":\"39.0%\",\"CurrentWarns\":\"0\"},\"White County\":{\"MarchEmployed\":\"15.9K\",\"CumClaims\":\"4.54K\",\"Employed\":\"11.4K\",\"Unemployed\":\"5.1K\",\"PctChngEmployed\":\"-28.5%\",\"LaborForce\":\"16.5K\",\"Rate\":\"30.9%\",\"CurrentWarns\":\"1\"},\"Peach County\":{\"MarchEmployed\":\"11.4K\",\"CumClaims\":\"3.9K\",\"Employed\":\"7.47K\",\"Unemployed\":\"4.46K\",\"PctChngEmployed\":\"-34.3%\",\"LaborForce\":\"11.9K\",\"Rate\":\"37.4%\",\"CurrentWarns\":\"2\"},\"Banks County\":{\"MarchEmployed\":\"9.48K\",\"CumClaims\":\"3.16K\",\"Employed\":\"6.32K\",\"Unemployed\":\"3.51K\",\"PctChngEmployed\":\"-33.3%\",\"LaborForce\":\"9.83K\",\"Rate\":\"35.7%\",\"CurrentWarns\":\"1\"},\"Haralson County\":{\"MarchEmployed\":\"12.1K\",\"CumClaims\":\"5.03K\",\"Employed\":\"7.12K\",\"Unemployed\":\"5.59K\",\"PctChngEmployed\":\"-41.4%\",\"LaborForce\":\"12.7K\",\"Rate\":\"44.0%\",\"CurrentWarns\":\"0\"},\"Thomaston, GA\":{\"MarchEmployed\":\"10.9K\",\"CumClaims\":\"3.88K\",\"Employed\":\"7.06K\",\"Unemployed\":\"4.38K\",\"PctChngEmployed\":\"-35.4%\",\"LaborForce\":\"11.4K\",\"Rate\":\"38.3%\",\"CurrentWarns\":\"0\"},\"Upson County\":{\"MarchEmployed\":\"10.9K\",\"CumClaims\":\"3.88K\",\"Employed\":\"7.06K\",\"Unemployed\":\"4.38K\",\"PctChngEmployed\":\"-35.4%\",\"LaborForce\":\"11.4K\",\"Rate\":\"38.3%\",\"CurrentWarns\":\"0\"},\"Meriwether County\":{\"MarchEmployed\":\"8.53K\",\"CumClaims\":\"3.19K\",\"Employed\":\"5.35K\",\"Unemployed\":\"3.68K\",\"PctChngEmployed\":\"-37.3%\",\"LaborForce\":\"9.02K\",\"Rate\":\"40.7%\",\"CurrentWarns\":\"0\"},\"Union County\":{\"MarchEmployed\":\"9.93K\",\"CumClaims\":\"2.96K\",\"Employed\":\"6.98K\",\"Unemployed\":\"3.37K\",\"PctChngEmployed\":\"-29.8%\",\"LaborForce\":\"10.3K\",\"Rate\":\"32.6%\",\"CurrentWarns\":\"0\"},\"Wayne County\":{\"MarchEmployed\":\"10.8K\",\"CumClaims\":\"3.13K\",\"Employed\":\"7.68K\",\"Unemployed\":\"3.68K\",\"PctChngEmployed\":\"-29.0%\",\"LaborForce\":\"11.4K\",\"Rate\":\"32.4%\",\"CurrentWarns\":\"0\"},\"Jesup, GA\":{\"MarchEmployed\":\"10.8K\",\"CumClaims\":\"3.13K\",\"Employed\":\"7.68K\",\"Unemployed\":\"3.68K\",\"PctChngEmployed\":\"-29.0%\",\"LaborForce\":\"11.4K\",\"Rate\":\"32.4%\",\"CurrentWarns\":\"0\"},\"Monroe County\":{\"MarchEmployed\":\"12.5K\",\"CumClaims\":\"2.95K\",\"Employed\":\"9.6K\",\"Unemployed\":\"3.5K\",\"PctChngEmployed\":\"-23.5%\",\"LaborForce\":\"13.1K\",\"Rate\":\"26.7%\",\"CurrentWarns\":\"0\"},\"Toombs County\":{\"MarchEmployed\":\"11.1K\",\"CumClaims\":\"3.51K\",\"Employed\":\"7.61K\",\"Unemployed\":\"4.19K\",\"PctChngEmployed\":\"-31.6%\",\"LaborForce\":\"11.8K\",\"Rate\":\"35.5%\",\"CurrentWarns\":\"1\"},\"Putnam County\":{\"MarchEmployed\":\"7.82K\",\"CumClaims\":\"2.95K\",\"Employed\":\"4.88K\",\"Unemployed\":\"3.37K\",\"PctChngEmployed\":\"-37.7%\",\"LaborForce\":\"8.24K\",\"Rate\":\"40.9%\",\"CurrentWarns\":\"0\"},\"Ware County\":{\"MarchEmployed\":\"15K\",\"CumClaims\":\"3.72K\",\"Employed\":\"11.3K\",\"Unemployed\":\"4.45K\",\"PctChngEmployed\":\"-24.8%\",\"LaborForce\":\"15.7K\",\"Rate\":\"28.3%\",\"CurrentWarns\":\"1\"},\"Morgan County\":{\"MarchEmployed\":\"8.98K\",\"CumClaims\":\"2.84K\",\"Employed\":\"6.14K\",\"Unemployed\":\"3.19K\",\"PctChngEmployed\":\"-31.7%\",\"LaborForce\":\"9.33K\",\"Rate\":\"34.2%\",\"CurrentWarns\":\"0\"},\"Clinch County\":{\"MarchEmployed\":\"2.48K\",\"CumClaims\":\"2.76K\",\"Employed\":\"-282\",\"Unemployed\":\"2.89K\",\"PctChngEmployed\":\"-111.4%\",\"LaborForce\":\"2.61K\",\"Rate\":\"110.8%\",\"CurrentWarns\":\"0\"},\"Berrien County\":{\"MarchEmployed\":\"7.22K\",\"CumClaims\":\"2.6K\",\"Employed\":\"4.62K\",\"Unemployed\":\"3.02K\",\"PctChngEmployed\":\"-36.1%\",\"LaborForce\":\"7.64K\",\"Rate\":\"39.6%\",\"CurrentWarns\":\"0\"},\"Americus, GA\":{\"MarchEmployed\":\"14.4K\",\"CumClaims\":\"3.02K\",\"Employed\":\"11.3K\",\"Unemployed\":\"3.92K\",\"PctChngEmployed\":\"-21.1%\",\"LaborForce\":\"15.2K\",\"Rate\":\"25.7%\",\"CurrentWarns\":\"2\"},\"Jones County\":{\"MarchEmployed\":\"13.2K\",\"CumClaims\":\"2.59K\",\"Employed\":\"10.7K\",\"Unemployed\":\"3.14K\",\"PctChngEmployed\":\"-19.6%\",\"LaborForce\":\"13.8K\",\"Rate\":\"22.8%\",\"CurrentWarns\":\"0\"},\"Hart County\":{\"MarchEmployed\":\"10.6K\",\"CumClaims\":\"2.54K\",\"Employed\":\"8.03K\",\"Unemployed\":\"3.12K\",\"PctChngEmployed\":\"-24.0%\",\"LaborForce\":\"11.2K\",\"Rate\":\"28.0%\",\"CurrentWarns\":\"0\"},\"Decatur County\":{\"MarchEmployed\":\"11.2K\",\"CumClaims\":\"2.76K\",\"Employed\":\"8.44K\",\"Unemployed\":\"3.29K\",\"PctChngEmployed\":\"-24.6%\",\"LaborForce\":\"11.7K\",\"Rate\":\"28.1%\",\"CurrentWarns\":\"0\"},\"Bainbridge, GA\":{\"MarchEmployed\":\"11.2K\",\"CumClaims\":\"2.76K\",\"Employed\":\"8.44K\",\"Unemployed\":\"3.29K\",\"PctChngEmployed\":\"-24.6%\",\"LaborForce\":\"11.7K\",\"Rate\":\"28.1%\",\"CurrentWarns\":\"0\"},\"Greene County\":{\"MarchEmployed\":\"6.65K\",\"CumClaims\":\"2.48K\",\"Employed\":\"4.16K\",\"Unemployed\":\"2.84K\",\"PctChngEmployed\":\"-37.4%\",\"LaborForce\":\"7K\",\"Rate\":\"40.5%\",\"CurrentWarns\":\"1\"},\"Elbert County\":{\"MarchEmployed\":\"7.3K\",\"CumClaims\":\"2.38K\",\"Employed\":\"4.92K\",\"Unemployed\":\"2.79K\",\"PctChngEmployed\":\"-32.6%\",\"LaborForce\":\"7.71K\",\"Rate\":\"36.2%\",\"CurrentWarns\":\"0\"},\"Sumter County\":{\"MarchEmployed\":\"12.2K\",\"CumClaims\":\"2.76K\",\"Employed\":\"9.46K\",\"Unemployed\":\"3.56K\",\"PctChngEmployed\":\"-22.6%\",\"LaborForce\":\"13K\",\"Rate\":\"27.3%\",\"CurrentWarns\":\"2\"},\"McDuffie County\":{\"MarchEmployed\":\"8.42K\",\"CumClaims\":\"2.8K\",\"Employed\":\"5.62K\",\"Unemployed\":\"3.36K\",\"PctChngEmployed\":\"-33.2%\",\"LaborForce\":\"8.98K\",\"Rate\":\"37.4%\",\"CurrentWarns\":\"1\"},\"Screven County\":{\"MarchEmployed\":\"4.79K\",\"CumClaims\":\"2.03K\",\"Employed\":\"2.76K\",\"Unemployed\":\"2.34K\",\"PctChngEmployed\":\"-42.4%\",\"LaborForce\":\"5.1K\",\"Rate\":\"45.9%\",\"CurrentWarns\":\"0\"},\"Oglethorpe County\":{\"MarchEmployed\":\"6.69K\",\"CumClaims\":\"1.55K\",\"Employed\":\"5.14K\",\"Unemployed\":\"1.82K\",\"PctChngEmployed\":\"-23.2%\",\"LaborForce\":\"6.96K\",\"Rate\":\"26.1%\",\"CurrentWarns\":\"0\"},\"Brantley County\":{\"MarchEmployed\":\"6.83K\",\"CumClaims\":\"2.11K\",\"Employed\":\"4.72K\",\"Unemployed\":\"2.45K\",\"PctChngEmployed\":\"-30.8%\",\"LaborForce\":\"7.17K\",\"Rate\":\"34.2%\",\"CurrentWarns\":\"0\"},\"Rabun County\":{\"MarchEmployed\":\"6.69K\",\"CumClaims\":\"2.29K\",\"Employed\":\"4.4K\",\"Unemployed\":\"2.6K\",\"PctChngEmployed\":\"-34.2%\",\"LaborForce\":\"7.01K\",\"Rate\":\"37.2%\",\"CurrentWarns\":\"0\"},\"Pike County\":{\"MarchEmployed\":\"8.64K\",\"CumClaims\":\"2.44K\",\"Employed\":\"6.21K\",\"Unemployed\":\"2.79K\",\"PctChngEmployed\":\"-28.2%\",\"LaborForce\":\"9K\",\"Rate\":\"31.0%\",\"CurrentWarns\":\"1\"},\"Dodge County\":{\"MarchEmployed\":\"6.58K\",\"CumClaims\":\"1.45K\",\"Employed\":\"5.13K\",\"Unemployed\":\"1.91K\",\"PctChngEmployed\":\"-22.0%\",\"LaborForce\":\"7.04K\",\"Rate\":\"27.1%\",\"CurrentWarns\":\"0\"},\"Cook County\":{\"MarchEmployed\":\"7.83K\",\"CumClaims\":\"2.03K\",\"Employed\":\"5.79K\",\"Unemployed\":\"2.36K\",\"PctChngEmployed\":\"-26.0%\",\"LaborForce\":\"8.16K\",\"Rate\":\"29.0%\",\"CurrentWarns\":\"0\"},\"Burke County\":{\"MarchEmployed\":\"8.74K\",\"CumClaims\":\"2.32K\",\"Employed\":\"6.42K\",\"Unemployed\":\"2.85K\",\"PctChngEmployed\":\"-26.6%\",\"LaborForce\":\"9.27K\",\"Rate\":\"30.8%\",\"CurrentWarns\":\"0\"},\"Lamar County\":{\"MarchEmployed\":\"7.92K\",\"CumClaims\":\"2.28K\",\"Employed\":\"5.63K\",\"Unemployed\":\"2.71K\",\"PctChngEmployed\":\"-28.9%\",\"LaborForce\":\"8.34K\",\"Rate\":\"32.5%\",\"CurrentWarns\":\"0\"},\"Emanuel County\":{\"MarchEmployed\":\"7.88K\",\"CumClaims\":\"1.81K\",\"Employed\":\"6.07K\",\"Unemployed\":\"2.35K\",\"PctChngEmployed\":\"-23.0%\",\"LaborForce\":\"8.42K\",\"Rate\":\"27.9%\",\"CurrentWarns\":\"0\"},\"Long County\":{\"MarchEmployed\":\"7.91K\",\"CumClaims\":\"1.64K\",\"Employed\":\"6.27K\",\"Unemployed\":\"2K\",\"PctChngEmployed\":\"-20.7%\",\"LaborForce\":\"8.27K\",\"Rate\":\"24.2%\",\"CurrentWarns\":\"0\"},\"Pierce County\":{\"MarchEmployed\":\"8.41K\",\"CumClaims\":\"2.02K\",\"Employed\":\"6.38K\",\"Unemployed\":\"2.37K\",\"PctChngEmployed\":\"-24.1%\",\"LaborForce\":\"8.75K\",\"Rate\":\"27.0%\",\"CurrentWarns\":\"0\"},\"Appling County\":{\"MarchEmployed\":\"9.31K\",\"CumClaims\":\"1.88K\",\"Employed\":\"7.42K\",\"Unemployed\":\"2.31K\",\"PctChngEmployed\":\"-20.2%\",\"LaborForce\":\"9.74K\",\"Rate\":\"23.7%\",\"CurrentWarns\":\"0\"},\"Grady County\":{\"MarchEmployed\":\"10.1K\",\"CumClaims\":\"1.96K\",\"Employed\":\"8.12K\",\"Unemployed\":\"2.39K\",\"PctChngEmployed\":\"-19.5%\",\"LaborForce\":\"10.5K\",\"Rate\":\"22.7%\",\"CurrentWarns\":\"0\"},\"Jeff Davis County\":{\"MarchEmployed\":\"5.72K\",\"CumClaims\":\"1.43K\",\"Employed\":\"4.3K\",\"Unemployed\":\"1.78K\",\"PctChngEmployed\":\"-25.0%\",\"LaborForce\":\"6.07K\",\"Rate\":\"29.2%\",\"CurrentWarns\":\"0\"},\"Towns County\":{\"MarchEmployed\":\"3.66K\",\"CumClaims\":\"1.42K\",\"Employed\":\"2.25K\",\"Unemployed\":\"1.66K\",\"PctChngEmployed\":\"-38.6%\",\"LaborForce\":\"3.91K\",\"Rate\":\"42.5%\",\"CurrentWarns\":\"1\"},\"Jasper County\":{\"MarchEmployed\":\"6.75K\",\"CumClaims\":\"1.72K\",\"Employed\":\"5.03K\",\"Unemployed\":\"1.99K\",\"PctChngEmployed\":\"-25.5%\",\"LaborForce\":\"7.02K\",\"Rate\":\"28.4%\",\"CurrentWarns\":\"0\"},\"McIntosh County\":{\"MarchEmployed\":\"5.86K\",\"CumClaims\":\"1.73K\",\"Employed\":\"4.13K\",\"Unemployed\":\"2K\",\"PctChngEmployed\":\"-29.5%\",\"LaborForce\":\"6.13K\",\"Rate\":\"32.6%\",\"CurrentWarns\":\"0\"},\"Worth County\":{\"MarchEmployed\":\"8.58K\",\"CumClaims\":\"1.73K\",\"Employed\":\"6.85K\",\"Unemployed\":\"2.16K\",\"PctChngEmployed\":\"-20.2%\",\"LaborForce\":\"9.01K\",\"Rate\":\"24.0%\",\"CurrentWarns\":\"0\"},\"Mitchell County\":{\"MarchEmployed\":\"8.16K\",\"CumClaims\":\"1.45K\",\"Employed\":\"6.71K\",\"Unemployed\":\"1.95K\",\"PctChngEmployed\":\"-17.8%\",\"LaborForce\":\"8.66K\",\"Rate\":\"22.5%\",\"CurrentWarns\":\"0\"},\"Jefferson County\":{\"MarchEmployed\":\"6.3K\",\"CumClaims\":\"1.58K\",\"Employed\":\"4.72K\",\"Unemployed\":\"1.98K\",\"PctChngEmployed\":\"-25.1%\",\"LaborForce\":\"6.7K\",\"Rate\":\"29.6%\",\"CurrentWarns\":\"1\"},\"Calhoun County\":{\"MarchEmployed\":\"2.22K\",\"CumClaims\":\"1.32K\",\"Employed\":\"899\",\"Unemployed\":\"1.44K\",\"PctChngEmployed\":\"-59.5%\",\"LaborForce\":\"2.34K\",\"Rate\":\"61.5%\",\"CurrentWarns\":\"0\"},\"Heard County\":{\"MarchEmployed\":\"5.09K\",\"CumClaims\":\"1.54K\",\"Employed\":\"3.55K\",\"Unemployed\":\"1.78K\",\"PctChngEmployed\":\"-30.2%\",\"LaborForce\":\"5.33K\",\"Rate\":\"33.4%\",\"CurrentWarns\":\"0\"},\"Tattnall County\":{\"MarchEmployed\":\"9.22K\",\"CumClaims\":\"1.41K\",\"Employed\":\"7.81K\",\"Unemployed\":\"1.9K\",\"PctChngEmployed\":\"-15.3%\",\"LaborForce\":\"9.7K\",\"Rate\":\"19.5%\",\"CurrentWarns\":\"0\"},\"Washington County\":{\"MarchEmployed\":\"6.64K\",\"CumClaims\":\"1.43K\",\"Employed\":\"5.21K\",\"Unemployed\":\"1.8K\",\"PctChngEmployed\":\"-21.5%\",\"LaborForce\":\"7.01K\",\"Rate\":\"25.7%\",\"CurrentWarns\":\"0\"},\"Bacon County\":{\"MarchEmployed\":\"4.77K\",\"CumClaims\":\"1.22K\",\"Employed\":\"3.54K\",\"Unemployed\":\"1.44K\",\"PctChngEmployed\":\"-25.7%\",\"LaborForce\":\"4.99K\",\"Rate\":\"29.0%\",\"CurrentWarns\":\"0\"},\"Candler County\":{\"MarchEmployed\":\"5.44K\",\"CumClaims\":\"1.22K\",\"Employed\":\"4.23K\",\"Unemployed\":\"1.43K\",\"PctChngEmployed\":\"-22.3%\",\"LaborForce\":\"5.66K\",\"Rate\":\"25.2%\",\"CurrentWarns\":\"0\"},\"Brooks County\":{\"MarchEmployed\":\"6.68K\",\"CumClaims\":\"1.27K\",\"Employed\":\"5.41K\",\"Unemployed\":\"1.56K\",\"PctChngEmployed\":\"-19.0%\",\"LaborForce\":\"6.97K\",\"Rate\":\"22.4%\",\"CurrentWarns\":\"0\"},\"Crawford County\":{\"MarchEmployed\":\"5.41K\",\"CumClaims\":\"1.28K\",\"Employed\":\"4.13K\",\"Unemployed\":\"1.52K\",\"PctChngEmployed\":\"-23.7%\",\"LaborForce\":\"5.65K\",\"Rate\":\"26.9%\",\"CurrentWarns\":\"1\"},\"Dade County\":{\"MarchEmployed\":\"7.96K\",\"CumClaims\":\"1.28K\",\"Employed\":\"6.68K\",\"Unemployed\":\"1.61K\",\"PctChngEmployed\":\"-16.1%\",\"LaborForce\":\"8.29K\",\"Rate\":\"19.4%\",\"CurrentWarns\":\"0\"},\"Evans County\":{\"MarchEmployed\":\"4.7K\",\"CumClaims\":\"1K\",\"Employed\":\"3.7K\",\"Unemployed\":\"1.24K\",\"PctChngEmployed\":\"-21.3%\",\"LaborForce\":\"4.94K\",\"Rate\":\"25.1%\",\"CurrentWarns\":\"0\"},\"Charlton County\":{\"MarchEmployed\":\"4.61K\",\"CumClaims\":\"883\",\"Employed\":\"3.73K\",\"Unemployed\":\"1.1K\",\"PctChngEmployed\":\"-19.1%\",\"LaborForce\":\"4.83K\",\"Rate\":\"22.7%\",\"CurrentWarns\":\"0\"},\"Montgomery County\":{\"MarchEmployed\":\"3.63K\",\"CumClaims\":\"1.19K\",\"Employed\":\"2.44K\",\"Unemployed\":\"1.4K\",\"PctChngEmployed\":\"-32.8%\",\"LaborForce\":\"3.84K\",\"Rate\":\"36.5%\",\"CurrentWarns\":\"0\"},\"Macon County\":{\"MarchEmployed\":\"4.5K\",\"CumClaims\":\"1.35K\",\"Employed\":\"3.14K\",\"Unemployed\":\"1.63K\",\"PctChngEmployed\":\"-30.1%\",\"LaborForce\":\"4.77K\",\"Rate\":\"34.2%\",\"CurrentWarns\":\"0\"},\"Dooly County\":{\"MarchEmployed\":\"4.87K\",\"CumClaims\":\"910\",\"Employed\":\"3.96K\",\"Unemployed\":\"1.14K\",\"PctChngEmployed\":\"-18.7%\",\"LaborForce\":\"5.1K\",\"Rate\":\"22.4%\",\"CurrentWarns\":\"0\"},\"Bleckley County\":{\"MarchEmployed\":\"4.28K\",\"CumClaims\":\"972\",\"Employed\":\"3.3K\",\"Unemployed\":\"1.26K\",\"PctChngEmployed\":\"-22.7%\",\"LaborForce\":\"4.56K\",\"Rate\":\"27.6%\",\"CurrentWarns\":\"0\"},\"Hancock County\":{\"MarchEmployed\":\"2.35K\",\"CumClaims\":\"794\",\"Employed\":\"1.55K\",\"Unemployed\":\"980\",\"PctChngEmployed\":\"-33.8%\",\"LaborForce\":\"2.53K\",\"Rate\":\"38.7%\",\"CurrentWarns\":\"0\"},\"Early County\":{\"MarchEmployed\":\"4.28K\",\"CumClaims\":\"711\",\"Employed\":\"3.57K\",\"Unemployed\":\"940\",\"PctChngEmployed\":\"-16.6%\",\"LaborForce\":\"4.51K\",\"Rate\":\"20.9%\",\"CurrentWarns\":\"0\"},\"Chattahoochee County\":{\"MarchEmployed\":\"1.9K\",\"CumClaims\":\"786\",\"Employed\":\"1.11K\",\"Unemployed\":\"904\",\"PctChngEmployed\":\"-41.5%\",\"LaborForce\":\"2.01K\",\"Rate\":\"44.9%\",\"CurrentWarns\":\"1\"},\"Turner County\":{\"MarchEmployed\":\"3.02K\",\"CumClaims\":\"921\",\"Employed\":\"2.1K\",\"Unemployed\":\"1.1K\",\"PctChngEmployed\":\"-30.5%\",\"LaborForce\":\"3.21K\",\"Rate\":\"34.5%\",\"CurrentWarns\":\"0\"},\"Wilkinson County\":{\"MarchEmployed\":\"3.86K\",\"CumClaims\":\"804\",\"Employed\":\"3.06K\",\"Unemployed\":\"988\",\"PctChngEmployed\":\"-20.8%\",\"LaborForce\":\"4.04K\",\"Rate\":\"24.4%\",\"CurrentWarns\":\"0\"},\"Miller County\":{\"MarchEmployed\":\"2.68K\",\"CumClaims\":\"429\",\"Employed\":\"2.25K\",\"Unemployed\":\"553\",\"PctChngEmployed\":\"-16.0%\",\"LaborForce\":\"2.8K\",\"Rate\":\"19.7%\",\"CurrentWarns\":\"0\"},\"Terrell County\":{\"MarchEmployed\":\"3.33K\",\"CumClaims\":\"800\",\"Employed\":\"2.53K\",\"Unemployed\":\"980\",\"PctChngEmployed\":\"-24.0%\",\"LaborForce\":\"3.51K\",\"Rate\":\"27.9%\",\"CurrentWarns\":\"0\"},\"Warren County\":{\"MarchEmployed\":\"2.76K\",\"CumClaims\":\"659\",\"Employed\":\"2.1K\",\"Unemployed\":\"805\",\"PctChngEmployed\":\"-23.9%\",\"LaborForce\":\"2.9K\",\"Rate\":\"27.7%\",\"CurrentWarns\":\"0\"},\"Wilkes County\":{\"MarchEmployed\":\"3.62K\",\"CumClaims\":\"703\",\"Employed\":\"2.92K\",\"Unemployed\":\"953\",\"PctChngEmployed\":\"-19.4%\",\"LaborForce\":\"3.88K\",\"Rate\":\"24.6%\",\"CurrentWarns\":\"0\"},\"Lincoln County\":{\"MarchEmployed\":\"3.44K\",\"CumClaims\":\"765\",\"Employed\":\"2.68K\",\"Unemployed\":\"949\",\"PctChngEmployed\":\"-22.2%\",\"LaborForce\":\"3.63K\",\"Rate\":\"26.2%\",\"CurrentWarns\":\"0\"},\"Jenkins County\":{\"MarchEmployed\":\"2.94K\",\"CumClaims\":\"701\",\"Employed\":\"2.24K\",\"Unemployed\":\"907\",\"PctChngEmployed\":\"-23.8%\",\"LaborForce\":\"3.15K\",\"Rate\":\"28.8%\",\"CurrentWarns\":\"0\"},\"Twiggs County\":{\"MarchEmployed\":\"2.73K\",\"CumClaims\":\"613\",\"Employed\":\"2.12K\",\"Unemployed\":\"813\",\"PctChngEmployed\":\"-22.5%\",\"LaborForce\":\"2.93K\",\"Rate\":\"27.8%\",\"CurrentWarns\":\"0\"},\"Telfair County\":{\"MarchEmployed\":\"3.73K\",\"CumClaims\":\"683\",\"Employed\":\"3.05K\",\"Unemployed\":\"1.14K\",\"PctChngEmployed\":\"-18.3%\",\"LaborForce\":\"4.18K\",\"Rate\":\"27.1%\",\"CurrentWarns\":\"1\"},\"Irwin County\":{\"MarchEmployed\":\"3.23K\",\"CumClaims\":\"672\",\"Employed\":\"2.56K\",\"Unemployed\":\"874\",\"PctChngEmployed\":\"-20.8%\",\"LaborForce\":\"3.43K\",\"Rate\":\"25.5%\",\"CurrentWarns\":\"0\"},\"Marion County\":{\"MarchEmployed\":\"3.13K\",\"CumClaims\":\"653\",\"Employed\":\"2.48K\",\"Unemployed\":\"835\",\"PctChngEmployed\":\"-20.8%\",\"LaborForce\":\"3.31K\",\"Rate\":\"25.2%\",\"CurrentWarns\":\"0\"},\"Talbot County\":{\"MarchEmployed\":\"2.66K\",\"CumClaims\":\"579\",\"Employed\":\"2.08K\",\"Unemployed\":\"717\",\"PctChngEmployed\":\"-21.8%\",\"LaborForce\":\"2.8K\",\"Rate\":\"25.6%\",\"CurrentWarns\":\"0\"},\"Clay County\":{\"MarchEmployed\":\"828\",\"CumClaims\":\"673\",\"Employed\":\"155\",\"Unemployed\":\"742\",\"PctChngEmployed\":\"-81.3%\",\"LaborForce\":\"897\",\"Rate\":\"82.7%\",\"CurrentWarns\":\"1\"},\"Lanier County\":{\"MarchEmployed\":\"3.57K\",\"CumClaims\":\"665\",\"Employed\":\"2.9K\",\"Unemployed\":\"847\",\"PctChngEmployed\":\"-18.6%\",\"LaborForce\":\"3.75K\",\"Rate\":\"22.6%\",\"CurrentWarns\":\"0\"},\"Randolph County\":{\"MarchEmployed\":\"2.44K\",\"CumClaims\":\"1.12K\",\"Employed\":\"1.32K\",\"Unemployed\":\"1.27K\",\"PctChngEmployed\":\"-46.0%\",\"LaborForce\":\"2.59K\",\"Rate\":\"49.0%\",\"CurrentWarns\":\"0\"},\"Seminole County\":{\"MarchEmployed\":\"2.92K\",\"CumClaims\":\"619\",\"Employed\":\"2.3K\",\"Unemployed\":\"788\",\"PctChngEmployed\":\"-21.2%\",\"LaborForce\":\"3.08K\",\"Rate\":\"25.6%\",\"CurrentWarns\":\"0\"},\"Taylor County\":{\"MarchEmployed\":\"3.14K\",\"CumClaims\":\"707\",\"Employed\":\"2.43K\",\"Unemployed\":\"842\",\"PctChngEmployed\":\"-22.6%\",\"LaborForce\":\"3.27K\",\"Rate\":\"25.7%\",\"CurrentWarns\":\"0\"},\"Johnson County\":{\"MarchEmployed\":\"3.84K\",\"CumClaims\":\"638\",\"Employed\":\"3.2K\",\"Unemployed\":\"831\",\"PctChngEmployed\":\"-16.6%\",\"LaborForce\":\"4.03K\",\"Rate\":\"20.6%\",\"CurrentWarns\":\"0\"},\"Pulaski County\":{\"MarchEmployed\":\"3.91K\",\"CumClaims\":\"728\",\"Employed\":\"3.18K\",\"Unemployed\":\"917\",\"PctChngEmployed\":\"-18.6%\",\"LaborForce\":\"4.1K\",\"Rate\":\"22.4%\",\"CurrentWarns\":\"0\"},\"Wilcox County\":{\"MarchEmployed\":\"2.59K\",\"CumClaims\":\"411\",\"Employed\":\"2.18K\",\"Unemployed\":\"573\",\"PctChngEmployed\":\"-15.9%\",\"LaborForce\":\"2.75K\",\"Rate\":\"20.8%\",\"CurrentWarns\":\"0\"},\"Echols County\":{\"MarchEmployed\":\"1.88K\",\"CumClaims\":\"386\",\"Employed\":\"1.49K\",\"Unemployed\":\"461\",\"PctChngEmployed\":\"-20.5%\",\"LaborForce\":\"1.96K\",\"Rate\":\"23.6%\",\"CurrentWarns\":\"0\"},\"Treutlen County\":{\"MarchEmployed\":\"2.49K\",\"CumClaims\":\"538\",\"Employed\":\"1.96K\",\"Unemployed\":\"704\",\"PctChngEmployed\":\"-21.6%\",\"LaborForce\":\"2.66K\",\"Rate\":\"26.5%\",\"CurrentWarns\":\"0\"},\"Glascock County\":{\"MarchEmployed\":\"1.23K\",\"CumClaims\":\"325\",\"Employed\":\"906\",\"Unemployed\":\"389\",\"PctChngEmployed\":\"-26.4%\",\"LaborForce\":\"1.3K\",\"Rate\":\"30.0%\",\"CurrentWarns\":\"0\"},\"Wheeler County\":{\"MarchEmployed\":\"1.5K\",\"CumClaims\":\"328\",\"Employed\":\"1.18K\",\"Unemployed\":\"477\",\"PctChngEmployed\":\"-21.8%\",\"LaborForce\":\"1.65K\",\"Rate\":\"28.9%\",\"CurrentWarns\":\"0\"},\"Baker County\":{\"MarchEmployed\":\"1.13K\",\"CumClaims\":\"388\",\"Employed\":\"745\",\"Unemployed\":\"452\",\"PctChngEmployed\":\"-34.2%\",\"LaborForce\":\"1.2K\",\"Rate\":\"37.8%\",\"CurrentWarns\":\"0\"},\"Schley County\":{\"MarchEmployed\":\"2.13K\",\"CumClaims\":\"262\",\"Employed\":\"1.87K\",\"Unemployed\":\"360\",\"PctChngEmployed\":\"-12.3%\",\"LaborForce\":\"2.23K\",\"Rate\":\"16.1%\",\"CurrentWarns\":\"0\"},\"Stewart County\":{\"MarchEmployed\":\"2.32K\",\"CumClaims\":\"308\",\"Employed\":\"2.01K\",\"Unemployed\":\"432\",\"PctChngEmployed\":\"-13.3%\",\"LaborForce\":\"2.45K\",\"Rate\":\"17.7%\",\"CurrentWarns\":\"0\"},\"Webster County\":{\"MarchEmployed\":\"973\",\"CumClaims\":\"119\",\"Employed\":\"854\",\"Unemployed\":\"183\",\"PctChngEmployed\":\"-12.2%\",\"LaborForce\":\"1.04K\",\"Rate\":\"17.6%\",\"CurrentWarns\":\"0\"},\"Taliaferro County\":{\"MarchEmployed\":\"532\",\"CumClaims\":\"150\",\"Employed\":\"382\",\"Unemployed\":\"188\",\"PctChngEmployed\":\"-28.2%\",\"LaborForce\":\"570\",\"Rate\":\"33.0%\",\"CurrentWarns\":\"0\"},\"Quitman County\":{\"MarchEmployed\":\"752\",\"CumClaims\":\"60\",\"Employed\":\"692\",\"Unemployed\":\"109\",\"PctChngEmployed\":\"-8.0%\",\"LaborForce\":\"801\",\"Rate\":\"13.6%\",\"CurrentWarns\":\"0\"},\"Eufaula, AL-GA\":{\"MarchEmployed\":\"752\",\"CumClaims\":\"60\",\"Employed\":\"692\",\"Unemployed\":\"109\",\"PctChngEmployed\":\"-8.0%\",\"LaborForce\":\"801\",\"Rate\":\"13.6%\",\"CurrentWarns\":\"0\"}}'"
      ]
     },
     "execution_count": 64,
     "metadata": {},
     "output_type": "execute_result"
    }
   ],
   "source": [
    "# write files\n",
    "# this is the county polygon file for fill layers in mapbox\n",
    "countyShapes.to_file(\"../application/app-data/mapbox/countyShapes.geojson\", driver='GeoJSON')\n",
    "# this is the county point file for circle layers in mapbox\n",
    "countyPoints.to_file(\"../application/app-data/mapbox/countyPoints.geojson\", driver='GeoJSON')\n",
    "# this is for the github file to draw the d3 charts\n",
    "data.to_csv('../application/app-data/uiClaims.csv', index=False)\n",
    "industryClaims.to_csv('../application/app-data/industryClaims.csv', index=False)\n",
    "# this is for the warn logs by city for a point layer within the application\n",
    "appWarns.to_csv('../application/app-data/warns.csv', index=False)\n",
    "warns.to_excel('../application/app-data/warnsClean.xlsx', index=False)\n",
    "# this is for the json object to use as dynamically generated KPIs\n",
    "dataK.to_json(orient='index')"
   ]
  },
  {
   "cell_type": "code",
   "execution_count": null,
   "metadata": {},
   "outputs": [],
   "source": []
  },
  {
   "cell_type": "code",
   "execution_count": null,
   "metadata": {},
   "outputs": [],
   "source": []
  },
  {
   "cell_type": "code",
   "execution_count": null,
   "metadata": {},
   "outputs": [],
   "source": []
  }
 ],
 "metadata": {
  "kernelspec": {
   "display_name": "Python 3",
   "language": "python",
   "name": "python3"
  },
  "language_info": {
   "codemirror_mode": {
    "name": "ipython",
    "version": 3
   },
   "file_extension": ".py",
   "mimetype": "text/x-python",
   "name": "python",
   "nbconvert_exporter": "python",
   "pygments_lexer": "ipython3",
   "version": "3.7.6"
  }
 },
 "nbformat": 4,
 "nbformat_minor": 4
}
