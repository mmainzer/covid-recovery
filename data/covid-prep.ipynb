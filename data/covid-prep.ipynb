{
 "cells": [
  {
   "cell_type": "code",
   "execution_count": 98,
   "metadata": {},
   "outputs": [],
   "source": [
    "import pandas as pd\n",
    "pd.set_option('display.max_columns', None)\n",
    "\n",
    "import numpy as np\n",
    "\n",
    "# import geopandas as gpd\n",
    "# import fiona\n",
    "\n",
    "import matplotlib.pyplot as plt\n",
    "import seaborn as sns"
   ]
  },
  {
   "cell_type": "code",
   "execution_count": 99,
   "metadata": {},
   "outputs": [
    {
     "data": {
      "text/plain": [
       "'/Users/michaelmainzer/OneDrive - Southern Company/projects/covid-recovery/data'"
      ]
     },
     "execution_count": 99,
     "metadata": {},
     "output_type": "execute_result"
    }
   ],
   "source": [
    "pwd"
   ]
  },
  {
   "cell_type": "code",
   "execution_count": 100,
   "metadata": {},
   "outputs": [],
   "source": [
    "# all codes need to be brought in as strings\n",
    "msa  =  pd.read_excel('../../data/geographies/cbsa.xlsx',\n",
    "                      sheet_name='cbsa',\n",
    "                      usecols=\"A,D,M\",\n",
    "                      converters={'fips':str,'CBSA Code':str})\n",
    "rc = pd.read_excel('../../data/geographies/regional-commissions.xlsx',\n",
    "                   sheet_name='county-rc',\n",
    "                   usecols=\"A,C,D\",\n",
    "                   converters={\"fips\":str})"
   ]
  },
  {
   "cell_type": "code",
   "execution_count": 101,
   "metadata": {},
   "outputs": [],
   "source": [
    "msa.sort_values('fips', ascending='False', inplace=True)\n",
    "rc.sort_values('fips', ascending='False', inplace=True)"
   ]
  },
  {
   "cell_type": "code",
   "execution_count": 102,
   "metadata": {},
   "outputs": [],
   "source": [
    "# covid = pd.read_excel('covid.xlsx')\n",
    "covid = pd.read_csv('https://raw.githubusercontent.com/nytimes/covid-19-data/master/us-counties.csv')\n",
    "covid = covid.loc[covid['state'] == 'Georgia']\n",
    "\n",
    "# the covid data is reported as a cumulative sum\n",
    "# we want the daily counts as well for different charting options\n",
    "covid.date = pd.to_datetime(covid.date)\n",
    "covid.sort_values(['county', 'date'], ascending=[True, True], inplace=True)\n",
    "\n",
    "covid['fips'] = covid['fips'].fillna(13)\n",
    "\n",
    "covid['fips'] = covid['fips'].astype(int)\n",
    "covid['fips'] = covid['fips'].astype(str)\n",
    "\n",
    "covid.reset_index(inplace=True, drop=True)"
   ]
  },
  {
   "cell_type": "code",
   "execution_count": 103,
   "metadata": {},
   "outputs": [],
   "source": [
    "covid.sort_values('fips', inplace=True)"
   ]
  },
  {
   "cell_type": "code",
   "execution_count": 104,
   "metadata": {},
   "outputs": [],
   "source": [
    "covid['county'] = covid['county'].replace({'Unknown':'Georgia'})"
   ]
  },
  {
   "cell_type": "code",
   "execution_count": 105,
   "metadata": {},
   "outputs": [],
   "source": [
    "covid.sort_values(['county', 'date'], ascending=[True, True], inplace=True)\n",
    "\n",
    "covid['daily_cases'] = np.where(covid.fips == covid.fips.shift(), covid.cases - covid.cases.shift(), np.nan)\n",
    "\n",
    "covid['daily_cases'].fillna(covid['cases'], inplace=True)\n",
    "\n",
    "covid['daily_deaths'] = np.where(covid.fips == covid.fips.shift(), covid.deaths - covid.deaths.shift(), np.nan)\n",
    "covid['daily_deaths'].fillna(covid['deaths'], inplace=True)"
   ]
  },
  {
   "cell_type": "code",
   "execution_count": 106,
   "metadata": {},
   "outputs": [],
   "source": [
    "# create three separate frames - one for the counties and state like currently\n",
    "    # another for msas\n",
    "    # and another for rcs\n",
    "    # then concat all three for a single csv\n",
    "\n",
    "covidCounty = covid.copy()"
   ]
  },
  {
   "cell_type": "code",
   "execution_count": 107,
   "metadata": {},
   "outputs": [],
   "source": [
    "covidMsa = pd.merge(covidCounty,msa, how='left', on='fips')"
   ]
  },
  {
   "cell_type": "code",
   "execution_count": 108,
   "metadata": {},
   "outputs": [],
   "source": [
    "covidMsa.dropna(subset=['CBSA Code'], inplace=True)"
   ]
  },
  {
   "cell_type": "code",
   "execution_count": 109,
   "metadata": {},
   "outputs": [],
   "source": [
    "covidMsa = covidMsa.groupby(['date','CBSA Title','CBSA Code']).agg({'cases'       :'sum',\n",
    "                                                                    'deaths'      :'sum',\n",
    "                                                                    'daily_cases' :'sum',\n",
    "                                                                    'daily_deaths':'sum'}).reset_index()"
   ]
  },
  {
   "cell_type": "code",
   "execution_count": 110,
   "metadata": {},
   "outputs": [],
   "source": [
    "covidRc = pd.merge(covidCounty,rc, how='left', on='fips')"
   ]
  },
  {
   "cell_type": "code",
   "execution_count": 111,
   "metadata": {},
   "outputs": [],
   "source": [
    "covidRc = covidRc.groupby(['date','Regional Commission','RC_ID']).agg({'cases'       :'sum',\n",
    "                                                                       'deaths'      :'sum',\n",
    "                                                                       'daily_cases' :'sum',\n",
    "                                                                       'daily_deaths':'sum'}).reset_index()"
   ]
  },
  {
   "cell_type": "code",
   "execution_count": 112,
   "metadata": {},
   "outputs": [],
   "source": [
    "# match the column names and order of all frames\n",
    "\n",
    "# final has to be the following\n",
    "# date,area_code (state fips, county fips, cbsa, lwfda_no),area_name,cases,\n",
    "# deaths,daily_cases,daily_deaths,rolling_7_case_avg,rolling_7_death_avg\n",
    "\n",
    "covidRc.rename(columns={'Regional Commission' : 'area_name',\n",
    "                        'RC_ID'               : 'area_code'}, inplace=True)\n",
    "\n",
    "covidMsa.rename(columns={'CBSA Title' : 'area_name',\n",
    "                         'CBSA Code'  : 'area_code'}, inplace=True)\n",
    "\n",
    "covidCounty.rename(columns={'county'     : 'area_name',\n",
    "                            'fips'  : 'area_code'}, inplace=True)\n",
    "\n",
    "covidCounty = covidCounty[['date','area_name','area_code','cases','deaths','daily_cases','daily_deaths']]"
   ]
  },
  {
   "cell_type": "code",
   "execution_count": 113,
   "metadata": {},
   "outputs": [],
   "source": [
    "covidState = covidCounty.loc[covidCounty['area_name'] == 'Georgia']\n",
    "covidCounty = covidCounty.loc[covidCounty['area_name'] != 'Georgia']"
   ]
  },
  {
   "cell_type": "code",
   "execution_count": 117,
   "metadata": {},
   "outputs": [],
   "source": [
    "df = covidState.append([covidRc, covidMsa, covidCounty])"
   ]
  },
  {
   "cell_type": "code",
   "execution_count": 119,
   "metadata": {},
   "outputs": [],
   "source": [
    "df.reset_index(inplace=True)"
   ]
  },
  {
   "cell_type": "code",
   "execution_count": 121,
   "metadata": {},
   "outputs": [],
   "source": [
    "del df['index']"
   ]
  },
  {
   "cell_type": "code",
   "execution_count": 123,
   "metadata": {},
   "outputs": [],
   "source": [
    "df.to_csv('../application/app-data/covid.csv',index=False)"
   ]
  },
  {
   "cell_type": "code",
   "execution_count": null,
   "metadata": {},
   "outputs": [],
   "source": [
    "# add 7 day running average\n",
    "# add total new cases last two weeks\n",
    "# add total new cases per 1000\n",
    "# add daily growth rate over last 14 days\n",
    "# new cases over the last 7 days\n",
    "# new cases over the previous 7-day period\n",
    "# total change current week to previous week\n",
    "# week to week change per 100k"
   ]
  },
  {
   "cell_type": "code",
   "execution_count": null,
   "metadata": {},
   "outputs": [],
   "source": []
  },
  {
   "cell_type": "code",
   "execution_count": null,
   "metadata": {},
   "outputs": [],
   "source": []
  },
  {
   "cell_type": "code",
   "execution_count": null,
   "metadata": {},
   "outputs": [],
   "source": []
  },
  {
   "cell_type": "code",
   "execution_count": 9,
   "metadata": {},
   "outputs": [
    {
     "data": {
      "text/html": [
       "<div>\n",
       "<style scoped>\n",
       "    .dataframe tbody tr th:only-of-type {\n",
       "        vertical-align: middle;\n",
       "    }\n",
       "\n",
       "    .dataframe tbody tr th {\n",
       "        vertical-align: top;\n",
       "    }\n",
       "\n",
       "    .dataframe thead th {\n",
       "        text-align: right;\n",
       "    }\n",
       "</style>\n",
       "<table border=\"1\" class=\"dataframe\">\n",
       "  <thead>\n",
       "    <tr style=\"text-align: right;\">\n",
       "      <th></th>\n",
       "      <th>date</th>\n",
       "      <th>county</th>\n",
       "      <th>state</th>\n",
       "      <th>fips</th>\n",
       "      <th>cases</th>\n",
       "      <th>deaths</th>\n",
       "      <th>daily_cases</th>\n",
       "      <th>daily_deaths</th>\n",
       "    </tr>\n",
       "  </thead>\n",
       "  <tbody>\n",
       "    <tr>\n",
       "      <th>0</th>\n",
       "      <td>2020-03-30</td>\n",
       "      <td>Appling</td>\n",
       "      <td>Georgia</td>\n",
       "      <td>13001</td>\n",
       "      <td>2</td>\n",
       "      <td>0</td>\n",
       "      <td>2.0</td>\n",
       "      <td>0.0</td>\n",
       "    </tr>\n",
       "    <tr>\n",
       "      <th>1</th>\n",
       "      <td>2020-03-31</td>\n",
       "      <td>Appling</td>\n",
       "      <td>Georgia</td>\n",
       "      <td>13001</td>\n",
       "      <td>1</td>\n",
       "      <td>0</td>\n",
       "      <td>-1.0</td>\n",
       "      <td>0.0</td>\n",
       "    </tr>\n",
       "    <tr>\n",
       "      <th>2</th>\n",
       "      <td>2020-04-01</td>\n",
       "      <td>Appling</td>\n",
       "      <td>Georgia</td>\n",
       "      <td>13001</td>\n",
       "      <td>1</td>\n",
       "      <td>0</td>\n",
       "      <td>0.0</td>\n",
       "      <td>0.0</td>\n",
       "    </tr>\n",
       "    <tr>\n",
       "      <th>3</th>\n",
       "      <td>2020-04-02</td>\n",
       "      <td>Appling</td>\n",
       "      <td>Georgia</td>\n",
       "      <td>13001</td>\n",
       "      <td>3</td>\n",
       "      <td>0</td>\n",
       "      <td>2.0</td>\n",
       "      <td>0.0</td>\n",
       "    </tr>\n",
       "    <tr>\n",
       "      <th>4</th>\n",
       "      <td>2020-04-03</td>\n",
       "      <td>Appling</td>\n",
       "      <td>Georgia</td>\n",
       "      <td>13001</td>\n",
       "      <td>5</td>\n",
       "      <td>0</td>\n",
       "      <td>2.0</td>\n",
       "      <td>0.0</td>\n",
       "    </tr>\n",
       "  </tbody>\n",
       "</table>\n",
       "</div>"
      ],
      "text/plain": [
       "        date   county    state   fips  cases  deaths  daily_cases  \\\n",
       "0 2020-03-30  Appling  Georgia  13001      2       0          2.0   \n",
       "1 2020-03-31  Appling  Georgia  13001      1       0         -1.0   \n",
       "2 2020-04-01  Appling  Georgia  13001      1       0          0.0   \n",
       "3 2020-04-02  Appling  Georgia  13001      3       0          2.0   \n",
       "4 2020-04-03  Appling  Georgia  13001      5       0          2.0   \n",
       "\n",
       "   daily_deaths  \n",
       "0           0.0  \n",
       "1           0.0  \n",
       "2           0.0  \n",
       "3           0.0  \n",
       "4           0.0  "
      ]
     },
     "execution_count": 9,
     "metadata": {},
     "output_type": "execute_result"
    }
   ],
   "source": [
    "covid.head()"
   ]
  },
  {
   "cell_type": "code",
   "execution_count": null,
   "metadata": {},
   "outputs": [],
   "source": [
    "\n"
   ]
  }
 ],
 "metadata": {
  "kernelspec": {
   "display_name": "Python 3",
   "language": "python",
   "name": "python3"
  },
  "language_info": {
   "codemirror_mode": {
    "name": "ipython",
    "version": 3
   },
   "file_extension": ".py",
   "mimetype": "text/x-python",
   "name": "python",
   "nbconvert_exporter": "python",
   "pygments_lexer": "ipython3",
   "version": "3.6.8"
  }
 },
 "nbformat": 4,
 "nbformat_minor": 2
}
