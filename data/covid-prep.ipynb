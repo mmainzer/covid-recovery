{
 "cells": [
  {
   "cell_type": "code",
   "execution_count": 1,
   "metadata": {},
   "outputs": [],
   "source": [
    "import pandas as pd\n",
    "pd.set_option('display.max_columns', None)\n",
    "\n",
    "import numpy as np\n",
    "\n",
    "# import geopandas as gpd\n",
    "# import fiona\n",
    "\n",
    "import matplotlib.pyplot as plt\n",
    "import seaborn as sns"
   ]
  },
  {
   "cell_type": "code",
   "execution_count": 2,
   "metadata": {},
   "outputs": [
    {
     "data": {
      "text/plain": [
       "'/Users/michaelmainzer/Desktop/projects/covid-recovery/data'"
      ]
     },
     "execution_count": 2,
     "metadata": {},
     "output_type": "execute_result"
    }
   ],
   "source": [
    "pwd"
   ]
  },
  {
   "cell_type": "code",
   "execution_count": 3,
   "metadata": {},
   "outputs": [],
   "source": [
    "# all codes need to be brought in as strings\n",
    "msa  =  pd.read_excel('../../data/geographies/cbsa.xlsx',\n",
    "                      sheet_name='cbsa',\n",
    "                      usecols=\"A,D,M\",\n",
    "                      converters={'area_code':str,'CBSA Code':str})\n",
    "rc = pd.read_excel('../../data/geographies/regional-commissions.xlsx',\n",
    "                   sheet_name='county-rc',\n",
    "                   usecols=\"A,C,D\",\n",
    "                   converters={\"area_code\":str})"
   ]
  },
  {
   "cell_type": "code",
   "execution_count": 4,
   "metadata": {},
   "outputs": [],
   "source": [
    "msa.sort_values('area_code', ascending='False', inplace=True)\n",
    "rc.sort_values('area_code', ascending='False', inplace=True)"
   ]
  },
  {
   "cell_type": "code",
   "execution_count": 5,
   "metadata": {},
   "outputs": [],
   "source": [
    "# get clean covid data\n",
    "covid = pd.read_csv('../application/app-data/covid-clean.csv')\n",
    "covid = covid[['date','area_name','area_code','cases','deaths']]\n",
    "\n",
    "covid.date = pd.to_datetime(covid.date)\n",
    "\n",
    "covid['area_code'] = covid['area_code'].astype(int)\n",
    "covid['area_code'] = covid['area_code'].astype(str)"
   ]
  },
  {
   "cell_type": "code",
   "execution_count": null,
   "metadata": {},
   "outputs": [],
   "source": [
    "# get new data from nyt\n",
    "covidCounty = pd.read_csv('https://raw.githubusercontent.com/nytimes/covid-19-data/master/us-counties.csv')\n",
    "covidCounty = covidCounty.loc[covidCounty['state'] == 'Georgia']\n",
    "\n",
    "covidCounty = covidCounty[['date','county','fips','cases','deaths']]\n",
    "\n",
    "# get state level data\n",
    "covidState = pd.read_csv('https://raw.githubusercontent.com/nytimes/covid-19-data/master/us-states.csv')\n",
    "covidState = covidState.loc[covidState['state'] == 'Georgia']\n",
    "\n",
    "covidCounty.rename(columns={'county' : 'area_name',\n",
    "                      'fips'   : 'area_code'}, inplace=True)\n",
    "\n",
    "covidState.rename(columns={'state' : 'area_name',\n",
    "                           'fips'  : 'area_code'}, inplace=True)\n",
    "\n",
    "covid = covidState.append(covidCounty)\n",
    "\n",
    "# the covid data is reported as a cumulative sum\n",
    "# we want the daily counts as well for different charting options\n",
    "covid.date = pd.to_datetime(covid.date)\n",
    "covid.sort_values(['area_name', 'date'], ascending=[True, True], inplace=True)\n",
    "\n",
    "\n",
    "\n",
    "covid.dropna(subset=['area_code'], inplace=True)\n",
    "\n",
    "covid['area_code'] = covid['area_code'].astype(int)\n",
    "covid['area_code'] = covid['area_code'].astype(str)\n",
    "\n",
    "covid.reset_index(inplace=True, drop=True)\n",
    "\n",
    "covid.sort_values(['area_name', 'date'], ascending=[True, True], inplace=True)\n",
    "\n",
    "# filter only CURRENT DAY'S DATA\n",
    "# append to cleaned sheet"
   ]
  },
  {
   "cell_type": "code",
   "execution_count": null,
   "metadata": {},
   "outputs": [],
   "source": []
  },
  {
   "cell_type": "code",
   "execution_count": 6,
   "metadata": {},
   "outputs": [],
   "source": [
    "\n",
    "covid['daily_cases'] = np.where(covid['area_code'] == covid['area_code'].shift(), covid.cases - covid.cases.shift(), np.nan)\n",
    "\n",
    "covid['daily_cases'].fillna(covid['cases'], inplace=True)\n",
    "\n",
    "covid['daily_deaths'] = np.where(covid['area_code'] == covid['area_code'].shift(), covid.deaths - covid.deaths.shift(), np.nan)\n",
    "covid['daily_deaths'].fillna(covid['deaths'], inplace=True)"
   ]
  },
  {
   "cell_type": "code",
   "execution_count": null,
   "metadata": {},
   "outputs": [],
   "source": []
  },
  {
   "cell_type": "code",
   "execution_count": 7,
   "metadata": {},
   "outputs": [],
   "source": [
    "covidMsa = pd.merge(covid,msa, how='left', on='area_code')"
   ]
  },
  {
   "cell_type": "code",
   "execution_count": 8,
   "metadata": {},
   "outputs": [],
   "source": [
    "covidMsa.dropna(subset=['CBSA Code'], inplace=True)"
   ]
  },
  {
   "cell_type": "code",
   "execution_count": 9,
   "metadata": {},
   "outputs": [],
   "source": [
    "covidMsa = covidMsa.groupby(['date','CBSA Title','CBSA Code']).agg({'cases'       :'sum',\n",
    "                                                                    'deaths'      :'sum',\n",
    "                                                                    'daily_cases' :'sum',\n",
    "                                                                    'daily_deaths':'sum'}).reset_index()"
   ]
  },
  {
   "cell_type": "code",
   "execution_count": 10,
   "metadata": {},
   "outputs": [],
   "source": [
    "covidRc = pd.merge(covid,rc, how='left', on='area_code')"
   ]
  },
  {
   "cell_type": "code",
   "execution_count": 11,
   "metadata": {},
   "outputs": [],
   "source": [
    "covidRc = covidRc.groupby(['date','Regional Commission','RC_ID']).agg({'cases'       :'sum',\n",
    "                                                                       'deaths'      :'sum',\n",
    "                                                                       'daily_cases' :'sum',\n",
    "                                                                       'daily_deaths':'sum'}).reset_index()"
   ]
  },
  {
   "cell_type": "code",
   "execution_count": 12,
   "metadata": {},
   "outputs": [],
   "source": [
    "# match the column names and order of all frames\n",
    "\n",
    "# final has to be the following\n",
    "# date,area_code (state fips, county fips, cbsa, lwfda_no),area_name,cases,\n",
    "# deaths,daily_cases,daily_deaths,rolling_7_case_avg,rolling_7_death_avg\n",
    "\n",
    "covidRc.rename(columns={'Regional Commission' : 'area_name',\n",
    "                        'RC_ID'               : 'area_code'}, inplace=True)\n",
    "\n",
    "covidMsa.rename(columns={'CBSA Title' : 'area_name',\n",
    "                         'CBSA Code'  : 'area_code'}, inplace=True)"
   ]
  },
  {
   "cell_type": "code",
   "execution_count": 25,
   "metadata": {},
   "outputs": [],
   "source": [
    "covidRc.sort_values(['area_code','date'], ascending=['False','False'], inplace=True)\n",
    "covidMsa.sort_values(['area_code','date'], ascending=['False','False'], inplace=True)\n",
    "covid.sort_values(['area_code','date'], ascending=['False','False'], inplace=True)"
   ]
  },
  {
   "cell_type": "code",
   "execution_count": 26,
   "metadata": {},
   "outputs": [],
   "source": [
    "df = covid.append([covidRc, covidMsa])"
   ]
  },
  {
   "cell_type": "code",
   "execution_count": 27,
   "metadata": {},
   "outputs": [
    {
     "data": {
      "text/html": [
       "<div>\n",
       "<style scoped>\n",
       "    .dataframe tbody tr th:only-of-type {\n",
       "        vertical-align: middle;\n",
       "    }\n",
       "\n",
       "    .dataframe tbody tr th {\n",
       "        vertical-align: top;\n",
       "    }\n",
       "\n",
       "    .dataframe thead th {\n",
       "        text-align: right;\n",
       "    }\n",
       "</style>\n",
       "<table border=\"1\" class=\"dataframe\">\n",
       "  <thead>\n",
       "    <tr style=\"text-align: right;\">\n",
       "      <th></th>\n",
       "      <th>date</th>\n",
       "      <th>area_name</th>\n",
       "      <th>area_code</th>\n",
       "      <th>cases</th>\n",
       "      <th>deaths</th>\n",
       "      <th>daily_cases</th>\n",
       "      <th>daily_deaths</th>\n",
       "    </tr>\n",
       "  </thead>\n",
       "  <tbody>\n",
       "    <tr>\n",
       "      <th>1152</th>\n",
       "      <td>2020-04-18</td>\n",
       "      <td>Valdosta, GA</td>\n",
       "      <td>46660</td>\n",
       "      <td>122</td>\n",
       "      <td>9</td>\n",
       "      <td>6.0</td>\n",
       "      <td>0.0</td>\n",
       "    </tr>\n",
       "    <tr>\n",
       "      <th>1191</th>\n",
       "      <td>2020-04-19</td>\n",
       "      <td>Valdosta, GA</td>\n",
       "      <td>46660</td>\n",
       "      <td>129</td>\n",
       "      <td>9</td>\n",
       "      <td>7.0</td>\n",
       "      <td>0.0</td>\n",
       "    </tr>\n",
       "    <tr>\n",
       "      <th>1230</th>\n",
       "      <td>2020-04-20</td>\n",
       "      <td>Valdosta, GA</td>\n",
       "      <td>46660</td>\n",
       "      <td>135</td>\n",
       "      <td>10</td>\n",
       "      <td>6.0</td>\n",
       "      <td>1.0</td>\n",
       "    </tr>\n",
       "    <tr>\n",
       "      <th>1269</th>\n",
       "      <td>2020-04-21</td>\n",
       "      <td>Valdosta, GA</td>\n",
       "      <td>46660</td>\n",
       "      <td>158</td>\n",
       "      <td>10</td>\n",
       "      <td>23.0</td>\n",
       "      <td>0.0</td>\n",
       "    </tr>\n",
       "    <tr>\n",
       "      <th>1308</th>\n",
       "      <td>2020-04-22</td>\n",
       "      <td>Valdosta, GA</td>\n",
       "      <td>46660</td>\n",
       "      <td>170</td>\n",
       "      <td>11</td>\n",
       "      <td>12.0</td>\n",
       "      <td>1.0</td>\n",
       "    </tr>\n",
       "    <tr>\n",
       "      <th>...</th>\n",
       "      <td>...</td>\n",
       "      <td>...</td>\n",
       "      <td>...</td>\n",
       "      <td>...</td>\n",
       "      <td>...</td>\n",
       "      <td>...</td>\n",
       "      <td>...</td>\n",
       "    </tr>\n",
       "    <tr>\n",
       "      <th>1155</th>\n",
       "      <td>2020-04-18</td>\n",
       "      <td>Waycross, GA</td>\n",
       "      <td>48180</td>\n",
       "      <td>132</td>\n",
       "      <td>7</td>\n",
       "      <td>6.0</td>\n",
       "      <td>0.0</td>\n",
       "    </tr>\n",
       "    <tr>\n",
       "      <th>1194</th>\n",
       "      <td>2020-04-19</td>\n",
       "      <td>Waycross, GA</td>\n",
       "      <td>48180</td>\n",
       "      <td>137</td>\n",
       "      <td>8</td>\n",
       "      <td>5.0</td>\n",
       "      <td>1.0</td>\n",
       "    </tr>\n",
       "    <tr>\n",
       "      <th>1233</th>\n",
       "      <td>2020-04-20</td>\n",
       "      <td>Waycross, GA</td>\n",
       "      <td>48180</td>\n",
       "      <td>139</td>\n",
       "      <td>8</td>\n",
       "      <td>2.0</td>\n",
       "      <td>0.0</td>\n",
       "    </tr>\n",
       "    <tr>\n",
       "      <th>1272</th>\n",
       "      <td>2020-04-21</td>\n",
       "      <td>Waycross, GA</td>\n",
       "      <td>48180</td>\n",
       "      <td>144</td>\n",
       "      <td>9</td>\n",
       "      <td>5.0</td>\n",
       "      <td>1.0</td>\n",
       "    </tr>\n",
       "    <tr>\n",
       "      <th>1311</th>\n",
       "      <td>2020-04-22</td>\n",
       "      <td>Waycross, GA</td>\n",
       "      <td>48180</td>\n",
       "      <td>146</td>\n",
       "      <td>9</td>\n",
       "      <td>2.0</td>\n",
       "      <td>0.0</td>\n",
       "    </tr>\n",
       "  </tbody>\n",
       "</table>\n",
       "<p>100 rows × 7 columns</p>\n",
       "</div>"
      ],
      "text/plain": [
       "           date     area_name area_code  cases  deaths  daily_cases  \\\n",
       "1152 2020-04-18  Valdosta, GA     46660    122       9          6.0   \n",
       "1191 2020-04-19  Valdosta, GA     46660    129       9          7.0   \n",
       "1230 2020-04-20  Valdosta, GA     46660    135      10          6.0   \n",
       "1269 2020-04-21  Valdosta, GA     46660    158      10         23.0   \n",
       "1308 2020-04-22  Valdosta, GA     46660    170      11         12.0   \n",
       "...         ...           ...       ...    ...     ...          ...   \n",
       "1155 2020-04-18  Waycross, GA     48180    132       7          6.0   \n",
       "1194 2020-04-19  Waycross, GA     48180    137       8          5.0   \n",
       "1233 2020-04-20  Waycross, GA     48180    139       8          2.0   \n",
       "1272 2020-04-21  Waycross, GA     48180    144       9          5.0   \n",
       "1311 2020-04-22  Waycross, GA     48180    146       9          2.0   \n",
       "\n",
       "      daily_deaths  \n",
       "1152           0.0  \n",
       "1191           0.0  \n",
       "1230           1.0  \n",
       "1269           0.0  \n",
       "1308           1.0  \n",
       "...            ...  \n",
       "1155           0.0  \n",
       "1194           1.0  \n",
       "1233           0.0  \n",
       "1272           1.0  \n",
       "1311           0.0  \n",
       "\n",
       "[100 rows x 7 columns]"
      ]
     },
     "execution_count": 27,
     "metadata": {},
     "output_type": "execute_result"
    }
   ],
   "source": [
    "df.tail(100)"
   ]
  },
  {
   "cell_type": "code",
   "execution_count": 14,
   "metadata": {},
   "outputs": [],
   "source": [
    "df.sort_values(['area_code','date'], ascending=['False','False'], inplace=True)"
   ]
  },
  {
   "cell_type": "code",
   "execution_count": 15,
   "metadata": {},
   "outputs": [],
   "source": [
    "df.reset_index(drop=True,inplace=True)"
   ]
  },
  {
   "cell_type": "code",
   "execution_count": 19,
   "metadata": {},
   "outputs": [
    {
     "data": {
      "text/html": [
       "<div>\n",
       "<style scoped>\n",
       "    .dataframe tbody tr th:only-of-type {\n",
       "        vertical-align: middle;\n",
       "    }\n",
       "\n",
       "    .dataframe tbody tr th {\n",
       "        vertical-align: top;\n",
       "    }\n",
       "\n",
       "    .dataframe thead th {\n",
       "        text-align: right;\n",
       "    }\n",
       "</style>\n",
       "<table border=\"1\" class=\"dataframe\">\n",
       "  <thead>\n",
       "    <tr style=\"text-align: right;\">\n",
       "      <th></th>\n",
       "      <th>date</th>\n",
       "      <th>area_name</th>\n",
       "      <th>area_code</th>\n",
       "      <th>cases</th>\n",
       "      <th>deaths</th>\n",
       "      <th>daily_cases</th>\n",
       "      <th>daily_deaths</th>\n",
       "    </tr>\n",
       "  </thead>\n",
       "  <tbody>\n",
       "    <tr>\n",
       "      <th>0</th>\n",
       "      <td>2020-03-11</td>\n",
       "      <td>Albany, GA</td>\n",
       "      <td>10500</td>\n",
       "      <td>1</td>\n",
       "      <td>0</td>\n",
       "      <td>1.0</td>\n",
       "      <td>0.0</td>\n",
       "    </tr>\n",
       "    <tr>\n",
       "      <th>1</th>\n",
       "      <td>2020-03-12</td>\n",
       "      <td>Albany, GA</td>\n",
       "      <td>10500</td>\n",
       "      <td>1</td>\n",
       "      <td>0</td>\n",
       "      <td>0.0</td>\n",
       "      <td>0.0</td>\n",
       "    </tr>\n",
       "    <tr>\n",
       "      <th>2</th>\n",
       "      <td>2020-03-13</td>\n",
       "      <td>Albany, GA</td>\n",
       "      <td>10500</td>\n",
       "      <td>1</td>\n",
       "      <td>0</td>\n",
       "      <td>0.0</td>\n",
       "      <td>0.0</td>\n",
       "    </tr>\n",
       "    <tr>\n",
       "      <th>3</th>\n",
       "      <td>2020-03-14</td>\n",
       "      <td>Albany, GA</td>\n",
       "      <td>10500</td>\n",
       "      <td>1</td>\n",
       "      <td>0</td>\n",
       "      <td>0.0</td>\n",
       "      <td>0.0</td>\n",
       "    </tr>\n",
       "    <tr>\n",
       "      <th>4</th>\n",
       "      <td>2020-03-15</td>\n",
       "      <td>Albany, GA</td>\n",
       "      <td>10500</td>\n",
       "      <td>8</td>\n",
       "      <td>0</td>\n",
       "      <td>7.0</td>\n",
       "      <td>0.0</td>\n",
       "    </tr>\n",
       "  </tbody>\n",
       "</table>\n",
       "</div>"
      ],
      "text/plain": [
       "        date   area_name area_code  cases  deaths  daily_cases  daily_deaths\n",
       "0 2020-03-11  Albany, GA     10500      1       0          1.0           0.0\n",
       "1 2020-03-12  Albany, GA     10500      1       0          0.0           0.0\n",
       "2 2020-03-13  Albany, GA     10500      1       0          0.0           0.0\n",
       "3 2020-03-14  Albany, GA     10500      1       0          0.0           0.0\n",
       "4 2020-03-15  Albany, GA     10500      8       0          7.0           0.0"
      ]
     },
     "execution_count": 19,
     "metadata": {},
     "output_type": "execute_result"
    }
   ],
   "source": [
    "df.head()"
   ]
  },
  {
   "cell_type": "code",
   "execution_count": 17,
   "metadata": {},
   "outputs": [],
   "source": [
    "df.to_csv('../application/app-data/covid.csv',index=False)"
   ]
  },
  {
   "cell_type": "code",
   "execution_count": null,
   "metadata": {},
   "outputs": [],
   "source": [
    "# add 7 day running average\n",
    "# add total new cases last two weeks\n",
    "# add total new cases per 1000\n",
    "# add daily growth rate over last 14 days\n",
    "# new cases over the last 7 days\n",
    "# new cases over the previous 7-day period\n",
    "# total change current week to previous week\n",
    "# week to week change per 100k"
   ]
  },
  {
   "cell_type": "code",
   "execution_count": null,
   "metadata": {},
   "outputs": [],
   "source": []
  },
  {
   "cell_type": "code",
   "execution_count": null,
   "metadata": {},
   "outputs": [],
   "source": []
  },
  {
   "cell_type": "code",
   "execution_count": null,
   "metadata": {},
   "outputs": [],
   "source": []
  },
  {
   "cell_type": "code",
   "execution_count": null,
   "metadata": {},
   "outputs": [],
   "source": [
    "covid.head()"
   ]
  },
  {
   "cell_type": "code",
   "execution_count": null,
   "metadata": {},
   "outputs": [],
   "source": [
    "\n"
   ]
  }
 ],
 "metadata": {
  "kernelspec": {
   "display_name": "Python 3",
   "language": "python",
   "name": "python3"
  },
  "language_info": {
   "codemirror_mode": {
    "name": "ipython",
    "version": 3
   },
   "file_extension": ".py",
   "mimetype": "text/x-python",
   "name": "python",
   "nbconvert_exporter": "python",
   "pygments_lexer": "ipython3",
   "version": "3.6.8"
  }
 },
 "nbformat": 4,
 "nbformat_minor": 2
}
