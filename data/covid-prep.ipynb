{
 "cells": [
  {
   "cell_type": "code",
   "execution_count": 1,
   "metadata": {},
   "outputs": [],
   "source": [
    "import pandas as pd\n",
    "pd.set_option('display.max_columns', None)\n",
    "\n",
    "import numpy as np\n",
    "\n",
    "import geopandas as gpd\n",
    "import fiona\n",
    "\n",
    "import matplotlib.pyplot as plt\n",
    "import seaborn as sns"
   ]
  },
  {
   "cell_type": "code",
   "execution_count": 2,
   "metadata": {},
   "outputs": [
    {
     "data": {
      "text/plain": [
       "'/Users/mmainza/Desktop/projects/covid-recovery/data'"
      ]
     },
     "execution_count": 2,
     "metadata": {},
     "output_type": "execute_result"
    }
   ],
   "source": [
    "pwd"
   ]
  },
  {
   "cell_type": "code",
   "execution_count": 3,
   "metadata": {},
   "outputs": [],
   "source": [
    "# all codes need to be brought in as strings\n",
    "msa  =  pd.read_excel('../../data/geographies/cbsa.xlsx',\n",
    "                      sheet_name='cbsa',\n",
    "                      usecols=\"A,D,M\",\n",
    "                      converters={'area_code':str,'CBSA Code':str})\n",
    "rc = pd.read_excel('../../data/geographies/regional-commissions.xlsx',\n",
    "                   sheet_name='county-rc',\n",
    "                   usecols=\"A,C,D\",\n",
    "                   converters={\"area_code\":str})"
   ]
  },
  {
   "cell_type": "code",
   "execution_count": 4,
   "metadata": {},
   "outputs": [],
   "source": [
    "msa.sort_values('area_code', ascending='False', inplace=True)\n",
    "rc.sort_values('area_code', ascending='False', inplace=True)"
   ]
  },
  {
   "cell_type": "code",
   "execution_count": 5,
   "metadata": {},
   "outputs": [],
   "source": [
    "# get clean covid data\n",
    "covid = pd.read_csv('../application/app-data/covid-county-clean.csv')\n",
    "covid = covid[['date','area_name','area_code','cases','deaths']]\n",
    "\n",
    "covid.date = pd.to_datetime(covid.date)\n",
    "\n",
    "covid['area_code'] = covid['area_code'].astype(int)\n",
    "covid['area_code'] = covid['area_code'].astype(str)"
   ]
  },
  {
   "cell_type": "code",
   "execution_count": 6,
   "metadata": {},
   "outputs": [
    {
     "name": "stderr",
     "output_type": "stream",
     "text": [
      "/Users/mmainza/opt/anaconda3/lib/python3.7/site-packages/ipykernel_launcher.py:3: SettingWithCopyWarning: \n",
      "A value is trying to be set on a copy of a slice from a DataFrame\n",
      "\n",
      "See the caveats in the documentation: https://pandas.pydata.org/pandas-docs/stable/user_guide/indexing.html#returning-a-view-versus-a-copy\n",
      "  This is separate from the ipykernel package so we can avoid doing imports until\n",
      "/Users/mmainza/opt/anaconda3/lib/python3.7/site-packages/ipykernel_launcher.py:5: SettingWithCopyWarning: \n",
      "A value is trying to be set on a copy of a slice from a DataFrame\n",
      "\n",
      "See the caveats in the documentation: https://pandas.pydata.org/pandas-docs/stable/user_guide/indexing.html#returning-a-view-versus-a-copy\n",
      "  \"\"\"\n",
      "/Users/mmainza/opt/anaconda3/lib/python3.7/site-packages/pandas/core/frame.py:4133: SettingWithCopyWarning: \n",
      "A value is trying to be set on a copy of a slice from a DataFrame\n",
      "\n",
      "See the caveats in the documentation: https://pandas.pydata.org/pandas-docs/stable/user_guide/indexing.html#returning-a-view-versus-a-copy\n",
      "  errors=errors,\n",
      "/Users/mmainza/opt/anaconda3/lib/python3.7/site-packages/ipykernel_launcher.py:9: SettingWithCopyWarning: \n",
      "A value is trying to be set on a copy of a slice from a DataFrame\n",
      "\n",
      "See the caveats in the documentation: https://pandas.pydata.org/pandas-docs/stable/user_guide/indexing.html#returning-a-view-versus-a-copy\n",
      "  if __name__ == '__main__':\n"
     ]
    }
   ],
   "source": [
    "# make a single dataset with the right unique identifiers for each\n",
    "covidCodes = covid[['area_name','area_code']]\n",
    "covidCodes.drop_duplicates(inplace=True)\n",
    "msaCodes = msa[['CBSA Title','CBSA Code']]\n",
    "msaCodes.drop_duplicates(inplace=True)\n",
    "msaCodes.rename(columns={'CBSA Title' : 'area_name',\n",
    "                         'CBSA Code'  : 'area_code'}, inplace=True)\n",
    "rcCodes = rc[['Regional Commission','RC_ID']]\n",
    "rcCodes.drop_duplicates(inplace=True)\n",
    "rcCodes.rename(columns={'Regional Commission' : 'area_name',\n",
    "                        'RC_ID'               : 'area_code'}, inplace=True)\n",
    "\n",
    "codes = covidCodes.append([rcCodes, msaCodes])\n",
    "\n",
    "codes.reset_index(drop=True, inplace=True)"
   ]
  },
  {
   "cell_type": "code",
   "execution_count": 7,
   "metadata": {},
   "outputs": [],
   "source": [
    "# get new data from nyt\n",
    "covidCountyNew = pd.read_csv('https://raw.githubusercontent.com/nytimes/covid-19-data/master/us-counties.csv')\n",
    "covidCountyNew = covidCountyNew.loc[covidCountyNew['state'] == 'Georgia']\n",
    "\n",
    "covidCountyNew = covidCountyNew[['date','county','fips','cases','deaths']]\n",
    "\n",
    "# get state level data\n",
    "covidStateNew = pd.read_csv('https://raw.githubusercontent.com/nytimes/covid-19-data/master/us-states.csv')\n",
    "covidStateNew = covidStateNew.loc[covidStateNew['state'] == 'Georgia']\n",
    "\n",
    "covidCountyNew.rename(columns={'county' : 'area_name',\n",
    "                               'fips'   : 'area_code'}, inplace=True)\n",
    "\n",
    "covidStateNew.rename(columns={'state' : 'area_name',\n",
    "                              'fips'  : 'area_code'}, inplace=True)\n",
    "\n",
    "covidNew = covidStateNew.append(covidCountyNew)\n",
    "\n",
    "# the covid data is reported as a cumulative sum\n",
    "# we want the daily counts as well for different charting options\n",
    "covidNew.date = pd.to_datetime(covidNew.date)\n",
    "covidNew.sort_values(['area_name', 'date'], ascending=[True, True], inplace=True)\n",
    "\n",
    "\n",
    "\n",
    "covidNew.dropna(subset=['area_code'], inplace=True)\n",
    "\n",
    "covidNew['area_code'] = covidNew['area_code'].astype(int)\n",
    "covidNew['area_code'] = covidNew['area_code'].astype(str)\n",
    "\n",
    "covidNew.reset_index(inplace=True, drop=True)\n",
    "\n",
    "covidNew.sort_values(['area_name', 'date'], ascending=[True, True], inplace=True)\n",
    "\n",
    "# filter only dates AFTER 4/30\n",
    "covidNew = covidNew.loc[covidNew['date'] >= '2020-04-30']\n",
    "# append to cleaned sheet\n",
    "covid = covid.append(covidNew)\n",
    "covid.sort_values(['area_code','date'], inplace=True)\n",
    "covid.reset_index(drop=True,inplace=True)"
   ]
  },
  {
   "cell_type": "code",
   "execution_count": 8,
   "metadata": {},
   "outputs": [],
   "source": [
    "covid['daily_cases'] = np.where(covid['area_code'] == covid['area_code'].shift(), covid.cases - covid.cases.shift(), np.nan)\n",
    "\n",
    "covid['daily_cases'].fillna(covid['cases'], inplace=True)\n",
    "\n",
    "covid['daily_deaths'] = np.where(covid['area_code'] == covid['area_code'].shift(), covid.deaths - covid.deaths.shift(), np.nan)\n",
    "covid['daily_deaths'].fillna(covid['deaths'], inplace=True)"
   ]
  },
  {
   "cell_type": "code",
   "execution_count": 9,
   "metadata": {},
   "outputs": [
    {
     "data": {
      "text/html": [
       "<div>\n",
       "<style scoped>\n",
       "    .dataframe tbody tr th:only-of-type {\n",
       "        vertical-align: middle;\n",
       "    }\n",
       "\n",
       "    .dataframe tbody tr th {\n",
       "        vertical-align: top;\n",
       "    }\n",
       "\n",
       "    .dataframe thead th {\n",
       "        text-align: right;\n",
       "    }\n",
       "</style>\n",
       "<table border=\"1\" class=\"dataframe\">\n",
       "  <thead>\n",
       "    <tr style=\"text-align: right;\">\n",
       "      <th></th>\n",
       "      <th>date</th>\n",
       "      <th>area_name</th>\n",
       "      <th>area_code</th>\n",
       "      <th>cases</th>\n",
       "      <th>deaths</th>\n",
       "      <th>daily_cases</th>\n",
       "      <th>daily_deaths</th>\n",
       "    </tr>\n",
       "  </thead>\n",
       "  <tbody>\n",
       "    <tr>\n",
       "      <th>0</th>\n",
       "      <td>2020-03-02</td>\n",
       "      <td>Georgia</td>\n",
       "      <td>13</td>\n",
       "      <td>2</td>\n",
       "      <td>0</td>\n",
       "      <td>2.0</td>\n",
       "      <td>0.0</td>\n",
       "    </tr>\n",
       "    <tr>\n",
       "      <th>1</th>\n",
       "      <td>2020-03-03</td>\n",
       "      <td>Georgia</td>\n",
       "      <td>13</td>\n",
       "      <td>2</td>\n",
       "      <td>0</td>\n",
       "      <td>0.0</td>\n",
       "      <td>0.0</td>\n",
       "    </tr>\n",
       "    <tr>\n",
       "      <th>2</th>\n",
       "      <td>2020-03-04</td>\n",
       "      <td>Georgia</td>\n",
       "      <td>13</td>\n",
       "      <td>2</td>\n",
       "      <td>0</td>\n",
       "      <td>0.0</td>\n",
       "      <td>0.0</td>\n",
       "    </tr>\n",
       "    <tr>\n",
       "      <th>3</th>\n",
       "      <td>2020-03-05</td>\n",
       "      <td>Georgia</td>\n",
       "      <td>13</td>\n",
       "      <td>2</td>\n",
       "      <td>0</td>\n",
       "      <td>0.0</td>\n",
       "      <td>0.0</td>\n",
       "    </tr>\n",
       "    <tr>\n",
       "      <th>4</th>\n",
       "      <td>2020-03-06</td>\n",
       "      <td>Georgia</td>\n",
       "      <td>13</td>\n",
       "      <td>3</td>\n",
       "      <td>0</td>\n",
       "      <td>1.0</td>\n",
       "      <td>0.0</td>\n",
       "    </tr>\n",
       "  </tbody>\n",
       "</table>\n",
       "</div>"
      ],
      "text/plain": [
       "        date area_name area_code  cases  deaths  daily_cases  daily_deaths\n",
       "0 2020-03-02   Georgia        13      2       0          2.0           0.0\n",
       "1 2020-03-03   Georgia        13      2       0          0.0           0.0\n",
       "2 2020-03-04   Georgia        13      2       0          0.0           0.0\n",
       "3 2020-03-05   Georgia        13      2       0          0.0           0.0\n",
       "4 2020-03-06   Georgia        13      3       0          1.0           0.0"
      ]
     },
     "execution_count": 9,
     "metadata": {},
     "output_type": "execute_result"
    }
   ],
   "source": [
    "covid.head()"
   ]
  },
  {
   "cell_type": "code",
   "execution_count": 10,
   "metadata": {},
   "outputs": [],
   "source": [
    "covidMsa = pd.merge(covid,msa, how='left', on='area_code')"
   ]
  },
  {
   "cell_type": "code",
   "execution_count": 11,
   "metadata": {},
   "outputs": [],
   "source": [
    "covidMsa.dropna(subset=['CBSA Code'], inplace=True)"
   ]
  },
  {
   "cell_type": "code",
   "execution_count": 12,
   "metadata": {},
   "outputs": [],
   "source": [
    "covidMsa = covidMsa.groupby(['date','CBSA Title','CBSA Code']).agg({'cases'       :'sum',\n",
    "                                                                    'deaths'      :'sum',\n",
    "                                                                    'daily_cases' :'sum',\n",
    "                                                                    'daily_deaths':'sum'}).reset_index()"
   ]
  },
  {
   "cell_type": "code",
   "execution_count": 13,
   "metadata": {},
   "outputs": [],
   "source": [
    "covidRc = pd.merge(covid,rc, how='left', on='area_code')"
   ]
  },
  {
   "cell_type": "code",
   "execution_count": 14,
   "metadata": {},
   "outputs": [],
   "source": [
    "covidRc = covidRc.groupby(['date','Regional Commission','RC_ID']).agg({'cases'       :'sum',\n",
    "                                                                       'deaths'      :'sum',\n",
    "                                                                       'daily_cases' :'sum',\n",
    "                                                                       'daily_deaths':'sum'}).reset_index()"
   ]
  },
  {
   "cell_type": "code",
   "execution_count": 15,
   "metadata": {},
   "outputs": [],
   "source": [
    "# match the column names and order of all frames\n",
    "\n",
    "# final has to be the following\n",
    "# date,area_code (state fips, county fips, cbsa, lwfda_no),area_name,cases,\n",
    "# deaths,daily_cases,daily_deaths,rolling_7_case_avg,rolling_7_death_avg\n",
    "\n",
    "covidRc.rename(columns={'Regional Commission' : 'area_name',\n",
    "                        'RC_ID'               : 'area_code'}, inplace=True)\n",
    "\n",
    "covidMsa.rename(columns={'CBSA Title' : 'area_name',\n",
    "                         'CBSA Code'  : 'area_code'}, inplace=True)"
   ]
  },
  {
   "cell_type": "code",
   "execution_count": 16,
   "metadata": {},
   "outputs": [],
   "source": [
    "covidRc = covidRc.set_index(['date','area_name']).unstack(fill_value=0).asfreq('D', fill_value=0).stack().sort_index(level=1).reset_index()\n",
    "covidMsa = covidMsa.set_index(['date','area_name']).unstack(fill_value=0).asfreq('D', fill_value=0).stack().sort_index(level=1).reset_index()\n",
    "covid = covid.set_index(['date','area_name']).unstack(fill_value=0).asfreq('D', fill_value=0).stack().sort_index(level=1).reset_index()"
   ]
  },
  {
   "cell_type": "code",
   "execution_count": 17,
   "metadata": {},
   "outputs": [],
   "source": [
    "# each dataframe now has 0 in place of some of their area_codes because of dates added\n",
    "# merge with correct area codes\n",
    "covidRc = pd.merge(covidRc, codes, how='left', on='area_name')\n",
    "covidRc.rename(columns={'area_code_y' : 'area_code'}, inplace=True)\n",
    "covidRc = covidRc[['date','area_name','area_code','cases','daily_cases','deaths','daily_deaths']]\n",
    "covidMsa = pd.merge(covidMsa, codes, how='left', on='area_name')\n",
    "covidMsa.rename(columns={'area_code_y' : 'area_code'}, inplace=True)\n",
    "covidMsa = covidMsa[['date','area_name','area_code','cases','daily_cases','deaths','daily_deaths']]\n",
    "covid = pd.merge(covid, codes, how='left', on='area_name')\n",
    "covid.rename(columns={'area_code_y' : 'area_code'}, inplace=True)\n",
    "covid = covid[['date','area_name','area_code','cases','daily_cases','deaths','daily_deaths']]"
   ]
  },
  {
   "cell_type": "code",
   "execution_count": 18,
   "metadata": {},
   "outputs": [],
   "source": [
    "covidRc.sort_values(['area_code','date'], ascending=['False','False'], inplace=True)\n",
    "covidMsa.sort_values(['area_code','date'], ascending=['False','False'], inplace=True)\n",
    "covid.sort_values(['area_code','date'], ascending=['False','False'], inplace=True)"
   ]
  },
  {
   "cell_type": "code",
   "execution_count": null,
   "metadata": {},
   "outputs": [],
   "source": []
  },
  {
   "cell_type": "code",
   "execution_count": 19,
   "metadata": {},
   "outputs": [],
   "source": [
    "df = covid.append([covidRc, covidMsa])"
   ]
  },
  {
   "cell_type": "code",
   "execution_count": 20,
   "metadata": {},
   "outputs": [],
   "source": [
    "df.reset_index(drop=True,inplace=True)"
   ]
  },
  {
   "cell_type": "code",
   "execution_count": 21,
   "metadata": {},
   "outputs": [],
   "source": [
    "# get 7 day rolling average for cases\n",
    "groupedCases = df.groupby(['area_name']).apply(lambda x: x.set_index('date').resample('1D').first())\n",
    "\n",
    "groupedCases = groupedCases.groupby(level=0)['daily_cases'] \\\n",
    "                            .apply(lambda x: x.shift().rolling(min_periods=6,window=7).mean()) \\\n",
    "                            .reset_index(name='avg_cases_7')\n",
    "\n",
    "# get 7 day rolling average for deaths\n",
    "groupedDeaths = df.groupby(['area_name']).apply(lambda x: x.set_index('date').resample('1D').first())\n",
    "\n",
    "groupedDeaths = groupedDeaths.groupby(level=0)['daily_deaths'] \\\n",
    "                             .apply(lambda x: x.shift().rolling(min_periods=6,window=7).mean()) \\\n",
    "                             .reset_index(name='avg_deaths_7')"
   ]
  },
  {
   "cell_type": "code",
   "execution_count": 22,
   "metadata": {},
   "outputs": [],
   "source": [
    "df = pd.merge(df, groupedCases, how='left', on=['date', 'area_name'])\n",
    "df = pd.merge(df, groupedDeaths, how='left', on=['date', 'area_name'])"
   ]
  },
  {
   "cell_type": "code",
   "execution_count": 23,
   "metadata": {},
   "outputs": [],
   "source": [
    "df[\"dateTwo\"] = pd.to_datetime(df[\"date\"]).dt.strftime('%b %d')"
   ]
  },
  {
   "cell_type": "code",
   "execution_count": 24,
   "metadata": {},
   "outputs": [],
   "source": [
    "df[\"date\"] = pd.to_datetime(df[\"date\"]).dt.strftime('%m-%d-%Y')"
   ]
  },
  {
   "cell_type": "code",
   "execution_count": 25,
   "metadata": {},
   "outputs": [],
   "source": [
    "df = df[['date','dateTwo','area_name','area_code','daily_cases','avg_cases_7','daily_deaths','avg_deaths_7']]"
   ]
  },
  {
   "cell_type": "code",
   "execution_count": 26,
   "metadata": {},
   "outputs": [],
   "source": [
    "df.to_csv('../application/app-data/covid.csv',index=False)"
   ]
  },
  {
   "cell_type": "code",
   "execution_count": 27,
   "metadata": {},
   "outputs": [],
   "source": [
    "# add total new cases last two weeks\n",
    "# add total new cases per 1000\n",
    "# add daily growth rate over last 14 days\n",
    "# new cases over the last 7 days\n",
    "# new cases over the previous 7-day period\n",
    "# total change current week to previous week\n",
    "# week to week change per 100k"
   ]
  },
  {
   "cell_type": "code",
   "execution_count": null,
   "metadata": {},
   "outputs": [],
   "source": []
  },
  {
   "cell_type": "code",
   "execution_count": null,
   "metadata": {},
   "outputs": [],
   "source": []
  },
  {
   "cell_type": "code",
   "execution_count": null,
   "metadata": {},
   "outputs": [],
   "source": []
  },
  {
   "cell_type": "code",
   "execution_count": 30,
   "metadata": {},
   "outputs": [
    {
     "data": {
      "text/html": [
       "<div>\n",
       "<style scoped>\n",
       "    .dataframe tbody tr th:only-of-type {\n",
       "        vertical-align: middle;\n",
       "    }\n",
       "\n",
       "    .dataframe tbody tr th {\n",
       "        vertical-align: top;\n",
       "    }\n",
       "\n",
       "    .dataframe thead th {\n",
       "        text-align: right;\n",
       "    }\n",
       "</style>\n",
       "<table border=\"1\" class=\"dataframe\">\n",
       "  <thead>\n",
       "    <tr style=\"text-align: right;\">\n",
       "      <th></th>\n",
       "      <th>date</th>\n",
       "      <th>dateTwo</th>\n",
       "      <th>area_name</th>\n",
       "      <th>area_code</th>\n",
       "      <th>daily_cases</th>\n",
       "      <th>avg_cases_7</th>\n",
       "      <th>daily_deaths</th>\n",
       "      <th>avg_deaths_7</th>\n",
       "    </tr>\n",
       "  </thead>\n",
       "  <tbody>\n",
       "    <tr>\n",
       "      <th>22687</th>\n",
       "      <td>04-28-2020</td>\n",
       "      <td>Apr 28</td>\n",
       "      <td>Waycross, GA</td>\n",
       "      <td>48180</td>\n",
       "      <td>1.0</td>\n",
       "      <td>3.857143</td>\n",
       "      <td>2.0</td>\n",
       "      <td>0.285714</td>\n",
       "    </tr>\n",
       "    <tr>\n",
       "      <th>22688</th>\n",
       "      <td>04-29-2020</td>\n",
       "      <td>Apr 29</td>\n",
       "      <td>Waycross, GA</td>\n",
       "      <td>48180</td>\n",
       "      <td>2.0</td>\n",
       "      <td>3.285714</td>\n",
       "      <td>1.0</td>\n",
       "      <td>0.428571</td>\n",
       "    </tr>\n",
       "    <tr>\n",
       "      <th>22689</th>\n",
       "      <td>04-30-2020</td>\n",
       "      <td>Apr 30</td>\n",
       "      <td>Waycross, GA</td>\n",
       "      <td>48180</td>\n",
       "      <td>7.0</td>\n",
       "      <td>3.285714</td>\n",
       "      <td>1.0</td>\n",
       "      <td>0.571429</td>\n",
       "    </tr>\n",
       "    <tr>\n",
       "      <th>22690</th>\n",
       "      <td>05-01-2020</td>\n",
       "      <td>May 01</td>\n",
       "      <td>Waycross, GA</td>\n",
       "      <td>48180</td>\n",
       "      <td>7.0</td>\n",
       "      <td>3.571429</td>\n",
       "      <td>0.0</td>\n",
       "      <td>0.714286</td>\n",
       "    </tr>\n",
       "    <tr>\n",
       "      <th>22691</th>\n",
       "      <td>05-02-2020</td>\n",
       "      <td>May 02</td>\n",
       "      <td>Waycross, GA</td>\n",
       "      <td>48180</td>\n",
       "      <td>-2.0</td>\n",
       "      <td>4.000000</td>\n",
       "      <td>0.0</td>\n",
       "      <td>0.571429</td>\n",
       "    </tr>\n",
       "  </tbody>\n",
       "</table>\n",
       "</div>"
      ],
      "text/plain": [
       "             date dateTwo     area_name area_code  daily_cases  avg_cases_7  \\\n",
       "22687  04-28-2020  Apr 28  Waycross, GA     48180          1.0     3.857143   \n",
       "22688  04-29-2020  Apr 29  Waycross, GA     48180          2.0     3.285714   \n",
       "22689  04-30-2020  Apr 30  Waycross, GA     48180          7.0     3.285714   \n",
       "22690  05-01-2020  May 01  Waycross, GA     48180          7.0     3.571429   \n",
       "22691  05-02-2020  May 02  Waycross, GA     48180         -2.0     4.000000   \n",
       "\n",
       "       daily_deaths  avg_deaths_7  \n",
       "22687           2.0      0.285714  \n",
       "22688           1.0      0.428571  \n",
       "22689           1.0      0.571429  \n",
       "22690           0.0      0.714286  \n",
       "22691           0.0      0.571429  "
      ]
     },
     "execution_count": 30,
     "metadata": {},
     "output_type": "execute_result"
    }
   ],
   "source": [
    "df.tail()"
   ]
  },
  {
   "cell_type": "code",
   "execution_count": null,
   "metadata": {},
   "outputs": [],
   "source": []
  }
 ],
 "metadata": {
  "kernelspec": {
   "display_name": "Python 3",
   "language": "python",
   "name": "python3"
  },
  "language_info": {
   "codemirror_mode": {
    "name": "ipython",
    "version": 3
   },
   "file_extension": ".py",
   "mimetype": "text/x-python",
   "name": "python",
   "nbconvert_exporter": "python",
   "pygments_lexer": "ipython3",
   "version": "3.7.6"
  }
 },
 "nbformat": 4,
 "nbformat_minor": 2
}
