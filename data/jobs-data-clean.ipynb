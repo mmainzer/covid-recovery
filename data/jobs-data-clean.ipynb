{
 "cells": [
  {
   "cell_type": "code",
   "execution_count": 46,
   "metadata": {},
   "outputs": [],
   "source": [
    "import pandas as pd\n",
    "import numpy as np\n",
    "import glob"
   ]
  },
  {
   "cell_type": "code",
   "execution_count": 2,
   "metadata": {},
   "outputs": [],
   "source": [
    "path = r'C:\\Users\\MTMAINZE\\projects\\covid-recovery\\data\\jobs-files' # use your path\n",
    "all_files = glob.glob(path + \"/*.csv\")\n",
    "\n",
    "li = []\n",
    "\n",
    "for filename in all_files:\n",
    "    df = pd.read_csv(filename, index_col=None, header=0)\n",
    "    li.append(df)\n",
    "\n",
    "frame = pd.concat(li, axis=0, ignore_index=True)"
   ]
  },
  {
   "cell_type": "code",
   "execution_count": 3,
   "metadata": {},
   "outputs": [
    {
     "data": {
      "text/plain": [
       "(123325, 9)"
      ]
     },
     "execution_count": 3,
     "metadata": {},
     "output_type": "execute_result"
    }
   ],
   "source": [
    "frame.shape"
   ]
  },
  {
   "cell_type": "code",
   "execution_count": 5,
   "metadata": {},
   "outputs": [
    {
     "data": {
      "text/html": [
       "<div>\n",
       "<style scoped>\n",
       "    .dataframe tbody tr th:only-of-type {\n",
       "        vertical-align: middle;\n",
       "    }\n",
       "\n",
       "    .dataframe tbody tr th {\n",
       "        vertical-align: top;\n",
       "    }\n",
       "\n",
       "    .dataframe thead th {\n",
       "        text-align: right;\n",
       "    }\n",
       "</style>\n",
       "<table border=\"1\" class=\"dataframe\">\n",
       "  <thead>\n",
       "    <tr style=\"text-align: right;\">\n",
       "      <th></th>\n",
       "      <th>Area Name</th>\n",
       "      <th>Area Bucket</th>\n",
       "      <th>Occupation Name</th>\n",
       "      <th>Occupation Bucket</th>\n",
       "      <th>Area</th>\n",
       "      <th>Occupation</th>\n",
       "      <th>Year</th>\n",
       "      <th>Jobs</th>\n",
       "      <th>Resident Workers</th>\n",
       "    </tr>\n",
       "  </thead>\n",
       "  <tbody>\n",
       "    <tr>\n",
       "      <th>0</th>\n",
       "      <td>Atkinson County, GA</td>\n",
       "      <td>Atkinson County, GA</td>\n",
       "      <td>Chief Executives</td>\n",
       "      <td>Chief Executives</td>\n",
       "      <td>13003</td>\n",
       "      <td>11-1011</td>\n",
       "      <td>2019</td>\n",
       "      <td>3.128850</td>\n",
       "      <td>4.122558</td>\n",
       "    </tr>\n",
       "    <tr>\n",
       "      <th>1</th>\n",
       "      <td>Baker County, GA</td>\n",
       "      <td>Baker County, GA</td>\n",
       "      <td>Chief Executives</td>\n",
       "      <td>Chief Executives</td>\n",
       "      <td>13007</td>\n",
       "      <td>11-1011</td>\n",
       "      <td>2019</td>\n",
       "      <td>0.544435</td>\n",
       "      <td>0.996549</td>\n",
       "    </tr>\n",
       "    <tr>\n",
       "      <th>2</th>\n",
       "      <td>Banks County, GA</td>\n",
       "      <td>Banks County, GA</td>\n",
       "      <td>Chief Executives</td>\n",
       "      <td>Chief Executives</td>\n",
       "      <td>13011</td>\n",
       "      <td>11-1011</td>\n",
       "      <td>2019</td>\n",
       "      <td>5.586603</td>\n",
       "      <td>10.732003</td>\n",
       "    </tr>\n",
       "    <tr>\n",
       "      <th>3</th>\n",
       "      <td>Atkinson County, GA</td>\n",
       "      <td>Atkinson County, GA</td>\n",
       "      <td>General and Operations Managers</td>\n",
       "      <td>General and Operations Managers</td>\n",
       "      <td>13003</td>\n",
       "      <td>11-1021</td>\n",
       "      <td>2019</td>\n",
       "      <td>41.005093</td>\n",
       "      <td>57.276707</td>\n",
       "    </tr>\n",
       "    <tr>\n",
       "      <th>4</th>\n",
       "      <td>Baker County, GA</td>\n",
       "      <td>Baker County, GA</td>\n",
       "      <td>General and Operations Managers</td>\n",
       "      <td>General and Operations Managers</td>\n",
       "      <td>13007</td>\n",
       "      <td>11-1021</td>\n",
       "      <td>2019</td>\n",
       "      <td>8.249552</td>\n",
       "      <td>14.886872</td>\n",
       "    </tr>\n",
       "  </tbody>\n",
       "</table>\n",
       "</div>"
      ],
      "text/plain": [
       "             Area Name          Area Bucket                  Occupation Name  \\\n",
       "0  Atkinson County, GA  Atkinson County, GA                 Chief Executives   \n",
       "1     Baker County, GA     Baker County, GA                 Chief Executives   \n",
       "2     Banks County, GA     Banks County, GA                 Chief Executives   \n",
       "3  Atkinson County, GA  Atkinson County, GA  General and Operations Managers   \n",
       "4     Baker County, GA     Baker County, GA  General and Operations Managers   \n",
       "\n",
       "                 Occupation Bucket   Area Occupation  Year       Jobs  \\\n",
       "0                 Chief Executives  13003    11-1011  2019   3.128850   \n",
       "1                 Chief Executives  13007    11-1011  2019   0.544435   \n",
       "2                 Chief Executives  13011    11-1011  2019   5.586603   \n",
       "3  General and Operations Managers  13003    11-1021  2019  41.005093   \n",
       "4  General and Operations Managers  13007    11-1021  2019   8.249552   \n",
       "\n",
       "   Resident Workers  \n",
       "0          4.122558  \n",
       "1          0.996549  \n",
       "2         10.732003  \n",
       "3         57.276707  \n",
       "4         14.886872  "
      ]
     },
     "execution_count": 5,
     "metadata": {},
     "output_type": "execute_result"
    }
   ],
   "source": [
    "frame.head()"
   ]
  },
  {
   "cell_type": "code",
   "execution_count": 6,
   "metadata": {},
   "outputs": [],
   "source": [
    "frame.drop_duplicates(inplace=True)"
   ]
  },
  {
   "cell_type": "code",
   "execution_count": 7,
   "metadata": {},
   "outputs": [
    {
     "data": {
      "text/plain": [
       "(123325, 9)"
      ]
     },
     "execution_count": 7,
     "metadata": {},
     "output_type": "execute_result"
    }
   ],
   "source": [
    "frame.shape"
   ]
  },
  {
   "cell_type": "code",
   "execution_count": 57,
   "metadata": {},
   "outputs": [],
   "source": [
    "# bring in the onet codes\n",
    "socs = pd.read_excel('covid-recovery-data.xlsx', sheet_name='soc-onet-xwalk')\n",
    "physical = pd.read_excel('covid-recovery-data.xlsx', sheet_name='physical-prox')\n",
    "disease = pd.read_excel('covid-recovery-data.xlsx', sheet_name='disease-exposure')"
   ]
  },
  {
   "cell_type": "code",
   "execution_count": 58,
   "metadata": {},
   "outputs": [],
   "source": [
    "# just take the first O*NET code for each SOC as that works for our purposes here\n",
    "socs.drop_duplicates(subset='SOC',inplace=True)"
   ]
  },
  {
   "cell_type": "code",
   "execution_count": 59,
   "metadata": {},
   "outputs": [],
   "source": [
    "data = pd.merge(frame,socs,how='left',left_on='Occupation',right_on='SOC')"
   ]
  },
  {
   "cell_type": "code",
   "execution_count": 60,
   "metadata": {},
   "outputs": [],
   "source": [
    "data = data[['Area Name','SOC','O*NET','Occupation Name','Area','Jobs','Resident Workers']]"
   ]
  },
  {
   "cell_type": "code",
   "execution_count": 61,
   "metadata": {},
   "outputs": [],
   "source": [
    "data.rename(columns={'Area Name'        : 'County',\n",
    "                     'Area'             : 'County FIPS',\n",
    "                     'Jobs'             : '2019 Jobs',\n",
    "                     'Resident Workers' : '2019 Resident Workers'}, inplace=True)"
   ]
  },
  {
   "cell_type": "code",
   "execution_count": 62,
   "metadata": {},
   "outputs": [],
   "source": [
    "physical = physical[['Physical Proximity Index','O*NET']]"
   ]
  },
  {
   "cell_type": "code",
   "execution_count": 63,
   "metadata": {},
   "outputs": [],
   "source": [
    "data = pd.merge(data,physical,how='left',on='O*NET')"
   ]
  },
  {
   "cell_type": "code",
   "execution_count": 64,
   "metadata": {},
   "outputs": [],
   "source": [
    "disease = disease[['Disease Exposure Index','O*NET']]"
   ]
  },
  {
   "cell_type": "code",
   "execution_count": 66,
   "metadata": {},
   "outputs": [],
   "source": [
    "data = pd.merge(data,disease,how='left',on='O*NET')"
   ]
  },
  {
   "cell_type": "code",
   "execution_count": 69,
   "metadata": {},
   "outputs": [],
   "source": [
    "data['Frequent Physical Proximity'] = np.where(data['Physical Proximity Index']>=75, 'Frequent', 'Not Frequent')"
   ]
  },
  {
   "cell_type": "code",
   "execution_count": 71,
   "metadata": {},
   "outputs": [],
   "source": [
    "data['Frequent Disease Exposure'] = np.where(data['Disease Exposure Index']>=75, 'Frequent', 'Not Frequent')"
   ]
  },
  {
   "cell_type": "code",
   "execution_count": 115,
   "metadata": {},
   "outputs": [],
   "source": [
    "jobsData = data[['County','SOC','O*NET','Occupation Name','County FIPS','2019 Jobs','2019 Resident Workers']]\n",
    "physProxSums = data.groupby(['County', 'County FIPS','Frequent Physical Proximity'])['2019 Jobs', '2019 Resident Workers',].sum().reset_index()\n",
    "diseaseSums = data.groupby(['County', 'County FIPS','Frequent Disease Exposure'])['2019 Jobs', '2019 Resident Workers',].sum().reset_index()"
   ]
  },
  {
   "cell_type": "code",
   "execution_count": 116,
   "metadata": {},
   "outputs": [
    {
     "data": {
      "text/html": [
       "<div>\n",
       "<style scoped>\n",
       "    .dataframe tbody tr th:only-of-type {\n",
       "        vertical-align: middle;\n",
       "    }\n",
       "\n",
       "    .dataframe tbody tr th {\n",
       "        vertical-align: top;\n",
       "    }\n",
       "\n",
       "    .dataframe thead th {\n",
       "        text-align: right;\n",
       "    }\n",
       "</style>\n",
       "<table border=\"1\" class=\"dataframe\">\n",
       "  <thead>\n",
       "    <tr style=\"text-align: right;\">\n",
       "      <th></th>\n",
       "      <th>County</th>\n",
       "      <th>County FIPS</th>\n",
       "      <th>Frequent Physical Proximity</th>\n",
       "      <th>2019 Jobs</th>\n",
       "      <th>2019 Resident Workers</th>\n",
       "    </tr>\n",
       "  </thead>\n",
       "  <tbody>\n",
       "    <tr>\n",
       "      <th>0</th>\n",
       "      <td>Appling County, GA</td>\n",
       "      <td>13001</td>\n",
       "      <td>Frequent</td>\n",
       "      <td>1384.703634</td>\n",
       "      <td>1541.872067</td>\n",
       "    </tr>\n",
       "    <tr>\n",
       "      <th>1</th>\n",
       "      <td>Appling County, GA</td>\n",
       "      <td>13001</td>\n",
       "      <td>Not Frequent</td>\n",
       "      <td>6253.344558</td>\n",
       "      <td>6342.886618</td>\n",
       "    </tr>\n",
       "    <tr>\n",
       "      <th>2</th>\n",
       "      <td>Atkinson County, GA</td>\n",
       "      <td>13003</td>\n",
       "      <td>Frequent</td>\n",
       "      <td>310.038260</td>\n",
       "      <td>651.607254</td>\n",
       "    </tr>\n",
       "    <tr>\n",
       "      <th>3</th>\n",
       "      <td>Atkinson County, GA</td>\n",
       "      <td>13003</td>\n",
       "      <td>Not Frequent</td>\n",
       "      <td>2355.319565</td>\n",
       "      <td>3019.940860</td>\n",
       "    </tr>\n",
       "    <tr>\n",
       "      <th>4</th>\n",
       "      <td>Bacon County, GA</td>\n",
       "      <td>13005</td>\n",
       "      <td>Frequent</td>\n",
       "      <td>839.507591</td>\n",
       "      <td>867.838385</td>\n",
       "    </tr>\n",
       "  </tbody>\n",
       "</table>\n",
       "</div>"
      ],
      "text/plain": [
       "                County  County FIPS Frequent Physical Proximity    2019 Jobs  \\\n",
       "0   Appling County, GA        13001                    Frequent  1384.703634   \n",
       "1   Appling County, GA        13001                Not Frequent  6253.344558   \n",
       "2  Atkinson County, GA        13003                    Frequent   310.038260   \n",
       "3  Atkinson County, GA        13003                Not Frequent  2355.319565   \n",
       "4     Bacon County, GA        13005                    Frequent   839.507591   \n",
       "\n",
       "   2019 Resident Workers  \n",
       "0            1541.872067  \n",
       "1            6342.886618  \n",
       "2             651.607254  \n",
       "3            3019.940860  \n",
       "4             867.838385  "
      ]
     },
     "execution_count": 116,
     "metadata": {},
     "output_type": "execute_result"
    }
   ],
   "source": [
    "physProxSums.head()"
   ]
  },
  {
   "cell_type": "code",
   "execution_count": 117,
   "metadata": {},
   "outputs": [],
   "source": [
    "diseaseFreqJobs = pd.pivot_table(diseaseSums,index=['County', 'County FIPS'],columns=\"Frequent Disease Exposure\", values='2019 Jobs').reset_index().rename_axis(None, axis=1)\n",
    "diseaseFreqRes = pd.pivot_table(diseaseSums,index=['County', 'County FIPS'],columns=\"Frequent Disease Exposure\", values='2019 Resident Workers').reset_index().rename_axis(None, axis=1)\n",
    "physProxFreqRes = pd.pivot_table(physProxSums,index=['County', 'County FIPS'],columns=\"Frequent Physical Proximity\", values='2019 Resident Workers').reset_index().rename_axis(None, axis=1)\n",
    "physProxFreqJobs = pd.pivot_table(physProxSums,index=['County', 'County FIPS'],columns=\"Frequent Physical Proximity\", values='2019 Jobs').reset_index().rename_axis(None, axis=1)"
   ]
  },
  {
   "cell_type": "code",
   "execution_count": 118,
   "metadata": {},
   "outputs": [],
   "source": [
    "diseaseFreqJobs.rename(columns={'Frequent'     : 'Jobs Frequent Disease Exposure',\n",
    "                                'Not Frequent' : 'Jobs Infrequent Disease Exposure'}, inplace=True)\n",
    "\n",
    "diseaseFreqRes.rename(columns={'Frequent'     : 'Resident Workers Frequent Disease Exposure',\n",
    "                               'Not Frequent' : 'Resident Workers Infrequent Disease Exposure'}, inplace=True)\n",
    "\n",
    "physProxFreqJobs.rename(columns={'Frequent'     : 'Jobs Frequent Physical Proximity',\n",
    "                                'Not Frequent' : 'Jobs Infrequent Physical Proximity'}, inplace=True)\n",
    "\n",
    "physProxFreqRes.rename(columns={'Frequent'     : 'Resident Workers Frequent Physical Proximity',\n",
    "                               'Not Frequent' : 'Resident Workers Infrequent Physical Proximity'}, inplace=True)"
   ]
  },
  {
   "cell_type": "code",
   "execution_count": 123,
   "metadata": {},
   "outputs": [],
   "source": [
    "countySum = pd.merge(diseaseFreqJobs,diseaseFreqRes,how='outer',on=['County','County FIPS'])"
   ]
  },
  {
   "cell_type": "code",
   "execution_count": 127,
   "metadata": {},
   "outputs": [],
   "source": [
    "countySum = pd.merge(countySum,physProxFreqJobs,how='outer',on=['County','County FIPS'])"
   ]
  },
  {
   "cell_type": "code",
   "execution_count": 128,
   "metadata": {},
   "outputs": [],
   "source": [
    "countySum = pd.merge(countySum,physProxFreqRes,how='outer',on=['County','County FIPS'])"
   ]
  },
  {
   "cell_type": "code",
   "execution_count": 138,
   "metadata": {},
   "outputs": [],
   "source": [
    "# write files out to quickly visualize in whatever\n",
    "countySum.to_csv('countySum.csv',index=False)\n",
    "data.to_csv('countyJobs.csv',index=False)"
   ]
  },
  {
   "cell_type": "code",
   "execution_count": null,
   "metadata": {},
   "outputs": [],
   "source": []
  }
 ],
 "metadata": {
  "kernelspec": {
   "display_name": "Python 3",
   "language": "python",
   "name": "python3"
  },
  "language_info": {
   "codemirror_mode": {
    "name": "ipython",
    "version": 3
   },
   "file_extension": ".py",
   "mimetype": "text/x-python",
   "name": "python",
   "nbconvert_exporter": "python",
   "pygments_lexer": "ipython3",
   "version": "3.7.6"
  }
 },
 "nbformat": 4,
 "nbformat_minor": 2
}
