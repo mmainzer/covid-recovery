{
 "cells": [
  {
   "cell_type": "code",
   "execution_count": 1,
   "metadata": {},
   "outputs": [],
   "source": [
    "import pandas as pd\n",
    "pd.set_option('display.max_columns', None)\n",
    "\n",
    "import numpy as np\n",
    "\n",
    "import geopandas as gpd\n",
    "import fiona\n",
    "\n",
    "import matplotlib.pyplot as plt\n",
    "import seaborn as sns\n",
    "\n",
    "import json"
   ]
  },
  {
   "cell_type": "code",
   "execution_count": 2,
   "metadata": {},
   "outputs": [],
   "source": [
    "counties = pd.read_excel('covid-recovery-data.xlsx', sheet_name=\"county-population\")\n",
    "jobs = pd.read_excel('covid-recovery-data.xlsx', sheet_name=\"county-jobs-summary\", usecols=\"B,C,D,F,G,I\")\n",
    "ccvi = pd.read_excel('covid-recovery-data.xlsx', sheet_name=\"ccvi-county\", usecols=\"D:K\")\n",
    "countyShape = gpd.read_file(\"spatial/ga-counties.geojson\")\n",
    "countyClaims = pd.read_excel('covid-recovery-data.xlsx', sheet_name=\"unemployment-claims-monthly\")\n",
    "hospitals = gpd.read_file(\"spatial/hospitals.geojson\")"
   ]
  },
  {
   "cell_type": "code",
   "execution_count": 3,
   "metadata": {},
   "outputs": [],
   "source": [
    "msa = pd.read_excel('../../data/geographies/cbsa.xlsx', sheet_name='cbsa',usecols='M,D')\n",
    "rc = pd.read_excel('../../data/geographies/regional-commissions.xlsx', sheet_name='county-rc',usecols='A,C')\n",
    "msa.rename(columns={'area_code':'FIPS'}, inplace=True)\n",
    "rc.rename(columns={'area_code':'FIPS'}, inplace=True)\n",
    "msa['FIPS'] = msa['FIPS'].astype(str)\n",
    "rc['FIPS'] = rc['FIPS'].astype(str)"
   ]
  },
  {
   "cell_type": "code",
   "execution_count": 4,
   "metadata": {},
   "outputs": [],
   "source": [
    "hospitals = gpd.read_file(\"spatial/hospitals.geojson\")"
   ]
  },
  {
   "cell_type": "code",
   "execution_count": 5,
   "metadata": {},
   "outputs": [],
   "source": [
    "hospitals.sort_values('BEDS', inplace=True)"
   ]
  },
  {
   "cell_type": "code",
   "execution_count": 6,
   "metadata": {},
   "outputs": [],
   "source": [
    "hospitals.BEDS = np.where(hospitals.BEDS < 0, 82,hospitals.BEDS)"
   ]
  },
  {
   "cell_type": "code",
   "execution_count": 7,
   "metadata": {},
   "outputs": [],
   "source": [
    "counties = pd.merge(counties,jobs,how='left',on='FIPS')"
   ]
  },
  {
   "cell_type": "code",
   "execution_count": 8,
   "metadata": {},
   "outputs": [],
   "source": [
    "counties = pd.merge(counties,ccvi,how='left',on='FIPS')"
   ]
  },
  {
   "cell_type": "code",
   "execution_count": 9,
   "metadata": {},
   "outputs": [],
   "source": [
    "counties['FIPS'] = counties['FIPS'].astype(str)"
   ]
  },
  {
   "cell_type": "code",
   "execution_count": 10,
   "metadata": {},
   "outputs": [],
   "source": [
    "counties = pd.merge(counties,countyShape, how='left', left_on='FIPS', right_on='GEOID')"
   ]
  },
  {
   "cell_type": "code",
   "execution_count": 11,
   "metadata": {},
   "outputs": [],
   "source": [
    "del counties['GEOID']"
   ]
  },
  {
   "cell_type": "code",
   "execution_count": 12,
   "metadata": {},
   "outputs": [],
   "source": [
    "# groupby county fips to get number of hospitals and number of beds per county\n",
    "countyHospitals = hospitals.groupby('COUNTYFIPS') \\\n",
    "                           .agg({'NAME':'count', 'BEDS': 'sum'}) \\\n",
    "                           .reset_index() \\\n",
    "                           .rename(columns={'NAME':'Hospitals',\n",
    "                                            'BEDS':'Beds',\n",
    "                                            'COUNTYFIPS':'FIPS'})"
   ]
  },
  {
   "cell_type": "code",
   "execution_count": 13,
   "metadata": {},
   "outputs": [],
   "source": [
    "counties = pd.merge(counties,countyHospitals, how='left', on='FIPS')"
   ]
  },
  {
   "cell_type": "code",
   "execution_count": 14,
   "metadata": {},
   "outputs": [],
   "source": [
    "counties['Hospitals'].fillna(0, inplace=True)\n",
    "counties['Beds'].fillna(0, inplace=True)"
   ]
  },
  {
   "cell_type": "code",
   "execution_count": 15,
   "metadata": {},
   "outputs": [],
   "source": [
    "counties['Beds_per_1000'] = ( counties['Beds'] / counties['Total_Population'] ) * 1000\n",
    "counties['Beds_per_1000_Elderly'] = ( counties['Beds'] / counties['Population_Over_65'] ) * 1000"
   ]
  },
  {
   "cell_type": "code",
   "execution_count": 16,
   "metadata": {},
   "outputs": [],
   "source": [
    "# get clean covid data\n",
    "covid = pd.read_csv('../application/app-data/covid-county-clean.csv')\n",
    "covid = covid[['date','area_name','area_code','cases','deaths']]\n",
    "\n",
    "covid.date = pd.to_datetime(covid.date)\n",
    "\n",
    "covid['area_code'] = covid['area_code'].astype(int)\n",
    "covid['area_code'] = covid['area_code'].astype(str)\n",
    "\n",
    "# get new data from nyt\n",
    "covidCountyNew = pd.read_csv('https://raw.githubusercontent.com/nytimes/covid-19-data/master/us-counties.csv')\n",
    "covidCountyNew = covidCountyNew.loc[covidCountyNew['state'] == 'Georgia']\n",
    "\n",
    "covidCountyNew = covidCountyNew[['date','county','fips','cases','deaths']]\n",
    "\n",
    "# get state level data\n",
    "covidStateNew = pd.read_csv('https://raw.githubusercontent.com/nytimes/covid-19-data/master/us-states.csv')\n",
    "covidStateNew = covidStateNew.loc[covidStateNew['state'] == 'Georgia']\n",
    "\n",
    "covidCountyNew.rename(columns={'county' : 'area_name',\n",
    "                               'fips'   : 'area_code'}, inplace=True)\n",
    "\n",
    "covidStateNew.rename(columns={'state' : 'area_name',\n",
    "                              'fips'  : 'area_code'}, inplace=True)\n",
    "\n",
    "covidNew = covidStateNew.append(covidCountyNew)\n",
    "\n",
    "# the covid data is reported as a cumulative sum\n",
    "# we want the daily counts as well for different charting options\n",
    "covidNew.date = pd.to_datetime(covidNew.date)\n",
    "covidNew.sort_values(['area_name', 'date'], ascending=[True, True], inplace=True)\n",
    "\n",
    "\n",
    "\n",
    "covidNew.dropna(subset=['area_code'], inplace=True)\n",
    "\n",
    "covidNew['area_code'] = covidNew['area_code'].astype(int)\n",
    "covidNew['area_code'] = covidNew['area_code'].astype(str)\n",
    "\n",
    "covidNew.reset_index(inplace=True, drop=True)\n",
    "\n",
    "covidNew.sort_values(['area_name', 'date'], ascending=[True, True], inplace=True)\n",
    "\n",
    "# filter only dates AFTER 4/30\n",
    "covidNew = covidNew.loc[covidNew['date'] >= '2020-05-07']\n",
    "# append to cleaned sheet\n",
    "covid = covid.append(covidNew)\n",
    "covid.sort_values(['area_code','date'], inplace=True)\n",
    "covid.reset_index(drop=True,inplace=True)"
   ]
  },
  {
   "cell_type": "code",
   "execution_count": 17,
   "metadata": {},
   "outputs": [],
   "source": [
    "covid['daily_cases'] = np.where(covid['area_code'] == covid['area_code'].shift(), covid.cases - covid.cases.shift(), np.nan)\n",
    "\n",
    "covid['daily_cases'].fillna(covid['cases'], inplace=True)\n",
    "\n",
    "covid['daily_deaths'] = np.where(covid['area_code'] == covid['area_code'].shift(), covid.deaths - covid.deaths.shift(), np.nan)\n",
    "covid['daily_deaths'].fillna(covid['deaths'], inplace=True)"
   ]
  },
  {
   "cell_type": "code",
   "execution_count": 18,
   "metadata": {},
   "outputs": [],
   "source": [
    "covid.sort_values(['area_name', 'date'],inplace=True)"
   ]
  },
  {
   "cell_type": "code",
   "execution_count": 19,
   "metadata": {},
   "outputs": [],
   "source": [
    "# we dont' ned the state here as we'r just trying to mak a fram\n",
    "# at the county level\n",
    "covid = covid.loc[covid['area_name'] != 'Georgia']\n",
    "covid.rename(columns={'area_code':'FIPS'}, inplace=True)"
   ]
  },
  {
   "cell_type": "code",
   "execution_count": 20,
   "metadata": {},
   "outputs": [],
   "source": [
    "covid['FIPS'] = covid['FIPS'].astype(str)"
   ]
  },
  {
   "cell_type": "code",
   "execution_count": 21,
   "metadata": {},
   "outputs": [],
   "source": [
    "countyList = counties[['FIPS','County','Total_Population']]"
   ]
  },
  {
   "cell_type": "code",
   "execution_count": 22,
   "metadata": {},
   "outputs": [],
   "source": [
    "covid = pd.merge(covid,countyList,how='left',on='FIPS')\n",
    "covidMsa = pd.merge(covid,msa,how='left',on='FIPS')\n",
    "covidRc = pd.merge(covid,rc,how='left',on='FIPS')\n",
    "covidGa = covid.copy()\n",
    "covidGa['State'] = 'Georgia'"
   ]
  },
  {
   "cell_type": "code",
   "execution_count": 23,
   "metadata": {},
   "outputs": [],
   "source": [
    "covidTotals = covid.groupby('FIPS') \\\n",
    "                   .agg({'daily_cases':'sum', 'daily_deaths': 'sum'}) \\\n",
    "                   .reset_index() \\\n",
    "                   .rename(columns={'daily_cases':'Cases',\n",
    "                                    'daily_deaths':'Deaths'})\n",
    "\n",
    "# add total new cases last two weeks\n",
    "cutOff = covid['date'].max() - pd.Timedelta(days=13)\n",
    "cutOffOne = covid['date'].max() - pd.Timedelta(days=6)\n",
    "covidLastTwo = covid.loc[covid['date'] >= cutOff]"
   ]
  },
  {
   "cell_type": "code",
   "execution_count": 24,
   "metadata": {},
   "outputs": [
    {
     "name": "stderr",
     "output_type": "stream",
     "text": [
      "/Users/mmainza/opt/anaconda3/lib/python3.7/site-packages/ipykernel_launcher.py:8: SettingWithCopyWarning: \n",
      "A value is trying to be set on a copy of a slice from a DataFrame.\n",
      "Try using .loc[row_indexer,col_indexer] = value instead\n",
      "\n",
      "See the caveats in the documentation: https://pandas.pydata.org/pandas-docs/stable/user_guide/indexing.html#returning-a-view-versus-a-copy\n",
      "  \n",
      "/Users/mmainza/opt/anaconda3/lib/python3.7/site-packages/pandas/core/generic.py:5303: SettingWithCopyWarning: \n",
      "A value is trying to be set on a copy of a slice from a DataFrame.\n",
      "Try using .loc[row_indexer,col_indexer] = value instead\n",
      "\n",
      "See the caveats in the documentation: https://pandas.pydata.org/pandas-docs/stable/user_guide/indexing.html#returning-a-view-versus-a-copy\n",
      "  self[name] = value\n",
      "/Users/mmainza/opt/anaconda3/lib/python3.7/site-packages/pandas/core/generic.py:6245: SettingWithCopyWarning: \n",
      "A value is trying to be set on a copy of a slice from a DataFrame\n",
      "\n",
      "See the caveats in the documentation: https://pandas.pydata.org/pandas-docs/stable/user_guide/indexing.html#returning-a-view-versus-a-copy\n",
      "  self._update_inplace(new_data)\n"
     ]
    }
   ],
   "source": [
    "\n",
    "\n",
    "covidTwo = covidLastTwo.groupby('FIPS') \\\n",
    "                                .agg({'daily_cases':'sum','daily_deaths':'sum'}) \\\n",
    "                                .reset_index() \\\n",
    "                                .rename(columns={'daily_cases':'Recent_Cases',\n",
    "                                            'daily_deaths':'Recent_Deaths'})\n",
    "\n",
    "# add daily growth rate over last 14 days\n",
    "covidLastTwo['Pct_Chng_Case'] = covidLastTwo.groupby('FIPS')['cases'].pct_change()\n",
    "covidLastTwo.Pct_Chng_Case = covidLastTwo.Pct_Chng_Case * 100\n",
    "covidLastTwo['Pct_Chng_Case'].fillna(0, inplace=True)\n",
    "\n",
    "covidTwoAvgChng = covidLastTwo.groupby('FIPS') \\\n",
    "                                .agg({'Pct_Chng_Case':'mean'}) \\\n",
    "                                .reset_index() \\\n",
    "                                .rename(columns={'Pct_Chng_Case':'avg_daily_change'})"
   ]
  },
  {
   "cell_type": "code",
   "execution_count": 25,
   "metadata": {},
   "outputs": [],
   "source": [
    "# new cases over the last 7 days\n",
    "covidThisWk = covid.loc[covid['date'] >= cutOffOne]\n",
    "covidThisWk = covidThisWk[['date','FIPS','daily_cases','daily_deaths']]\n",
    "covidThisWk.rename(columns={'daily_cases' : 'daily_cases_this_wk',\n",
    "                            'daily_deaths': 'daily_deaths_this_wk'}, inplace=True)\n",
    "# new cases over the previous 7-day period\n",
    "covidPrevWk = covid[(covid['date'] >= cutOff) & (covid['date'] < cutOffOne)]\n",
    "covidPrevWk = covidPrevWk[['date','FIPS','daily_cases','daily_deaths']]\n",
    "covidPrevWk.rename(columns={'daily_cases' : 'daily_cases_prev_wk',\n",
    "                            'daily_deaths': 'daily_deaths_prev_wk'}, inplace=True)\n",
    "# total change current week to previous week\n",
    "covidThisWk = covidThisWk.groupby('FIPS') \\\n",
    "                           .agg({'daily_cases_this_wk':'sum', 'daily_deaths_this_wk': 'sum'}) \\\n",
    "                           .reset_index() \\\n",
    "                           .rename(columns={'daily_cases_this_wk' : 'cases_this_wk',\n",
    "                                            'daily_deaths_this_wk': 'deaths_this_wk'})\n",
    "\n",
    "covidPrevWk = covidPrevWk.groupby('FIPS') \\\n",
    "                           .agg({'daily_cases_prev_wk':'sum', 'daily_deaths_prev_wk': 'sum'}) \\\n",
    "                           .reset_index() \\\n",
    "                           .rename(columns={'daily_cases_prev_wk' : 'cases_prev_wk',\n",
    "                                            'daily_deaths_prev_wk': 'deaths_prev_wk'})\n",
    "\n",
    "covidWeek = pd.merge(covidThisWk,covidPrevWk,how='left',on='FIPS')\n",
    "\n",
    "covidWeek['cases_diff'] = covidWeek['cases_this_wk'] - covidWeek['cases_prev_wk']\n",
    "covidWeek['deaths_diff'] = covidWeek['deaths_this_wk'] - covidWeek['deaths_prev_wk']"
   ]
  },
  {
   "cell_type": "code",
   "execution_count": 26,
   "metadata": {},
   "outputs": [],
   "source": [
    "# merge all of these covid totaled files at the county level\n",
    "# covidTwoAvgChng,covidWeek,covidTwo,covidTotals\n",
    "covid = pd.merge(covidTotals,covidTwo,how='left',on='FIPS')\n",
    "covid = pd.merge(covid,covidWeek,how='left',on='FIPS')\n",
    "covid = pd.merge(covid,covidTwoAvgChng,how='left',on='FIPS')"
   ]
  },
  {
   "cell_type": "code",
   "execution_count": 27,
   "metadata": {},
   "outputs": [],
   "source": [
    "# repeat this process but at the MSA level\n",
    "covidMsa.dropna(inplace=True)\n",
    "covidMsa.reset_index(drop=True,inplace=True)"
   ]
  },
  {
   "cell_type": "code",
   "execution_count": 28,
   "metadata": {},
   "outputs": [],
   "source": [
    "covidMsa = covidMsa.groupby(['CBSA Title','date']) \\\n",
    "                       .agg({'daily_cases':'sum', 'daily_deaths': 'sum'}) \\\n",
    "                       .reset_index() \\\n",
    "                       .rename(columns={'daily_cases':'Cases',\n",
    "                                        'daily_deaths':'Deaths',\n",
    "                                        'CBSA Title':'MSA'})"
   ]
  },
  {
   "cell_type": "code",
   "execution_count": 29,
   "metadata": {},
   "outputs": [],
   "source": [
    "covidMsaTotals = covidMsa.groupby('MSA') \\\n",
    "                           .agg({'Cases':'sum', 'Deaths': 'sum'}) \\\n",
    "                           .reset_index()"
   ]
  },
  {
   "cell_type": "code",
   "execution_count": 30,
   "metadata": {},
   "outputs": [],
   "source": [
    "covidMsaTotals.sort_values('Cases', inplace=True)"
   ]
  },
  {
   "cell_type": "code",
   "execution_count": 31,
   "metadata": {},
   "outputs": [],
   "source": [
    "# add total new cases last two weeks\n",
    "cutOff = covidMsa['date'].max() - pd.Timedelta(days=13)\n",
    "cutOffOne = covidMsa['date'].max() - pd.Timedelta(days=6)\n",
    "covidLastTwo = covidMsa.loc[covidMsa['date'] >= cutOff]\n",
    "\n",
    "covidTwo = covidLastTwo.groupby('MSA') \\\n",
    "                                .agg({'Cases':'sum','Deaths':'sum'}) \\\n",
    "                                .reset_index() \\\n",
    "                                .rename(columns={'Cases':'Recent_Cases',\n",
    "                                                 'Deaths':'Recent_Deaths'})"
   ]
  },
  {
   "cell_type": "code",
   "execution_count": 32,
   "metadata": {},
   "outputs": [
    {
     "name": "stderr",
     "output_type": "stream",
     "text": [
      "/Users/mmainza/opt/anaconda3/lib/python3.7/site-packages/ipykernel_launcher.py:2: SettingWithCopyWarning: \n",
      "A value is trying to be set on a copy of a slice from a DataFrame.\n",
      "Try using .loc[row_indexer,col_indexer] = value instead\n",
      "\n",
      "See the caveats in the documentation: https://pandas.pydata.org/pandas-docs/stable/user_guide/indexing.html#returning-a-view-versus-a-copy\n",
      "  \n",
      "/Users/mmainza/opt/anaconda3/lib/python3.7/site-packages/ipykernel_launcher.py:3: SettingWithCopyWarning: \n",
      "A value is trying to be set on a copy of a slice from a DataFrame.\n",
      "Try using .loc[row_indexer,col_indexer] = value instead\n",
      "\n",
      "See the caveats in the documentation: https://pandas.pydata.org/pandas-docs/stable/user_guide/indexing.html#returning-a-view-versus-a-copy\n",
      "  This is separate from the ipykernel package so we can avoid doing imports until\n"
     ]
    }
   ],
   "source": [
    "# add daily growth rate over last 14 days\n",
    "covidLastTwo['Pct_Chng_Case'] = covidLastTwo.groupby('MSA')['Cases'].pct_change()\n",
    "covidLastTwo['Pct_Chng_Case']= covidLastTwo['Pct_Chng_Case'] * 100\n",
    "covidLastTwo['Pct_Chng_Case'].fillna(0, inplace=True)"
   ]
  },
  {
   "cell_type": "code",
   "execution_count": 33,
   "metadata": {},
   "outputs": [],
   "source": [
    "\n",
    "\n",
    "covidTwoAvgChng = covidLastTwo.groupby('MSA') \\\n",
    "                                .agg({'Pct_Chng_Case':'mean'}) \\\n",
    "                                .reset_index() \\\n",
    "                                .rename(columns={'Pct_Chng_Case':'avg_daily_change'})\n",
    "\n",
    "# new cases over the last 7 days\n",
    "covidThisWk = covidMsa.loc[covidMsa['date'] >= cutOffOne]\n",
    "covidThisWk = covidThisWk[['date','MSA','Cases','Deaths']]\n",
    "covidThisWk.rename(columns={'Cases' : 'daily_cases_this_wk',\n",
    "                            'Deaths': 'daily_deaths_this_wk'}, inplace=True)\n",
    "# new cases over the previous 7-day period\n",
    "covidPrevWk = covidMsa[(covidMsa['date'] >= cutOff) & (covidMsa['date'] < cutOffOne)]\n",
    "covidPrevWk = covidPrevWk[['date','MSA','Cases','Deaths']]\n",
    "covidPrevWk.rename(columns={'Cases' : 'daily_cases_prev_wk',\n",
    "                            'Deaths': 'daily_deaths_prev_wk'}, inplace=True)\n",
    "# total change current week to previous week\n",
    "covidThisWk = covidThisWk.groupby('MSA') \\\n",
    "                           .agg({'daily_cases_this_wk':'sum', 'daily_deaths_this_wk': 'sum'}) \\\n",
    "                           .reset_index() \\\n",
    "                           .rename(columns={'daily_cases_this_wk' : 'cases_this_wk',\n",
    "                                            'daily_deaths_this_wk': 'deaths_this_wk'})\n",
    "\n",
    "covidPrevWk = covidPrevWk.groupby('MSA') \\\n",
    "                           .agg({'daily_cases_prev_wk':'sum', 'daily_deaths_prev_wk': 'sum'}) \\\n",
    "                           .reset_index() \\\n",
    "                           .rename(columns={'daily_cases_prev_wk' : 'cases_prev_wk',\n",
    "                                            'daily_deaths_prev_wk': 'deaths_prev_wk'})\n",
    "\n",
    "covidWeek = pd.merge(covidThisWk,covidPrevWk,how='left',on='MSA')\n",
    "\n",
    "covidWeek['cases_diff'] = covidWeek['cases_this_wk'] - covidWeek['cases_prev_wk']\n",
    "covidWeek['deaths_diff'] = covidWeek['deaths_this_wk'] - covidWeek['deaths_prev_wk']\n",
    "\n",
    "# merge all of these covid totaled files at the county level\n",
    "# covidTwoAvgChng,covidWeek,covidTwo,covidTotals\n",
    "covidMsa = pd.merge(covidMsaTotals,covidTwo,how='left',on='MSA')\n",
    "covidMsa = pd.merge(covidMsa,covidWeek,how='left',on='MSA')\n",
    "covidMsa = pd.merge(covidMsa,covidTwoAvgChng,how='left',on='MSA')"
   ]
  },
  {
   "cell_type": "code",
   "execution_count": 34,
   "metadata": {},
   "outputs": [
    {
     "name": "stderr",
     "output_type": "stream",
     "text": [
      "/Users/mmainza/opt/anaconda3/lib/python3.7/site-packages/ipykernel_launcher.py:26: SettingWithCopyWarning: \n",
      "A value is trying to be set on a copy of a slice from a DataFrame.\n",
      "Try using .loc[row_indexer,col_indexer] = value instead\n",
      "\n",
      "See the caveats in the documentation: https://pandas.pydata.org/pandas-docs/stable/user_guide/indexing.html#returning-a-view-versus-a-copy\n"
     ]
    }
   ],
   "source": [
    "# repeat this process but at the regional commission level\n",
    "covidRc.dropna(inplace=True)\n",
    "covidRc = covidRc.groupby(['Regional Commission','date']) \\\n",
    "                       .agg({'daily_cases':'sum', 'daily_deaths': 'sum'}) \\\n",
    "                       .reset_index() \\\n",
    "                       .rename(columns={'daily_cases':'Cases',\n",
    "                                        'daily_deaths':'Deaths',\n",
    "                                        'Regional Commission':'RC'})\n",
    "\n",
    "covidRcTotals = covidRc.groupby('RC') \\\n",
    "                           .agg({'Cases':'sum', 'Deaths': 'sum'}) \\\n",
    "                           .reset_index()\n",
    "\n",
    "# add total new cases last two weeks\n",
    "cutOff = covidRc['date'].max() - pd.Timedelta(days=13)\n",
    "cutOffOne = covidRc['date'].max() - pd.Timedelta(days=6)\n",
    "covidLastTwo = covidRc.loc[covidRc['date'] >= cutOff]\n",
    "\n",
    "covidTwo = covidLastTwo.groupby('RC') \\\n",
    "                                .agg({'Cases':'sum','Deaths':'sum'}) \\\n",
    "                                .reset_index() \\\n",
    "                                .rename(columns={'Cases':'Recent_Cases',\n",
    "                                                 'Deaths':'Recent_Deaths'})\n",
    "\n",
    "# add daily growth rate over last 14 days\n",
    "covidLastTwo['Pct_Chng_Case'] = covidLastTwo.groupby('RC')['Cases'].pct_change()\n",
    "covidLastTwo.Pct_Chng_Case = covidLastTwo.Pct_Chng_Case * 100\n",
    "covidLastTwo['Pct_Chng_Case'].fillna(0, inplace=True)\n",
    "\n",
    "covidTwoAvgChng = covidLastTwo.groupby('RC') \\\n",
    "                                .agg({'Pct_Chng_Case':'mean'}) \\\n",
    "                                .reset_index() \\\n",
    "                                .rename(columns={'Pct_Chng_Case':'avg_daily_change'})\n",
    "\n",
    "# new cases over the last 7 days\n",
    "covidThisWk = covidRc.loc[covidRc['date'] >= cutOffOne]\n",
    "covidThisWk = covidThisWk[['date','RC','Cases','Deaths']]\n",
    "covidThisWk.rename(columns={'Cases' : 'daily_cases_this_wk',\n",
    "                            'Deaths': 'daily_deaths_this_wk'}, inplace=True)\n",
    "# new cases over the previous 7-day period\n",
    "covidPrevWk = covidRc[(covidRc['date'] >= cutOff) & (covidRc['date'] < cutOffOne)]\n",
    "covidPrevWk = covidPrevWk[['date','RC','Cases','Deaths']]\n",
    "covidPrevWk.rename(columns={'Cases' : 'daily_cases_prev_wk',\n",
    "                            'Deaths': 'daily_deaths_prev_wk'}, inplace=True)\n",
    "# total change current week to previous week\n",
    "covidThisWk = covidThisWk.groupby('RC') \\\n",
    "                           .agg({'daily_cases_this_wk':'sum', 'daily_deaths_this_wk': 'sum'}) \\\n",
    "                           .reset_index() \\\n",
    "                           .rename(columns={'daily_cases_this_wk' : 'cases_this_wk',\n",
    "                                            'daily_deaths_this_wk': 'deaths_this_wk'})\n",
    "\n",
    "covidPrevWk = covidPrevWk.groupby('RC') \\\n",
    "                           .agg({'daily_cases_prev_wk':'sum', 'daily_deaths_prev_wk': 'sum'}) \\\n",
    "                           .reset_index() \\\n",
    "                           .rename(columns={'daily_cases_prev_wk' : 'cases_prev_wk',\n",
    "                                            'daily_deaths_prev_wk': 'deaths_prev_wk'})\n",
    "\n",
    "covidWeek = pd.merge(covidThisWk,covidPrevWk,how='left',on='RC')\n",
    "\n",
    "covidWeek['cases_diff'] = covidWeek['cases_this_wk'] - covidWeek['cases_prev_wk']\n",
    "covidWeek['deaths_diff'] = covidWeek['deaths_this_wk'] - covidWeek['deaths_prev_wk']\n",
    "\n",
    "# merge all of these covid totaled files at the county level\n",
    "# covidTwoAvgChng,covidWeek,covidTwo,covidTotals\n",
    "covidRc = pd.merge(covidRcTotals,covidTwo,how='left',on='RC')\n",
    "covidRc = pd.merge(covidRc,covidWeek,how='left',on='RC')\n",
    "covidRc = pd.merge(covidRc,covidTwoAvgChng,how='left',on='RC')"
   ]
  },
  {
   "cell_type": "code",
   "execution_count": 35,
   "metadata": {},
   "outputs": [
    {
     "name": "stderr",
     "output_type": "stream",
     "text": [
      "/Users/mmainza/opt/anaconda3/lib/python3.7/site-packages/ipykernel_launcher.py:25: SettingWithCopyWarning: \n",
      "A value is trying to be set on a copy of a slice from a DataFrame.\n",
      "Try using .loc[row_indexer,col_indexer] = value instead\n",
      "\n",
      "See the caveats in the documentation: https://pandas.pydata.org/pandas-docs/stable/user_guide/indexing.html#returning-a-view-versus-a-copy\n"
     ]
    }
   ],
   "source": [
    "# repeat this process but at the regional commission level\n",
    "covidGa = covidGa.groupby(['State','date']) \\\n",
    "                       .agg({'daily_cases':'sum', 'daily_deaths': 'sum'}) \\\n",
    "                       .reset_index() \\\n",
    "                       .rename(columns={'daily_cases':'Cases',\n",
    "                                        'daily_deaths':'Deaths',\n",
    "                                        'State':'GA'})\n",
    "\n",
    "covidGaTotals = covidGa.groupby('GA') \\\n",
    "                           .agg({'Cases':'sum', 'Deaths': 'sum'}) \\\n",
    "                           .reset_index()\n",
    "\n",
    "# add total new cases last two weeks\n",
    "cutOff = covidGa['date'].max() - pd.Timedelta(days=13)\n",
    "cutOffOne = covidGa['date'].max() - pd.Timedelta(days=6)\n",
    "covidLastTwo = covidGa.loc[covidGa['date'] >= cutOff]\n",
    "\n",
    "covidTwo = covidLastTwo.groupby('GA') \\\n",
    "                                .agg({'Cases':'sum','Deaths':'sum'}) \\\n",
    "                                .reset_index() \\\n",
    "                                .rename(columns={'Cases':'Recent_Cases',\n",
    "                                                 'Deaths':'Recent_Deaths'})\n",
    "\n",
    "# add daily growth rate over last 14 days\n",
    "covidLastTwo['Pct_Chng_Case'] = covidLastTwo.groupby('GA')['Cases'].pct_change()\n",
    "covidLastTwo.Pct_Chng_Case = covidLastTwo.Pct_Chng_Case * 100\n",
    "covidLastTwo['Pct_Chng_Case'].fillna(0, inplace=True)\n",
    "\n",
    "covidTwoAvgChng = covidLastTwo.groupby('GA') \\\n",
    "                                .agg({'Pct_Chng_Case':'mean'}) \\\n",
    "                                .reset_index() \\\n",
    "                                .rename(columns={'Pct_Chng_Case':'avg_daily_change'})\n",
    "\n",
    "# new cases over the last 7 days\n",
    "covidThisWk = covidGa.loc[covidGa['date'] >= cutOffOne]\n",
    "covidThisWk = covidThisWk[['date','GA','Cases','Deaths']]\n",
    "covidThisWk.rename(columns={'Cases' : 'daily_cases_this_wk',\n",
    "                            'Deaths': 'daily_deaths_this_wk'}, inplace=True)\n",
    "# new cases over the previous 7-day period\n",
    "covidPrevWk = covidGa[(covidGa['date'] >= cutOff) & (covidGa['date'] < cutOffOne)]\n",
    "covidPrevWk = covidPrevWk[['date','GA','Cases','Deaths']]\n",
    "covidPrevWk.rename(columns={'Cases' : 'daily_cases_prev_wk',\n",
    "                            'Deaths': 'daily_deaths_prev_wk'}, inplace=True)\n",
    "# total change current week to previous week\n",
    "covidThisWk = covidThisWk.groupby('GA') \\\n",
    "                           .agg({'daily_cases_this_wk':'sum', 'daily_deaths_this_wk': 'sum'}) \\\n",
    "                           .reset_index() \\\n",
    "                           .rename(columns={'daily_cases_this_wk' : 'cases_this_wk',\n",
    "                                            'daily_deaths_this_wk': 'deaths_this_wk'})\n",
    "\n",
    "covidPrevWk = covidPrevWk.groupby('GA') \\\n",
    "                           .agg({'daily_cases_prev_wk':'sum', 'daily_deaths_prev_wk': 'sum'}) \\\n",
    "                           .reset_index() \\\n",
    "                           .rename(columns={'daily_cases_prev_wk' : 'cases_prev_wk',\n",
    "                                            'daily_deaths_prev_wk': 'deaths_prev_wk'})\n",
    "\n",
    "covidWeek = pd.merge(covidThisWk,covidPrevWk,how='left',on='GA')\n",
    "\n",
    "covidWeek['cases_diff'] = covidWeek['cases_this_wk'] - covidWeek['cases_prev_wk']\n",
    "covidWeek['deaths_diff'] = covidWeek['deaths_this_wk'] - covidWeek['deaths_prev_wk']\n",
    "\n",
    "# merge all of these covid totaled files at the county level\n",
    "# covidTwoAvgChng,covidWeek,covidTwo,covidTotals\n",
    "covidGa = pd.merge(covidGaTotals,covidTwo,how='left',on='GA')\n",
    "covidGa = pd.merge(covidGa,covidWeek,how='left',on='GA')\n",
    "covidGa = pd.merge(covidGa,covidTwoAvgChng,how='left',on='GA')"
   ]
  },
  {
   "cell_type": "code",
   "execution_count": 36,
   "metadata": {},
   "outputs": [],
   "source": [
    "rc = pd.merge(rc,countyList,how='left',on='FIPS')\n",
    "rc = rc.groupby('Regional Commission').agg({'Total_Population':'sum'}).reset_index().rename(columns={'Regional Commission':'RC'})\n",
    "covidRc = pd.merge(covidRc,rc,how='left',on='RC')\n",
    "\n",
    "msa = pd.merge(msa,countyList,how='left',on='FIPS')\n",
    "msa = msa.groupby('CBSA Title').agg({'Total_Population':'sum'}).reset_index().rename(columns={'CBSA Title':'MSA'})\n",
    "covidMsa = pd.merge(covidMsa,msa,how='left',on='MSA')\n",
    "\n",
    "gaPop = countyList.copy()\n",
    "gaPop['GA'] = 'Georgia'\n",
    "gaPop = gaPop.groupby('GA').agg({'Total_Population':'sum'}).reset_index()\n",
    "covidGa = pd.merge(covidGa,gaPop,how='left',on='GA')"
   ]
  },
  {
   "cell_type": "code",
   "execution_count": 37,
   "metadata": {},
   "outputs": [],
   "source": [
    "covid = pd.merge(countyList,covid,how='left',on='FIPS')"
   ]
  },
  {
   "cell_type": "code",
   "execution_count": 38,
   "metadata": {},
   "outputs": [],
   "source": [
    "covid.fillna(0, inplace=True)"
   ]
  },
  {
   "cell_type": "code",
   "execution_count": 39,
   "metadata": {},
   "outputs": [],
   "source": [
    "# the calcs that are performed on the counties frame below on covid stuff\n",
    "covid['CasesPer1K'] = ( covid['Cases'] / covid['Total_Population'] ) * 1000\n",
    "covid['CasesWeekChng100k'] = ( covid['cases_diff'] / covid['Total_Population'] ) * 100000\n",
    "covid['DeathsWeekChng100k'] = ( covid['deaths_diff'] / covid['Total_Population'] ) * 100000\n",
    "\n",
    "covidRc['CasesPer1K'] = ( covidRc['Cases'] / covidRc['Total_Population'] ) * 1000\n",
    "covidRc['CasesWeekChng100k'] = ( covidRc['cases_diff'] / covidRc['Total_Population'] ) * 100000\n",
    "covidRc['DeathsWeekChng100k'] = ( covidRc['deaths_diff'] / covidRc['Total_Population'] ) * 100000\n",
    "\n",
    "covidMsa['CasesPer1K'] = ( covidMsa['Cases'] / covidMsa['Total_Population'] ) * 1000\n",
    "covidMsa['CasesWeekChng100k'] = ( covidMsa['cases_diff'] / covidMsa['Total_Population'] ) * 100000\n",
    "covidMsa['DeathsWeekChng100k'] = ( covidMsa['deaths_diff'] / covidMsa['Total_Population'] ) * 100000\n",
    "\n",
    "covidGa['CasesPer1K'] = ( covidGa['Cases'] / covidGa['Total_Population'] ) * 1000\n",
    "covidGa['CasesWeekChng100k'] = ( covidGa['cases_diff'] / covidGa['Total_Population'] ) * 100000\n",
    "covidGa['DeathsWeekChng100k'] = ( covidGa['deaths_diff'] / covidGa['Total_Population'] ) * 100000\n",
    "# then shape those frames to only have the necessary columns\n",
    "# stack and push to json"
   ]
  },
  {
   "cell_type": "code",
   "execution_count": 40,
   "metadata": {},
   "outputs": [],
   "source": [
    "covid.Cases = covid.Cases.astype(int)\n",
    "covid.Deaths = covid.Deaths.astype(int)\n",
    "covid.Recent_Cases = covid.Recent_Cases.astype(int)\n",
    "covid.Recent_Deaths = covid.Recent_Deaths.astype(int)\n",
    "covid.cases_this_wk = covid.cases_this_wk.astype(int)\n",
    "covid.deaths_this_wk = covid.deaths_this_wk.astype(int)\n",
    "covid.cases_prev_wk = covid.cases_prev_wk.astype(int)\n",
    "covid.deaths_prev_wk = covid.deaths_prev_wk.astype(int)\n",
    "covid.cases_diff = covid.cases_diff.astype(int)\n",
    "covid.deaths_diff = covid.deaths_diff.astype(int)\n",
    "covid.avg_daily_change = covid.avg_daily_change.round(1)\n",
    "covid.CasesPer1K = covid.CasesPer1K.round(1)\n",
    "covid.CasesWeekChng100k = covid.CasesWeekChng100k.round(1)\n",
    "covid.DeathsWeekChng100k = covid.DeathsWeekChng100k.round(1)\n",
    "\n",
    "covidRc.Cases = covidRc.Cases.astype(int)\n",
    "covidRc.Deaths = covidRc.Deaths.astype(int)\n",
    "covidRc.Recent_Cases = covidRc.Recent_Cases.astype(int)\n",
    "covidRc.Recent_Deaths = covidRc.Recent_Deaths.astype(int)\n",
    "covidRc.cases_this_wk = covidRc.cases_this_wk.astype(int)\n",
    "covidRc.deaths_this_wk = covidRc.deaths_this_wk.astype(int)\n",
    "covidRc.cases_prev_wk = covidRc.cases_prev_wk.astype(int)\n",
    "covidRc.deaths_prev_wk = covidRc.deaths_prev_wk.astype(int)\n",
    "covidRc.cases_diff = covidRc.cases_diff.astype(int)\n",
    "covidRc.deaths_diff = covidRc.deaths_diff.astype(int)\n",
    "covidRc.avg_daily_change = covidRc.avg_daily_change.round(1)\n",
    "covidRc.CasesPer1K = covidRc.CasesPer1K.round(1)\n",
    "covidRc.CasesWeekChng100k = covidRc.CasesWeekChng100k.round(1)\n",
    "covidRc.DeathsWeekChng100k = covidRc.DeathsWeekChng100k.round(1)\n",
    "\n",
    "covidMsa.Cases = covidMsa.Cases.astype(int)\n",
    "covidMsa.Deaths = covidMsa.Deaths.astype(int)\n",
    "covidMsa.Recent_Cases = covidMsa.Recent_Cases.astype(int)\n",
    "covidMsa.Recent_Deaths = covidMsa.Recent_Deaths.astype(int)\n",
    "covidMsa.cases_this_wk = covidMsa.cases_this_wk.astype(int)\n",
    "covidMsa.deaths_this_wk = covidMsa.deaths_this_wk.astype(int)\n",
    "covidMsa.cases_prev_wk = covidMsa.cases_prev_wk.astype(int)\n",
    "covidMsa.deaths_prev_wk = covidMsa.deaths_prev_wk.astype(int)\n",
    "covidMsa.cases_diff = covidMsa.cases_diff.astype(int)\n",
    "covidMsa.deaths_diff = covidMsa.deaths_diff.astype(int)\n",
    "covidMsa.avg_daily_change = covidMsa.avg_daily_change.round(1)\n",
    "covidMsa.CasesPer1K = covidMsa.CasesPer1K.round(1)\n",
    "covidMsa.CasesWeekChng100k = covidMsa.CasesWeekChng100k.round(1)\n",
    "covidMsa.DeathsWeekChng100k = covidMsa.DeathsWeekChng100k.round(1)\n",
    "\n",
    "covidGa.Cases = covidGa.Cases.astype(int)\n",
    "covidGa.Deaths = covidGa.Deaths.astype(int)\n",
    "covidGa.Recent_Cases = covidGa.Recent_Cases.astype(int)\n",
    "covidGa.Recent_Deaths = covidGa.Recent_Deaths.astype(int)\n",
    "covidGa.cases_this_wk = covidGa.cases_this_wk.astype(int)\n",
    "covidGa.deaths_this_wk = covidGa.deaths_this_wk.astype(int)\n",
    "covidGa.cases_prev_wk = covidGa.cases_prev_wk.astype(int)\n",
    "covidGa.deaths_prev_wk = covidGa.deaths_prev_wk.astype(int)\n",
    "covidGa.cases_diff = covidGa.cases_diff.astype(int)\n",
    "covidGa.deaths_diff = covidGa.deaths_diff.astype(int)\n",
    "covidGa.avg_daily_change = covidGa.avg_daily_change.round(1)\n",
    "covidGa.CasesPer1K = covidGa.CasesPer1K.round(1)\n",
    "covidGa.CasesWeekChng100k = covidGa.CasesWeekChng100k.round(1)\n",
    "covidGa.DeathsWeekChng100k = covidGa.DeathsWeekChng100k.round(1)"
   ]
  },
  {
   "cell_type": "code",
   "execution_count": 41,
   "metadata": {},
   "outputs": [],
   "source": [
    "covid.rename(columns={'County':'area'}, inplace=True)\n",
    "covidRc.rename(columns={'RC':'area'}, inplace=True)\n",
    "covidMsa.rename(columns={'MSA':'area'}, inplace=True)\n",
    "covidGa.rename(columns={'GA':'area'}, inplace=True)\n",
    "\n",
    "counties = pd.merge(counties,covid,how='left',on='FIPS')\n",
    "counties['Cases'].fillna(0, inplace=True)\n",
    "counties['Deaths'].fillna(0, inplace=True)\n",
    "\n",
    "del covid['FIPS']\n",
    "\n",
    "covid = covid.append( [covidRc,covidMsa,covidGa] )\n",
    "\n",
    "covid.reset_index(drop=True, inplace=True)"
   ]
  },
  {
   "cell_type": "code",
   "execution_count": 42,
   "metadata": {},
   "outputs": [],
   "source": [
    "del counties['area']\n",
    "del counties['Total_Population_y']\n",
    "counties.rename(columns={'Total_Population_x':'Total_Population'}, inplace=True)"
   ]
  },
  {
   "cell_type": "code",
   "execution_count": 43,
   "metadata": {},
   "outputs": [],
   "source": [
    "# add custom columns on rates, etc.\n",
    "counties['COVID_Death_Rate'] = ( counties['Deaths'] / counties['Cases'] ) * 100\n",
    "counties['COVID_Deaths_Per_1000'] = ( counties['Deaths'] / counties['Total_Population'] ) * 1000\n",
    "counties['COVID_Cases_Per_1000'] = ( counties['Cases'] / counties['Total_Population'] ) * 1000\n",
    "# add total new cases per 100000\n",
    "counties['Cases_Wk_Chng_100k'] = ( counties['cases_diff'] / counties['Total_Population'] ) * 100000\n",
    "# add total new daths per 100000\n",
    "counties['Deaths_Wk_Chng_100k'] = ( counties['deaths_diff'] / counties['Total_Population'] ) * 100000"
   ]
  },
  {
   "cell_type": "code",
   "execution_count": 44,
   "metadata": {},
   "outputs": [],
   "source": [
    "countyClaims = countyClaims.melt(id_vars=[\"FIPS\", \"County\",\"Year\"], var_name=\"Month\", value_name=\"Claims\")"
   ]
  },
  {
   "cell_type": "code",
   "execution_count": 45,
   "metadata": {},
   "outputs": [],
   "source": [
    "countyClaimsNew = countyClaims.loc[countyClaims['Year'] == 2020]\n",
    "countyClaimsNew = countyClaimsNew.loc[countyClaimsNew['Month'] == \"March\"]\n",
    "countyClaimsLast = countyClaims.loc[countyClaims['Year'] == 2020]\n",
    "countyClaimsLast = countyClaimsLast.loc[countyClaimsLast['Month'] == \"February\"]\n",
    "\n",
    "claims = pd.merge(countyClaimsNew, countyClaimsLast, how='left', on='FIPS')"
   ]
  },
  {
   "cell_type": "code",
   "execution_count": 46,
   "metadata": {},
   "outputs": [],
   "source": [
    "claims.rename(columns={'Claims_x' : 'March_Claims',\n",
    "                       'Claims_y' : 'February_Claims'}, inplace=True)\n",
    "\n",
    "claims['Claims_Pct_Change'] = ( ( claims['March_Claims'] - claims['February_Claims'] ) / claims['February_Claims'] ) * 100"
   ]
  },
  {
   "cell_type": "code",
   "execution_count": 47,
   "metadata": {},
   "outputs": [],
   "source": [
    "claims['Claims_Pct_Change'] = claims['Claims_Pct_Change'].round(1)"
   ]
  },
  {
   "cell_type": "code",
   "execution_count": 48,
   "metadata": {},
   "outputs": [],
   "source": [
    "claims['FIPS'] = claims['FIPS'].astype(str)"
   ]
  },
  {
   "cell_type": "code",
   "execution_count": 49,
   "metadata": {},
   "outputs": [],
   "source": [
    "claims = claims[['FIPS','March_Claims','February_Claims','Claims_Pct_Change']]"
   ]
  },
  {
   "cell_type": "code",
   "execution_count": 50,
   "metadata": {},
   "outputs": [],
   "source": [
    "claims.sort_values('February_Claims', inplace=True)"
   ]
  },
  {
   "cell_type": "code",
   "execution_count": 51,
   "metadata": {},
   "outputs": [],
   "source": [
    "counties = pd.merge(counties, claims, how='left', on='FIPS')"
   ]
  },
  {
   "cell_type": "code",
   "execution_count": 52,
   "metadata": {},
   "outputs": [],
   "source": [
    "counties.sort_values('February_Claims', inplace=True)"
   ]
  },
  {
   "cell_type": "code",
   "execution_count": 53,
   "metadata": {},
   "outputs": [],
   "source": [
    "counties['Cases_1000_Norm'] = (counties.iloc[ : , 29 ]-counties.iloc[ : , 29 ].min())/(counties.iloc[ : , 29 ].max()-counties.iloc[ : , 29 ].min()) * 100"
   ]
  },
  {
   "cell_type": "code",
   "execution_count": 54,
   "metadata": {},
   "outputs": [],
   "source": [
    "counties = counties[['FIPS','County','Total_Population','Population_Under_18','Population_Over_18','Population_Over_65',\n",
    "                     'Population_Pct_Over_65','Jobs','Jobs_Frequent_Disease_Exposure','Jobs_Pct_Disease_Exposure',\n",
    "                     'Jobs_Frequent_Physical_Proximity','Jobs_Pct_Prox','Socioeconomic_Status',\n",
    "                     'Household_Comp_Disability','Minority_Status_Language','Housing_Transportation',\n",
    "                     'Epidemiology','Healthcare_System','CCVI_Score','Hospitals','Beds','Beds_per_1000','Pct_Uninsured',\n",
    "                     'Beds_per_1000_Elderly','Cases','Deaths','COVID_Death_Rate','COVID_Deaths_Per_1000','COVID_Cases_Per_1000','Cases_1000_Norm',\n",
    "                     'Deaths_Wk_Chng_100k','Cases_Wk_Chng_100k','avg_daily_change',\n",
    "                     'March_Claims','February_Claims','Claims_Pct_Change','geometry']]\n",
    "\n",
    "counties.rename(columns={'avg_daily_change' : 'Cases_Avg_Pct_Chng_Daily'}, inplace=True)"
   ]
  },
  {
   "cell_type": "code",
   "execution_count": 55,
   "metadata": {},
   "outputs": [],
   "source": [
    "counties['Cases_1000_Norm'].fillna(0,inplace=True)\n",
    "counties['Deaths_Wk_Chng_100k'].fillna(0,inplace=True)\n",
    "counties['Cases_Wk_Chng_100k'].fillna(0,inplace=True)\n",
    "counties['Cases_Avg_Pct_Chng_Daily'].fillna(0,inplace=True)\n",
    "counties['COVID_Death_Rate'].fillna(0,inplace=True)\n",
    "counties['COVID_Deaths_Per_1000'].fillna(0,inplace=True)"
   ]
  },
  {
   "cell_type": "code",
   "execution_count": 56,
   "metadata": {},
   "outputs": [],
   "source": [
    "counties = gpd.GeoDataFrame(counties, geometry='geometry')"
   ]
  },
  {
   "cell_type": "code",
   "execution_count": 57,
   "metadata": {},
   "outputs": [],
   "source": [
    "# round all values in your tilesets\n",
    "counties.Population_Pct_Over_65 = counties.Population_Pct_Over_65.round(1)\n",
    "counties.Jobs_Frequent_Disease_Exposure = counties.Jobs_Frequent_Disease_Exposure.round(1)\n",
    "counties.Jobs_Pct_Disease_Exposure = counties.Jobs_Pct_Disease_Exposure.round(1)\n",
    "counties.Jobs_Frequent_Physical_Proximity = counties.Jobs_Frequent_Physical_Proximity.round(1)\n",
    "counties.Jobs_Pct_Prox = counties.Jobs_Pct_Prox.round(1)\n",
    "counties.Socioeconomic_Status = counties.Socioeconomic_Status.round(2)\n",
    "counties.Household_Comp_Disability = counties.Household_Comp_Disability.round(2)\n",
    "counties.Minority_Status_Language = counties.Minority_Status_Language.round(2)\n",
    "counties.Housing_Transportation = counties.Housing_Transportation.round(2)\n",
    "counties.Epidemiology = counties.Epidemiology.round(2)\n",
    "counties.Healthcare_System = counties.Healthcare_System.round(2)\n",
    "counties.CCVI_Score = counties.CCVI_Score.round(2)\n",
    "counties.Hospitals = counties.Hospitals.astype(int)\n",
    "counties.Beds = counties.Beds.astype(int)\n",
    "counties.Beds_per_1000 = counties.Beds_per_1000.round(1)\n",
    "counties.Pct_Uninsured = counties.Pct_Uninsured.round(1)\n",
    "counties.Beds_per_1000_Elderly = counties.Beds_per_1000_Elderly.round(1)\n",
    "counties.COVID_Cases_Per_1000 = counties.COVID_Cases_Per_1000.round(1)\n",
    "counties.Cases_1000_Norm = counties.Cases_1000_Norm.round(1)\n",
    "counties.Deaths_Wk_Chng_100k = counties.Deaths_Wk_Chng_100k.round(1)\n",
    "counties.Cases_Wk_Chng_100k = counties.Cases_Wk_Chng_100k.round(1)\n",
    "counties.Cases_Avg_Pct_Chng_Daily = counties.Cases_Avg_Pct_Chng_Daily.round(1)\n",
    "counties.COVID_Death_Rate = counties.COVID_Death_Rate.round(1)\n",
    "counties.COVID_Deaths_Per_1000 = counties.COVID_Deaths_Per_1000.round(1)"
   ]
  },
  {
   "cell_type": "code",
   "execution_count": 58,
   "metadata": {},
   "outputs": [],
   "source": [
    "countyPoints = counties.copy()"
   ]
  },
  {
   "cell_type": "code",
   "execution_count": 59,
   "metadata": {},
   "outputs": [],
   "source": [
    "countyPoints['geometry'] = counties['geometry'].centroid"
   ]
  },
  {
   "cell_type": "code",
   "execution_count": 60,
   "metadata": {},
   "outputs": [],
   "source": [
    "countyPoints.sort_values('Cases_1000_Norm', inplace=True)\n",
    "countyPoints['Cases_1000_Norm'].round(1)\n",
    "counties['COVID_Death_Rate'].fillna(0, inplace=True)\n",
    "countyPoints['COVID_Death_Rate'].fillna(0, inplace=True)"
   ]
  },
  {
   "cell_type": "code",
   "execution_count": 61,
   "metadata": {},
   "outputs": [],
   "source": [
    "countyData = counties[['FIPS','County','Cases','Deaths','Total_Population','Population_Under_18','Population_Over_18','Population_Over_65',\n",
    "                     'Population_Pct_Over_65','Jobs','Jobs_Frequent_Disease_Exposure','Jobs_Pct_Disease_Exposure',\n",
    "                     'Jobs_Frequent_Physical_Proximity','Jobs_Pct_Prox','Socioeconomic_Status',\n",
    "                     'Household_Comp_Disability','Minority_Status_Language','Housing_Transportation',\n",
    "                     'Epidemiology','Healthcare_System','CCVI_Score','Hospitals','Beds','Beds_per_1000','Pct_Uninsured',\n",
    "                     'Beds_per_1000_Elderly','COVID_Death_Rate','COVID_Deaths_Per_1000','COVID_Cases_Per_1000','Cases_1000_Norm',\n",
    "                     'Deaths_Wk_Chng_100k','Cases_Wk_Chng_100k','Cases_Avg_Pct_Chng_Daily',\n",
    "                     'March_Claims','February_Claims','Claims_Pct_Change']]"
   ]
  },
  {
   "cell_type": "code",
   "execution_count": 62,
   "metadata": {},
   "outputs": [],
   "source": [
    "hospitals = hospitals[['ID','NAME','ADDRESS','CITY','STATE','ZIP','TYPE','STATUS','COUNTY','COUNTYFIPS',\n",
    "                       'LATITUDE','LONGITUDE','NAICS_CODE','NAICS_DESC','BEDS','TRAUMA',\n",
    "                       'HELIPAD','geometry']]"
   ]
  },
  {
   "cell_type": "code",
   "execution_count": null,
   "metadata": {},
   "outputs": [],
   "source": []
  },
  {
   "cell_type": "code",
   "execution_count": 63,
   "metadata": {},
   "outputs": [],
   "source": [
    "# covid neds to be restructured again into a kpi file for the kpi portion of the tool\n",
    "# so only keep necessary columns to reduce size\n",
    "covidKpi = covid[['area','Cases','Deaths','CasesPer1K','Recent_Cases','avg_daily_change']]"
   ]
  },
  {
   "cell_type": "code",
   "execution_count": 64,
   "metadata": {},
   "outputs": [],
   "source": [
    "covidKpi.set_index('area', inplace=True)"
   ]
  },
  {
   "cell_type": "code",
   "execution_count": 65,
   "metadata": {},
   "outputs": [
    {
     "data": {
      "text/plain": [
       "'{\"Appling County\":{\"Cases\":78,\"Deaths\":10,\"CasesPer1K\":4.2,\"Recent_Cases\":31,\"avg_daily_change\":3.4},\"Atkinson County\":{\"Cases\":18,\"Deaths\":1,\"CasesPer1K\":2.2,\"Recent_Cases\":13,\"avg_daily_change\":7.4},\"Bacon County\":{\"Cases\":29,\"Deaths\":1,\"CasesPer1K\":2.6,\"Recent_Cases\":9,\"avg_daily_change\":2.7},\"Baker County\":{\"Cases\":28,\"Deaths\":2,\"CasesPer1K\":8.8,\"Recent_Cases\":10,\"avg_daily_change\":2.9},\"Baldwin County\":{\"Cases\":263,\"Deaths\":10,\"CasesPer1K\":5.8,\"Recent_Cases\":108,\"avg_daily_change\":3.6},\"Banks County\":{\"Cases\":32,\"Deaths\":0,\"CasesPer1K\":1.7,\"Recent_Cases\":16,\"avg_daily_change\":4.8},\"Barrow County\":{\"Cases\":197,\"Deaths\":5,\"CasesPer1K\":2.6,\"Recent_Cases\":94,\"avg_daily_change\":4.6},\"Bartow County\":{\"Cases\":359,\"Deaths\":32,\"CasesPer1K\":3.5,\"Recent_Cases\":100,\"avg_daily_change\":2.2},\"Ben Hill County\":{\"Cases\":36,\"Deaths\":0,\"CasesPer1K\":2.1,\"Recent_Cases\":16,\"avg_daily_change\":4.1},\"Berrien County\":{\"Cases\":19,\"Deaths\":0,\"CasesPer1K\":1.0,\"Recent_Cases\":9,\"avg_daily_change\":3.5},\"Bibb County\":{\"Cases\":367,\"Deaths\":14,\"CasesPer1K\":2.4,\"Recent_Cases\":143,\"avg_daily_change\":3.3},\"Bleckley County\":{\"Cases\":21,\"Deaths\":0,\"CasesPer1K\":1.6,\"Recent_Cases\":16,\"avg_daily_change\":9.0},\"Brantley County\":{\"Cases\":22,\"Deaths\":2,\"CasesPer1K\":1.2,\"Recent_Cases\":2,\"avg_daily_change\":0.7},\"Brooks County\":{\"Cases\":64,\"Deaths\":7,\"CasesPer1K\":4.1,\"Recent_Cases\":28,\"avg_daily_change\":4.3},\"Bryan County\":{\"Cases\":57,\"Deaths\":4,\"CasesPer1K\":1.6,\"Recent_Cases\":20,\"avg_daily_change\":2.1},\"Bulloch County\":{\"Cases\":42,\"Deaths\":2,\"CasesPer1K\":0.6,\"Recent_Cases\":9,\"avg_daily_change\":1.8},\"Burke County\":{\"Cases\":89,\"Deaths\":3,\"CasesPer1K\":3.9,\"Recent_Cases\":36,\"avg_daily_change\":3.0},\"Butts County\":{\"Cases\":163,\"Deaths\":17,\"CasesPer1K\":6.9,\"Recent_Cases\":38,\"avg_daily_change\":1.9},\"Calhoun County\":{\"Cases\":109,\"Deaths\":4,\"CasesPer1K\":17.0,\"Recent_Cases\":33,\"avg_daily_change\":2.1},\"Camden County\":{\"Cases\":34,\"Deaths\":1,\"CasesPer1K\":0.6,\"Recent_Cases\":7,\"avg_daily_change\":1.4},\"Candler County\":{\"Cases\":7,\"Deaths\":0,\"CasesPer1K\":0.6,\"Recent_Cases\":0,\"avg_daily_change\":0.0},\"Carroll County\":{\"Cases\":391,\"Deaths\":15,\"CasesPer1K\":3.4,\"Recent_Cases\":87,\"avg_daily_change\":1.6},\"Catoosa County\":{\"Cases\":52,\"Deaths\":0,\"CasesPer1K\":0.8,\"Recent_Cases\":7,\"avg_daily_change\":1.1},\"Charlton County\":{\"Cases\":13,\"Deaths\":0,\"CasesPer1K\":1.0,\"Recent_Cases\":6,\"avg_daily_change\":4.9},\"Chatham County\":{\"Cases\":282,\"Deaths\":12,\"CasesPer1K\":1.0,\"Recent_Cases\":89,\"avg_daily_change\":2.5},\"Chattahoochee County\":{\"Cases\":12,\"Deaths\":0,\"CasesPer1K\":1.1,\"Recent_Cases\":4,\"avg_daily_change\":3.1},\"Chattooga County\":{\"Cases\":15,\"Deaths\":2,\"CasesPer1K\":0.6,\"Recent_Cases\":4,\"avg_daily_change\":2.4},\"Cherokee County\":{\"Cases\":544,\"Deaths\":16,\"CasesPer1K\":2.2,\"Recent_Cases\":204,\"avg_daily_change\":2.9},\"Clarke County\":{\"Cases\":174,\"Deaths\":13,\"CasesPer1K\":1.4,\"Recent_Cases\":56,\"avg_daily_change\":2.6},\"Clay County\":{\"Cases\":27,\"Deaths\":3,\"CasesPer1K\":9.0,\"Recent_Cases\":7,\"avg_daily_change\":2.2},\"Clayton County\":{\"Cases\":849,\"Deaths\":33,\"CasesPer1K\":3.0,\"Recent_Cases\":300,\"avg_daily_change\":2.3},\"Clinch County\":{\"Cases\":16,\"Deaths\":0,\"CasesPer1K\":2.4,\"Recent_Cases\":9,\"avg_daily_change\":7.2},\"Cobb County\":{\"Cases\":1998,\"Deaths\":107,\"CasesPer1K\":2.7,\"Recent_Cases\":726,\"avg_daily_change\":3.0},\"Coffee County\":{\"Cases\":159,\"Deaths\":8,\"CasesPer1K\":3.7,\"Recent_Cases\":75,\"avg_daily_change\":4.1},\"Colquitt County\":{\"Cases\":198,\"Deaths\":10,\"CasesPer1K\":4.3,\"Recent_Cases\":40,\"avg_daily_change\":1.4},\"Columbia County\":{\"Cases\":170,\"Deaths\":5,\"CasesPer1K\":1.2,\"Recent_Cases\":46,\"avg_daily_change\":2.0},\"Cook County\":{\"Cases\":31,\"Deaths\":1,\"CasesPer1K\":1.8,\"Recent_Cases\":16,\"avg_daily_change\":5.5},\"Coweta County\":{\"Cases\":246,\"Deaths\":4,\"CasesPer1K\":1.8,\"Recent_Cases\":78,\"avg_daily_change\":2.4},\"Crawford County\":{\"Cases\":19,\"Deaths\":0,\"CasesPer1K\":1.5,\"Recent_Cases\":5,\"avg_daily_change\":2.3},\"Crisp County\":{\"Cases\":178,\"Deaths\":6,\"CasesPer1K\":7.8,\"Recent_Cases\":48,\"avg_daily_change\":1.7},\"Dade County\":{\"Cases\":17,\"Deaths\":1,\"CasesPer1K\":1.0,\"Recent_Cases\":3,\"avg_daily_change\":1.4},\"Dawson County\":{\"Cases\":72,\"Deaths\":1,\"CasesPer1K\":3.0,\"Recent_Cases\":23,\"avg_daily_change\":2.7},\"Decatur County\":{\"Cases\":105,\"Deaths\":2,\"CasesPer1K\":3.9,\"Recent_Cases\":55,\"avg_daily_change\":4.3},\"DeKalb County\":{\"Cases\":2357,\"Deaths\":61,\"CasesPer1K\":3.2,\"Recent_Cases\":748,\"avg_daily_change\":2.4},\"Dodge County\":{\"Cases\":32,\"Deaths\":1,\"CasesPer1K\":1.5,\"Recent_Cases\":11,\"avg_daily_change\":2.7},\"Dooly County\":{\"Cases\":133,\"Deaths\":11,\"CasesPer1K\":9.6,\"Recent_Cases\":59,\"avg_daily_change\":3.9},\"Dougherty County\":{\"Cases\":1555,\"Deaths\":126,\"CasesPer1K\":17.1,\"Recent_Cases\":90,\"avg_daily_change\":0.4},\"Douglas County\":{\"Cases\":363,\"Deaths\":11,\"CasesPer1K\":2.6,\"Recent_Cases\":104,\"avg_daily_change\":2.1},\"Early County\":{\"Cases\":221,\"Deaths\":25,\"CasesPer1K\":21.4,\"Recent_Cases\":37,\"avg_daily_change\":1.3},\"Echols County\":{\"Cases\":5,\"Deaths\":0,\"CasesPer1K\":1.3,\"Recent_Cases\":0,\"avg_daily_change\":0.0},\"Effingham County\":{\"Cases\":38,\"Deaths\":1,\"CasesPer1K\":0.6,\"Recent_Cases\":8,\"avg_daily_change\":1.0},\"Elbert County\":{\"Cases\":33,\"Deaths\":0,\"CasesPer1K\":1.7,\"Recent_Cases\":23,\"avg_daily_change\":6.5},\"Emanuel County\":{\"Cases\":22,\"Deaths\":0,\"CasesPer1K\":1.0,\"Recent_Cases\":7,\"avg_daily_change\":1.9},\"Evans County\":{\"Cases\":5,\"Deaths\":0,\"CasesPer1K\":0.5,\"Recent_Cases\":1,\"avg_daily_change\":1.8},\"Fannin County\":{\"Cases\":33,\"Deaths\":1,\"CasesPer1K\":1.3,\"Recent_Cases\":13,\"avg_daily_change\":3.7},\"Fayette County\":{\"Cases\":188,\"Deaths\":11,\"CasesPer1K\":1.7,\"Recent_Cases\":42,\"avg_daily_change\":1.4},\"Floyd County\":{\"Cases\":152,\"Deaths\":11,\"CasesPer1K\":1.6,\"Recent_Cases\":24,\"avg_daily_change\":1.2},\"Forsyth County\":{\"Cases\":356,\"Deaths\":10,\"CasesPer1K\":1.6,\"Recent_Cases\":129,\"avg_daily_change\":3.0},\"Franklin County\":{\"Cases\":25,\"Deaths\":1,\"CasesPer1K\":1.1,\"Recent_Cases\":12,\"avg_daily_change\":3.3},\"Fulton County\":{\"Cases\":3250,\"Deaths\":135,\"CasesPer1K\":3.2,\"Recent_Cases\":995,\"avg_daily_change\":2.1},\"Gilmer County\":{\"Cases\":83,\"Deaths\":0,\"CasesPer1K\":2.8,\"Recent_Cases\":63,\"avg_daily_change\":8.3},\"Glascock County\":{\"Cases\":0,\"Deaths\":0,\"CasesPer1K\":0.0,\"Recent_Cases\":0,\"avg_daily_change\":0.0},\"Glynn County\":{\"Cases\":68,\"Deaths\":1,\"CasesPer1K\":0.8,\"Recent_Cases\":17,\"avg_daily_change\":2.2},\"Gordon County\":{\"Cases\":118,\"Deaths\":14,\"CasesPer1K\":2.1,\"Recent_Cases\":48,\"avg_daily_change\":3.6},\"Grady County\":{\"Cases\":75,\"Deaths\":4,\"CasesPer1K\":3.0,\"Recent_Cases\":35,\"avg_daily_change\":3.6},\"Greene County\":{\"Cases\":55,\"Deaths\":5,\"CasesPer1K\":3.2,\"Recent_Cases\":6,\"avg_daily_change\":0.8},\"Gwinnett County\":{\"Cases\":2222,\"Deaths\":81,\"CasesPer1K\":2.5,\"Recent_Cases\":949,\"avg_daily_change\":3.6},\"Habersham County\":{\"Cases\":376,\"Deaths\":12,\"CasesPer1K\":8.5,\"Recent_Cases\":246,\"avg_daily_change\":7.0},\"Hall County\":{\"Cases\":1914,\"Deaths\":27,\"CasesPer1K\":9.8,\"Recent_Cases\":1007,\"avg_daily_change\":5.1},\"Hancock County\":{\"Cases\":110,\"Deaths\":2,\"CasesPer1K\":12.9,\"Recent_Cases\":99,\"avg_daily_change\":17.2},\"Haralson County\":{\"Cases\":31,\"Deaths\":2,\"CasesPer1K\":1.1,\"Recent_Cases\":6,\"avg_daily_change\":1.3},\"Harris County\":{\"Cases\":60,\"Deaths\":2,\"CasesPer1K\":1.8,\"Recent_Cases\":11,\"avg_daily_change\":0.6},\"Hart County\":{\"Cases\":15,\"Deaths\":0,\"CasesPer1K\":0.6,\"Recent_Cases\":9,\"avg_daily_change\":7.4},\"Heard County\":{\"Cases\":14,\"Deaths\":1,\"CasesPer1K\":1.2,\"Recent_Cases\":6,\"avg_daily_change\":3.4},\"Henry County\":{\"Cases\":546,\"Deaths\":14,\"CasesPer1K\":2.5,\"Recent_Cases\":160,\"avg_daily_change\":2.0},\"Houston County\":{\"Cases\":274,\"Deaths\":14,\"CasesPer1K\":1.8,\"Recent_Cases\":84,\"avg_daily_change\":2.5},\"Irwin County\":{\"Cases\":20,\"Deaths\":1,\"CasesPer1K\":2.2,\"Recent_Cases\":5,\"avg_daily_change\":2.1},\"Jackson County\":{\"Cases\":117,\"Deaths\":3,\"CasesPer1K\":1.8,\"Recent_Cases\":54,\"avg_daily_change\":3.9},\"Jasper County\":{\"Cases\":26,\"Deaths\":0,\"CasesPer1K\":1.9,\"Recent_Cases\":8,\"avg_daily_change\":2.3},\"Jeff Davis County\":{\"Cases\":22,\"Deaths\":1,\"CasesPer1K\":1.5,\"Recent_Cases\":15,\"avg_daily_change\":6.9},\"Jefferson County\":{\"Cases\":17,\"Deaths\":1,\"CasesPer1K\":1.1,\"Recent_Cases\":6,\"avg_daily_change\":2.6},\"Jenkins County\":{\"Cases\":17,\"Deaths\":1,\"CasesPer1K\":1.9,\"Recent_Cases\":3,\"avg_daily_change\":0.9},\"Johnson County\":{\"Cases\":64,\"Deaths\":2,\"CasesPer1K\":6.6,\"Recent_Cases\":28,\"avg_daily_change\":4.4},\"Jones County\":{\"Cases\":31,\"Deaths\":0,\"CasesPer1K\":1.1,\"Recent_Cases\":9,\"avg_daily_change\":1.9},\"Lamar County\":{\"Cases\":39,\"Deaths\":1,\"CasesPer1K\":2.1,\"Recent_Cases\":11,\"avg_daily_change\":1.7},\"Lanier County\":{\"Cases\":10,\"Deaths\":1,\"CasesPer1K\":1.0,\"Recent_Cases\":3,\"avg_daily_change\":2.7},\"Laurens County\":{\"Cases\":70,\"Deaths\":1,\"CasesPer1K\":1.5,\"Recent_Cases\":26,\"avg_daily_change\":3.1},\"Lee County\":{\"Cases\":338,\"Deaths\":22,\"CasesPer1K\":11.5,\"Recent_Cases\":44,\"avg_daily_change\":0.9},\"Liberty County\":{\"Cases\":39,\"Deaths\":0,\"CasesPer1K\":0.6,\"Recent_Cases\":5,\"avg_daily_change\":0.8},\"Lincoln County\":{\"Cases\":12,\"Deaths\":0,\"CasesPer1K\":1.5,\"Recent_Cases\":2,\"avg_daily_change\":1.4},\"Long County\":{\"Cases\":5,\"Deaths\":0,\"CasesPer1K\":0.3,\"Recent_Cases\":3,\"avg_daily_change\":7.7},\"Lowndes County\":{\"Cases\":170,\"Deaths\":4,\"CasesPer1K\":1.5,\"Recent_Cases\":48,\"avg_daily_change\":2.2},\"Lumpkin County\":{\"Cases\":72,\"Deaths\":1,\"CasesPer1K\":2.3,\"Recent_Cases\":46,\"avg_daily_change\":7.4},\"McDuffie County\":{\"Cases\":50,\"Deaths\":4,\"CasesPer1K\":2.3,\"Recent_Cases\":13,\"avg_daily_change\":1.8},\"McIntosh County\":{\"Cases\":5,\"Deaths\":0,\"CasesPer1K\":0.4,\"Recent_Cases\":1,\"avg_daily_change\":1.8},\"Macon County\":{\"Cases\":81,\"Deaths\":3,\"CasesPer1K\":6.0,\"Recent_Cases\":22,\"avg_daily_change\":1.5},\"Madison County\":{\"Cases\":27,\"Deaths\":1,\"CasesPer1K\":0.9,\"Recent_Cases\":9,\"avg_daily_change\":2.6},\"Marion County\":{\"Cases\":37,\"Deaths\":1,\"CasesPer1K\":4.4,\"Recent_Cases\":4,\"avg_daily_change\":0.6},\"Meriwether County\":{\"Cases\":59,\"Deaths\":1,\"CasesPer1K\":2.8,\"Recent_Cases\":11,\"avg_daily_change\":1.4},\"Miller County\":{\"Cases\":30,\"Deaths\":0,\"CasesPer1K\":5.1,\"Recent_Cases\":6,\"avg_daily_change\":1.7},\"Mitchell County\":{\"Cases\":336,\"Deaths\":31,\"CasesPer1K\":15.0,\"Recent_Cases\":56,\"avg_daily_change\":1.1},\"Monroe County\":{\"Cases\":33,\"Deaths\":4,\"CasesPer1K\":1.2,\"Recent_Cases\":18,\"avg_daily_change\":4.5},\"Montgomery County\":{\"Cases\":2,\"Deaths\":0,\"CasesPer1K\":0.2,\"Recent_Cases\":0,\"avg_daily_change\":0.0},\"Morgan County\":{\"Cases\":30,\"Deaths\":0,\"CasesPer1K\":1.6,\"Recent_Cases\":8,\"avg_daily_change\":2.3},\"Murray County\":{\"Cases\":35,\"Deaths\":1,\"CasesPer1K\":0.9,\"Recent_Cases\":16,\"avg_daily_change\":4.6},\"Muscogee County\":{\"Cases\":348,\"Deaths\":12,\"CasesPer1K\":1.8,\"Recent_Cases\":104,\"avg_daily_change\":2.2},\"Newton County\":{\"Cases\":232,\"Deaths\":8,\"CasesPer1K\":2.2,\"Recent_Cases\":86,\"avg_daily_change\":3.0},\"Oconee County\":{\"Cases\":67,\"Deaths\":0,\"CasesPer1K\":1.8,\"Recent_Cases\":14,\"avg_daily_change\":1.7},\"Oglethorpe County\":{\"Cases\":51,\"Deaths\":3,\"CasesPer1K\":3.4,\"Recent_Cases\":17,\"avg_daily_change\":2.8},\"Paulding County\":{\"Cases\":212,\"Deaths\":10,\"CasesPer1K\":1.4,\"Recent_Cases\":67,\"avg_daily_change\":2.6},\"Peach County\":{\"Cases\":61,\"Deaths\":2,\"CasesPer1K\":2.3,\"Recent_Cases\":26,\"avg_daily_change\":3.9},\"Pickens County\":{\"Cases\":29,\"Deaths\":2,\"CasesPer1K\":0.9,\"Recent_Cases\":11,\"avg_daily_change\":3.2},\"Pierce County\":{\"Cases\":58,\"Deaths\":3,\"CasesPer1K\":3.0,\"Recent_Cases\":7,\"avg_daily_change\":0.9},\"Pike County\":{\"Cases\":40,\"Deaths\":2,\"CasesPer1K\":2.2,\"Recent_Cases\":5,\"avg_daily_change\":0.4},\"Polk County\":{\"Cases\":63,\"Deaths\":0,\"CasesPer1K\":1.5,\"Recent_Cases\":27,\"avg_daily_change\":4.2},\"Pulaski County\":{\"Cases\":33,\"Deaths\":1,\"CasesPer1K\":2.9,\"Recent_Cases\":16,\"avg_daily_change\":3.8},\"Putnam County\":{\"Cases\":50,\"Deaths\":5,\"CasesPer1K\":2.3,\"Recent_Cases\":23,\"avg_daily_change\":4.1},\"Quitman County\":{\"Cases\":6,\"Deaths\":1,\"CasesPer1K\":2.6,\"Recent_Cases\":3,\"avg_daily_change\":5.6},\"Rabun County\":{\"Cases\":13,\"Deaths\":1,\"CasesPer1K\":0.8,\"Recent_Cases\":4,\"avg_daily_change\":2.8},\"Randolph County\":{\"Cases\":167,\"Deaths\":20,\"CasesPer1K\":23.6,\"Recent_Cases\":19,\"avg_daily_change\":0.8},\"Richmond County\":{\"Cases\":429,\"Deaths\":15,\"CasesPer1K\":2.1,\"Recent_Cases\":116,\"avg_daily_change\":1.8},\"Rockdale County\":{\"Cases\":223,\"Deaths\":7,\"CasesPer1K\":2.5,\"Recent_Cases\":79,\"avg_daily_change\":2.9},\"Schley County\":{\"Cases\":15,\"Deaths\":1,\"CasesPer1K\":2.9,\"Recent_Cases\":0,\"avg_daily_change\":0.0},\"Screven County\":{\"Cases\":16,\"Deaths\":1,\"CasesPer1K\":1.1,\"Recent_Cases\":2,\"avg_daily_change\":1.0},\"Seminole County\":{\"Cases\":32,\"Deaths\":2,\"CasesPer1K\":3.8,\"Recent_Cases\":5,\"avg_daily_change\":1.2},\"Spalding County\":{\"Cases\":223,\"Deaths\":11,\"CasesPer1K\":3.4,\"Recent_Cases\":87,\"avg_daily_change\":3.6},\"Stephens County\":{\"Cases\":91,\"Deaths\":1,\"CasesPer1K\":3.5,\"Recent_Cases\":49,\"avg_daily_change\":4.9},\"Stewart County\":{\"Cases\":26,\"Deaths\":0,\"CasesPer1K\":4.3,\"Recent_Cases\":9,\"avg_daily_change\":3.2},\"Sumter County\":{\"Cases\":385,\"Deaths\":29,\"CasesPer1K\":12.7,\"Recent_Cases\":44,\"avg_daily_change\":0.8},\"Talbot County\":{\"Cases\":24,\"Deaths\":1,\"CasesPer1K\":3.8,\"Recent_Cases\":3,\"avg_daily_change\":1.0},\"Taliaferro County\":{\"Cases\":1,\"Deaths\":0,\"CasesPer1K\":0.6,\"Recent_Cases\":1,\"avg_daily_change\":0.0},\"Tattnall County\":{\"Cases\":9,\"Deaths\":0,\"CasesPer1K\":0.4,\"Recent_Cases\":3,\"avg_daily_change\":3.1},\"Taylor County\":{\"Cases\":18,\"Deaths\":2,\"CasesPer1K\":2.2,\"Recent_Cases\":5,\"avg_daily_change\":1.9},\"Telfair County\":{\"Cases\":28,\"Deaths\":0,\"CasesPer1K\":1.7,\"Recent_Cases\":12,\"avg_daily_change\":4.4},\"Terrell County\":{\"Cases\":193,\"Deaths\":21,\"CasesPer1K\":21.8,\"Recent_Cases\":34,\"avg_daily_change\":1.3},\"Thomas County\":{\"Cases\":219,\"Deaths\":22,\"CasesPer1K\":4.9,\"Recent_Cases\":71,\"avg_daily_change\":2.4},\"Tift County\":{\"Cases\":136,\"Deaths\":6,\"CasesPer1K\":3.4,\"Recent_Cases\":43,\"avg_daily_change\":2.5},\"Toombs County\":{\"Cases\":37,\"Deaths\":3,\"CasesPer1K\":1.4,\"Recent_Cases\":16,\"avg_daily_change\":3.5},\"Towns County\":{\"Cases\":20,\"Deaths\":1,\"CasesPer1K\":1.8,\"Recent_Cases\":1,\"avg_daily_change\":0.4},\"Treutlen County\":{\"Cases\":4,\"Deaths\":0,\"CasesPer1K\":0.6,\"Recent_Cases\":2,\"avg_daily_change\":6.0},\"Troup County\":{\"Cases\":168,\"Deaths\":5,\"CasesPer1K\":2.4,\"Recent_Cases\":59,\"avg_daily_change\":2.6},\"Turner County\":{\"Cases\":71,\"Deaths\":10,\"CasesPer1K\":8.9,\"Recent_Cases\":12,\"avg_daily_change\":1.1},\"Twiggs County\":{\"Cases\":8,\"Deaths\":0,\"CasesPer1K\":1.0,\"Recent_Cases\":2,\"avg_daily_change\":2.2},\"Union County\":{\"Cases\":32,\"Deaths\":1,\"CasesPer1K\":1.4,\"Recent_Cases\":14,\"avg_daily_change\":1.8},\"Upson County\":{\"Cases\":245,\"Deaths\":23,\"CasesPer1K\":9.3,\"Recent_Cases\":60,\"avg_daily_change\":1.8},\"Walker County\":{\"Cases\":61,\"Deaths\":0,\"CasesPer1K\":0.9,\"Recent_Cases\":10,\"avg_daily_change\":1.4},\"Walton County\":{\"Cases\":143,\"Deaths\":5,\"CasesPer1K\":1.6,\"Recent_Cases\":70,\"avg_daily_change\":4.2},\"Ware County\":{\"Cases\":146,\"Deaths\":13,\"CasesPer1K\":4.1,\"Recent_Cases\":51,\"avg_daily_change\":2.8},\"Warren County\":{\"Cases\":13,\"Deaths\":0,\"CasesPer1K\":2.4,\"Recent_Cases\":3,\"avg_daily_change\":0.6},\"Washington County\":{\"Cases\":46,\"Deaths\":1,\"CasesPer1K\":2.2,\"Recent_Cases\":18,\"avg_daily_change\":3.7},\"Wayne County\":{\"Cases\":13,\"Deaths\":0,\"CasesPer1K\":0.4,\"Recent_Cases\":3,\"avg_daily_change\":2.0},\"Webster County\":{\"Cases\":10,\"Deaths\":2,\"CasesPer1K\":3.8,\"Recent_Cases\":3,\"avg_daily_change\":2.8},\"Wheeler County\":{\"Cases\":5,\"Deaths\":0,\"CasesPer1K\":0.6,\"Recent_Cases\":2,\"avg_daily_change\":4.2},\"White County\":{\"Cases\":83,\"Deaths\":1,\"CasesPer1K\":2.9,\"Recent_Cases\":50,\"avg_daily_change\":6.5},\"Whitfield County\":{\"Cases\":135,\"Deaths\":6,\"CasesPer1K\":1.3,\"Recent_Cases\":82,\"avg_daily_change\":6.4},\"Wilcox County\":{\"Cases\":90,\"Deaths\":12,\"CasesPer1K\":10.2,\"Recent_Cases\":39,\"avg_daily_change\":2.6},\"Wilkes County\":{\"Cases\":26,\"Deaths\":0,\"CasesPer1K\":2.6,\"Recent_Cases\":5,\"avg_daily_change\":1.2},\"Wilkinson County\":{\"Cases\":41,\"Deaths\":2,\"CasesPer1K\":4.5,\"Recent_Cases\":19,\"avg_daily_change\":3.1},\"Worth County\":{\"Cases\":175,\"Deaths\":12,\"CasesPer1K\":8.5,\"Recent_Cases\":37,\"avg_daily_change\":1.7},\"ARC\":{\"Cases\":12540,\"Deaths\":476,\"CasesPer1K\":2.8,\"Recent_Cases\":4307,\"avg_daily_change\":15.7},\"CSRA\":{\"Cases\":980,\"Deaths\":32,\"CasesPer1K\":2.1,\"Recent_Cases\":348,\"avg_daily_change\":31.3},\"Coastal\":{\"Cases\":586,\"Deaths\":22,\"CasesPer1K\":0.8,\"Recent_Cases\":161,\"avg_daily_change\":null},\"Georgia Mountains\":{\"Cases\":3101,\"Deaths\":57,\"CasesPer1K\":4.5,\"Recent_Cases\":1606,\"avg_daily_change\":114.7},\"Heart of Georgia\":{\"Cases\":509,\"Deaths\":30,\"CasesPer1K\":1.7,\"Recent_Cases\":212,\"avg_daily_change\":65.3},\"Middle Georgia\":{\"Cases\":1180,\"Deaths\":52,\"CasesPer1K\":2.4,\"Recent_Cases\":453,\"avg_daily_change\":46.6},\"Northeast\":{\"Cases\":1152,\"Deaths\":43,\"CasesPer1K\":1.9,\"Recent_Cases\":445,\"avg_daily_change\":97.9},\"Northwest\":{\"Cases\":1395,\"Deaths\":82,\"CasesPer1K\":1.6,\"Recent_Cases\":481,\"avg_daily_change\":84.6},\"River Valley\":{\"Cases\":1527,\"Deaths\":94,\"CasesPer1K\":4.1,\"Recent_Cases\":345,\"avg_daily_change\":-2.5},\"Southern\":{\"Cases\":1023,\"Deaths\":58,\"CasesPer1K\":2.5,\"Recent_Cases\":352,\"avg_daily_change\":20.9},\"Southwest\":{\"Cases\":3614,\"Deaths\":283,\"CasesPer1K\":10.4,\"Recent_Cases\":553,\"avg_daily_change\":30.1},\"Three Rivers\":{\"Cases\":1588,\"Deaths\":80,\"CasesPer1K\":3.1,\"Recent_Cases\":442,\"avg_daily_change\":20.3},\"Eufaula, AL-GA\":{\"Cases\":6,\"Deaths\":1,\"CasesPer1K\":2.6,\"Recent_Cases\":3,\"avg_daily_change\":null},\"Jesup, GA\":{\"Cases\":13,\"Deaths\":0,\"CasesPer1K\":0.4,\"Recent_Cases\":3,\"avg_daily_change\":null},\"Summerville, GA\":{\"Cases\":15,\"Deaths\":2,\"CasesPer1K\":0.6,\"Recent_Cases\":4,\"avg_daily_change\":null},\"St. Marys, GA\":{\"Cases\":34,\"Deaths\":1,\"CasesPer1K\":0.6,\"Recent_Cases\":7,\"avg_daily_change\":null},\"Fitzgerald, GA\":{\"Cases\":36,\"Deaths\":0,\"CasesPer1K\":2.1,\"Recent_Cases\":16,\"avg_daily_change\":null},\"Vidalia, GA\":{\"Cases\":39,\"Deaths\":3,\"CasesPer1K\":1.1,\"Recent_Cases\":16,\"avg_daily_change\":null},\"Statesboro, GA\":{\"Cases\":42,\"Deaths\":2,\"CasesPer1K\":0.6,\"Recent_Cases\":9,\"avg_daily_change\":null},\"Hinesville, GA\":{\"Cases\":44,\"Deaths\":0,\"CasesPer1K\":0.5,\"Recent_Cases\":8,\"avg_daily_change\":null},\"Cedartown, GA\":{\"Cases\":63,\"Deaths\":0,\"CasesPer1K\":1.5,\"Recent_Cases\":27,\"avg_daily_change\":null},\"Toccoa, GA\":{\"Cases\":91,\"Deaths\":1,\"CasesPer1K\":3.5,\"Recent_Cases\":49,\"avg_daily_change\":null},\"Brunswick, GA\":{\"Cases\":95,\"Deaths\":3,\"CasesPer1K\":0.8,\"Recent_Cases\":20,\"avg_daily_change\":null},\"Bainbridge, GA\":{\"Cases\":105,\"Deaths\":2,\"CasesPer1K\":3.9,\"Recent_Cases\":55,\"avg_daily_change\":null},\"Jefferson, GA\":{\"Cases\":117,\"Deaths\":3,\"CasesPer1K\":1.8,\"Recent_Cases\":54,\"avg_daily_change\":null},\"Calhoun, GA\":{\"Cases\":118,\"Deaths\":14,\"CasesPer1K\":2.1,\"Recent_Cases\":48,\"avg_daily_change\":null},\"Chattanooga, TN-GA\":{\"Cases\":130,\"Deaths\":1,\"CasesPer1K\":0.9,\"Recent_Cases\":20,\"avg_daily_change\":null},\"Tifton, GA\":{\"Cases\":136,\"Deaths\":6,\"CasesPer1K\":3.4,\"Recent_Cases\":43,\"avg_daily_change\":null},\"Dublin, GA\":{\"Cases\":138,\"Deaths\":3,\"CasesPer1K\":2.2,\"Recent_Cases\":56,\"avg_daily_change\":null},\"Rome, GA\":{\"Cases\":152,\"Deaths\":11,\"CasesPer1K\":1.6,\"Recent_Cases\":24,\"avg_daily_change\":null},\"LaGrange, GA-AL\":{\"Cases\":168,\"Deaths\":5,\"CasesPer1K\":2.4,\"Recent_Cases\":59,\"avg_daily_change\":null},\"Dalton, GA\":{\"Cases\":170,\"Deaths\":7,\"CasesPer1K\":1.2,\"Recent_Cases\":98,\"avg_daily_change\":null},\"Douglas, GA\":{\"Cases\":177,\"Deaths\":9,\"CasesPer1K\":3.5,\"Recent_Cases\":88,\"avg_daily_change\":40.4},\"Cordele, GA\":{\"Cases\":178,\"Deaths\":6,\"CasesPer1K\":7.8,\"Recent_Cases\":48,\"avg_daily_change\":null},\"Moultrie, GA\":{\"Cases\":198,\"Deaths\":10,\"CasesPer1K\":4.3,\"Recent_Cases\":40,\"avg_daily_change\":null},\"Waycross, GA\":{\"Cases\":204,\"Deaths\":16,\"CasesPer1K\":3.7,\"Recent_Cases\":58,\"avg_daily_change\":51.9},\"Thomasville, GA\":{\"Cases\":219,\"Deaths\":22,\"CasesPer1K\":4.9,\"Recent_Cases\":71,\"avg_daily_change\":null},\"Thomaston, GA\":{\"Cases\":245,\"Deaths\":23,\"CasesPer1K\":9.3,\"Recent_Cases\":60,\"avg_daily_change\":54.0},\"Valdosta, GA\":{\"Cases\":249,\"Deaths\":12,\"CasesPer1K\":1.7,\"Recent_Cases\":79,\"avg_daily_change\":null},\"Athens-Clarke County, GA\":{\"Cases\":319,\"Deaths\":17,\"CasesPer1K\":1.6,\"Recent_Cases\":96,\"avg_daily_change\":null},\"Warner Robins, GA\":{\"Cases\":335,\"Deaths\":16,\"CasesPer1K\":1.9,\"Recent_Cases\":110,\"avg_daily_change\":77.8},\"Milledgeville, GA\":{\"Cases\":373,\"Deaths\":12,\"CasesPer1K\":6.9,\"Recent_Cases\":207,\"avg_daily_change\":75.4},\"Cornelia, GA\":{\"Cases\":376,\"Deaths\":12,\"CasesPer1K\":8.5,\"Recent_Cases\":246,\"avg_daily_change\":null},\"Savannah, GA\":{\"Cases\":377,\"Deaths\":17,\"CasesPer1K\":1.0,\"Recent_Cases\":117,\"avg_daily_change\":null},\"Americus, GA\":{\"Cases\":400,\"Deaths\":30,\"CasesPer1K\":11.2,\"Recent_Cases\":44,\"avg_daily_change\":13.4},\"Macon-Bibb County, GA\":{\"Cases\":458,\"Deaths\":18,\"CasesPer1K\":2.0,\"Recent_Cases\":177,\"avg_daily_change\":63.4},\"Columbus, GA-AL\":{\"Cases\":507,\"Deaths\":16,\"CasesPer1K\":1.9,\"Recent_Cases\":135,\"avg_daily_change\":22.9},\"Augusta-Richmond County, GA-SC\":{\"Cases\":750,\"Deaths\":27,\"CasesPer1K\":1.9,\"Recent_Cases\":213,\"avg_daily_change\":18.6},\"Gainesville, GA\":{\"Cases\":1914,\"Deaths\":27,\"CasesPer1K\":9.8,\"Recent_Cases\":1007,\"avg_daily_change\":531.4},\"Albany, GA\":{\"Cases\":2261,\"Deaths\":181,\"CasesPer1K\":15.1,\"Recent_Cases\":205,\"avg_daily_change\":44.5},\"Atlanta-Sandy Springs-Alpharetta, GA\":{\"Cases\":15402,\"Deaths\":603,\"CasesPer1K\":2.7,\"Recent_Cases\":5232,\"avg_daily_change\":16.6},\"Georgia\":{\"Cases\":29195,\"Deaths\":1309,\"CasesPer1K\":2.8,\"Recent_Cases\":9705,\"avg_daily_change\":17.0}}'"
      ]
     },
     "execution_count": 65,
     "metadata": {},
     "output_type": "execute_result"
    }
   ],
   "source": [
    "covidKpi.to_json(orient='index')"
   ]
  },
  {
   "cell_type": "code",
   "execution_count": 66,
   "metadata": {},
   "outputs": [
    {
     "data": {
      "text/html": [
       "<div>\n",
       "<style scoped>\n",
       "    .dataframe tbody tr th:only-of-type {\n",
       "        vertical-align: middle;\n",
       "    }\n",
       "\n",
       "    .dataframe tbody tr th {\n",
       "        vertical-align: top;\n",
       "    }\n",
       "\n",
       "    .dataframe thead th {\n",
       "        text-align: right;\n",
       "    }\n",
       "</style>\n",
       "<table border=\"1\" class=\"dataframe\">\n",
       "  <thead>\n",
       "    <tr style=\"text-align: right;\">\n",
       "      <th></th>\n",
       "      <th>area</th>\n",
       "      <th>Total_Population</th>\n",
       "      <th>Cases</th>\n",
       "      <th>Deaths</th>\n",
       "      <th>Recent_Cases</th>\n",
       "      <th>Recent_Deaths</th>\n",
       "      <th>cases_this_wk</th>\n",
       "      <th>deaths_this_wk</th>\n",
       "      <th>cases_prev_wk</th>\n",
       "      <th>deaths_prev_wk</th>\n",
       "      <th>cases_diff</th>\n",
       "      <th>deaths_diff</th>\n",
       "      <th>avg_daily_change</th>\n",
       "      <th>CasesPer1K</th>\n",
       "      <th>CasesWeekChng100k</th>\n",
       "      <th>DeathsWeekChng100k</th>\n",
       "    </tr>\n",
       "  </thead>\n",
       "  <tbody>\n",
       "    <tr>\n",
       "      <th>0</th>\n",
       "      <td>Appling County</td>\n",
       "      <td>18454.0</td>\n",
       "      <td>78</td>\n",
       "      <td>10</td>\n",
       "      <td>31</td>\n",
       "      <td>8</td>\n",
       "      <td>13</td>\n",
       "      <td>5</td>\n",
       "      <td>18</td>\n",
       "      <td>3</td>\n",
       "      <td>-5</td>\n",
       "      <td>2</td>\n",
       "      <td>3.4</td>\n",
       "      <td>4.2</td>\n",
       "      <td>-27.1</td>\n",
       "      <td>10.8</td>\n",
       "    </tr>\n",
       "    <tr>\n",
       "      <th>1</th>\n",
       "      <td>Atkinson County</td>\n",
       "      <td>8265.0</td>\n",
       "      <td>18</td>\n",
       "      <td>1</td>\n",
       "      <td>13</td>\n",
       "      <td>1</td>\n",
       "      <td>11</td>\n",
       "      <td>0</td>\n",
       "      <td>2</td>\n",
       "      <td>1</td>\n",
       "      <td>9</td>\n",
       "      <td>-1</td>\n",
       "      <td>7.4</td>\n",
       "      <td>2.2</td>\n",
       "      <td>108.9</td>\n",
       "      <td>-12.1</td>\n",
       "    </tr>\n",
       "    <tr>\n",
       "      <th>2</th>\n",
       "      <td>Bacon County</td>\n",
       "      <td>11228.0</td>\n",
       "      <td>29</td>\n",
       "      <td>1</td>\n",
       "      <td>9</td>\n",
       "      <td>0</td>\n",
       "      <td>7</td>\n",
       "      <td>0</td>\n",
       "      <td>2</td>\n",
       "      <td>0</td>\n",
       "      <td>5</td>\n",
       "      <td>0</td>\n",
       "      <td>2.7</td>\n",
       "      <td>2.6</td>\n",
       "      <td>44.5</td>\n",
       "      <td>0.0</td>\n",
       "    </tr>\n",
       "    <tr>\n",
       "      <th>3</th>\n",
       "      <td>Baker County</td>\n",
       "      <td>3189.0</td>\n",
       "      <td>28</td>\n",
       "      <td>2</td>\n",
       "      <td>10</td>\n",
       "      <td>0</td>\n",
       "      <td>6</td>\n",
       "      <td>0</td>\n",
       "      <td>4</td>\n",
       "      <td>0</td>\n",
       "      <td>2</td>\n",
       "      <td>0</td>\n",
       "      <td>2.9</td>\n",
       "      <td>8.8</td>\n",
       "      <td>62.7</td>\n",
       "      <td>0.0</td>\n",
       "    </tr>\n",
       "    <tr>\n",
       "      <th>4</th>\n",
       "      <td>Baldwin County</td>\n",
       "      <td>45286.0</td>\n",
       "      <td>263</td>\n",
       "      <td>10</td>\n",
       "      <td>108</td>\n",
       "      <td>6</td>\n",
       "      <td>53</td>\n",
       "      <td>2</td>\n",
       "      <td>55</td>\n",
       "      <td>4</td>\n",
       "      <td>-2</td>\n",
       "      <td>-2</td>\n",
       "      <td>3.6</td>\n",
       "      <td>5.8</td>\n",
       "      <td>-4.4</td>\n",
       "      <td>-4.4</td>\n",
       "    </tr>\n",
       "  </tbody>\n",
       "</table>\n",
       "</div>"
      ],
      "text/plain": [
       "              area  Total_Population  Cases  Deaths  Recent_Cases  \\\n",
       "0   Appling County           18454.0     78      10            31   \n",
       "1  Atkinson County            8265.0     18       1            13   \n",
       "2     Bacon County           11228.0     29       1             9   \n",
       "3     Baker County            3189.0     28       2            10   \n",
       "4   Baldwin County           45286.0    263      10           108   \n",
       "\n",
       "   Recent_Deaths  cases_this_wk  deaths_this_wk  cases_prev_wk  \\\n",
       "0              8             13               5             18   \n",
       "1              1             11               0              2   \n",
       "2              0              7               0              2   \n",
       "3              0              6               0              4   \n",
       "4              6             53               2             55   \n",
       "\n",
       "   deaths_prev_wk  cases_diff  deaths_diff  avg_daily_change  CasesPer1K  \\\n",
       "0               3          -5            2               3.4         4.2   \n",
       "1               1           9           -1               7.4         2.2   \n",
       "2               0           5            0               2.7         2.6   \n",
       "3               0           2            0               2.9         8.8   \n",
       "4               4          -2           -2               3.6         5.8   \n",
       "\n",
       "   CasesWeekChng100k  DeathsWeekChng100k  \n",
       "0              -27.1                10.8  \n",
       "1              108.9               -12.1  \n",
       "2               44.5                 0.0  \n",
       "3               62.7                 0.0  \n",
       "4               -4.4                -4.4  "
      ]
     },
     "execution_count": 66,
     "metadata": {},
     "output_type": "execute_result"
    }
   ],
   "source": [
    "covid.head()"
   ]
  },
  {
   "cell_type": "code",
   "execution_count": 67,
   "metadata": {},
   "outputs": [
    {
     "data": {
      "text/plain": [
       "(211, 16)"
      ]
     },
     "execution_count": 67,
     "metadata": {},
     "output_type": "execute_result"
    }
   ],
   "source": [
    "covid.shape"
   ]
  },
  {
   "cell_type": "code",
   "execution_count": 68,
   "metadata": {},
   "outputs": [],
   "source": [
    "msaCode = pd.read_excel('../../data/geographies/cbsa.xlsx', sheet_name='cbsa',usecols='A,D')\n",
    "msaCode.drop_duplicates(inplace=True)\n",
    "rcCode = pd.read_excel('../../data/geographies/regional-commissions.xlsx', sheet_name='county-rc',usecols='C,D')\n",
    "rcCode.drop_duplicates(inplace=True)\n",
    "msaCode.rename(columns={'CBSA Title':'area','CBSA Code':'area_code'},inplace=True)\n",
    "rcCode.rename(columns={'Regional Commission':'area','RC_ID':'area_code'},inplace=True)\n",
    "countyList.rename(columns={'County':'area','FIPS':'area_code'},inplace=True)\n",
    "msaCode = msaCode[['area','area_code']]\n",
    "rcCode = rcCode[['area','area_code']]\n",
    "countyList = countyList[['area','area_code']]\n",
    "areaCodes = msaCode.append([rcCode,countyList])\n"
   ]
  },
  {
   "cell_type": "code",
   "execution_count": 69,
   "metadata": {},
   "outputs": [],
   "source": [
    "covid = pd.merge(covid,areaCodes,how='left',on='area')\n",
    "covid['area_code'].fillna(13, inplace=True)"
   ]
  },
  {
   "cell_type": "code",
   "execution_count": 70,
   "metadata": {},
   "outputs": [
    {
     "data": {
      "text/plain": [
       "(211, 17)"
      ]
     },
     "execution_count": 70,
     "metadata": {},
     "output_type": "execute_result"
    }
   ],
   "source": [
    "covid.shape"
   ]
  },
  {
   "cell_type": "code",
   "execution_count": 80,
   "metadata": {},
   "outputs": [],
   "source": [
    "# write out files\n",
    "hospitals.to_excel('hospitals.xlsx',index=False)\n",
    "countyHospitals.to_excel('hospitals.xlsx',index=False)\n",
    "hospitals.to_file(\"spatial/mapbox/hospitals.geojson\", driver='GeoJSON')\n",
    "counties.to_file(\"spatial/mapbox/countyData.geojson\", driver='GeoJSON')\n",
    "countyPoints.to_file(\"spatial/mapbox/countyPoints.geojson\", driver='GeoJSON')\n",
    "countyData.to_excel('countyData.xlsx', index=False)\n",
    "covid.to_excel('../application/app-data/covidDataWrapper.xlsx', index=False)"
   ]
  },
  {
   "cell_type": "code",
   "execution_count": 73,
   "metadata": {},
   "outputs": [
    {
     "data": {
      "text/plain": [
       "(159, 37)"
      ]
     },
     "execution_count": 73,
     "metadata": {},
     "output_type": "execute_result"
    }
   ],
   "source": [
    "countyPoints.shape"
   ]
  },
  {
   "cell_type": "code",
   "execution_count": 77,
   "metadata": {},
   "outputs": [],
   "source": [
    "countyPoints.sort_values('County', inplace=True)"
   ]
  },
  {
   "cell_type": "code",
   "execution_count": null,
   "metadata": {},
   "outputs": [],
   "source": []
  }
 ],
 "metadata": {
  "kernelspec": {
   "display_name": "Python 3",
   "language": "python",
   "name": "python3"
  },
  "language_info": {
   "codemirror_mode": {
    "name": "ipython",
    "version": 3
   },
   "file_extension": ".py",
   "mimetype": "text/x-python",
   "name": "python",
   "nbconvert_exporter": "python",
   "pygments_lexer": "ipython3",
   "version": "3.7.6"
  }
 },
 "nbformat": 4,
 "nbformat_minor": 2
}
