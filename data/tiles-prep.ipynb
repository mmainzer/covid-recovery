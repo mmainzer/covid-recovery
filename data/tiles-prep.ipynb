{
 "cells": [
  {
   "cell_type": "code",
   "execution_count": 1,
   "metadata": {},
   "outputs": [],
   "source": [
    "import pandas as pd\n",
    "pd.set_option('display.max_columns', None)\n",
    "\n",
    "import numpy as np\n",
    "\n",
    "import geopandas as gpd\n",
    "import fiona\n",
    "\n",
    "import matplotlib.pyplot as plt\n",
    "import seaborn as sns"
   ]
  },
  {
   "cell_type": "code",
   "execution_count": 2,
   "metadata": {},
   "outputs": [],
   "source": [
    "counties = pd.read_excel('covid-recovery-data.xlsx', sheet_name=\"county-population\")\n",
    "jobs = pd.read_excel('covid-recovery-data.xlsx', sheet_name=\"county-jobs-summary\", usecols=\"B,C,D,F,G,I\")\n",
    "ccvi = pd.read_excel('covid-recovery-data.xlsx', sheet_name=\"ccvi-county\", usecols=\"D:K\")\n",
    "countyShape = gpd.read_file(\"spatial/ga-counties.geojson\")\n",
    "countyClaims = pd.read_excel('covid-recovery-data.xlsx', sheet_name=\"unemployment-claims-monthly\")\n",
    "hospitals = gpd.read_file(\"spatial/hospitals.geojson\")"
   ]
  },
  {
   "cell_type": "code",
   "execution_count": 3,
   "metadata": {},
   "outputs": [],
   "source": [
    "hospitals = gpd.read_file(\"spatial/hospitals.geojson\")"
   ]
  },
  {
   "cell_type": "code",
   "execution_count": 4,
   "metadata": {},
   "outputs": [],
   "source": [
    "hospitals.sort_values('BEDS', inplace=True)"
   ]
  },
  {
   "cell_type": "code",
   "execution_count": 5,
   "metadata": {},
   "outputs": [],
   "source": [
    "hospitals.BEDS = np.where(hospitals.BEDS < 0, 82,hospitals.BEDS)"
   ]
  },
  {
   "cell_type": "code",
   "execution_count": 6,
   "metadata": {},
   "outputs": [],
   "source": [
    "counties = pd.merge(counties,jobs,how='left',on='FIPS')"
   ]
  },
  {
   "cell_type": "code",
   "execution_count": 7,
   "metadata": {},
   "outputs": [],
   "source": [
    "counties = pd.merge(counties,ccvi,how='left',on='FIPS')"
   ]
  },
  {
   "cell_type": "code",
   "execution_count": 8,
   "metadata": {},
   "outputs": [],
   "source": [
    "counties['FIPS'] = counties['FIPS'].astype(str)"
   ]
  },
  {
   "cell_type": "code",
   "execution_count": 9,
   "metadata": {},
   "outputs": [],
   "source": [
    "counties = pd.merge(counties,countyShape, how='left', left_on='FIPS', right_on='GEOID')"
   ]
  },
  {
   "cell_type": "code",
   "execution_count": 10,
   "metadata": {},
   "outputs": [],
   "source": [
    "del counties['GEOID']"
   ]
  },
  {
   "cell_type": "code",
   "execution_count": 11,
   "metadata": {},
   "outputs": [],
   "source": [
    "# groupby county fips to get number of hospitals and number of beds per county\n",
    "countyHospitals = hospitals.groupby('COUNTYFIPS') \\\n",
    "                           .agg({'NAME':'count', 'BEDS': 'sum'}) \\\n",
    "                           .reset_index() \\\n",
    "                           .rename(columns={'NAME':'Hospitals',\n",
    "                                            'BEDS':'Beds',\n",
    "                                            'COUNTYFIPS':'FIPS'})"
   ]
  },
  {
   "cell_type": "code",
   "execution_count": 12,
   "metadata": {},
   "outputs": [],
   "source": [
    "counties = pd.merge(counties,countyHospitals, how='left', on='FIPS')"
   ]
  },
  {
   "cell_type": "code",
   "execution_count": 13,
   "metadata": {},
   "outputs": [],
   "source": [
    "counties['Hospitals'].fillna(0, inplace=True)\n",
    "counties['Beds'].fillna(0, inplace=True)"
   ]
  },
  {
   "cell_type": "code",
   "execution_count": 14,
   "metadata": {},
   "outputs": [],
   "source": [
    "counties['Beds_per_1000'] = ( counties['Beds'] / counties['Total_Population'] ) * 1000\n",
    "counties['Beds_per_1000_Elderly'] = ( counties['Beds'] / counties['Population_Over_65'] ) * 1000"
   ]
  },
  {
   "cell_type": "code",
   "execution_count": 16,
   "metadata": {},
   "outputs": [],
   "source": [
    "# get clean covid data\n",
    "covid = pd.read_csv('../application/app-data/covid-county-clean.csv')\n",
    "covid = covid[['date','area_name','area_code','cases','deaths']]\n",
    "\n",
    "covid.date = pd.to_datetime(covid.date)\n",
    "\n",
    "covid['area_code'] = covid['area_code'].astype(int)\n",
    "covid['area_code'] = covid['area_code'].astype(str)\n",
    "\n",
    "# get new data from nyt\n",
    "covidCountyNew = pd.read_csv('https://raw.githubusercontent.com/nytimes/covid-19-data/master/us-counties.csv')\n",
    "covidCountyNew = covidCountyNew.loc[covidCountyNew['state'] == 'Georgia']\n",
    "\n",
    "covidCountyNew = covidCountyNew[['date','county','fips','cases','deaths']]\n",
    "\n",
    "# get state level data\n",
    "covidStateNew = pd.read_csv('https://raw.githubusercontent.com/nytimes/covid-19-data/master/us-states.csv')\n",
    "covidStateNew = covidStateNew.loc[covidStateNew['state'] == 'Georgia']\n",
    "\n",
    "covidCountyNew.rename(columns={'county' : 'area_name',\n",
    "                               'fips'   : 'area_code'}, inplace=True)\n",
    "\n",
    "covidStateNew.rename(columns={'state' : 'area_name',\n",
    "                              'fips'  : 'area_code'}, inplace=True)\n",
    "\n",
    "covidNew = covidStateNew.append(covidCountyNew)\n",
    "\n",
    "# the covid data is reported as a cumulative sum\n",
    "# we want the daily counts as well for different charting options\n",
    "covidNew.date = pd.to_datetime(covidNew.date)\n",
    "covidNew.sort_values(['area_name', 'date'], ascending=[True, True], inplace=True)\n",
    "\n",
    "\n",
    "\n",
    "covidNew.dropna(subset=['area_code'], inplace=True)\n",
    "\n",
    "covidNew['area_code'] = covidNew['area_code'].astype(int)\n",
    "covidNew['area_code'] = covidNew['area_code'].astype(str)\n",
    "\n",
    "covidNew.reset_index(inplace=True, drop=True)\n",
    "\n",
    "covidNew.sort_values(['area_name', 'date'], ascending=[True, True], inplace=True)\n",
    "\n",
    "# filter only dates AFTER 4/22\n",
    "covidNew = covidNew.loc[covidNew['date'] >= '2020-04-23']\n",
    "# append to cleaned sheet\n",
    "covid = covid.append(covidNew)\n",
    "covid.sort_values(['area_code','date'], inplace=True)\n",
    "covid.reset_index(drop=True,inplace=True)"
   ]
  },
  {
   "cell_type": "code",
   "execution_count": 17,
   "metadata": {},
   "outputs": [],
   "source": [
    "covid['daily_cases'] = np.where(covid['area_code'] == covid['area_code'].shift(), covid.cases - covid.cases.shift(), np.nan)\n",
    "\n",
    "covid['daily_cases'].fillna(covid['cases'], inplace=True)\n",
    "\n",
    "covid['daily_deaths'] = np.where(covid['area_code'] == covid['area_code'].shift(), covid.deaths - covid.deaths.shift(), np.nan)\n",
    "covid['daily_deaths'].fillna(covid['deaths'], inplace=True)"
   ]
  },
  {
   "cell_type": "code",
   "execution_count": 18,
   "metadata": {},
   "outputs": [],
   "source": [
    "# we dont' ned the state here as we'r just trying to mak a fram\n",
    "# at the county level\n",
    "covid = covid.loc[covid['area_name'] != 'Georgia']"
   ]
  },
  {
   "cell_type": "code",
   "execution_count": 19,
   "metadata": {},
   "outputs": [
    {
     "name": "stderr",
     "output_type": "stream",
     "text": [
      "/Users/mmainza/opt/anaconda3/lib/python3.7/site-packages/ipykernel_launcher.py:22: SettingWithCopyWarning: \n",
      "A value is trying to be set on a copy of a slice from a DataFrame.\n",
      "Try using .loc[row_indexer,col_indexer] = value instead\n",
      "\n",
      "See the caveats in the documentation: https://pandas.pydata.org/pandas-docs/stable/user_guide/indexing.html#returning-a-view-versus-a-copy\n",
      "/Users/mmainza/opt/anaconda3/lib/python3.7/site-packages/pandas/core/generic.py:5303: SettingWithCopyWarning: \n",
      "A value is trying to be set on a copy of a slice from a DataFrame.\n",
      "Try using .loc[row_indexer,col_indexer] = value instead\n",
      "\n",
      "See the caveats in the documentation: https://pandas.pydata.org/pandas-docs/stable/user_guide/indexing.html#returning-a-view-versus-a-copy\n",
      "  self[name] = value\n",
      "/Users/mmainza/opt/anaconda3/lib/python3.7/site-packages/pandas/core/generic.py:6245: SettingWithCopyWarning: \n",
      "A value is trying to be set on a copy of a slice from a DataFrame\n",
      "\n",
      "See the caveats in the documentation: https://pandas.pydata.org/pandas-docs/stable/user_guide/indexing.html#returning-a-view-versus-a-copy\n",
      "  self._update_inplace(new_data)\n"
     ]
    }
   ],
   "source": [
    "# groupby county fips to get number of hospitals and number of beds per county\n",
    "covidTotals = covid.groupby('area_code') \\\n",
    "                   .agg({'daily_cases':'sum', 'daily_deaths': 'sum'}) \\\n",
    "                   .reset_index() \\\n",
    "                   .rename(columns={'daily_cases':'Cases',\n",
    "                                    'daily_deaths':'Deaths',\n",
    "                                    'area_code':'FIPS'})\n",
    "\n",
    "# add total new cases last two weeks\n",
    "cutOff = covid['date'].max() - pd.Timedelta(days=13)\n",
    "cutOffOne = covid['date'].max() - pd.Timedelta(days=6)\n",
    "covidLastTwo = covid.loc[covid['date'] >= cutOff]\n",
    "\n",
    "covidTwo = covidLastTwo.groupby('area_code') \\\n",
    "                                .agg({'daily_cases':'sum','daily_deaths':'sum'}) \\\n",
    "                                .reset_index() \\\n",
    "                                .rename(columns={'daily_cases':'Recent_Cases',\n",
    "                                            'daily_deaths':'Recent_Deaths',\n",
    "                                            'area_code':'FIPS'})\n",
    "\n",
    "# add daily growth rate over last 14 days\n",
    "covidLastTwo['Pct_Chng_Case'] = covidLastTwo.groupby('area_code')['cases'].pct_change()\n",
    "covidLastTwo.Pct_Chng_Case = covidLastTwo.Pct_Chng_Case * 100\n",
    "covidLastTwo['Pct_Chng_Case'].fillna(0, inplace=True)\n",
    "\n",
    "covidTwoAvgChng = covidLastTwo.groupby('area_code') \\\n",
    "                                .agg({'Pct_Chng_Case':'mean'}) \\\n",
    "                                .reset_index() \\\n",
    "                                .rename(columns={'Pct_Chng_Case':'avg_daily_change',\n",
    "                                                 'area_code':'FIPS'})"
   ]
  },
  {
   "cell_type": "code",
   "execution_count": 20,
   "metadata": {},
   "outputs": [],
   "source": [
    "# new cases over the last 7 days\n",
    "covidThisWk = covid.loc[covid['date'] >= cutOffOne]\n",
    "covidThisWk = covidThisWk[['date','area_code','daily_cases','daily_deaths']]\n",
    "covidThisWk.rename(columns={'daily_cases' : 'daily_cases_this_wk',\n",
    "                            'daily_deaths': 'daily_deaths_this_wk'}, inplace=True)\n",
    "# new cases over the previous 7-day period\n",
    "covidPrevWk = covid[(covid['date'] >= cutOff) & (covid['date'] < cutOffOne)]\n",
    "covidPrevWk = covidPrevWk[['date','area_code','daily_cases','daily_deaths']]\n",
    "covidPrevWk.rename(columns={'daily_cases' : 'daily_cases_prev_wk',\n",
    "                            'daily_deaths': 'daily_deaths_prev_wk'}, inplace=True)\n",
    "# total change current week to previous week\n",
    "covidThisWk = covidThisWk.groupby('area_code') \\\n",
    "                           .agg({'daily_cases_this_wk':'sum', 'daily_deaths_this_wk': 'sum'}) \\\n",
    "                           .reset_index() \\\n",
    "                           .rename(columns={'area_code':'FIPS',\n",
    "                                            'daily_cases_this_wk' : 'cases_this_wk',\n",
    "                                            'daily_deaths_this_wk': 'deaths_this_wk'})\n",
    "\n",
    "covidPrevWk = covidPrevWk.groupby('area_code') \\\n",
    "                           .agg({'daily_cases_prev_wk':'sum', 'daily_deaths_prev_wk': 'sum'}) \\\n",
    "                           .reset_index() \\\n",
    "                           .rename(columns={'area_code':'FIPS',\n",
    "                                            'daily_cases_prev_wk' : 'cases_prev_wk',\n",
    "                                            'daily_deaths_prev_wk': 'deaths_prev_wk'})\n",
    "\n",
    "covidWeek = pd.merge(covidThisWk,covidPrevWk,how='left',on='FIPS')\n",
    "\n",
    "covidWeek['cases_diff'] = covidWeek['cases_this_wk'] - covidWeek['cases_prev_wk']\n",
    "covidWeek['deaths_diff'] = covidWeek['deaths_this_wk'] - covidWeek['deaths_prev_wk']"
   ]
  },
  {
   "cell_type": "code",
   "execution_count": 61,
   "metadata": {},
   "outputs": [],
   "source": [
    "# merge all of these covid totaled files at the county level\n",
    "# covidTwoAvgChng,covidWeek,covidTwo,covidTotals\n",
    "covid = pd.merge(covidTotals,covidTwo,how='left',on='FIPS')\n",
    "covid = pd.merge(covid,covidWeek,how='left',on='FIPS')\n",
    "covid = pd.merge(covid,covidTwoAvgChng,how='left',on='FIPS')"
   ]
  },
  {
   "cell_type": "code",
   "execution_count": null,
   "metadata": {},
   "outputs": [],
   "source": []
  },
  {
   "cell_type": "code",
   "execution_count": null,
   "metadata": {},
   "outputs": [],
   "source": []
  },
  {
   "cell_type": "code",
   "execution_count": null,
   "metadata": {},
   "outputs": [],
   "source": []
  },
  {
   "cell_type": "code",
   "execution_count": 62,
   "metadata": {},
   "outputs": [],
   "source": [
    "covid['FIPS'] = covid['FIPS'].astype(str)"
   ]
  },
  {
   "cell_type": "code",
   "execution_count": 63,
   "metadata": {},
   "outputs": [],
   "source": [
    "countyList = counties[['FIPS','County','Total_Population']]"
   ]
  },
  {
   "cell_type": "code",
   "execution_count": 32,
   "metadata": {},
   "outputs": [],
   "source": [
    "# merge counties with covid\n",
    "counties = pd.merge(counties,covid, how='left', on='FIPS')"
   ]
  },
  {
   "cell_type": "code",
   "execution_count": 34,
   "metadata": {},
   "outputs": [],
   "source": [
    "counties['Cases'].fillna(0, inplace=True)\n",
    "counties['Deaths'].fillna(0, inplace=True)"
   ]
  },
  {
   "cell_type": "code",
   "execution_count": 35,
   "metadata": {},
   "outputs": [],
   "source": [
    "# add custom columns on rates, etc.\n",
    "counties['COVID_Death_Rate'] = ( counties['Deaths'] / counties['Cases'] ) * 1000\n",
    "counties['COVID_Cases_Per_1000'] = ( counties['Cases'] / counties['Total_Population'] ) * 1000\n",
    "# add total new cases per 1000\n",
    "counties['Cases_Wk_Chng_100k'] = ( counties['cases_diff'] / counties['Total_Population'] ) * 100000\n",
    "# add total new cases per 1000\n",
    "counties['Deaths_Wk_Chng_100k'] = ( counties['deaths_diff'] / counties['Total_Population'] ) * 100000"
   ]
  },
  {
   "cell_type": "code",
   "execution_count": 36,
   "metadata": {},
   "outputs": [],
   "source": [
    "countyClaims = countyClaims.melt(id_vars=[\"FIPS\", \"County\",\"Year\"], var_name=\"Month\", value_name=\"Claims\")"
   ]
  },
  {
   "cell_type": "code",
   "execution_count": 37,
   "metadata": {},
   "outputs": [],
   "source": [
    "countyClaimsNew = countyClaims.loc[countyClaims['Year'] == 2020]\n",
    "countyClaimsNew = countyClaimsNew.loc[countyClaimsNew['Month'] == \"March\"]\n",
    "countyClaimsLast = countyClaims.loc[countyClaims['Year'] == 2020]\n",
    "countyClaimsLast = countyClaimsLast.loc[countyClaimsLast['Month'] == \"February\"]\n",
    "\n",
    "claims = pd.merge(countyClaimsNew, countyClaimsLast, how='left', on='FIPS')"
   ]
  },
  {
   "cell_type": "code",
   "execution_count": 38,
   "metadata": {},
   "outputs": [],
   "source": [
    "claims.rename(columns={'Claims_x' : 'March_Claims',\n",
    "                       'Claims_y' : 'February_Claims'}, inplace=True)\n",
    "\n",
    "claims['Claims_Pct_Change'] = ( ( claims['March_Claims'] - claims['February_Claims'] ) / claims['February_Claims'] ) * 100"
   ]
  },
  {
   "cell_type": "code",
   "execution_count": 39,
   "metadata": {},
   "outputs": [],
   "source": [
    "claims['Claims_Pct_Change'] = claims['Claims_Pct_Change'].round(1)"
   ]
  },
  {
   "cell_type": "code",
   "execution_count": 40,
   "metadata": {},
   "outputs": [],
   "source": [
    "claims['FIPS'] = claims['FIPS'].astype(str)"
   ]
  },
  {
   "cell_type": "code",
   "execution_count": 41,
   "metadata": {},
   "outputs": [],
   "source": [
    "claims = claims[['FIPS','March_Claims','February_Claims','Claims_Pct_Change']]"
   ]
  },
  {
   "cell_type": "code",
   "execution_count": 42,
   "metadata": {},
   "outputs": [],
   "source": [
    "claims.sort_values('February_Claims', inplace=True)"
   ]
  },
  {
   "cell_type": "code",
   "execution_count": 43,
   "metadata": {},
   "outputs": [],
   "source": [
    "counties = pd.merge(counties, claims, how='left', on='FIPS')"
   ]
  },
  {
   "cell_type": "code",
   "execution_count": 44,
   "metadata": {},
   "outputs": [],
   "source": [
    "counties.sort_values('February_Claims', inplace=True)"
   ]
  },
  {
   "cell_type": "code",
   "execution_count": 45,
   "metadata": {},
   "outputs": [],
   "source": [
    "counties['Cases_1000_Norm'] = (counties.iloc[ : , 29 ]-counties.iloc[ : , 29 ].min())/(counties.iloc[ : , 29 ].max()-counties.iloc[ : , 29 ].min()) * 100"
   ]
  },
  {
   "cell_type": "code",
   "execution_count": 46,
   "metadata": {},
   "outputs": [],
   "source": [
    "counties = counties[['FIPS','County','Total_Population','Population_Under_18','Population_Over_18','Population_Over_65',\n",
    "                     'Population_Pct_Over_65','Jobs','Jobs_Frequent_Disease_Exposure','Jobs_Pct_Disease_Exposure',\n",
    "                     'Jobs_Frequent_Physical_Proximity','Jobs_Pct_Prox','Socioeconomic_Status',\n",
    "                     'Household_Comp_Disability','Minority_Status_Language','Housing_Transportation',\n",
    "                     'Epidemiology','Healthcare_System','CCVI_Score','Hospitals','Beds','Beds_per_1000','Pct_Uninsured',\n",
    "                     'Beds_per_1000_Elderly','Cases','Deaths','COVID_Death_Rate','COVID_Cases_Per_1000','Cases_1000_Norm',\n",
    "                     'Deaths_Wk_Chng_100k','Cases_Wk_Chng_100k','avg_daily_change',\n",
    "                     'March_Claims','February_Claims','Claims_Pct_Change','geometry']]\n",
    "\n",
    "counties.rename(columns={'avg_daily_change' : 'Cases_Avg_Pct_Chng_Daily'}, inplace=True)"
   ]
  },
  {
   "cell_type": "code",
   "execution_count": 47,
   "metadata": {},
   "outputs": [],
   "source": [
    "counties['Cases_1000_Norm'].fillna(0,inplace=True)\n",
    "counties['Deaths_Wk_Chng_100k'].fillna(0,inplace=True)\n",
    "counties['Cases_Wk_Chng_100k'].fillna(0,inplace=True)\n",
    "counties['Cases_Avg_Pct_Chng_Daily'].fillna(0,inplace=True)\n",
    "counties['COVID_Death_Rate'].fillna(0,inplace=True)"
   ]
  },
  {
   "cell_type": "code",
   "execution_count": 48,
   "metadata": {},
   "outputs": [],
   "source": [
    "counties = gpd.GeoDataFrame(counties, geometry='geometry')"
   ]
  },
  {
   "cell_type": "code",
   "execution_count": 49,
   "metadata": {},
   "outputs": [],
   "source": [
    "countyPoints = counties.copy()"
   ]
  },
  {
   "cell_type": "code",
   "execution_count": 50,
   "metadata": {},
   "outputs": [],
   "source": [
    "countyPoints['geometry'] = counties['geometry'].centroid"
   ]
  },
  {
   "cell_type": "code",
   "execution_count": 51,
   "metadata": {},
   "outputs": [],
   "source": [
    "countyPoints.sort_values('Cases_1000_Norm', inplace=True)\n",
    "countyPoints['Cases_1000_Norm'].round(1)\n",
    "counties['COVID_Death_Rate'].fillna(0, inplace=True)\n",
    "countyPoints['COVID_Death_Rate'].fillna(0, inplace=True)"
   ]
  },
  {
   "cell_type": "code",
   "execution_count": 52,
   "metadata": {},
   "outputs": [],
   "source": [
    "countyData = counties[['FIPS','County','Cases','Deaths','Total_Population','Population_Under_18','Population_Over_18','Population_Over_65',\n",
    "                     'Population_Pct_Over_65','Jobs','Jobs_Frequent_Disease_Exposure','Jobs_Pct_Disease_Exposure',\n",
    "                     'Jobs_Frequent_Physical_Proximity','Jobs_Pct_Prox','Socioeconomic_Status',\n",
    "                     'Household_Comp_Disability','Minority_Status_Language','Housing_Transportation',\n",
    "                     'Epidemiology','Healthcare_System','CCVI_Score','Hospitals','Beds','Beds_per_1000','Pct_Uninsured',\n",
    "                     'Beds_per_1000_Elderly','COVID_Death_Rate','COVID_Cases_Per_1000','Cases_1000_Norm',\n",
    "                     'Deaths_Wk_Chng_100k','Cases_Wk_Chng_100k','Cases_Avg_Pct_Chng_Daily',\n",
    "                     'March_Claims','February_Claims','Claims_Pct_Change']]"
   ]
  },
  {
   "cell_type": "code",
   "execution_count": 53,
   "metadata": {},
   "outputs": [],
   "source": [
    "hospitals.to_excel('hospitals.xlsx',index=False)"
   ]
  },
  {
   "cell_type": "code",
   "execution_count": 54,
   "metadata": {},
   "outputs": [],
   "source": [
    "countyHospitals.to_excel('hospitals.xlsx',index=False)"
   ]
  },
  {
   "cell_type": "code",
   "execution_count": 55,
   "metadata": {},
   "outputs": [],
   "source": [
    "hospitals = hospitals[['ID','NAME','ADDRESS','CITY','STATE','ZIP','TYPE','STATUS','COUNTY','COUNTYFIPS',\n",
    "                       'LATITUDE','LONGITUDE','NAICS_CODE','NAICS_DESC','BEDS','TRAUMA',\n",
    "                       'HELIPAD','geometry']]"
   ]
  },
  {
   "cell_type": "code",
   "execution_count": 56,
   "metadata": {},
   "outputs": [],
   "source": [
    "hospitals.to_file(\"spatial/mapbox/hospitals.geojson\", driver='GeoJSON')"
   ]
  },
  {
   "cell_type": "code",
   "execution_count": 57,
   "metadata": {},
   "outputs": [],
   "source": [
    "counties.to_file(\"spatial/mapbox/countyData.geojson\", driver='GeoJSON')\n",
    "countyPoints.to_file(\"spatial/mapbox/countyPoints.geojson\", driver='GeoJSON')\n",
    "countyData.to_excel('countyData.xlsx', index=False)\n",
    "covid.to_excel('covid.xlsx', index=False)"
   ]
  },
  {
   "cell_type": "code",
   "execution_count": 58,
   "metadata": {},
   "outputs": [
    {
     "name": "stderr",
     "output_type": "stream",
     "text": [
      "/Users/mmainza/opt/anaconda3/lib/python3.7/site-packages/ipykernel_launcher.py:1: SettingWithCopyWarning: \n",
      "A value is trying to be set on a copy of a slice from a DataFrame\n",
      "\n",
      "See the caveats in the documentation: https://pandas.pydata.org/pandas-docs/stable/user_guide/indexing.html#returning-a-view-versus-a-copy\n",
      "  \"\"\"Entry point for launching an IPython kernel.\n"
     ]
    }
   ],
   "source": [
    "countyData.sort_values('Cases',inplace=True)"
   ]
  },
  {
   "cell_type": "code",
   "execution_count": 69,
   "metadata": {},
   "outputs": [],
   "source": [
    "# original covid file needs to be written out as separate \n",
    "# file for additional visualizations and tables\n",
    "covidDW = pd.merge(countyList,covid,how='left',on='FIPS')\n",
    "covidDW.fillna(0, inplace=True)\n",
    "\n",
    "covidDW['Cases Change per 100k'] = ( covidDW['cases_diff'] / covidDW['Total_Population'] ) *100000\n",
    "#rename all columns for datawrapper visuals\n",
    "covidDW.rename(columns={'Cases'             : 'Total Cases',\n",
    "                         'Deaths'           : 'Total Deaths',\n",
    "                         'Recent_Cases'     : 'Recent Cases',\n",
    "                         'Recent_Deaths'    : 'Recent Deaths',\n",
    "                         'cases_this_wk'    : 'Cases This Week',\n",
    "                         'cases_prev_wk'    : 'Cases Last Week',\n",
    "                         'deaths_this_wk'   : 'Deaths This Week',\n",
    "                         'deaths_prev_wk'   : 'Deaths Last Week',\n",
    "                         'cases_diff'       : 'Change in Cases',\n",
    "                         'deaths_diff'       : 'Change in Deaths',\n",
    "                         'avg_daily_change' : 'Avg. Daily Change'}, inplace=True)"
   ]
  },
  {
   "cell_type": "code",
   "execution_count": 71,
   "metadata": {},
   "outputs": [],
   "source": [
    "# repeat all of that covid manipulation with MSAs and Regional Commissions\n",
    "# stack on top of each other and writ to single excel file in format(s) for datawrapper\n",
    "covidDW.to_excel('../application/app-data/covidDataWrapper.xlsx', index=False)"
   ]
  },
  {
   "cell_type": "code",
   "execution_count": null,
   "metadata": {},
   "outputs": [],
   "source": []
  },
  {
   "cell_type": "code",
   "execution_count": null,
   "metadata": {},
   "outputs": [],
   "source": []
  },
  {
   "cell_type": "code",
   "execution_count": null,
   "metadata": {},
   "outputs": [],
   "source": []
  },
  {
   "cell_type": "code",
   "execution_count": null,
   "metadata": {},
   "outputs": [],
   "source": []
  },
  {
   "cell_type": "code",
   "execution_count": null,
   "metadata": {},
   "outputs": [],
   "source": [
    "# for correlations\n",
    "dataPlot = counties[['County','Population_Over_65',\n",
    "                     'Population_Pct_Over_65','Jobs','Jobs_Frequent_Disease_Exposure','Jobs_Pct_Disease_Exposure',\n",
    "                     'Jobs_Frequent_Physical_Proximity','Jobs_Pct_Prox','Socioeconomic_Status',\n",
    "                     'Epidemiology','Healthcare_System','CCVI_Score','Hospitals','Beds','Beds_per_1000','Pct_Uninsured',\n",
    "                     'Beds_per_1000_Elderly','COVID_Death_Rate','COVID_Cases_Per_1000','Cases_1000_Norm',\n",
    "                     'Claims_Pct_Change']]"
   ]
  },
  {
   "cell_type": "code",
   "execution_count": null,
   "metadata": {},
   "outputs": [],
   "source": [
    "# Compute the correlation matrix\n",
    "corr = dataPlot.corr()\n",
    "\n",
    "# Generate a mask for the upper triangle\n",
    "mask = np.triu(np.ones_like(corr, dtype=np.bool))\n",
    "\n",
    "# Set up the matplotlib figure\n",
    "f, ax = plt.subplots(figsize=(11, 9))\n",
    "\n",
    "# Generate a custom diverging colormap\n",
    "cmap = sns.diverging_palette(220, 10, as_cmap=True)\n",
    "\n",
    "# Draw the heatmap with the mask and correct aspect ratio\n",
    "sns.heatmap(corr, mask=mask, cmap=cmap, vmax=.3, center=0,\n",
    "            square=True, linewidths=.5, cbar_kws={\"shrink\": .5})"
   ]
  },
  {
   "cell_type": "code",
   "execution_count": null,
   "metadata": {},
   "outputs": [],
   "source": [
    "plt.show()"
   ]
  },
  {
   "cell_type": "code",
   "execution_count": null,
   "metadata": {},
   "outputs": [],
   "source": []
  }
 ],
 "metadata": {
  "kernelspec": {
   "display_name": "Python 3",
   "language": "python",
   "name": "python3"
  },
  "language_info": {
   "codemirror_mode": {
    "name": "ipython",
    "version": 3
   },
   "file_extension": ".py",
   "mimetype": "text/x-python",
   "name": "python",
   "nbconvert_exporter": "python",
   "pygments_lexer": "ipython3",
   "version": "3.7.6"
  }
 },
 "nbformat": 4,
 "nbformat_minor": 2
}
