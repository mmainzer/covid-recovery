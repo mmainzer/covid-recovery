{
 "cells": [
  {
   "cell_type": "code",
   "execution_count": 1,
   "metadata": {},
   "outputs": [],
   "source": [
    "import pandas as pd\n",
    "pd.set_option('display.max_columns', None)\n",
    "\n",
    "import numpy as np\n",
    "\n",
    "import geopandas as gpd\n",
    "import fiona\n",
    "\n",
    "import matplotlib.pyplot as plt\n",
    "import seaborn as sns"
   ]
  },
  {
   "cell_type": "code",
   "execution_count": 2,
   "metadata": {},
   "outputs": [],
   "source": [
    "counties = pd.read_excel('covid-recovery-data.xlsx', sheet_name=\"county-population\")\n",
    "jobs = pd.read_excel('covid-recovery-data.xlsx', sheet_name=\"county-jobs-summary\", usecols=\"B,C,D,F,G,I\")\n",
    "ccvi = pd.read_excel('covid-recovery-data.xlsx', sheet_name=\"ccvi-county\", usecols=\"D:K\")\n",
    "countyShape = gpd.read_file(\"spatial/ga-counties.geojson\")\n",
    "countyClaims = pd.read_excel('covid-recovery-data.xlsx', sheet_name=\"unemployment-claims-monthly\")\n",
    "hospitals = gpd.read_file(\"spatial/hospitals.geojson\")"
   ]
  },
  {
   "cell_type": "code",
   "execution_count": 3,
   "metadata": {},
   "outputs": [],
   "source": [
    "hospitals = gpd.read_file(\"spatial/hospitals.geojson\")"
   ]
  },
  {
   "cell_type": "code",
   "execution_count": 4,
   "metadata": {},
   "outputs": [],
   "source": [
    "hospitals.sort_values('BEDS', inplace=True)"
   ]
  },
  {
   "cell_type": "code",
   "execution_count": 5,
   "metadata": {},
   "outputs": [],
   "source": [
    "hospitals.BEDS = np.where(hospitals.BEDS < 0, 82,hospitals.BEDS)"
   ]
  },
  {
   "cell_type": "code",
   "execution_count": 6,
   "metadata": {},
   "outputs": [],
   "source": [
    "counties = pd.merge(counties,jobs,how='left',on='FIPS')"
   ]
  },
  {
   "cell_type": "code",
   "execution_count": 7,
   "metadata": {},
   "outputs": [],
   "source": [
    "counties = pd.merge(counties,ccvi,how='left',on='FIPS')"
   ]
  },
  {
   "cell_type": "code",
   "execution_count": 8,
   "metadata": {},
   "outputs": [],
   "source": [
    "counties['FIPS'] = counties['FIPS'].astype(str)"
   ]
  },
  {
   "cell_type": "code",
   "execution_count": 9,
   "metadata": {},
   "outputs": [],
   "source": [
    "counties = pd.merge(counties,countyShape, how='left', left_on='FIPS', right_on='GEOID')"
   ]
  },
  {
   "cell_type": "code",
   "execution_count": 10,
   "metadata": {},
   "outputs": [],
   "source": [
    "del counties['GEOID']"
   ]
  },
  {
   "cell_type": "code",
   "execution_count": 11,
   "metadata": {},
   "outputs": [],
   "source": [
    "# groupby county fips to get number of hospitals and number of beds per county\n",
    "countyHospitals = hospitals.groupby('COUNTYFIPS') \\\n",
    "                           .agg({'NAME':'count', 'BEDS': 'sum'}) \\\n",
    "                           .reset_index() \\\n",
    "                           .rename(columns={'NAME':'Hospitals',\n",
    "                                            'BEDS':'Beds',\n",
    "                                            'COUNTYFIPS':'FIPS'})"
   ]
  },
  {
   "cell_type": "code",
   "execution_count": 12,
   "metadata": {},
   "outputs": [],
   "source": [
    "counties = pd.merge(counties,countyHospitals, how='left', on='FIPS')"
   ]
  },
  {
   "cell_type": "code",
   "execution_count": 13,
   "metadata": {},
   "outputs": [],
   "source": [
    "counties['Hospitals'].fillna(0, inplace=True)\n",
    "counties['Beds'].fillna(0, inplace=True)"
   ]
  },
  {
   "cell_type": "code",
   "execution_count": 14,
   "metadata": {},
   "outputs": [],
   "source": [
    "counties['Beds_per_1000'] = ( counties['Beds'] / counties['Total_Population'] ) * 1000\n",
    "counties['Beds_per_1000_Elderly'] = ( counties['Beds'] / counties['Population_Over_65'] ) * 1000"
   ]
  },
  {
   "cell_type": "code",
   "execution_count": null,
   "metadata": {},
   "outputs": [],
   "source": []
  },
  {
   "cell_type": "code",
   "execution_count": 15,
   "metadata": {},
   "outputs": [],
   "source": [
    "covid = pd.read_csv('https://raw.githubusercontent.com/nytimes/covid-19-data/master/us-counties.csv')\n",
    "covid = covid.loc[covid['state'] == 'Georgia']"
   ]
  },
  {
   "cell_type": "code",
   "execution_count": 16,
   "metadata": {},
   "outputs": [],
   "source": [
    "# the covid data is reported as a cumulative sum\n",
    "# we want the daily counts as well for different charting options\n",
    "covid.date = pd.to_datetime(covid.date)\n",
    "covid.sort_values(['county', 'date'], ascending=[True, True], inplace=True)"
   ]
  },
  {
   "cell_type": "code",
   "execution_count": 17,
   "metadata": {},
   "outputs": [],
   "source": [
    "covid['fips'] = covid['fips'].fillna(13)"
   ]
  },
  {
   "cell_type": "code",
   "execution_count": 18,
   "metadata": {},
   "outputs": [],
   "source": [
    "covid['fips'] = covid['fips'].astype(int)\n",
    "covid['fips'] = covid['fips'].astype(str)"
   ]
  },
  {
   "cell_type": "code",
   "execution_count": 19,
   "metadata": {},
   "outputs": [],
   "source": [
    "covid.reset_index(inplace=True, drop=True)"
   ]
  },
  {
   "cell_type": "code",
   "execution_count": 20,
   "metadata": {},
   "outputs": [],
   "source": [
    "covid.sort_values(['county', 'date'], ascending=[True, True], inplace=True)"
   ]
  },
  {
   "cell_type": "code",
   "execution_count": 21,
   "metadata": {},
   "outputs": [],
   "source": [
    "covid['daily_cases'] = np.where(covid.fips == covid.fips.shift(), covid.cases - covid.cases.shift(), np.nan)"
   ]
  },
  {
   "cell_type": "code",
   "execution_count": 22,
   "metadata": {},
   "outputs": [],
   "source": [
    "covid['daily_cases'].fillna(covid['cases'], inplace=True)"
   ]
  },
  {
   "cell_type": "code",
   "execution_count": 23,
   "metadata": {},
   "outputs": [],
   "source": [
    "covid['daily_deaths'] = np.where(covid.fips == covid.fips.shift(), covid.deaths - covid.deaths.shift(), np.nan)\n",
    "covid['daily_deaths'].fillna(covid['deaths'], inplace=True)"
   ]
  },
  {
   "cell_type": "code",
   "execution_count": null,
   "metadata": {},
   "outputs": [],
   "source": [
    "# add 7 day running average\n",
    "# add total new cases last two weeks\n",
    "# add total new cases per 1000\n",
    "# add daily growth rate over last 14 days\n",
    "# new cases over the last 7 days\n",
    "# new cases over the previous 7-day period\n",
    "# total change current week to previous week\n",
    "# week to week change per 100k\n",
    "\n",
    "# remake these charts in datawrapper https://www.nytimes.com/interactive/2020/04/23/upshot/five-ways-to-monitor-coronavirus-outbreak-us.html\n",
    "    \n",
    "# add these summed datapoints to the county flat file and push to mapbox\n",
    "\n",
    "# add these new features to the current application"
   ]
  },
  {
   "cell_type": "code",
   "execution_count": null,
   "metadata": {},
   "outputs": [],
   "source": []
  },
  {
   "cell_type": "code",
   "execution_count": null,
   "metadata": {},
   "outputs": [],
   "source": []
  },
  {
   "cell_type": "code",
   "execution_count": null,
   "metadata": {},
   "outputs": [],
   "source": []
  },
  {
   "cell_type": "code",
   "execution_count": 24,
   "metadata": {},
   "outputs": [],
   "source": [
    "# groupby county fips to get number of hospitals and number of beds per county\n",
    "covidTotals = covid.groupby('fips') \\\n",
    "                   .agg({'daily_cases':'sum', 'daily_deaths': 'sum'}) \\\n",
    "                   .reset_index() \\\n",
    "                   .rename(columns={'daily_cases':'Cases',\n",
    "                                    'daily_deaths':'Deaths',\n",
    "                                    'fips':'FIPS'})"
   ]
  },
  {
   "cell_type": "code",
   "execution_count": 27,
   "metadata": {},
   "outputs": [],
   "source": [
    "covidTotals['FIPS'] = covidTotals['FIPS'].astype(str)"
   ]
  },
  {
   "cell_type": "code",
   "execution_count": 28,
   "metadata": {},
   "outputs": [],
   "source": [
    "# merge counties with covid\n",
    "counties = pd.merge(counties,covidTotals, how='left', on='FIPS')"
   ]
  },
  {
   "cell_type": "code",
   "execution_count": 29,
   "metadata": {},
   "outputs": [],
   "source": [
    "counties['Cases'].fillna(0, inplace=True)\n",
    "counties['Deaths'].fillna(0, inplace=True)"
   ]
  },
  {
   "cell_type": "code",
   "execution_count": 30,
   "metadata": {},
   "outputs": [],
   "source": [
    "# add custom columns on rates, etc.\n",
    "counties['COVID_Death_Rate'] = ( counties['Deaths'] / counties['Cases'] ) * 100\n",
    "counties['COVID_Cases_Per_1000'] = ( counties['Cases'] / counties['Total_Population'] ) * 1000"
   ]
  },
  {
   "cell_type": "code",
   "execution_count": 31,
   "metadata": {},
   "outputs": [],
   "source": [
    "countyClaims = countyClaims.melt(id_vars=[\"FIPS\", \"County\",\"Year\"], var_name=\"Month\", value_name=\"Claims\")"
   ]
  },
  {
   "cell_type": "code",
   "execution_count": 32,
   "metadata": {},
   "outputs": [],
   "source": [
    "countyClaimsNew = countyClaims.loc[countyClaims['Year'] == 2020]\n",
    "countyClaimsNew = countyClaimsNew.loc[countyClaimsNew['Month'] == \"March\"]\n",
    "countyClaimsLast = countyClaims.loc[countyClaims['Year'] == 2020]\n",
    "countyClaimsLast = countyClaimsLast.loc[countyClaimsLast['Month'] == \"February\"]\n",
    "\n",
    "claims = pd.merge(countyClaimsNew, countyClaimsLast, how='left', on='FIPS')"
   ]
  },
  {
   "cell_type": "code",
   "execution_count": 36,
   "metadata": {},
   "outputs": [],
   "source": [
    "claims.rename(columns={'Claims_x' : 'March_Claims',\n",
    "                       'Claims_y' : 'February_Claims'}, inplace=True)\n",
    "\n",
    "claims['Claims_Pct_Change'] = ( ( claims['March_Claims'] - claims['February_Claims'] ) / claims['February_Claims'] ) * 100"
   ]
  },
  {
   "cell_type": "code",
   "execution_count": 37,
   "metadata": {},
   "outputs": [],
   "source": [
    "claims['Claims_Pct_Change'] = claims['Claims_Pct_Change'].round(1)"
   ]
  },
  {
   "cell_type": "code",
   "execution_count": 38,
   "metadata": {},
   "outputs": [],
   "source": [
    "claims['FIPS'] = claims['FIPS'].astype(str)"
   ]
  },
  {
   "cell_type": "code",
   "execution_count": 39,
   "metadata": {},
   "outputs": [],
   "source": [
    "claims = claims[['FIPS','March_Claims','February_Claims','Claims_Pct_Change']]"
   ]
  },
  {
   "cell_type": "code",
   "execution_count": 40,
   "metadata": {},
   "outputs": [],
   "source": [
    "claims.sort_values('February_Claims', inplace=True)"
   ]
  },
  {
   "cell_type": "code",
   "execution_count": 41,
   "metadata": {},
   "outputs": [],
   "source": [
    "counties = pd.merge(counties, claims, how='left', on='FIPS')"
   ]
  },
  {
   "cell_type": "code",
   "execution_count": 42,
   "metadata": {},
   "outputs": [],
   "source": [
    "counties.sort_values('February_Claims', inplace=True)"
   ]
  },
  {
   "cell_type": "code",
   "execution_count": 43,
   "metadata": {},
   "outputs": [],
   "source": [
    "counties['Cases_1000_Norm'] = (counties.iloc[ : , 29 ]-counties.iloc[ : , 29 ].min())/(counties.iloc[ : , 29 ].max()-counties.iloc[ : , 29 ].min()) * 100"
   ]
  },
  {
   "cell_type": "code",
   "execution_count": 44,
   "metadata": {},
   "outputs": [],
   "source": [
    "counties = counties[['FIPS','County','Total_Population','Population_Under_18','Population_Over_18','Population_Over_65',\n",
    "                     'Population_Pct_Over_65','Jobs','Jobs_Frequent_Disease_Exposure','Jobs_Pct_Disease_Exposure',\n",
    "                     'Jobs_Frequent_Physical_Proximity','Jobs_Pct_Prox','Socioeconomic_Status',\n",
    "                     'Household_Comp_Disability','Minority_Status_Language','Housing_Transportation',\n",
    "                     'Epidemiology','Healthcare_System','CCVI_Score','Hospitals','Beds','Beds_per_1000','Pct_Uninsured',\n",
    "                     'Beds_per_1000_Elderly','Cases','Deaths','COVID_Death_Rate','COVID_Cases_Per_1000','Cases_1000_Norm',\n",
    "                     'March_Claims','February_Claims','Claims_Pct_Change','geometry']]"
   ]
  },
  {
   "cell_type": "code",
   "execution_count": 45,
   "metadata": {},
   "outputs": [],
   "source": [
    "counties = gpd.GeoDataFrame(counties, geometry='geometry')"
   ]
  },
  {
   "cell_type": "code",
   "execution_count": 46,
   "metadata": {},
   "outputs": [],
   "source": [
    "countyPoints = counties.copy()"
   ]
  },
  {
   "cell_type": "code",
   "execution_count": 47,
   "metadata": {},
   "outputs": [],
   "source": [
    "countyPoints['geometry'] = counties['geometry'].centroid"
   ]
  },
  {
   "cell_type": "code",
   "execution_count": 48,
   "metadata": {},
   "outputs": [],
   "source": [
    "countyPoints.sort_values('Cases_1000_Norm', inplace=True)\n",
    "countyPoints['Cases_1000_Norm'].round(1)\n",
    "counties['COVID_Death_Rate'].fillna(0, inplace=True)\n",
    "countyPoints['COVID_Death_Rate'].fillna(0, inplace=True)"
   ]
  },
  {
   "cell_type": "code",
   "execution_count": 49,
   "metadata": {},
   "outputs": [],
   "source": [
    "countyData = counties[['FIPS','County','Cases','Deaths','Total_Population','Population_Under_18','Population_Over_18','Population_Over_65',\n",
    "                     'Population_Pct_Over_65','Jobs','Jobs_Frequent_Disease_Exposure','Jobs_Pct_Disease_Exposure',\n",
    "                     'Jobs_Frequent_Physical_Proximity','Jobs_Pct_Prox','Socioeconomic_Status',\n",
    "                     'Household_Comp_Disability','Minority_Status_Language','Housing_Transportation',\n",
    "                     'Epidemiology','Healthcare_System','CCVI_Score','Hospitals','Beds','Beds_per_1000','Pct_Uninsured',\n",
    "                     'Beds_per_1000_Elderly','COVID_Death_Rate','COVID_Cases_Per_1000','Cases_1000_Norm',\n",
    "                     'March_Claims','February_Claims','Claims_Pct_Change']]"
   ]
  },
  {
   "cell_type": "code",
   "execution_count": 50,
   "metadata": {},
   "outputs": [],
   "source": [
    "hospitals.to_excel('hospitals.xlsx',index=False)"
   ]
  },
  {
   "cell_type": "code",
   "execution_count": 51,
   "metadata": {},
   "outputs": [],
   "source": [
    "countyHospitals.to_excel('hospitals.xlsx',index=False)"
   ]
  },
  {
   "cell_type": "code",
   "execution_count": 52,
   "metadata": {},
   "outputs": [],
   "source": [
    "hospitals = hospitals[['ID','NAME','ADDRESS','CITY','STATE','ZIP','TYPE','STATUS','COUNTY','COUNTYFIPS',\n",
    "                       'LATITUDE','LONGITUDE','NAICS_CODE','NAICS_DESC','BEDS','TRAUMA',\n",
    "                       'HELIPAD','geometry']]"
   ]
  },
  {
   "cell_type": "code",
   "execution_count": 53,
   "metadata": {},
   "outputs": [],
   "source": [
    "hospitals.to_file(\"spatial/mapbox/hospitals.geojson\", driver='GeoJSON')"
   ]
  },
  {
   "cell_type": "code",
   "execution_count": 55,
   "metadata": {},
   "outputs": [],
   "source": [
    "counties.to_file(\"spatial/mapbox/countyData.geojson\", driver='GeoJSON')\n",
    "countyPoints.to_file(\"spatial/mapbox/countyPoints.geojson\", driver='GeoJSON')\n",
    "countyData.to_excel('countyData.xlsx', index=False)\n",
    "covid.to_excel('covid.xlsx', index=False)"
   ]
  },
  {
   "cell_type": "code",
   "execution_count": 56,
   "metadata": {},
   "outputs": [
    {
     "name": "stderr",
     "output_type": "stream",
     "text": [
      "C:\\Users\\MTMAINZE\\AppData\\Local\\Continuum\\anaconda3\\lib\\site-packages\\ipykernel_launcher.py:1: SettingWithCopyWarning: \n",
      "A value is trying to be set on a copy of a slice from a DataFrame\n",
      "\n",
      "See the caveats in the documentation: http://pandas.pydata.org/pandas-docs/stable/indexing.html#indexing-view-versus-copy\n",
      "  \"\"\"Entry point for launching an IPython kernel.\n"
     ]
    },
    {
     "data": {
      "text/html": [
       "<div>\n",
       "<style scoped>\n",
       "    .dataframe tbody tr th:only-of-type {\n",
       "        vertical-align: middle;\n",
       "    }\n",
       "\n",
       "    .dataframe tbody tr th {\n",
       "        vertical-align: top;\n",
       "    }\n",
       "\n",
       "    .dataframe thead th {\n",
       "        text-align: right;\n",
       "    }\n",
       "</style>\n",
       "<table border=\"1\" class=\"dataframe\">\n",
       "  <thead>\n",
       "    <tr style=\"text-align: right;\">\n",
       "      <th></th>\n",
       "      <th>FIPS</th>\n",
       "      <th>County</th>\n",
       "      <th>Cases</th>\n",
       "      <th>Deaths</th>\n",
       "      <th>Total_Population</th>\n",
       "      <th>Population_Under_18</th>\n",
       "      <th>Population_Over_18</th>\n",
       "      <th>Population_Over_65</th>\n",
       "      <th>Population_Pct_Over_65</th>\n",
       "      <th>Jobs</th>\n",
       "      <th>Jobs_Frequent_Disease_Exposure</th>\n",
       "      <th>Jobs_Pct_Disease_Exposure</th>\n",
       "      <th>Jobs_Frequent_Physical_Proximity</th>\n",
       "      <th>Jobs_Pct_Prox</th>\n",
       "      <th>Socioeconomic_Status</th>\n",
       "      <th>Household_Comp_Disability</th>\n",
       "      <th>Minority_Status_Language</th>\n",
       "      <th>Housing_Transportation</th>\n",
       "      <th>Epidemiology</th>\n",
       "      <th>Healthcare_System</th>\n",
       "      <th>CCVI_Score</th>\n",
       "      <th>Hospitals</th>\n",
       "      <th>Beds</th>\n",
       "      <th>Beds_per_1000</th>\n",
       "      <th>Pct_Uninsured</th>\n",
       "      <th>Beds_per_1000_Elderly</th>\n",
       "      <th>COVID_Death_Rate</th>\n",
       "      <th>COVID_Cases_Per_1000</th>\n",
       "      <th>Cases_1000_Norm</th>\n",
       "      <th>March_Claims</th>\n",
       "      <th>February_Claims</th>\n",
       "      <th>Claims_Pct_Change</th>\n",
       "    </tr>\n",
       "  </thead>\n",
       "  <tbody>\n",
       "    <tr>\n",
       "      <th>154</th>\n",
       "      <td>13135</td>\n",
       "      <td>Gwinnett County</td>\n",
       "      <td>1124.0</td>\n",
       "      <td>38.0</td>\n",
       "      <td>902298</td>\n",
       "      <td>247451</td>\n",
       "      <td>654847</td>\n",
       "      <td>83442</td>\n",
       "      <td>9.247721</td>\n",
       "      <td>407959.281641</td>\n",
       "      <td>13421.062658</td>\n",
       "      <td>3.289804</td>\n",
       "      <td>72398.271894</td>\n",
       "      <td>17.746446</td>\n",
       "      <td>0.328239</td>\n",
       "      <td>0.054441</td>\n",
       "      <td>0.962114</td>\n",
       "      <td>0.049984</td>\n",
       "      <td>0.100605</td>\n",
       "      <td>0.126393</td>\n",
       "      <td>0.101878</td>\n",
       "      <td>6.0</td>\n",
       "      <td>929.0</td>\n",
       "      <td>1.029593</td>\n",
       "      <td>16.841332</td>\n",
       "      <td>11.133482</td>\n",
       "      <td>3.380783</td>\n",
       "      <td>1.245708</td>\n",
       "      <td>6.130787</td>\n",
       "      <td>29768</td>\n",
       "      <td>1447</td>\n",
       "      <td>1957.2</td>\n",
       "    </tr>\n",
       "    <tr>\n",
       "      <th>155</th>\n",
       "      <td>13067</td>\n",
       "      <td>Cobb County</td>\n",
       "      <td>1148.0</td>\n",
       "      <td>54.0</td>\n",
       "      <td>745057</td>\n",
       "      <td>180207</td>\n",
       "      <td>564850</td>\n",
       "      <td>85117</td>\n",
       "      <td>11.424227</td>\n",
       "      <td>407114.511371</td>\n",
       "      <td>15716.328766</td>\n",
       "      <td>3.860420</td>\n",
       "      <td>73047.985512</td>\n",
       "      <td>17.942860</td>\n",
       "      <td>0.165234</td>\n",
       "      <td>0.056988</td>\n",
       "      <td>0.886342</td>\n",
       "      <td>0.041388</td>\n",
       "      <td>0.194524</td>\n",
       "      <td>0.159185</td>\n",
       "      <td>0.085960</td>\n",
       "      <td>6.0</td>\n",
       "      <td>1274.0</td>\n",
       "      <td>1.709936</td>\n",
       "      <td>12.210475</td>\n",
       "      <td>14.967633</td>\n",
       "      <td>4.703833</td>\n",
       "      <td>1.540822</td>\n",
       "      <td>7.583197</td>\n",
       "      <td>26415</td>\n",
       "      <td>1228</td>\n",
       "      <td>2051.1</td>\n",
       "    </tr>\n",
       "    <tr>\n",
       "      <th>156</th>\n",
       "      <td>13095</td>\n",
       "      <td>Dougherty County</td>\n",
       "      <td>1425.0</td>\n",
       "      <td>90.0</td>\n",
       "      <td>91049</td>\n",
       "      <td>22101</td>\n",
       "      <td>68948</td>\n",
       "      <td>13321</td>\n",
       "      <td>14.630584</td>\n",
       "      <td>52505.065419</td>\n",
       "      <td>3180.433026</td>\n",
       "      <td>6.057383</td>\n",
       "      <td>11361.299438</td>\n",
       "      <td>21.638483</td>\n",
       "      <td>0.848138</td>\n",
       "      <td>0.780643</td>\n",
       "      <td>0.796880</td>\n",
       "      <td>0.524355</td>\n",
       "      <td>0.880611</td>\n",
       "      <td>0.523719</td>\n",
       "      <td>0.872970</td>\n",
       "      <td>2.0</td>\n",
       "      <td>939.0</td>\n",
       "      <td>10.313128</td>\n",
       "      <td>11.394963</td>\n",
       "      <td>70.490203</td>\n",
       "      <td>6.315789</td>\n",
       "      <td>15.650913</td>\n",
       "      <td>77.026404</td>\n",
       "      <td>2663</td>\n",
       "      <td>266</td>\n",
       "      <td>901.1</td>\n",
       "    </tr>\n",
       "    <tr>\n",
       "      <th>157</th>\n",
       "      <td>13089</td>\n",
       "      <td>DeKalb County</td>\n",
       "      <td>1473.0</td>\n",
       "      <td>24.0</td>\n",
       "      <td>743187</td>\n",
       "      <td>174266</td>\n",
       "      <td>568921</td>\n",
       "      <td>85571</td>\n",
       "      <td>11.514060</td>\n",
       "      <td>342656.967297</td>\n",
       "      <td>17976.739607</td>\n",
       "      <td>5.246279</td>\n",
       "      <td>65062.890941</td>\n",
       "      <td>18.987762</td>\n",
       "      <td>0.472143</td>\n",
       "      <td>0.126393</td>\n",
       "      <td>0.919452</td>\n",
       "      <td>0.371219</td>\n",
       "      <td>0.352436</td>\n",
       "      <td>0.164597</td>\n",
       "      <td>0.335880</td>\n",
       "      <td>15.0</td>\n",
       "      <td>2686.0</td>\n",
       "      <td>3.614164</td>\n",
       "      <td>13.893139</td>\n",
       "      <td>31.389139</td>\n",
       "      <td>1.629328</td>\n",
       "      <td>1.982005</td>\n",
       "      <td>9.754490</td>\n",
       "      <td>27027</td>\n",
       "      <td>1588</td>\n",
       "      <td>1602.0</td>\n",
       "    </tr>\n",
       "    <tr>\n",
       "      <th>158</th>\n",
       "      <td>13121</td>\n",
       "      <td>Fulton County</td>\n",
       "      <td>2131.0</td>\n",
       "      <td>75.0</td>\n",
       "      <td>1021902</td>\n",
       "      <td>230272</td>\n",
       "      <td>791630</td>\n",
       "      <td>113402</td>\n",
       "      <td>11.097150</td>\n",
       "      <td>955995.220840</td>\n",
       "      <td>44057.581711</td>\n",
       "      <td>4.608557</td>\n",
       "      <td>165477.867472</td>\n",
       "      <td>17.309487</td>\n",
       "      <td>0.260745</td>\n",
       "      <td>0.102197</td>\n",
       "      <td>0.863738</td>\n",
       "      <td>0.249920</td>\n",
       "      <td>0.983126</td>\n",
       "      <td>0.156638</td>\n",
       "      <td>0.420885</td>\n",
       "      <td>19.0</td>\n",
       "      <td>4984.0</td>\n",
       "      <td>4.877180</td>\n",
       "      <td>11.405693</td>\n",
       "      <td>43.949842</td>\n",
       "      <td>3.519474</td>\n",
       "      <td>2.085327</td>\n",
       "      <td>10.262996</td>\n",
       "      <td>44097</td>\n",
       "      <td>2215</td>\n",
       "      <td>1890.8</td>\n",
       "    </tr>\n",
       "  </tbody>\n",
       "</table>\n",
       "</div>"
      ],
      "text/plain": [
       "      FIPS            County   Cases  Deaths  Total_Population  \\\n",
       "154  13135   Gwinnett County  1124.0    38.0            902298   \n",
       "155  13067       Cobb County  1148.0    54.0            745057   \n",
       "156  13095  Dougherty County  1425.0    90.0             91049   \n",
       "157  13089     DeKalb County  1473.0    24.0            743187   \n",
       "158  13121     Fulton County  2131.0    75.0           1021902   \n",
       "\n",
       "     Population_Under_18  Population_Over_18  Population_Over_65  \\\n",
       "154               247451              654847               83442   \n",
       "155               180207              564850               85117   \n",
       "156                22101               68948               13321   \n",
       "157               174266              568921               85571   \n",
       "158               230272              791630              113402   \n",
       "\n",
       "     Population_Pct_Over_65           Jobs  Jobs_Frequent_Disease_Exposure  \\\n",
       "154                9.247721  407959.281641                    13421.062658   \n",
       "155               11.424227  407114.511371                    15716.328766   \n",
       "156               14.630584   52505.065419                     3180.433026   \n",
       "157               11.514060  342656.967297                    17976.739607   \n",
       "158               11.097150  955995.220840                    44057.581711   \n",
       "\n",
       "     Jobs_Pct_Disease_Exposure  Jobs_Frequent_Physical_Proximity  \\\n",
       "154                   3.289804                      72398.271894   \n",
       "155                   3.860420                      73047.985512   \n",
       "156                   6.057383                      11361.299438   \n",
       "157                   5.246279                      65062.890941   \n",
       "158                   4.608557                     165477.867472   \n",
       "\n",
       "     Jobs_Pct_Prox  Socioeconomic_Status  Household_Comp_Disability  \\\n",
       "154      17.746446              0.328239                   0.054441   \n",
       "155      17.942860              0.165234                   0.056988   \n",
       "156      21.638483              0.848138                   0.780643   \n",
       "157      18.987762              0.472143                   0.126393   \n",
       "158      17.309487              0.260745                   0.102197   \n",
       "\n",
       "     Minority_Status_Language  Housing_Transportation  Epidemiology  \\\n",
       "154                  0.962114                0.049984      0.100605   \n",
       "155                  0.886342                0.041388      0.194524   \n",
       "156                  0.796880                0.524355      0.880611   \n",
       "157                  0.919452                0.371219      0.352436   \n",
       "158                  0.863738                0.249920      0.983126   \n",
       "\n",
       "     Healthcare_System  CCVI_Score  Hospitals    Beds  Beds_per_1000  \\\n",
       "154           0.126393    0.101878        6.0   929.0       1.029593   \n",
       "155           0.159185    0.085960        6.0  1274.0       1.709936   \n",
       "156           0.523719    0.872970        2.0   939.0      10.313128   \n",
       "157           0.164597    0.335880       15.0  2686.0       3.614164   \n",
       "158           0.156638    0.420885       19.0  4984.0       4.877180   \n",
       "\n",
       "     Pct_Uninsured  Beds_per_1000_Elderly  COVID_Death_Rate  \\\n",
       "154      16.841332              11.133482          3.380783   \n",
       "155      12.210475              14.967633          4.703833   \n",
       "156      11.394963              70.490203          6.315789   \n",
       "157      13.893139              31.389139          1.629328   \n",
       "158      11.405693              43.949842          3.519474   \n",
       "\n",
       "     COVID_Cases_Per_1000  Cases_1000_Norm  March_Claims  February_Claims  \\\n",
       "154              1.245708         6.130787         29768             1447   \n",
       "155              1.540822         7.583197         26415             1228   \n",
       "156             15.650913        77.026404          2663              266   \n",
       "157              1.982005         9.754490         27027             1588   \n",
       "158              2.085327        10.262996         44097             2215   \n",
       "\n",
       "     Claims_Pct_Change  \n",
       "154             1957.2  \n",
       "155             2051.1  \n",
       "156              901.1  \n",
       "157             1602.0  \n",
       "158             1890.8  "
      ]
     },
     "execution_count": 56,
     "metadata": {},
     "output_type": "execute_result"
    }
   ],
   "source": [
    "countyData.sort_values('Cases',inplace=True)"
   ]
  },
  {
   "cell_type": "code",
   "execution_count": 57,
   "metadata": {},
   "outputs": [],
   "source": [
    "# for correlations\n",
    "dataPlot = counties[['County','Population_Over_65',\n",
    "                     'Population_Pct_Over_65','Jobs','Jobs_Frequent_Disease_Exposure','Jobs_Pct_Disease_Exposure',\n",
    "                     'Jobs_Frequent_Physical_Proximity','Jobs_Pct_Prox','Socioeconomic_Status',\n",
    "                     'Epidemiology','Healthcare_System','CCVI_Score','Hospitals','Beds','Beds_per_1000','Pct_Uninsured',\n",
    "                     'Beds_per_1000_Elderly','COVID_Death_Rate','COVID_Cases_Per_1000','Cases_1000_Norm',\n",
    "                     'Claims_Pct_Change']]"
   ]
  },
  {
   "cell_type": "code",
   "execution_count": 58,
   "metadata": {},
   "outputs": [
    {
     "data": {
      "text/plain": [
       "<matplotlib.axes._subplots.AxesSubplot at 0x2991d6a1e10>"
      ]
     },
     "execution_count": 58,
     "metadata": {},
     "output_type": "execute_result"
    },
    {
     "data": {
      "image/png": "[encoded data removed]",
      "text/plain": [
       "<Figure size 792x648 with 2 Axes>"
      ]
     },
     "metadata": {
      "needs_background": "light"
     },
     "output_type": "display_data"
    }
   ],
   "source": [
    "# Compute the correlation matrix\n",
    "corr = dataPlot.corr()\n",
    "\n",
    "# Generate a mask for the upper triangle\n",
    "mask = np.triu(np.ones_like(corr, dtype=np.bool))\n",
    "\n",
    "# Set up the matplotlib figure\n",
    "f, ax = plt.subplots(figsize=(11, 9))\n",
    "\n",
    "# Generate a custom diverging colormap\n",
    "cmap = sns.diverging_palette(220, 10, as_cmap=True)\n",
    "\n",
    "# Draw the heatmap with the mask and correct aspect ratio\n",
    "sns.heatmap(corr, mask=mask, cmap=cmap, vmax=.3, center=0,\n",
    "            square=True, linewidths=.5, cbar_kws={\"shrink\": .5})"
   ]
  },
  {
   "cell_type": "code",
   "execution_count": 59,
   "metadata": {},
   "outputs": [],
   "source": [
    "plt.show()"
   ]
  },
  {
   "cell_type": "code",
   "execution_count": null,
   "metadata": {},
   "outputs": [],
   "source": []
  }
 ],
 "metadata": {
  "kernelspec": {
   "display_name": "Python 3",
   "language": "python",
   "name": "python3"
  },
  "language_info": {
   "codemirror_mode": {
    "name": "ipython",
    "version": 3
   },
   "file_extension": ".py",
   "mimetype": "text/x-python",
   "name": "python",
   "nbconvert_exporter": "python",
   "pygments_lexer": "ipython3",
   "version": "3.6.5"
  }
 },
 "nbformat": 4,
 "nbformat_minor": 2
}
